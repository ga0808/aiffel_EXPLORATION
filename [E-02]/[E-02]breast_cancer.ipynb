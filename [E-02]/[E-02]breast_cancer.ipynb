{
 "cells": [
  {
   "cell_type": "markdown",
   "id": "oriental-center",
   "metadata": {},
   "source": [
    "### 프로젝트 평가 문항\n",
    "1) 3가지 데이터셋 구성 합리적으로 진행 됐나?  \n",
    ": feature, label 선정 위한 데이터 분석과정이 체계적으로 전개됨  \n",
    "\n",
    "2) 3가지 데이터셋에 대해 각각 5가지 모델을 성공적으로 적용했는가?  \n",
    ": 모델 학습 및 테스트가 정상적으로 수행  \n",
    "\n",
    "3) 3가지 데이터셋에 대해 모델의 평가지표가 적절히 선택됐나?  \n",
    ": 평가지표 선택 및 이유 설명이 타당함\n",
    "\n",
    "\n",
    "\n",
    "\n",
    "## 2-11. 프로젝트 (3) breast_cancer"
   ]
  },
  {
   "cell_type": "markdown",
   "id": "integral-water",
   "metadata": {},
   "source": [
    "### 1. 필요한 모듈 import"
   ]
  },
  {
   "cell_type": "code",
   "execution_count": 2,
   "id": "invisible-google",
   "metadata": {},
   "outputs": [],
   "source": [
    "from sklearn.datasets import load_breast_cancer\n",
    "from sklearn.model_selection import train_test_split\n",
    "from sklearn.metrics import classification_report"
   ]
  },
  {
   "cell_type": "markdown",
   "id": "female-geology",
   "metadata": {},
   "source": [
    "### 2. 데이터 준비"
   ]
  },
  {
   "cell_type": "code",
   "execution_count": 3,
   "id": "comfortable-batman",
   "metadata": {},
   "outputs": [
    {
     "name": "stdout",
     "output_type": "stream",
     "text": [
      "(569, 30)\n",
      "(569,)\n"
     ]
    }
   ],
   "source": [
    "breast_cancer = load_breast_cancer()\n",
    "\n",
    "#Feature Data 지정하기\n",
    "breast_cancer_data = breast_cancer.data\n",
    "print(breast_cancer_data.shape) #-> (569, 30) : 569개 샘플/데이터, 30개 특징\n",
    "\n",
    "#Label Data 지정하기\n",
    "breast_cancer_target = breast_cancer.target\n",
    "print(breast_cancer_target.shape) #-> (569,) : 열벡터 타겟 데이터 확인"
   ]
  },
  {
   "cell_type": "markdown",
   "id": "confirmed-calcium",
   "metadata": {},
   "source": [
    "### 3. 데이터 이해하기"
   ]
  },
  {
   "cell_type": "code",
   "execution_count": 4,
   "id": "directed-overall",
   "metadata": {},
   "outputs": [
    {
     "data": {
      "text/plain": [
       "dict_keys(['data', 'target', 'frame', 'target_names', 'DESCR', 'feature_names', 'filename'])"
      ]
     },
     "execution_count": 4,
     "metadata": {},
     "output_type": "execute_result"
    }
   ],
   "source": [
    "breast_cancer.keys() "
   ]
  },
  {
   "cell_type": "code",
   "execution_count": 5,
   "id": "middle-shield",
   "metadata": {},
   "outputs": [
    {
     "data": {
      "text/plain": [
       "array(['malignant', 'benign'], dtype='<U9')"
      ]
     },
     "execution_count": 5,
     "metadata": {},
     "output_type": "execute_result"
    }
   ],
   "source": [
    "breast_cancer.target_names"
   ]
  },
  {
   "cell_type": "code",
   "execution_count": 6,
   "id": "knowing-judge",
   "metadata": {},
   "outputs": [
    {
     "name": "stdout",
     "output_type": "stream",
     "text": [
      "['DESCR', 'data', 'feature_names', 'filename', 'frame', 'target', 'target_names']\n"
     ]
    }
   ],
   "source": [
    "print(dir(breast_cancer))"
   ]
  },
  {
   "cell_type": "code",
   "execution_count": 7,
   "id": "prerequisite-receiver",
   "metadata": {
    "scrolled": true
   },
   "outputs": [
    {
     "name": "stdout",
     "output_type": "stream",
     "text": [
      ".. _breast_cancer_dataset:\n",
      "\n",
      "Breast cancer wisconsin (diagnostic) dataset\n",
      "--------------------------------------------\n",
      "\n",
      "**Data Set Characteristics:**\n",
      "\n",
      "    :Number of Instances: 569\n",
      "\n",
      "    :Number of Attributes: 30 numeric, predictive attributes and the class\n",
      "\n",
      "    :Attribute Information:\n",
      "        - radius (mean of distances from center to points on the perimeter)\n",
      "        - texture (standard deviation of gray-scale values)\n",
      "        - perimeter\n",
      "        - area\n",
      "        - smoothness (local variation in radius lengths)\n",
      "        - compactness (perimeter^2 / area - 1.0)\n",
      "        - concavity (severity of concave portions of the contour)\n",
      "        - concave points (number of concave portions of the contour)\n",
      "        - symmetry\n",
      "        - fractal dimension (\"coastline approximation\" - 1)\n",
      "\n",
      "        The mean, standard error, and \"worst\" or largest (mean of the three\n",
      "        worst/largest values) of these features were computed for each image,\n",
      "        resulting in 30 features.  For instance, field 0 is Mean Radius, field\n",
      "        10 is Radius SE, field 20 is Worst Radius.\n",
      "\n",
      "        - class:\n",
      "                - WDBC-Malignant\n",
      "                - WDBC-Benign\n",
      "\n",
      "    :Summary Statistics:\n",
      "\n",
      "    ===================================== ====== ======\n",
      "                                           Min    Max\n",
      "    ===================================== ====== ======\n",
      "    radius (mean):                        6.981  28.11\n",
      "    texture (mean):                       9.71   39.28\n",
      "    perimeter (mean):                     43.79  188.5\n",
      "    area (mean):                          143.5  2501.0\n",
      "    smoothness (mean):                    0.053  0.163\n",
      "    compactness (mean):                   0.019  0.345\n",
      "    concavity (mean):                     0.0    0.427\n",
      "    concave points (mean):                0.0    0.201\n",
      "    symmetry (mean):                      0.106  0.304\n",
      "    fractal dimension (mean):             0.05   0.097\n",
      "    radius (standard error):              0.112  2.873\n",
      "    texture (standard error):             0.36   4.885\n",
      "    perimeter (standard error):           0.757  21.98\n",
      "    area (standard error):                6.802  542.2\n",
      "    smoothness (standard error):          0.002  0.031\n",
      "    compactness (standard error):         0.002  0.135\n",
      "    concavity (standard error):           0.0    0.396\n",
      "    concave points (standard error):      0.0    0.053\n",
      "    symmetry (standard error):            0.008  0.079\n",
      "    fractal dimension (standard error):   0.001  0.03\n",
      "    radius (worst):                       7.93   36.04\n",
      "    texture (worst):                      12.02  49.54\n",
      "    perimeter (worst):                    50.41  251.2\n",
      "    area (worst):                         185.2  4254.0\n",
      "    smoothness (worst):                   0.071  0.223\n",
      "    compactness (worst):                  0.027  1.058\n",
      "    concavity (worst):                    0.0    1.252\n",
      "    concave points (worst):               0.0    0.291\n",
      "    symmetry (worst):                     0.156  0.664\n",
      "    fractal dimension (worst):            0.055  0.208\n",
      "    ===================================== ====== ======\n",
      "\n",
      "    :Missing Attribute Values: None\n",
      "\n",
      "    :Class Distribution: 212 - Malignant, 357 - Benign\n",
      "\n",
      "    :Creator:  Dr. William H. Wolberg, W. Nick Street, Olvi L. Mangasarian\n",
      "\n",
      "    :Donor: Nick Street\n",
      "\n",
      "    :Date: November, 1995\n",
      "\n",
      "This is a copy of UCI ML Breast Cancer Wisconsin (Diagnostic) datasets.\n",
      "https://goo.gl/U2Uwz2\n",
      "\n",
      "Features are computed from a digitized image of a fine needle\n",
      "aspirate (FNA) of a breast mass.  They describe\n",
      "characteristics of the cell nuclei present in the image.\n",
      "\n",
      "Separating plane described above was obtained using\n",
      "Multisurface Method-Tree (MSM-T) [K. P. Bennett, \"Decision Tree\n",
      "Construction Via Linear Programming.\" Proceedings of the 4th\n",
      "Midwest Artificial Intelligence and Cognitive Science Society,\n",
      "pp. 97-101, 1992], a classification method which uses linear\n",
      "programming to construct a decision tree.  Relevant features\n",
      "were selected using an exhaustive search in the space of 1-4\n",
      "features and 1-3 separating planes.\n",
      "\n",
      "The actual linear program used to obtain the separating plane\n",
      "in the 3-dimensional space is that described in:\n",
      "[K. P. Bennett and O. L. Mangasarian: \"Robust Linear\n",
      "Programming Discrimination of Two Linearly Inseparable Sets\",\n",
      "Optimization Methods and Software 1, 1992, 23-34].\n",
      "\n",
      "This database is also available through the UW CS ftp server:\n",
      "\n",
      "ftp ftp.cs.wisc.edu\n",
      "cd math-prog/cpo-dataset/machine-learn/WDBC/\n",
      "\n",
      ".. topic:: References\n",
      "\n",
      "   - W.N. Street, W.H. Wolberg and O.L. Mangasarian. Nuclear feature extraction \n",
      "     for breast tumor diagnosis. IS&T/SPIE 1993 International Symposium on \n",
      "     Electronic Imaging: Science and Technology, volume 1905, pages 861-870,\n",
      "     San Jose, CA, 1993.\n",
      "   - O.L. Mangasarian, W.N. Street and W.H. Wolberg. Breast cancer diagnosis and \n",
      "     prognosis via linear programming. Operations Research, 43(4), pages 570-577, \n",
      "     July-August 1995.\n",
      "   - W.H. Wolberg, W.N. Street, and O.L. Mangasarian. Machine learning techniques\n",
      "     to diagnose breast cancer from fine-needle aspirates. Cancer Letters 77 (1994) \n",
      "     163-171.\n"
     ]
    }
   ],
   "source": [
    "#데이터셋 설명 \n",
    "print(breast_cancer.DESCR)"
   ]
  },
  {
   "cell_type": "code",
   "execution_count": 8,
   "id": "widespread-reynolds",
   "metadata": {},
   "outputs": [
    {
     "name": "stdout",
     "output_type": "stream",
     "text": [
      "1    357\n",
      "0    212\n",
      "dtype: int64\n"
     ]
    }
   ],
   "source": [
    "#데이터 분류 어떻게 되어있나 확인\n",
    "import pandas as pd\n",
    "\n",
    "print(pd.Series(breast_cancer.target).value_counts())"
   ]
  },
  {
   "cell_type": "markdown",
   "id": "signal-framing",
   "metadata": {},
   "source": [
    "### 4. 데이터 분리"
   ]
  },
  {
   "cell_type": "code",
   "execution_count": 9,
   "id": "human-spoke",
   "metadata": {},
   "outputs": [],
   "source": [
    "#4. train, test 데이터 분리\n",
    "X_train, X_test, y_train, y_test = train_test_split(breast_cancer_data, \n",
    "                                                    breast_cancer_target, \n",
    "                                                    test_size=0.2, \n",
    "                                                    random_state=7)"
   ]
  },
  {
   "cell_type": "markdown",
   "id": "guided-syria",
   "metadata": {},
   "source": [
    "### 5. 다양한 모델로 학습 및 평가\n",
    "\n",
    "#### 1) Decision Tree "
   ]
  },
  {
   "cell_type": "code",
   "execution_count": 10,
   "id": "seven-reconstruction",
   "metadata": {
    "scrolled": true
   },
   "outputs": [
    {
     "name": "stdout",
     "output_type": "stream",
     "text": [
      "0.9210526315789473\n"
     ]
    }
   ],
   "source": [
    "#모델생성\n",
    "from sklearn.tree import DecisionTreeClassifier \n",
    "decision_tree = DecisionTreeClassifier()\n",
    "\n",
    "#모델학습\n",
    "decision_tree.fit(X_train, y_train)\n",
    "\n",
    "#예측\n",
    "dt_pred = decision_tree.predict(X_test)\n",
    "\n",
    "#모델평가 - 정확도\n",
    "from sklearn.metrics import accuracy_score\n",
    "\n",
    "accuracy = accuracy_score(y_test, dt_pred)\n",
    "print(accuracy)\n",
    "\n",
    "#모델평가 - 오차행렬\n",
    "from sklearn.metrics import confusion_matrix\n",
    "from sklearn.metrics import classification_report\n",
    "\n",
    "confusion_matrix(y_test, dt_pred)\n",
    "dt_c_m = classification_report(y_test, dt_pred)\n",
    "#print(classification_report(y_test, dt_pred))   \n",
    "\n"
   ]
  },
  {
   "cell_type": "markdown",
   "id": "external-banner",
   "metadata": {},
   "source": [
    "#### 2) Random Forest"
   ]
  },
  {
   "cell_type": "code",
   "execution_count": 11,
   "id": "dried-russian",
   "metadata": {
    "scrolled": true
   },
   "outputs": [
    {
     "name": "stdout",
     "output_type": "stream",
     "text": [
      "0.9824561403508771\n"
     ]
    }
   ],
   "source": [
    "\n",
    "#모델생성\n",
    "from sklearn.ensemble import RandomForestClassifier\n",
    "random_forest = RandomForestClassifier()\n",
    "\n",
    "#모델학습\n",
    "random_forest.fit(X_train, y_train)\n",
    "\n",
    "#예측\n",
    "rf_pred = random_forest.predict(X_test)\n",
    "\n",
    "#모델평가 - 정확도\n",
    "from sklearn.metrics import accuracy_score\n",
    "\n",
    "accuracy = accuracy_score(y_test, rf_pred)\n",
    "print(accuracy)\n",
    "\n",
    "#모델평가 - 오차행렬\n",
    "from sklearn.metrics import confusion_matrix\n",
    "from sklearn.metrics import classification_report\n",
    "\n",
    "confusion_matrix(y_test, rf_pred)\n",
    "rf_c_m = classification_report(y_test, rf_pred)\n",
    "\n",
    "#print(classification_report(y_test, rf_pred))   "
   ]
  },
  {
   "cell_type": "markdown",
   "id": "backed-alabama",
   "metadata": {},
   "source": [
    "#### 3) SVM"
   ]
  },
  {
   "cell_type": "code",
   "execution_count": 12,
   "id": "acute-significance",
   "metadata": {},
   "outputs": [
    {
     "name": "stdout",
     "output_type": "stream",
     "text": [
      "0.9035087719298246\n"
     ]
    }
   ],
   "source": [
    "#모델생성\n",
    "from sklearn import svm\n",
    "svm_model = svm.SVC()\n",
    "\n",
    "#모델학습\n",
    "svm_model.fit(X_train, y_train)\n",
    "\n",
    "#예측\n",
    "svm_pred = svm_model.predict(X_test)\n",
    "\n",
    "#모델평가 - 정확도\n",
    "from sklearn.metrics import accuracy_score\n",
    "\n",
    "accuracy = accuracy_score(y_test, svm_pred)\n",
    "print(accuracy)\n",
    "\n",
    "#모델평가 - 오차행렬\n",
    "from sklearn.metrics import confusion_matrix\n",
    "from sklearn.metrics import classification_report\n",
    "\n",
    "confusion_matrix(y_test, svm_pred)\n",
    "svm_c_m = classification_report(y_test, svm_pred)\n",
    "\n",
    "#print(classification_report(y_test, svm_pred))   "
   ]
  },
  {
   "cell_type": "markdown",
   "id": "indian-shock",
   "metadata": {},
   "source": [
    "#### 4)SGDC Classifier"
   ]
  },
  {
   "cell_type": "code",
   "execution_count": 13,
   "id": "first-cabinet",
   "metadata": {
    "scrolled": true
   },
   "outputs": [
    {
     "name": "stdout",
     "output_type": "stream",
     "text": [
      "0.8859649122807017\n"
     ]
    }
   ],
   "source": [
    "#모델생성\n",
    "from sklearn.linear_model import SGDClassifier\n",
    "sgd_model = SGDClassifier()\n",
    "\n",
    "#모델학습\n",
    "sgd_model.fit(X_train, y_train)\n",
    "\n",
    "#예측\n",
    "SGDC_pred = sgd_model.predict(X_test)\n",
    "\n",
    "#모델평가 - 정확도\n",
    "from sklearn.metrics import accuracy_score\n",
    "\n",
    "accuracy = accuracy_score(y_test,SGDC_pred)\n",
    "print(accuracy)\n",
    "\n",
    "#모델평가 - 오차행렬\n",
    "from sklearn.metrics import confusion_matrix\n",
    "from sklearn.metrics import classification_report\n",
    "\n",
    "confusion_matrix(y_test, SGDC_pred)\n",
    "SGDC_c_m = classification_report(y_test, SGDC_pred)\n",
    "\n",
    "#print(classification_report(y_test, SGDC_pred))   "
   ]
  },
  {
   "cell_type": "markdown",
   "id": "acquired-insulin",
   "metadata": {},
   "source": [
    "#### 5) Logistic Regression"
   ]
  },
  {
   "cell_type": "code",
   "execution_count": 14,
   "id": "ongoing-cooper",
   "metadata": {
    "scrolled": true
   },
   "outputs": [
    {
     "name": "stdout",
     "output_type": "stream",
     "text": [
      "0.9385964912280702\n"
     ]
    },
    {
     "name": "stderr",
     "output_type": "stream",
     "text": [
      "/opt/conda/lib/python3.7/site-packages/sklearn/linear_model/_logistic.py:762: ConvergenceWarning: lbfgs failed to converge (status=1):\n",
      "STOP: TOTAL NO. of ITERATIONS REACHED LIMIT.\n",
      "\n",
      "Increase the number of iterations (max_iter) or scale the data as shown in:\n",
      "    https://scikit-learn.org/stable/modules/preprocessing.html\n",
      "Please also refer to the documentation for alternative solver options:\n",
      "    https://scikit-learn.org/stable/modules/linear_model.html#logistic-regression\n",
      "  extra_warning_msg=_LOGISTIC_SOLVER_CONVERGENCE_MSG)\n"
     ]
    }
   ],
   "source": [
    "#모델생성\n",
    "from sklearn.linear_model import LogisticRegression\n",
    "logistic_model = LogisticRegression()\n",
    "\n",
    "#모델학습\n",
    "logistic_model.fit(X_train, y_train)\n",
    "\n",
    "#예측\n",
    "lr_pred = logistic_model.predict(X_test)\n",
    "\n",
    "#모델평가 - 정확도\n",
    "from sklearn.metrics import accuracy_score\n",
    "\n",
    "accuracy = accuracy_score(y_test, lr_pred)\n",
    "print(accuracy)\n",
    "\n",
    "#모델평가 - 오차행렬\n",
    "from sklearn.metrics import confusion_matrix\n",
    "from sklearn.metrics import classification_report\n",
    "\n",
    "confusion_matrix(y_test, lr_pred)\n",
    "lr_c_m = classification_report(y_test,lr_pred)\n",
    "\n",
    "#print(classification_report(y_test,lr_pred))   \n",
    "\n",
    "#max_iter'까지 학습했으나 아직 정답에 수렴하지 못한 상태<- 라고 경고문이 뜸\n",
    "#max_iter=500으로 늘려야 할 것 같습니다.  적절값 테스트는 반복 변경해 가면서 찾아야 할 것\n",
    "#max_iter이 여기서 무엇인가 -> 이터레이터...!\n",
    "#옴.. 근데 어떤 값을 바꿔야될지 모르니까, 스터디에 질문하쟝..ㅠ"
   ]
  },
  {
   "cell_type": "markdown",
   "id": "consistent-christianity",
   "metadata": {},
   "source": [
    "### 6. 모델 선택 및 평가지표\n",
    "선택 모델 : Random Forest 모델  \n",
    "-> 모든 평가지표의 정확도가 가장 높게 나왔음 \n",
    "\n",
    "암이 없는데 있다고 하는 것보다  \n",
    "암이 있는데 없다고 하는 것이 더 크리티컬한 문제임  \n",
    "때문에 FN이 더 적은게 중요하므로  \n",
    "precision이 더 높은 모델을 선택하는 것이 중요함\n",
    "\n",
    "* macro avg :  \n",
    "평균들의 평균 개념    \n",
    "전체 성능을 평가하기 위해 모든 클래스에 동일한 가중치를 부여  \n",
    "precision의 값들의 평균  \n",
    "recall 값들의 평균 들의 값\n",
    "<br>\n",
    "\n",
    "* weighted avg  \n",
    "실제 인스턴스 수에 따라 각 클래스의 점수에 가중치를 부여하여 계산하는 방법  \n",
    "클래스 불균형을 다룰 때 유용"
   ]
  },
  {
   "cell_type": "markdown",
   "id": "changing-diary",
   "metadata": {},
   "source": [
    "#### 1) Decision Tree"
   ]
  },
  {
   "cell_type": "code",
   "execution_count": 20,
   "id": "extreme-costa",
   "metadata": {},
   "outputs": [
    {
     "name": "stdout",
     "output_type": "stream",
     "text": [
      "              precision    recall  f1-score   support\n",
      "\n",
      "           0       0.92      0.85      0.88        40\n",
      "           1       0.92      0.96      0.94        74\n",
      "\n",
      "    accuracy                           0.92       114\n",
      "   macro avg       0.92      0.90      0.91       114\n",
      "weighted avg       0.92      0.92      0.92       114\n",
      "\n"
     ]
    }
   ],
   "source": [
    "print(dt_c_m)"
   ]
  },
  {
   "cell_type": "markdown",
   "id": "exposed-laptop",
   "metadata": {},
   "source": [
    "#### 2) Random forest"
   ]
  },
  {
   "cell_type": "code",
   "execution_count": 21,
   "id": "individual-candidate",
   "metadata": {},
   "outputs": [
    {
     "name": "stdout",
     "output_type": "stream",
     "text": [
      "              precision    recall  f1-score   support\n",
      "\n",
      "           0       1.00      0.95      0.97        40\n",
      "           1       0.97      1.00      0.99        74\n",
      "\n",
      "    accuracy                           0.98       114\n",
      "   macro avg       0.99      0.97      0.98       114\n",
      "weighted avg       0.98      0.98      0.98       114\n",
      "\n"
     ]
    }
   ],
   "source": [
    "print(rf_c_m)"
   ]
  },
  {
   "cell_type": "markdown",
   "id": "painted-rover",
   "metadata": {},
   "source": [
    "#### 3) SVM"
   ]
  },
  {
   "cell_type": "code",
   "execution_count": 22,
   "id": "smaller-durham",
   "metadata": {},
   "outputs": [
    {
     "name": "stdout",
     "output_type": "stream",
     "text": [
      "              precision    recall  f1-score   support\n",
      "\n",
      "           0       1.00      0.72      0.84        40\n",
      "           1       0.87      1.00      0.93        74\n",
      "\n",
      "    accuracy                           0.90       114\n",
      "   macro avg       0.94      0.86      0.89       114\n",
      "weighted avg       0.92      0.90      0.90       114\n",
      "\n"
     ]
    }
   ],
   "source": [
    "print(svm_c_m)"
   ]
  },
  {
   "cell_type": "markdown",
   "id": "italic-mathematics",
   "metadata": {},
   "source": [
    "#### 4) SGDC"
   ]
  },
  {
   "cell_type": "code",
   "execution_count": 23,
   "id": "northern-hearing",
   "metadata": {},
   "outputs": [
    {
     "name": "stdout",
     "output_type": "stream",
     "text": [
      "              precision    recall  f1-score   support\n",
      "\n",
      "           0       0.85      0.82      0.84        40\n",
      "           1       0.91      0.92      0.91        74\n",
      "\n",
      "    accuracy                           0.89       114\n",
      "   macro avg       0.88      0.87      0.87       114\n",
      "weighted avg       0.89      0.89      0.89       114\n",
      "\n"
     ]
    }
   ],
   "source": [
    "print(SGDC_c_m)"
   ]
  },
  {
   "cell_type": "markdown",
   "id": "dramatic-spectacular",
   "metadata": {},
   "source": [
    "#### 5) logist regression"
   ]
  },
  {
   "cell_type": "code",
   "execution_count": 24,
   "id": "amateur-complex",
   "metadata": {},
   "outputs": [
    {
     "name": "stdout",
     "output_type": "stream",
     "text": [
      "              precision    recall  f1-score   support\n",
      "\n",
      "           0       1.00      0.82      0.90        40\n",
      "           1       0.91      1.00      0.95        74\n",
      "\n",
      "    accuracy                           0.94       114\n",
      "   macro avg       0.96      0.91      0.93       114\n",
      "weighted avg       0.94      0.94      0.94       114\n",
      "\n"
     ]
    }
   ],
   "source": [
    "print(lr_c_m)"
   ]
  },
  {
   "cell_type": "code",
   "execution_count": null,
   "id": "active-dragon",
   "metadata": {},
   "outputs": [],
   "source": []
  }
 ],
 "metadata": {
  "kernelspec": {
   "display_name": "Python 3",
   "language": "python",
   "name": "python3"
  },
  "language_info": {
   "codemirror_mode": {
    "name": "ipython",
    "version": 3
   },
   "file_extension": ".py",
   "mimetype": "text/x-python",
   "name": "python",
   "nbconvert_exporter": "python",
   "pygments_lexer": "ipython3",
   "version": "3.7.9"
  }
 },
 "nbformat": 4,
 "nbformat_minor": 5
}
