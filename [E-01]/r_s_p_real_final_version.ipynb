{
 "cells": [
  {
   "cell_type": "code",
   "execution_count": 26,
   "id": "binary-coalition",
   "metadata": {},
   "outputs": [
    {
     "name": "stdout",
     "output_type": "stream",
     "text": [
      "500  images to be resized.\n",
      "500  images resized.\n",
      "가위 이미지 resize 완료!\n",
      "500  images to be resized.\n",
      "500  images resized.\n",
      "바위 이미지 resize 완료!\n",
      "500  images to be resized.\n",
      "500  images resized.\n",
      "보 이미지 resize 완료!\n"
     ]
    }
   ],
   "source": [
    "from PIL import Image\n",
    "import os, glob\n",
    "\n",
    "#이미지 224x224에서 -> 28x28로 변환하기\n",
    "def resize_images(img_path):\n",
    "\timages=glob.glob(img_path + \"/*.jpg\")  \n",
    "    \n",
    "\tprint(len(images), \" images to be resized.\")\n",
    "\n",
    "    # 파일마다 모두 28x28 사이즈로 바꾸어 저장합니다.\n",
    "\ttarget_size=(28,28)\n",
    "\tfor img in images:\n",
    "\t\told_img=Image.open(img)\n",
    "\t\tnew_img=old_img.resize(target_size,Image.ANTIALIAS)\n",
    "\t\tnew_img.save(img, \"JPEG\")\n",
    "    \n",
    "\tprint(len(images), \" images resized.\")\n",
    "\t\n",
    "# 가위 이미지가 저장된 디렉토리 아래의 모든 jpg 파일을 읽어들여서\n",
    "image_dir_path = os.getenv(\"HOME\") + \"/aiffel/rock_scissor_paper/scissor\"\n",
    "resize_images(image_dir_path)\n",
    "\n",
    "print(\"가위 이미지 resize 완료!\")\n",
    "\n",
    "# 바위 이미지가 저장된 디렉토리 아래의 모든 jpg 파일을 읽어들여서\n",
    "image_dir_path = os.getenv(\"HOME\") + \"/aiffel/rock_scissor_paper/rock\"\n",
    "resize_images(image_dir_path)\n",
    "\n",
    "print(\"바위 이미지 resize 완료!\")\n",
    "\n",
    "\n",
    "# 보 이미지가 저장된 디렉토리 아래의 모든 jpg 파일을 읽어들여서\n",
    "image_dir_path = os.getenv(\"HOME\") + \"/aiffel/rock_scissor_paper/paper\"\n",
    "resize_images(image_dir_path)\n",
    "\n",
    "print(\"보 이미지 resize 완료!\")\n"
   ]
  },
  {
   "cell_type": "code",
   "execution_count": 27,
   "id": "smoking-portfolio",
   "metadata": {},
   "outputs": [
    {
     "name": "stdout",
     "output_type": "stream",
     "text": [
      "학습데이터(x_train)의 이미지 개수는 1500 입니다.\n"
     ]
    }
   ],
   "source": [
    "#가위, 바위, 보 데이터를 읽을 수 있는 load_data() 함수 만들기\n",
    "#load_data() 함수는 입력으로 이미지가 있는 폴더 위치를 받음\n",
    "#가위바위보 -> 3개의 클래스 -> 가위 0, 바위 1, 보 2\n",
    "\n",
    "import numpy as np\n",
    "\n",
    "def load_data(img_path, number_of_data=1500):  # 가위바위보 이미지 개수 총합에 주의하세요.\n",
    "    # 가위 : 0, 바위 : 1, 보 : 2\n",
    "    img_size=28\n",
    "    color=3\n",
    "    #이미지 데이터와 라벨(가위 : 0, 바위 : 1, 보 : 2) 데이터를 담을 행렬(matrix) 영역을 생성합니다.\n",
    "    imgs=np.zeros(number_of_data*img_size*img_size*color,dtype=np.int32).reshape(number_of_data,img_size,img_size,color)\n",
    "    labels=np.zeros(number_of_data,dtype=np.int32)\n",
    "\n",
    "    idx=0\n",
    "    for file in glob.iglob(img_path+'/scissor/*.jpg'):\n",
    "        img = np.array(Image.open(file),dtype=np.int32)\n",
    "        imgs[idx,:,:,:]=img    # 데이터 영역에 이미지 행렬을 복사\n",
    "        labels[idx]=0   # 가위 : 0\n",
    "        idx=idx+1\n",
    "\n",
    "    for file in glob.iglob(img_path+'/rock/*.jpg'):\n",
    "        img = np.array(Image.open(file),dtype=np.int32)\n",
    "        imgs[idx,:,:,:]=img    # 데이터 영역에 이미지 행렬을 복사\n",
    "        labels[idx]=1   # 바위 : 1\n",
    "        idx=idx+1  \n",
    "    \n",
    "    for file in glob.iglob(img_path+'/paper/*.jpg'):\n",
    "        img = np.array(Image.open(file),dtype=np.int32)\n",
    "        imgs[idx,:,:,:]=img    # 데이터 영역에 이미지 행렬을 복사\n",
    "        labels[idx]=2   # 보 : 2\n",
    "        idx=idx+1\n",
    "        \n",
    "    print(\"학습데이터(x_train)의 이미지 개수는\", idx,\"입니다.\")\n",
    "    return imgs, labels\n",
    "\n",
    "image_dir_path = os.getenv(\"HOME\") + \"/aiffel/rock_scissor_paper\"\n",
    "(x_train, y_train)=load_data(image_dir_path)\n",
    "x_train_norm = x_train/255.0   # 입력은 0~1 사이의 값으로 정규화\n"
   ]
  },
  {
   "cell_type": "code",
   "execution_count": 28,
   "id": "driving-scotland",
   "metadata": {},
   "outputs": [
    {
     "name": "stdout",
     "output_type": "stream",
     "text": [
      "라벨:  0\n"
     ]
    },
    {
     "data": {
      "image/png": "[encoded data removed]",
      "text/plain": [
       "<Figure size 432x288 with 1 Axes>"
      ]
     },
     "metadata": {
      "needs_background": "light"
     },
     "output_type": "display_data"
    }
   ],
   "source": [
    "import matplotlib.pyplot as plt\n",
    "plt.imshow(x_train[0])\n",
    "print('라벨: ', y_train[0])"
   ]
  },
  {
   "cell_type": "code",
   "execution_count": 29,
   "id": "through-circle",
   "metadata": {},
   "outputs": [
    {
     "name": "stdout",
     "output_type": "stream",
     "text": [
      "Model에 추가된 Layer 개수:  7\n",
      "Model: \"sequential_4\"\n",
      "_________________________________________________________________\n",
      "Layer (type)                 Output Shape              Param #   \n",
      "=================================================================\n",
      "conv2d_8 (Conv2D)            (None, 26, 26, 16)        448       \n",
      "_________________________________________________________________\n",
      "max_pooling2d_8 (MaxPooling2 (None, 13, 13, 16)        0         \n",
      "_________________________________________________________________\n",
      "conv2d_9 (Conv2D)            (None, 11, 11, 32)        4640      \n",
      "_________________________________________________________________\n",
      "max_pooling2d_9 (MaxPooling2 (None, 5, 5, 32)          0         \n",
      "_________________________________________________________________\n",
      "flatten_4 (Flatten)          (None, 800)               0         \n",
      "_________________________________________________________________\n",
      "dense_8 (Dense)              (None, 32)                25632     \n",
      "_________________________________________________________________\n",
      "dense_9 (Dense)              (None, 3)                 99        \n",
      "=================================================================\n",
      "Total params: 30,819\n",
      "Trainable params: 30,819\n",
      "Non-trainable params: 0\n",
      "_________________________________________________________________\n"
     ]
    }
   ],
   "source": [
    "#딥러닝 네트워크 설계하기\n",
    "\n",
    "import tensorflow as tf\n",
    "from tensorflow import keras\n",
    "import numpy as np\n",
    "\n",
    "from tensorflow import keras\n",
    "\n",
    "n_channel_1=16\n",
    "n_channel_2=32\n",
    "n_dense=32\n",
    "n_train_epoch=30\n",
    "\n",
    "model=keras.models.Sequential()\n",
    "model.add(keras.layers.Conv2D(n_channel_1, (3,3), activation='relu', input_shape=(28,28,3)))\n",
    "model.add(keras.layers.MaxPool2D(2,2))\n",
    "model.add(keras.layers.Conv2D(n_channel_2, (3,3), activation='relu'))\n",
    "model.add(keras.layers.MaxPooling2D((2,2)))\n",
    "model.add(keras.layers.Flatten())\n",
    "\n",
    "#첫번째 dsnse레이어의 첫번째 인자 : 클래스 3개니까, 16으로 바꿔야 하나...?\n",
    "#16,32,64,128 바이트?의 단위 같은데, 뭘 의미하는지 모르겠어\n",
    "model.add(keras.layers.Dense(n_dense, activation='relu'))\n",
    "model.add(keras.layers.Dense(3, activation='softmax'))\n",
    "\n",
    "print('Model에 추가된 Layer 개수: ', len(model.layers))\n",
    "\n",
    "model.summary()\n",
    "\n"
   ]
  },
  {
   "cell_type": "code",
   "execution_count": 30,
   "id": "engaging-environment",
   "metadata": {
    "scrolled": true
   },
   "outputs": [
    {
     "name": "stdout",
     "output_type": "stream",
     "text": [
      "Epoch 1/30\n",
      "47/47 [==============================] - 1s 3ms/step - loss: 1.0768 - accuracy: 0.4298\n",
      "Epoch 2/30\n",
      "47/47 [==============================] - 0s 3ms/step - loss: 0.9106 - accuracy: 0.6155\n",
      "Epoch 3/30\n",
      "47/47 [==============================] - 0s 3ms/step - loss: 0.7144 - accuracy: 0.6721\n",
      "Epoch 4/30\n",
      "47/47 [==============================] - 0s 3ms/step - loss: 0.4939 - accuracy: 0.8233\n",
      "Epoch 5/30\n",
      "47/47 [==============================] - 0s 3ms/step - loss: 0.3779 - accuracy: 0.8995\n",
      "Epoch 6/30\n",
      "47/47 [==============================] - 0s 3ms/step - loss: 0.2614 - accuracy: 0.9334\n",
      "Epoch 7/30\n",
      "47/47 [==============================] - 0s 3ms/step - loss: 0.1968 - accuracy: 0.9443\n",
      "Epoch 8/30\n",
      "47/47 [==============================] - 0s 3ms/step - loss: 0.1571 - accuracy: 0.9597\n",
      "Epoch 9/30\n",
      "47/47 [==============================] - 0s 3ms/step - loss: 0.1310 - accuracy: 0.9632\n",
      "Epoch 10/30\n",
      "47/47 [==============================] - 0s 3ms/step - loss: 0.0901 - accuracy: 0.9782\n",
      "Epoch 11/30\n",
      "47/47 [==============================] - 0s 3ms/step - loss: 0.0779 - accuracy: 0.9775\n",
      "Epoch 12/30\n",
      "47/47 [==============================] - 0s 3ms/step - loss: 0.0682 - accuracy: 0.9801\n",
      "Epoch 13/30\n",
      "47/47 [==============================] - 0s 3ms/step - loss: 0.0492 - accuracy: 0.9878\n",
      "Epoch 14/30\n",
      "47/47 [==============================] - 0s 3ms/step - loss: 0.0469 - accuracy: 0.9922\n",
      "Epoch 15/30\n",
      "47/47 [==============================] - 0s 3ms/step - loss: 0.0422 - accuracy: 0.9888\n",
      "Epoch 16/30\n",
      "47/47 [==============================] - 0s 3ms/step - loss: 0.0289 - accuracy: 0.9938\n",
      "Epoch 17/30\n",
      "47/47 [==============================] - 0s 3ms/step - loss: 0.0278 - accuracy: 0.9919\n",
      "Epoch 18/30\n",
      "47/47 [==============================] - 0s 3ms/step - loss: 0.0197 - accuracy: 0.9970\n",
      "Epoch 19/30\n",
      "47/47 [==============================] - 0s 3ms/step - loss: 0.0166 - accuracy: 0.9972\n",
      "Epoch 20/30\n",
      "47/47 [==============================] - 0s 3ms/step - loss: 0.0158 - accuracy: 0.9990\n",
      "Epoch 21/30\n",
      "47/47 [==============================] - 0s 3ms/step - loss: 0.0190 - accuracy: 0.9950\n",
      "Epoch 22/30\n",
      "47/47 [==============================] - 0s 3ms/step - loss: 0.0105 - accuracy: 0.9997\n",
      "Epoch 23/30\n",
      "47/47 [==============================] - 0s 3ms/step - loss: 0.0169 - accuracy: 0.9970\n",
      "Epoch 24/30\n",
      "47/47 [==============================] - 0s 3ms/step - loss: 0.0103 - accuracy: 0.9971\n",
      "Epoch 25/30\n",
      "47/47 [==============================] - 0s 3ms/step - loss: 0.0077 - accuracy: 0.9993\n",
      "Epoch 26/30\n",
      "47/47 [==============================] - 0s 3ms/step - loss: 0.0060 - accuracy: 1.0000\n",
      "Epoch 27/30\n",
      "47/47 [==============================] - 0s 3ms/step - loss: 0.0050 - accuracy: 1.0000\n",
      "Epoch 28/30\n",
      "47/47 [==============================] - 0s 3ms/step - loss: 0.0050 - accuracy: 1.0000\n",
      "Epoch 29/30\n",
      "47/47 [==============================] - 0s 3ms/step - loss: 0.0040 - accuracy: 1.0000\n",
      "Epoch 30/30\n",
      "47/47 [==============================] - 0s 3ms/step - loss: 0.0030 - accuracy: 1.0000\n"
     ]
    },
    {
     "data": {
      "text/plain": [
       "<tensorflow.python.keras.callbacks.History at 0x7f2da4f26510>"
      ]
     },
     "execution_count": 30,
     "metadata": {},
     "output_type": "execute_result"
    }
   ],
   "source": [
    "#딥러닝 네트워크 학습시키기\n",
    "# Hint! model.compile()과 model.fit()을 사용해 봅시다.\n",
    "\n",
    "\n",
    "model.compile(optimizer='adam',\n",
    "             loss='sparse_categorical_crossentropy',\n",
    "             metrics=['accuracy'])\n",
    "\n",
    "#정규화된 x_train값을 넣어야해서 norm으로 -> 근데 그냥 x_train으로 하면 다 0,1이 나옴 왜그럴까??\n",
    "model.fit(x_train_norm, y_train, epochs=n_train_epoch)\n",
    "\n",
    "#과대적합 : 트레이닝 데이터, 테스트 데이터 > 학습시킨 데이터에 대한 모델로만 \n",
    "#에포크를 너무 높였기 때문 (훈련데이터로만 계속 훈련을 하여서)\n",
    "# <<- 정확도가 오르락 내리락하는게 과대 적합이라고 생각했는데, 아니였음 !!! \n",
    "\n",
    "#왜 정확도(accuracy)가 오르락 내리락 할까? : 경사 하강법(Gradient descent)을 통해서 loss를 줄이면서\n",
    "#최적합 w값을 찾아가는 과정에 있어서 한번씩 값이 튀는 지점이 있기 때문 \n",
    "#과녁의 이미지에서 에포크 한번 = 1번 학습하면서 과녁의 중앙=최적값으로 다가가는데, 그때 정확도 값이 오르락 내리락 하는 것 \n",
    "#자세한 이해를 돕기위한 이미지 링크 : https://thebook.io/080228/part03/ch09/02/\n",
    "\n",
    "#그럼 과적합 되었다는건 어떻게 아는걸까? > plot으로 그려보면 아는거 말고 있는지 모르겠음 (plot으로 그려보기)\n",
    "#강민님꺼 보니까 처음부터 너무 높은 정확도가 나오면 오버피팅이라고 하시는것 같음 ! \n",
    "#그럼 정확도가 너무 가파르게 오르면 어떻게 되는걸까 ㅠㅠ\n",
    "\n",
    "#그럼 오버피팅 해결방법\n",
    "#1. 훈련 데이터를 더 많이 모음 \n",
    "#2. 정규화(Regularization) - 규제(제약 조건), 드롭-아웃 등 다양한 방법을 이용해서 적당한 복잡도를 가지는 모델을 자동적으로 찾아주는 기법\n",
    "#3. 훈련 데이터 잡음을 줄임(오류 수정과 이상치 제거)\n"
   ]
  },
  {
   "cell_type": "markdown",
   "id": "hollywood-practitioner",
   "metadata": {},
   "source": [
    "## validation 검증"
   ]
  },
  {
   "cell_type": "code",
   "execution_count": 31,
   "id": "democratic-blair",
   "metadata": {},
   "outputs": [
    {
     "name": "stdout",
     "output_type": "stream",
     "text": [
      "101  images to be resized.\n",
      "101  images resized.\n",
      "가위 이미지 resize 완료!\n",
      "101  images to be resized.\n",
      "101  images resized.\n",
      "바위 이미지 resize 완료!\n",
      "101  images to be resized.\n",
      "101  images resized.\n",
      "보 이미지 resize 완료!\n"
     ]
    }
   ],
   "source": [
    "#validation\n",
    "# 가위 이미지 28*28 이미지로 변환\n",
    "image_dir_path = os.getenv(\"HOME\") + \"/aiffel/rock_scissor_paper/validation_set/scissor\"\n",
    "resize_images(image_dir_path)\n",
    "\n",
    "print(\"가위 이미지 resize 완료!\")\n",
    "\n",
    "# 바위 이미지 28*28 이미지로 변환\n",
    "image_dir_path = os.getenv(\"HOME\") + \"/aiffel/rock_scissor_paper/validation_set/rock\"\n",
    "resize_images(image_dir_path)\n",
    "\n",
    "print(\"바위 이미지 resize 완료!\")\n",
    "\n",
    "\n",
    "# 보 이미지 28*28 이미지로 변환\n",
    "image_dir_path = os.getenv(\"HOME\") + \"/aiffel/rock_scissor_paper/validation_set/paper\"\n",
    "resize_images(image_dir_path)\n",
    "\n",
    "print(\"보 이미지 resize 완료!\")"
   ]
  },
  {
   "cell_type": "code",
   "execution_count": 32,
   "id": "marine-christian",
   "metadata": {},
   "outputs": [
    {
     "name": "stdout",
     "output_type": "stream",
     "text": [
      "학습데이터(x_train)의 이미지 개수는 303 입니다.\n",
      "x_val shape: (303, 28, 28, 3)\n",
      "y_val shape: (303,)\n"
     ]
    }
   ],
   "source": [
    "#이미지 불러오기\n",
    "image_dir_path = os.getenv(\"HOME\") + \"/aiffel/rock_scissor_paper/validation_set/\"\n",
    "(x_val, y_val)=load_data(image_dir_path, 303)  \n",
    "x_val_norm = x_val/255.0   # 입력은 0~1 사이의 값으로 정규화\n",
    "\n",
    "print(\"x_val shape: {}\".format(x_val.shape))\n",
    "print(\"y_val shape: {}\".format(y_val.shape))"
   ]
  },
  {
   "cell_type": "code",
   "execution_count": 33,
   "id": "upset-roots",
   "metadata": {},
   "outputs": [
    {
     "name": "stdout",
     "output_type": "stream",
     "text": [
      "라벨:  0\n"
     ]
    },
    {
     "data": {
      "image/png": "[encoded data removed]",
      "text/plain": [
       "<Figure size 432x288 with 1 Axes>"
      ]
     },
     "metadata": {
      "needs_background": "light"
     },
     "output_type": "display_data"
    }
   ],
   "source": [
    "import matplotlib.pyplot as plt\n",
    "plt.imshow(x_val[0])\n",
    "print('라벨: ', y_val[0])"
   ]
  },
  {
   "cell_type": "code",
   "execution_count": 34,
   "id": "published-municipality",
   "metadata": {},
   "outputs": [
    {
     "name": "stdout",
     "output_type": "stream",
     "text": [
      "Model에 추가된 Layer 개수:  7\n",
      "Model: \"sequential_5\"\n",
      "_________________________________________________________________\n",
      "Layer (type)                 Output Shape              Param #   \n",
      "=================================================================\n",
      "conv2d_10 (Conv2D)           (None, 26, 26, 16)        448       \n",
      "_________________________________________________________________\n",
      "max_pooling2d_10 (MaxPooling (None, 13, 13, 16)        0         \n",
      "_________________________________________________________________\n",
      "conv2d_11 (Conv2D)           (None, 11, 11, 32)        4640      \n",
      "_________________________________________________________________\n",
      "max_pooling2d_11 (MaxPooling (None, 5, 5, 32)          0         \n",
      "_________________________________________________________________\n",
      "flatten_5 (Flatten)          (None, 800)               0         \n",
      "_________________________________________________________________\n",
      "dense_10 (Dense)             (None, 32)                25632     \n",
      "_________________________________________________________________\n",
      "dense_11 (Dense)             (None, 3)                 99        \n",
      "=================================================================\n",
      "Total params: 30,819\n",
      "Trainable params: 30,819\n",
      "Non-trainable params: 0\n",
      "_________________________________________________________________\n"
     ]
    }
   ],
   "source": [
    "#딥러닝 네트워크 설계하기\n",
    "\n",
    "import tensorflow as tf\n",
    "from tensorflow import keras\n",
    "import numpy as np\n",
    "\n",
    "from tensorflow import keras\n",
    "\n",
    "#channel : 정해진 값을 가진 건 아님, \n",
    "#1과2는 두배 간격이 좋음 (16,32가 정확도가 가장 높게 나옴. )\n",
    "n_channel_1=16\n",
    "n_channel_2=32\n",
    "n_dense=32\n",
    "n_val_epoch=30\n",
    "\n",
    "model=keras.models.Sequential()\n",
    "model.add(keras.layers.Conv2D(n_channel_1, (3,3), activation='relu', input_shape=(28,28,3)))\n",
    "model.add(keras.layers.MaxPool2D(2,2))\n",
    "model.add(keras.layers.Conv2D(n_channel_2, (3,3), activation='relu'))\n",
    "model.add(keras.layers.MaxPooling2D((2,2)))\n",
    "model.add(keras.layers.Flatten())\n",
    "\n",
    "model.add(keras.layers.Dense(n_dense, activation='relu'))\n",
    "model.add(keras.layers.Dense(3, activation='softmax'))\n",
    "\n",
    "print('Model에 추가된 Layer 개수: ', len(model.layers))\n",
    "\n",
    "model.summary()"
   ]
  },
  {
   "cell_type": "code",
   "execution_count": 35,
   "id": "together-newfoundland",
   "metadata": {},
   "outputs": [
    {
     "name": "stdout",
     "output_type": "stream",
     "text": [
      "Epoch 1/30\n",
      "10/10 [==============================] - 4s 408ms/step - loss: 1.0076 - accuracy: 0.3734\n",
      "Epoch 2/30\n",
      "10/10 [==============================] - 0s 3ms/step - loss: 0.6176 - accuracy: 0.9459\n",
      "Epoch 3/30\n",
      "10/10 [==============================] - 0s 3ms/step - loss: 0.1839 - accuracy: 1.0000\n",
      "Epoch 4/30\n",
      "10/10 [==============================] - 0s 3ms/step - loss: 0.0427 - accuracy: 1.0000\n",
      "Epoch 5/30\n",
      "10/10 [==============================] - 0s 3ms/step - loss: 0.0094 - accuracy: 1.0000\n",
      "Epoch 6/30\n",
      "10/10 [==============================] - 0s 3ms/step - loss: 0.0040 - accuracy: 1.0000\n",
      "Epoch 7/30\n",
      "10/10 [==============================] - 0s 3ms/step - loss: 0.0016 - accuracy: 1.0000\n",
      "Epoch 8/30\n",
      "10/10 [==============================] - 0s 3ms/step - loss: 0.0015 - accuracy: 1.0000\n",
      "Epoch 9/30\n",
      "10/10 [==============================] - 0s 3ms/step - loss: 0.0012 - accuracy: 1.0000\n",
      "Epoch 10/30\n",
      "10/10 [==============================] - 0s 3ms/step - loss: 9.5718e-04 - accuracy: 1.0000\n",
      "Epoch 11/30\n",
      "10/10 [==============================] - 0s 3ms/step - loss: 7.7502e-04 - accuracy: 1.0000\n",
      "Epoch 12/30\n",
      "10/10 [==============================] - 0s 3ms/step - loss: 6.6367e-04 - accuracy: 1.0000\n",
      "Epoch 13/30\n",
      "10/10 [==============================] - 0s 3ms/step - loss: 5.7744e-04 - accuracy: 1.0000\n",
      "Epoch 14/30\n",
      "10/10 [==============================] - 0s 3ms/step - loss: 5.1060e-04 - accuracy: 1.0000\n",
      "Epoch 15/30\n",
      "10/10 [==============================] - 0s 3ms/step - loss: 5.2339e-04 - accuracy: 1.0000\n",
      "Epoch 16/30\n",
      "10/10 [==============================] - 0s 3ms/step - loss: 5.5591e-04 - accuracy: 1.0000\n",
      "Epoch 17/30\n",
      "10/10 [==============================] - 0s 3ms/step - loss: 4.4034e-04 - accuracy: 1.0000\n",
      "Epoch 18/30\n",
      "10/10 [==============================] - 0s 3ms/step - loss: 4.1951e-04 - accuracy: 1.0000\n",
      "Epoch 19/30\n",
      "10/10 [==============================] - 0s 3ms/step - loss: 4.3675e-04 - accuracy: 1.0000\n",
      "Epoch 20/30\n",
      "10/10 [==============================] - 0s 3ms/step - loss: 4.1813e-04 - accuracy: 1.0000\n",
      "Epoch 21/30\n",
      "10/10 [==============================] - 0s 3ms/step - loss: 2.9859e-04 - accuracy: 1.0000\n",
      "Epoch 22/30\n",
      "10/10 [==============================] - 0s 4ms/step - loss: 3.1850e-04 - accuracy: 1.0000\n",
      "Epoch 23/30\n",
      "10/10 [==============================] - 0s 3ms/step - loss: 3.0023e-04 - accuracy: 1.0000\n",
      "Epoch 24/30\n",
      "10/10 [==============================] - 0s 3ms/step - loss: 2.4257e-04 - accuracy: 1.0000\n",
      "Epoch 25/30\n",
      "10/10 [==============================] - 0s 3ms/step - loss: 2.0990e-04 - accuracy: 1.0000\n",
      "Epoch 26/30\n",
      "10/10 [==============================] - 0s 3ms/step - loss: 2.5418e-04 - accuracy: 1.0000\n",
      "Epoch 27/30\n",
      "10/10 [==============================] - 0s 3ms/step - loss: 2.2119e-04 - accuracy: 1.0000\n",
      "Epoch 28/30\n",
      "10/10 [==============================] - 0s 3ms/step - loss: 2.1917e-04 - accuracy: 1.0000\n",
      "Epoch 29/30\n",
      "10/10 [==============================] - 0s 3ms/step - loss: 1.6063e-04 - accuracy: 1.0000\n",
      "Epoch 30/30\n",
      "10/10 [==============================] - 0s 3ms/step - loss: 1.5245e-04 - accuracy: 1.0000\n"
     ]
    },
    {
     "data": {
      "text/plain": [
       "<tensorflow.python.keras.callbacks.History at 0x7f2da51f8410>"
      ]
     },
     "execution_count": 35,
     "metadata": {},
     "output_type": "execute_result"
    }
   ],
   "source": [
    "model.compile(optimizer='adam',\n",
    "             loss='sparse_categorical_crossentropy',\n",
    "             metrics=['accuracy'])\n",
    "\n",
    "model.fit(x_val_norm, y_val, epochs=n_val_epoch)\n"
   ]
  },
  {
   "cell_type": "markdown",
   "id": "aware-queue",
   "metadata": {},
   "source": [
    "## 테스트"
   ]
  },
  {
   "cell_type": "code",
   "execution_count": 36,
   "id": "universal-lease",
   "metadata": {},
   "outputs": [
    {
     "name": "stdout",
     "output_type": "stream",
     "text": [
      "4  images to be resized.\n",
      "4  images resized.\n",
      "가위 이미지 resize 완료!\n",
      "4  images to be resized.\n",
      "4  images resized.\n",
      "바위 이미지 resize 완료!\n",
      "4  images to be resized.\n",
      "4  images resized.\n",
      "보 이미지 resize 완료!\n"
     ]
    }
   ],
   "source": [
    "#Test\n",
    "# 가위 이미지 28*28 이미지로 변환\n",
    "image_dir_path = os.getenv(\"HOME\") + \"/aiffel/rock_scissor_paper/test_set/scissor\"\n",
    "resize_images(image_dir_path)\n",
    "\n",
    "print(\"가위 이미지 resize 완료!\")\n",
    "\n",
    "# 바위 이미지 28*28 이미지로 변환\n",
    "image_dir_path = os.getenv(\"HOME\") + \"/aiffel/rock_scissor_paper/test_set/rock\"\n",
    "resize_images(image_dir_path)\n",
    "\n",
    "print(\"바위 이미지 resize 완료!\")\n",
    "\n",
    "\n",
    "# 보 이미지 28*28 이미지로 변환\n",
    "image_dir_path = os.getenv(\"HOME\") + \"/aiffel/rock_scissor_paper/test_set/paper\"\n",
    "resize_images(image_dir_path)\n",
    "\n",
    "print(\"보 이미지 resize 완료!\")"
   ]
  },
  {
   "cell_type": "code",
   "execution_count": 37,
   "id": "postal-australian",
   "metadata": {},
   "outputs": [
    {
     "name": "stdout",
     "output_type": "stream",
     "text": [
      "학습데이터(x_train)의 이미지 개수는 12 입니다.\n",
      "x_test shape: (299, 28, 28, 3)\n",
      "y_test shape: (299,)\n"
     ]
    }
   ],
   "source": [
    "#테스트 이미지 불러오기 #299개로 변환 ! \n",
    "image_dir_path = os.getenv(\"HOME\") + \"/aiffel/rock_scissor_paper/test_set/\"\n",
    "(x_test, y_test)=load_data(image_dir_path, 299)  \n",
    "x_test_norm = x_test/255.0   # 입력은 0~1 사이의 값으로 정규화\n",
    "\n",
    "print(\"x_test shape: {}\".format(x_test.shape))\n",
    "print(\"y_test shape: {}\".format(y_test.shape))"
   ]
  },
  {
   "cell_type": "code",
   "execution_count": 38,
   "id": "crude-start",
   "metadata": {},
   "outputs": [
    {
     "name": "stdout",
     "output_type": "stream",
     "text": [
      "라벨:  0\n"
     ]
    },
    {
     "data": {
      "image/png": "[encoded data removed]",
      "text/plain": [
       "<Figure size 432x288 with 1 Axes>"
      ]
     },
     "metadata": {
      "needs_background": "light"
     },
     "output_type": "display_data"
    }
   ],
   "source": [
    "import matplotlib.pyplot as plt\n",
    "plt.imshow(x_test[0])\n",
    "print('라벨: ', y_test[0])"
   ]
  },
  {
   "cell_type": "code",
   "execution_count": 39,
   "id": "correct-lindsay",
   "metadata": {},
   "outputs": [
    {
     "name": "stdout",
     "output_type": "stream",
     "text": [
      "Model에 추가된 Layer 개수:  7\n",
      "Model: \"sequential_6\"\n",
      "_________________________________________________________________\n",
      "Layer (type)                 Output Shape              Param #   \n",
      "=================================================================\n",
      "conv2d_12 (Conv2D)           (None, 26, 26, 16)        448       \n",
      "_________________________________________________________________\n",
      "max_pooling2d_12 (MaxPooling (None, 13, 13, 16)        0         \n",
      "_________________________________________________________________\n",
      "conv2d_13 (Conv2D)           (None, 11, 11, 32)        4640      \n",
      "_________________________________________________________________\n",
      "max_pooling2d_13 (MaxPooling (None, 5, 5, 32)          0         \n",
      "_________________________________________________________________\n",
      "flatten_6 (Flatten)          (None, 800)               0         \n",
      "_________________________________________________________________\n",
      "dense_12 (Dense)             (None, 32)                25632     \n",
      "_________________________________________________________________\n",
      "dense_13 (Dense)             (None, 3)                 99        \n",
      "=================================================================\n",
      "Total params: 30,819\n",
      "Trainable params: 30,819\n",
      "Non-trainable params: 0\n",
      "_________________________________________________________________\n"
     ]
    }
   ],
   "source": [
    "#딥러닝 네트워크 설계하기\n",
    "\n",
    "import tensorflow as tf\n",
    "from tensorflow import keras\n",
    "import numpy as np\n",
    "\n",
    "from tensorflow import keras\n",
    "\n",
    "#channel : 정해진 값을 가진 건 아님, \n",
    "#1과2는 두배 간격이 좋음 (16,32가 정확도가 가장 높게 나옴. )\n",
    "n_channel_1=16\n",
    "n_channel_2=32\n",
    "n_dense=32\n",
    "n_test_epoch=30\n",
    "\n",
    "model=keras.models.Sequential()\n",
    "model.add(keras.layers.Conv2D(n_channel_1, (3,3), activation='relu', input_shape=(28,28,3)))\n",
    "model.add(keras.layers.MaxPool2D(2,2))\n",
    "model.add(keras.layers.Conv2D(n_channel_2, (3,3), activation='relu'))\n",
    "model.add(keras.layers.MaxPooling2D((2,2)))\n",
    "model.add(keras.layers.Flatten())\n",
    "\n",
    "model.add(keras.layers.Dense(n_dense, activation='relu'))\n",
    "model.add(keras.layers.Dense(3, activation='softmax'))\n",
    "\n",
    "print('Model에 추가된 Layer 개수: ', len(model.layers))\n",
    "\n",
    "model.summary()"
   ]
  },
  {
   "cell_type": "code",
   "execution_count": 40,
   "id": "actual-resistance",
   "metadata": {},
   "outputs": [
    {
     "name": "stdout",
     "output_type": "stream",
     "text": [
      "Epoch 1/30\n",
      "10/10 [==============================] - 0s 3ms/step - loss: 1.0976 - accuracy: 0.6658\n",
      "Epoch 2/30\n",
      "10/10 [==============================] - 0s 3ms/step - loss: 1.0437 - accuracy: 0.9767\n",
      "Epoch 3/30\n",
      "10/10 [==============================] - 0s 3ms/step - loss: 0.8924 - accuracy: 0.9760\n",
      "Epoch 4/30\n",
      "10/10 [==============================] - 0s 4ms/step - loss: 0.5575 - accuracy: 0.9748\n",
      "Epoch 5/30\n",
      "10/10 [==============================] - 0s 3ms/step - loss: 0.1806 - accuracy: 0.9856\n",
      "Epoch 6/30\n",
      "10/10 [==============================] - 0s 3ms/step - loss: 0.0558 - accuracy: 0.9844\n",
      "Epoch 7/30\n",
      "10/10 [==============================] - 0s 3ms/step - loss: 0.0367 - accuracy: 0.9808\n",
      "Epoch 8/30\n",
      "10/10 [==============================] - 0s 3ms/step - loss: 0.0337 - accuracy: 0.9913\n",
      "Epoch 9/30\n",
      "10/10 [==============================] - 0s 3ms/step - loss: 0.0388 - accuracy: 0.9892\n",
      "Epoch 10/30\n",
      "10/10 [==============================] - 0s 3ms/step - loss: 0.0256 - accuracy: 0.9904\n",
      "Epoch 11/30\n",
      "10/10 [==============================] - 0s 3ms/step - loss: 0.0199 - accuracy: 0.9939\n",
      "Epoch 12/30\n",
      "10/10 [==============================] - 0s 3ms/step - loss: 0.0183 - accuracy: 0.9987\n",
      "Epoch 13/30\n",
      "10/10 [==============================] - 0s 3ms/step - loss: 0.0285 - accuracy: 0.9883\n",
      "Epoch 14/30\n",
      "10/10 [==============================] - 0s 3ms/step - loss: 0.0209 - accuracy: 0.9851\n",
      "Epoch 15/30\n",
      "10/10 [==============================] - 0s 3ms/step - loss: 0.0188 - accuracy: 0.9925\n",
      "Epoch 16/30\n",
      "10/10 [==============================] - 0s 3ms/step - loss: 0.0216 - accuracy: 0.9933\n",
      "Epoch 17/30\n",
      "10/10 [==============================] - 0s 3ms/step - loss: 0.0171 - accuracy: 0.9978\n",
      "Epoch 18/30\n",
      "10/10 [==============================] - 0s 3ms/step - loss: 0.0100 - accuracy: 0.9983\n",
      "Epoch 19/30\n",
      "10/10 [==============================] - 0s 3ms/step - loss: 0.0106 - accuracy: 0.9991\n",
      "Epoch 20/30\n",
      "10/10 [==============================] - 0s 3ms/step - loss: 0.0119 - accuracy: 0.9956\n",
      "Epoch 21/30\n",
      "10/10 [==============================] - 0s 3ms/step - loss: 0.0086 - accuracy: 1.0000\n",
      "Epoch 22/30\n",
      "10/10 [==============================] - 0s 3ms/step - loss: 0.0121 - accuracy: 0.9966\n",
      "Epoch 23/30\n",
      "10/10 [==============================] - 0s 3ms/step - loss: 0.0065 - accuracy: 1.0000\n",
      "Epoch 24/30\n",
      "10/10 [==============================] - 0s 3ms/step - loss: 0.0068 - accuracy: 1.0000\n",
      "Epoch 25/30\n",
      "10/10 [==============================] - 0s 3ms/step - loss: 0.0063 - accuracy: 1.0000\n",
      "Epoch 26/30\n",
      "10/10 [==============================] - 0s 3ms/step - loss: 0.0047 - accuracy: 1.0000\n",
      "Epoch 27/30\n",
      "10/10 [==============================] - 0s 3ms/step - loss: 0.0086 - accuracy: 1.0000\n",
      "Epoch 28/30\n",
      "10/10 [==============================] - 0s 3ms/step - loss: 0.0055 - accuracy: 1.0000\n",
      "Epoch 29/30\n",
      "10/10 [==============================] - 0s 3ms/step - loss: 0.0050 - accuracy: 1.0000\n",
      "Epoch 30/30\n",
      "10/10 [==============================] - 0s 3ms/step - loss: 0.0037 - accuracy: 1.0000\n"
     ]
    },
    {
     "data": {
      "text/plain": [
       "<tensorflow.python.keras.callbacks.History at 0x7f2da523ee50>"
      ]
     },
     "execution_count": 40,
     "metadata": {},
     "output_type": "execute_result"
    }
   ],
   "source": [
    "#모델학습\n",
    "model.compile(optimizer='adam',\n",
    "             loss='sparse_categorical_crossentropy',\n",
    "             metrics=['accuracy'])\n",
    "\n",
    "model.fit(x_test_norm, y_test, epochs=n_test_epoch)"
   ]
  },
  {
   "cell_type": "code",
   "execution_count": 41,
   "id": "limited-virus",
   "metadata": {},
   "outputs": [
    {
     "name": "stdout",
     "output_type": "stream",
     "text": [
      "10/10 - 0s - loss: 0.0029 - accuracy: 1.0000\n",
      "test_loss: 0.0028607321437448263 \n",
      "test_accuracy: 1.0\n"
     ]
    }
   ],
   "source": [
    "test_loss, test_accuracy = model.evaluate(x_test_norm, y_test, verbose=2)\n",
    "print(\"test_loss: {} \".format(test_loss))\n",
    "print(\"test_accuracy: {}\".format(test_accuracy))"
   ]
  },
  {
   "cell_type": "code",
   "execution_count": null,
   "id": "municipal-rover",
   "metadata": {},
   "outputs": [],
   "source": []
  }
 ],
 "metadata": {
  "kernelspec": {
   "display_name": "Python 3",
   "language": "python",
   "name": "python3"
  },
  "language_info": {
   "codemirror_mode": {
    "name": "ipython",
    "version": 3
   },
   "file_extension": ".py",
   "mimetype": "text/x-python",
   "name": "python",
   "nbconvert_exporter": "python",
   "pygments_lexer": "ipython3",
   "version": "3.7.9"
  }
 },
 "nbformat": 4,
 "nbformat_minor": 5
}
