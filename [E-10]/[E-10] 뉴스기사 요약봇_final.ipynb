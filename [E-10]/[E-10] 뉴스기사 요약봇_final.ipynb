{
 "cells": [
  {
   "cell_type": "markdown",
   "id": "final-harvest",
   "metadata": {},
   "source": [
    "## 10-13. 프로젝트: 뉴스기사 요약해보기  \n",
    "\n",
    "데이터셋에 대해서 추상적 요약과 추출적 요약을 모두 해보자\n",
    "\n",
    "### 1. 데이터 수집하기  \n",
    "https://github.com/sunnysai12345/News_Summary  "
   ]
  },
  {
   "cell_type": "code",
   "execution_count": 1,
   "id": "operational-messenger",
   "metadata": {},
   "outputs": [
    {
     "name": "stderr",
     "output_type": "stream",
     "text": [
      "[nltk_data] Downloading package stopwords to /aiffel/nltk_data...\n",
      "[nltk_data]   Package stopwords is already up-to-date!\n"
     ]
    }
   ],
   "source": [
    "#필요한 라이브러리 import\n",
    "import nltk\n",
    "nltk.download('stopwords')\n",
    "\n",
    "import numpy as np\n",
    "import pandas as pd\n",
    "import os\n",
    "import re\n",
    "import matplotlib.pyplot as plt\n",
    "from nltk.corpus import stopwords\n",
    "from bs4 import BeautifulSoup \n",
    "from tensorflow.keras.preprocessing.text import Tokenizer \n",
    "from tensorflow.keras.preprocessing.sequence import pad_sequences\n",
    "import urllib.request\n",
    "import warnings\n",
    "warnings.filterwarnings(\"ignore\", category=UserWarning, module='bs4')"
   ]
  },
  {
   "cell_type": "code",
   "execution_count": 2,
   "id": "environmental-birth",
   "metadata": {},
   "outputs": [
    {
     "name": "stdout",
     "output_type": "stream",
     "text": [
      "전체 샘플수 : 98401\n"
     ]
    }
   ],
   "source": [
    "#데이터 다운로드\n",
    "import urllib.request\n",
    "urllib.request.urlretrieve(\"https://raw.githubusercontent.com/sunnysai12345/News_Summary/master/news_summary_more.csv\", filename=\"news_summary_more.csv\")\n",
    "data = pd.read_csv('news_summary_more.csv', encoding='iso-8859-1')\n",
    "print('전체 샘플수 :', (len(data)))"
   ]
  },
  {
   "cell_type": "code",
   "execution_count": 3,
   "id": "native-nomination",
   "metadata": {},
   "outputs": [
    {
     "data": {
      "text/html": [
       "<div>\n",
       "<style scoped>\n",
       "    .dataframe tbody tr th:only-of-type {\n",
       "        vertical-align: middle;\n",
       "    }\n",
       "\n",
       "    .dataframe tbody tr th {\n",
       "        vertical-align: top;\n",
       "    }\n",
       "\n",
       "    .dataframe thead th {\n",
       "        text-align: right;\n",
       "    }\n",
       "</style>\n",
       "<table border=\"1\" class=\"dataframe\">\n",
       "  <thead>\n",
       "    <tr style=\"text-align: right;\">\n",
       "      <th></th>\n",
       "      <th>headlines</th>\n",
       "      <th>text</th>\n",
       "    </tr>\n",
       "  </thead>\n",
       "  <tbody>\n",
       "    <tr>\n",
       "      <th>52806</th>\n",
       "      <td>Astronomers detect 'whirlpool' movement in ear...</td>\n",
       "      <td>A Cambridge University-led study has discovere...</td>\n",
       "    </tr>\n",
       "    <tr>\n",
       "      <th>79369</th>\n",
       "      <td>JioPhone at effectively Ã¢ÂÂ¹0 clever marketi...</td>\n",
       "      <td>Industry body COAI has termed the launch of Ji...</td>\n",
       "    </tr>\n",
       "    <tr>\n",
       "      <th>3332</th>\n",
       "      <td>Mini Meryl: Arjun to Alia after watching 'Gull...</td>\n",
       "      <td>Arjun Kapoor, after watching the teaser of Ali...</td>\n",
       "    </tr>\n",
       "    <tr>\n",
       "      <th>56129</th>\n",
       "      <td>Mumbai monorail is a waste of public money: Co...</td>\n",
       "      <td>Stating that Mumbai's monorail and skywalks ar...</td>\n",
       "    </tr>\n",
       "    <tr>\n",
       "      <th>37123</th>\n",
       "      <td>Two Indian startups among WEF's most promising...</td>\n",
       "      <td>Ahmedabad-based agritech startup My Crop Techn...</td>\n",
       "    </tr>\n",
       "    <tr>\n",
       "      <th>53500</th>\n",
       "      <td>Hindalco bids for $2.5 bn US aluminium firm Al...</td>\n",
       "      <td>Aditya Birla Group unit Hindalco Industries is...</td>\n",
       "    </tr>\n",
       "    <tr>\n",
       "      <th>54457</th>\n",
       "      <td>India miffed as Palestine envoy attends Hafiz ...</td>\n",
       "      <td>India has said that it will strongly take up t...</td>\n",
       "    </tr>\n",
       "    <tr>\n",
       "      <th>11163</th>\n",
       "      <td>Rayudu retires from 1st class cricket to focus...</td>\n",
       "      <td>Ambati Rayudu has retired from first-class cri...</td>\n",
       "    </tr>\n",
       "    <tr>\n",
       "      <th>38004</th>\n",
       "      <td>Robbers run away with ATM machine with Ã¢ÂÂ¹1...</td>\n",
       "      <td>A group of robbers ran away with an ATM machin...</td>\n",
       "    </tr>\n",
       "    <tr>\n",
       "      <th>19841</th>\n",
       "      <td>Man who took Ã¢ÂÂ¹10-cr gold as ransom from N...</td>\n",
       "      <td>Delhi Police have arrested Bihar gangster Vika...</td>\n",
       "    </tr>\n",
       "  </tbody>\n",
       "</table>\n",
       "</div>"
      ],
      "text/plain": [
       "                                               headlines  \\\n",
       "52806  Astronomers detect 'whirlpool' movement in ear...   \n",
       "79369  JioPhone at effectively Ã¢ÂÂ¹0 clever marketi...   \n",
       "3332   Mini Meryl: Arjun to Alia after watching 'Gull...   \n",
       "56129  Mumbai monorail is a waste of public money: Co...   \n",
       "37123  Two Indian startups among WEF's most promising...   \n",
       "53500  Hindalco bids for $2.5 bn US aluminium firm Al...   \n",
       "54457  India miffed as Palestine envoy attends Hafiz ...   \n",
       "11163  Rayudu retires from 1st class cricket to focus...   \n",
       "38004  Robbers run away with ATM machine with Ã¢ÂÂ¹1...   \n",
       "19841  Man who took Ã¢ÂÂ¹10-cr gold as ransom from N...   \n",
       "\n",
       "                                                    text  \n",
       "52806  A Cambridge University-led study has discovere...  \n",
       "79369  Industry body COAI has termed the launch of Ji...  \n",
       "3332   Arjun Kapoor, after watching the teaser of Ali...  \n",
       "56129  Stating that Mumbai's monorail and skywalks ar...  \n",
       "37123  Ahmedabad-based agritech startup My Crop Techn...  \n",
       "53500  Aditya Birla Group unit Hindalco Industries is...  \n",
       "54457  India has said that it will strongly take up t...  \n",
       "11163  Ambati Rayudu has retired from first-class cri...  \n",
       "38004  A group of robbers ran away with an ATM machin...  \n",
       "19841  Delhi Police have arrested Bihar gangster Vika...  "
      ]
     },
     "execution_count": 3,
     "metadata": {},
     "output_type": "execute_result"
    }
   ],
   "source": [
    "#데이터 출력해보기\n",
    "data.sample(10)\n",
    "\n",
    "# 열 1: 기사제목 (headlines)\n",
    "# 열 2: 기사본문 (text)"
   ]
  },
  {
   "cell_type": "markdown",
   "id": "yellow-livestock",
   "metadata": {},
   "source": [
    "* 추상적 요약하기  \n",
    "   text-> 본문  \n",
    "   headlines-> 이미 요약된 데이터로  \n",
    "   \n",
    "\n",
    "* 추출적 요약하기  \n",
    "  오직 text열만을 사용"
   ]
  },
  {
   "cell_type": "markdown",
   "id": "focal-integrity",
   "metadata": {},
   "source": [
    "### 2. 데이터 전처리하기 (추상적 요약)  \n",
    "\n",
    "* 추상적 요약(Abstractive Summarization)  \n",
    "  - 원문으로부터 내용이 요약된 새로운 문장 생성\n",
    "  - 자연어 처리 분야 중 자연어 생성(Natural Language Generation, NLG)의 영역\n",
    "\n",
    "\n",
    "* 문제점  \n",
    "  - 자연어는 보통 RNN 모델 사용함\n",
    "  - 근데 그러면 학습데이터 길어질수록 과거 정보 현재에 전달하기 어려워짐\n",
    "  - 장기 의존성(long term dependencies) 문제 !\n",
    "  - 이런 해결을 위해 : LSTM, GRU, 어텐션 매커니즘\n",
    "  \n",
    "  \n",
    "* 입력 = 본문 = text  \n",
    "  예측 = 요약 = headlines"
   ]
  },
  {
   "cell_type": "markdown",
   "id": "eight-healthcare",
   "metadata": {},
   "source": [
    "#### 1. 중복 샘플과 NULL 값이 존재하는 샘플 제거"
   ]
  },
  {
   "cell_type": "code",
   "execution_count": 4,
   "id": "focal-round",
   "metadata": {},
   "outputs": [
    {
     "name": "stdout",
     "output_type": "stream",
     "text": [
      "전체 샘플수 : 98401\n"
     ]
    }
   ],
   "source": [
    "# 중복 샘플 제거 전 샘플 수\n",
    "print('전체 샘플수 :', (len(data)))"
   ]
  },
  {
   "cell_type": "code",
   "execution_count": 5,
   "id": "fatty-hunter",
   "metadata": {},
   "outputs": [
    {
     "name": "stdout",
     "output_type": "stream",
     "text": [
      "text 열에서 중복을 배제한 유일한 샘플의 수 : 98360\n",
      "headlines 열에서 중복을 배제한 유일한 샘플의 수 : 98280\n"
     ]
    }
   ],
   "source": [
    "#중복 샘플 유무 확인\n",
    "print('text 열에서 중복을 배제한 유일한 샘플의 수 :', data['text'].nunique())\n",
    "print('headlines 열에서 중복을 배제한 유일한 샘플의 수 :', data['headlines'].nunique())"
   ]
  },
  {
   "cell_type": "code",
   "execution_count": 6,
   "id": "descending-seminar",
   "metadata": {},
   "outputs": [
    {
     "name": "stdout",
     "output_type": "stream",
     "text": [
      "전체 샘플수 : 98360\n"
     ]
    }
   ],
   "source": [
    "#중복 샘플 제거  \n",
    "\n",
    "#drop_duplicates(): 중복 샘플 쉽게 제거\n",
    "# inplace=True 를 설정하면 DataFrame 타입 값을 \n",
    "#return 하지 않고 data 내부를 직접적으로 바꿉니다\n",
    "#subset: 인자로 받은 데이터들만 취함  \n",
    "\n",
    "data.drop_duplicates(subset = ['text'], inplace=True)\n",
    "print('전체 샘플수 :', (len(data)))\n",
    "\n",
    "#중복이 제거되면서 샘플 수가 98360개로 줄어듦"
   ]
  },
  {
   "cell_type": "code",
   "execution_count": 7,
   "id": "focused-patient",
   "metadata": {},
   "outputs": [
    {
     "name": "stdout",
     "output_type": "stream",
     "text": [
      "headlines    0\n",
      "text         0\n",
      "dtype: int64\n"
     ]
    }
   ],
   "source": [
    "#null값 확인\n",
    "\n",
    "print(data.isnull().sum())\n",
    "#없음"
   ]
  },
  {
   "cell_type": "markdown",
   "id": "union-casting",
   "metadata": {},
   "source": [
    "#### 2. 텍스트 정규화 사전 구성 확인  \n",
    "같은 의미인데도 다른 표현으로 쓰여  \n",
    "마치 다른 단어들처럼 간주되는 경우 존재  \n",
    "\n",
    "it'll - it will  \n",
    "mustn't - must not  \n",
    "이런것들 다른언어로 간주해서 괜히 연산량 늘리기보단  \n",
    "학습전 미리 **같은 표현으로 통일** 시켜주는 것이 좋음  \n",
    "\n",
    "이러한 방법론을 텍스트 처리에서는 **텍스트 정규화(text normalization)**\n",
    "\n",
    "여기서는 텍스트 정규화를 위한 사전(dictionary) 구성"
   ]
  },
  {
   "cell_type": "code",
   "execution_count": 8,
   "id": "comparative-liverpool",
   "metadata": {},
   "outputs": [
    {
     "name": "stdout",
     "output_type": "stream",
     "text": [
      "정규화 사전의 수:  120\n"
     ]
    }
   ],
   "source": [
    "contractions = {\"ain't\": \"is not\", \"aren't\": \"are not\",\"can't\": \"cannot\", \"'cause\": \"because\", \"could've\": \"could have\", \"couldn't\": \"could not\",\n",
    "                           \"didn't\": \"did not\",  \"doesn't\": \"does not\", \"don't\": \"do not\", \"hadn't\": \"had not\", \"hasn't\": \"has not\", \"haven't\": \"have not\",\n",
    "                           \"he'd\": \"he would\",\"he'll\": \"he will\", \"he's\": \"he is\", \"how'd\": \"how did\", \"how'd'y\": \"how do you\", \"how'll\": \"how will\", \"how's\": \"how is\",\n",
    "                           \"I'd\": \"I would\", \"I'd've\": \"I would have\", \"I'll\": \"I will\", \"I'll've\": \"I will have\",\"I'm\": \"I am\", \"I've\": \"I have\", \"i'd\": \"i would\",\n",
    "                           \"i'd've\": \"i would have\", \"i'll\": \"i will\",  \"i'll've\": \"i will have\",\"i'm\": \"i am\", \"i've\": \"i have\", \"isn't\": \"is not\", \"it'd\": \"it would\",\n",
    "                           \"it'd've\": \"it would have\", \"it'll\": \"it will\", \"it'll've\": \"it will have\",\"it's\": \"it is\", \"let's\": \"let us\", \"ma'am\": \"madam\",\n",
    "                           \"mayn't\": \"may not\", \"might've\": \"might have\",\"mightn't\": \"might not\",\"mightn't've\": \"might not have\", \"must've\": \"must have\",\n",
    "                           \"mustn't\": \"must not\", \"mustn't've\": \"must not have\", \"needn't\": \"need not\", \"needn't've\": \"need not have\",\"o'clock\": \"of the clock\",\n",
    "                           \"oughtn't\": \"ought not\", \"oughtn't've\": \"ought not have\", \"shan't\": \"shall not\", \"sha'n't\": \"shall not\", \"shan't've\": \"shall not have\",\n",
    "                           \"she'd\": \"she would\", \"she'd've\": \"she would have\", \"she'll\": \"she will\", \"she'll've\": \"she will have\", \"she's\": \"she is\",\n",
    "                           \"should've\": \"should have\", \"shouldn't\": \"should not\", \"shouldn't've\": \"should not have\", \"so've\": \"so have\",\"so's\": \"so as\",\n",
    "                           \"this's\": \"this is\",\"that'd\": \"that would\", \"that'd've\": \"that would have\", \"that's\": \"that is\", \"there'd\": \"there would\",\n",
    "                           \"there'd've\": \"there would have\", \"there's\": \"there is\", \"here's\": \"here is\",\"they'd\": \"they would\", \"they'd've\": \"they would have\",\n",
    "                           \"they'll\": \"they will\", \"they'll've\": \"they will have\", \"they're\": \"they are\", \"they've\": \"they have\", \"to've\": \"to have\",\n",
    "                           \"wasn't\": \"was not\", \"we'd\": \"we would\", \"we'd've\": \"we would have\", \"we'll\": \"we will\", \"we'll've\": \"we will have\", \"we're\": \"we are\",\n",
    "                           \"we've\": \"we have\", \"weren't\": \"were not\", \"what'll\": \"what will\", \"what'll've\": \"what will have\", \"what're\": \"what are\",\n",
    "                           \"what's\": \"what is\", \"what've\": \"what have\", \"when's\": \"when is\", \"when've\": \"when have\", \"where'd\": \"where did\", \"where's\": \"where is\",\n",
    "                           \"where've\": \"where have\", \"who'll\": \"who will\", \"who'll've\": \"who will have\", \"who's\": \"who is\", \"who've\": \"who have\",\n",
    "                           \"why's\": \"why is\", \"why've\": \"why have\", \"will've\": \"will have\", \"won't\": \"will not\", \"won't've\": \"will not have\",\n",
    "                           \"would've\": \"would have\", \"wouldn't\": \"would not\", \"wouldn't've\": \"would not have\", \"y'all\": \"you all\",\n",
    "                           \"y'all'd\": \"you all would\",\"y'all'd've\": \"you all would have\",\"y'all're\": \"you all are\",\"y'all've\": \"you all have\",\n",
    "                           \"you'd\": \"you would\", \"you'd've\": \"you would have\", \"you'll\": \"you will\", \"you'll've\": \"you will have\",\n",
    "                           \"you're\": \"you are\", \"you've\": \"you have\"}\n",
    "\n",
    "print(\"정규화 사전의 수: \", len(contractions))"
   ]
  },
  {
   "cell_type": "markdown",
   "id": "contemporary-russian",
   "metadata": {},
   "source": [
    "#### 3. 불용어 제거 리스트 확인 _NLTK  \n",
    "\n",
    "텍스트에는 자주 등장하지만, 별 도움 안되는 단어들 존재  \n",
    "= 불용어(stopwords)  \n",
    "\n",
    "불용어 제거 -> 자연어 처리의 성능을 높이는 방법일 수 있음  \n",
    "\n",
    "우린 NLTK에서 제공하는 불용어 리스트를 참조  \n",
    "샘플에서 불용어를 제거  "
   ]
  },
  {
   "cell_type": "code",
   "execution_count": 9,
   "id": "herbal-pasta",
   "metadata": {},
   "outputs": [
    {
     "name": "stdout",
     "output_type": "stream",
     "text": [
      "불용어 개수 : 179\n",
      "['i', 'me', 'my', 'myself', 'we', 'our', 'ours', 'ourselves', 'you', \"you're\", \"you've\", \"you'll\", \"you'd\", 'your', 'yours', 'yourself', 'yourselves', 'he', 'him', 'his', 'himself', 'she', \"she's\", 'her', 'hers', 'herself', 'it', \"it's\", 'its', 'itself', 'they', 'them', 'their', 'theirs', 'themselves', 'what', 'which', 'who', 'whom', 'this', 'that', \"that'll\", 'these', 'those', 'am', 'is', 'are', 'was', 'were', 'be', 'been', 'being', 'have', 'has', 'had', 'having', 'do', 'does', 'did', 'doing', 'a', 'an', 'the', 'and', 'but', 'if', 'or', 'because', 'as', 'until', 'while', 'of', 'at', 'by', 'for', 'with', 'about', 'against', 'between', 'into', 'through', 'during', 'before', 'after', 'above', 'below', 'to', 'from', 'up', 'down', 'in', 'out', 'on', 'off', 'over', 'under', 'again', 'further', 'then', 'once', 'here', 'there', 'when', 'where', 'why', 'how', 'all', 'any', 'both', 'each', 'few', 'more', 'most', 'other', 'some', 'such', 'no', 'nor', 'not', 'only', 'own', 'same', 'so', 'than', 'too', 'very', 's', 't', 'can', 'will', 'just', 'don', \"don't\", 'should', \"should've\", 'now', 'd', 'll', 'm', 'o', 're', 've', 'y', 'ain', 'aren', \"aren't\", 'couldn', \"couldn't\", 'didn', \"didn't\", 'doesn', \"doesn't\", 'hadn', \"hadn't\", 'hasn', \"hasn't\", 'haven', \"haven't\", 'isn', \"isn't\", 'ma', 'mightn', \"mightn't\", 'mustn', \"mustn't\", 'needn', \"needn't\", 'shan', \"shan't\", 'shouldn', \"shouldn't\", 'wasn', \"wasn't\", 'weren', \"weren't\", 'won', \"won't\", 'wouldn', \"wouldn't\"]\n"
     ]
    }
   ],
   "source": [
    "print('불용어 개수 :', len(stopwords.words('english') ))\n",
    "print(stopwords.words('english'))\n",
    "\n",
    "#NLTK에서 미리 정의하여 제공하고 있는 불용어는 총 179"
   ]
  },
  {
   "cell_type": "markdown",
   "id": "outer-tournament",
   "metadata": {},
   "source": [
    "#### 3. 정규화 + 불용어 제거  \n",
    "정규화, 불용어 제거 외 다른 전처리도 함께 진행  \n",
    "\n",
    "함수의 하단 NLTK로 불용어 제거  \n",
    "Text 전처리 시에서만 호출 Summary 전처리할 때는 호출 X (너무 짧아서)  \n",
    "\n",
    "Abstractive(추상적)한 문장 요약 결과문이 자연스러운 문장이 되려면  \n",
    "이 불용어들이 Summary에는 남아 있는 게 더 좋을 것 같음  \n",
    "이 처리를 위해서 함수의 인자로 remove_stopwords를 추가하고, if문 추가  "
   ]
  },
  {
   "cell_type": "code",
   "execution_count": 10,
   "id": "extensive-pride",
   "metadata": {},
   "outputs": [],
   "source": [
    "# 데이터 전처리 함수\n",
    "def preprocess_sentence(sentence, remove_stopwords=True):\n",
    "    # 1. 텍스트 소문자화\n",
    "    sentence = sentence.lower() \n",
    "    # 2. <br />, <a href = ...> 등의 html 태그 제거\n",
    "    sentence = BeautifulSoup(sentence, \"lxml\").text\n",
    "    # 3. 괄호로 닫힌 문자열 (...) 제거 Ex) my husband (and myself!) for => my husband for\n",
    "    sentence = re.sub(r'\\([^)]*\\)', '', sentence) \n",
    "    # 4. 쌍따옴표 \" 제거\n",
    "    sentence = re.sub('\"','', sentence) \n",
    "    # 5. 약어 정규화\n",
    "    sentence = ' '.join([contractions[t] if t in contractions else t for t in sentence.split(\" \")])\n",
    "    #7. 소유격 제거. Ex) roland's -> roland\n",
    "    sentence = re.sub(r\"'s\\b\",\"\", sentence) \n",
    "    #8. 영어 외 문자(숫자, 특수문자 등) 공백으로 변환\n",
    "    sentence = re.sub(\"[^a-zA-Z]\", \" \", sentence)\n",
    "    #9. m이 3개 이상이면 2개로 변경. Ex) ummmmmmm yeah -> umm yeah\n",
    "    sentence = re.sub('[m]{2,}', 'mm', sentence) \n",
    "    \n",
    "    # 불용어 제거 (Text)\n",
    "    if remove_stopwords:\n",
    "        tokens = ' '.join(word for word in sentence.split() if not word in stopwords.words('english') if len(word) > 1)\n",
    "    # 불용어 미제거 (Summary)\n",
    "    else:\n",
    "        tokens = ' '.join(word for word in sentence.split() if len(word) > 1)\n",
    "    return tokens"
   ]
  },
  {
   "cell_type": "code",
   "execution_count": 11,
   "id": "steady-guinea",
   "metadata": {},
   "outputs": [
    {
     "name": "stdout",
     "output_type": "stream",
     "text": [
      "everything bought great infact ordered twice third ordered wasfor mother father\n",
      "great way to start the day\n"
     ]
    }
   ],
   "source": [
    "\n",
    "# 전처리 전, 후의 결과 확인을 위한 임의 함수 호출\n",
    "\n",
    "temp_text = 'Everything I bought was great, infact I ordered twice and the third ordered was<br />for my mother and father.'\n",
    "temp_summary = 'Great way to start (or finish) the day!!!'\n",
    "\n",
    "print(preprocess_sentence(temp_text))\n",
    "print(preprocess_sentence(temp_summary, False))  # 불용어를 제거하지 않습니다."
   ]
  },
  {
   "cell_type": "markdown",
   "id": "adequate-robinson",
   "metadata": {},
   "source": [
    "#### 4, 훈련 데이터 전체에 대해서 전처리를 수행_ 멀티프로세스 활용\n",
    "text의 경우에는 불용어를 제거  \n",
    "headlines의 경우에는 불용어를 제거 안함  \n",
    "-> 따로 호출해서 진행  \n",
    "\n",
    "\n",
    "멀티프로세싱 프로세스 생성  \n",
    "-> 병렬처리  \n",
    "-> CPU 수에 비례하여 획기적으로 소요 시간 줄일 수 있음  "
   ]
  },
  {
   "cell_type": "code",
   "execution_count": 12,
   "id": "alpine-panama",
   "metadata": {},
   "outputs": [],
   "source": [
    "#멀티프로세싱 함수 생성\n",
    "import multiprocessing as mp   \n",
    "from multiprocessing import Pool\n",
    "import numpy as np\n",
    "import time\n",
    "# map을 할 때 함수에 여러 인자를 넣어줄 수 있도록 합니다\n",
    "from functools import partial  \n",
    "\n",
    "start = time.time()\n",
    "\n",
    "# num_cores 만큼 쪼개진 데이터를 전처리하여 반환합니다\n",
    "def appendTexts(sentences, remove_stopwords):\n",
    "    texts = []\n",
    "    for s in sentences:\n",
    "        texts += preprocess_sentence(s, remove_stopwords),\n",
    "    return texts\n",
    "\n",
    "def preprocess_data(data, remove_stopwords=True):\n",
    "    start_time = time.time()\n",
    "    num_cores = mp.cpu_count()  # 컴퓨터의 코어 수를 구합니다\n",
    "\n",
    "    text_data_split = np.array_split(data, num_cores)  # 코어 수만큼 데이터를 배분하여 병렬적으로 처리할 수 있게 합니다\n",
    "    pool = Pool(num_cores)\n",
    "\n",
    "    processed_data = np.concatenate(pool.map(partial(appendTexts, remove_stopwords=remove_stopwords), text_data_split))  # 각자 작업한 데이터를 하나로 합쳐줍니다\n",
    "    pool.close()\n",
    "    pool.join()\n",
    "    print(time.time() - start_time, \" seconds\")\n",
    "    return processed_data"
   ]
  },
  {
   "cell_type": "code",
   "execution_count": 13,
   "id": "optional-teaching",
   "metadata": {},
   "outputs": [
    {
     "name": "stdout",
     "output_type": "stream",
     "text": [
      "418.0128974914551  seconds\n",
      "['saurav kant alumnus upgrad iiit pg program machine learning artificial intelligence sr systems engineer infosys almost years work experience program upgrad degree career support helped transition data scientist tech mahindra salary hike upgrad online power learning powered lakh careers'\n",
      " 'kunal shah credit card bill payment platform cred gave users chance win free food swiggy one year pranav kaushik delhi techie bagged reward spending cred coins users get one cred coin per rupee bill paid used avail rewards brands like ixigo bookmyshow ubereats cult fit'\n",
      " 'new zealand defeated india wickets fourth odi hamilton thursday win first match five match odi series india lost international match rohit sharma captaincy consecutive victories dating back march match witnessed india getting seventh lowest total odi cricket history'\n",
      " ...\n",
      " 'according reports new version science fiction film matrix development michael jordan reportedly play lead role film screenwriter zak penn talks write script film reports added actor keanu reeves starred original film followed two sequels'\n",
      " 'new music video shows rapper snoop dogg aiming toy gun clown character parodying us president donald trump video also shows tv airing news conference headline ronald klump wants deport doggs airing live clown house video remixed version song lavender'\n",
      " 'madhesi morcha alliance seven political parties withdrawn support pm pushpa kamal dahal led nepal government failed meet seven day ultimatum fulfil demands including endorsement revised constitution amendment bill morcha seats parliament despite withdrawal support immediate threat government']\n",
      "12.377632856369019  seconds\n",
      "['upgrad learner switches to career in ml al with salary hike'\n",
      " 'delhi techie wins free food from swiggy for one year on cred'\n",
      " 'new zealand end rohit sharma led india match winning streak' ...\n",
      " 'the matrix film to get reboot reports'\n",
      " 'snoop dogg aims gun at clown dressed as trump in new video'\n",
      " 'madhesi morcha withdraws support to nepalese government']\n"
     ]
    }
   ],
   "source": [
    "#함수 호출\n",
    "clean_text = preprocess_data(data['text'])  # 클라우드 기준으로 3~4분 정도 소요 됩니다\n",
    "print(clean_text)\n",
    "\n",
    "#Summury 전처리 함수 호출시, 불용어 제거 안하기 위해\n",
    "# false 인자로 넣음\n",
    "clean_headlines = preprocess_data(data['headlines'], remove_stopwords=False) # 클라우드 기준 1분정도 소요됩니다.\n",
    "print(clean_headlines)"
   ]
  },
  {
   "cell_type": "markdown",
   "id": "answering-farming",
   "metadata": {},
   "source": [
    "#### 5. 전처리 이후 빈 샘플(null) 제거"
   ]
  },
  {
   "cell_type": "code",
   "execution_count": 14,
   "id": "resident-neighbor",
   "metadata": {},
   "outputs": [],
   "source": [
    "#1.\n",
    "#모든 문장이 지워진 샘플도 있을것 = empty 샘플\n",
    "#이런 샘플 모두 Null로 처리\n",
    "\n",
    "data['text'] = clean_text\n",
    "data['headlines'] = clean_headlines\n",
    "\n",
    "# 빈 값을 Null 값으로 변환\n",
    "data.replace('', np.nan, inplace=True)"
   ]
  },
  {
   "cell_type": "code",
   "execution_count": 15,
   "id": "mobile-donna",
   "metadata": {},
   "outputs": [
    {
     "data": {
      "text/plain": [
       "headlines    0\n",
       "text         0\n",
       "dtype: int64"
      ]
     },
     "execution_count": 15,
     "metadata": {},
     "output_type": "execute_result"
    }
   ],
   "source": [
    "#2.\n",
    "#처리된 null값 확인\n",
    "data.isnull().sum()\n",
    "\n",
    "#샘플에서 정제 과정시에 단어 제거되어 빈샘플 70개 생김"
   ]
  },
  {
   "cell_type": "code",
   "execution_count": 16,
   "id": "speaking-holiday",
   "metadata": {},
   "outputs": [
    {
     "name": "stdout",
     "output_type": "stream",
     "text": [
      "전체 샘플수 : 98360\n"
     ]
    }
   ],
   "source": [
    "#3.\n",
    "#빈 샘플 제거 \n",
    "\n",
    "data.dropna(axis=0, inplace=True)\n",
    "print('전체 샘플수 :', (len(data)))"
   ]
  },
  {
   "cell_type": "markdown",
   "id": "dangerous-banking",
   "metadata": {},
   "source": [
    "### 3. 훈련데이터와 테스트데이터 나누기  \n",
    "\n",
    "#### 1. 샘플 최대 길이 정하기  \n",
    "필요없는 단어들 모두 전처리해서 걸러냈으니  \n",
    "훈련에 사용할 샘플 최대 길이 정하기  \n",
    "\n",
    "##### 1. text, headlines 의 최소, 최대, 평균 길이, 길이 분포 시각화"
   ]
  },
  {
   "cell_type": "code",
   "execution_count": 17,
   "id": "french-arlington",
   "metadata": {},
   "outputs": [
    {
     "name": "stdout",
     "output_type": "stream",
     "text": [
      "텍스트의 최소 길이 : 1\n",
      "텍스트의 최대 길이 : 60\n",
      "텍스트의 평균 길이 : 35.09968483123221\n",
      "요약의 최소 길이 : 1\n",
      "요약의 최대 길이 : 16\n",
      "요약의 평균 길이 : 9.299532330215534\n"
     ]
    },
    {
     "data": {
      "image/png": "[encoded data removed]",
      "text/plain": [
       "<Figure size 432x288 with 2 Axes>"
      ]
     },
     "metadata": {
      "needs_background": "light"
     },
     "output_type": "display_data"
    },
    {
     "data": {
      "image/png": "[encoded data removed]",
      "text/plain": [
       "<Figure size 432x288 with 1 Axes>"
      ]
     },
     "metadata": {
      "needs_background": "light"
     },
     "output_type": "display_data"
    },
    {
     "data": {
      "image/png": "[encoded data removed]",
      "text/plain": [
       "<Figure size 432x288 with 1 Axes>"
      ]
     },
     "metadata": {
      "needs_background": "light"
     },
     "output_type": "display_data"
    }
   ],
   "source": [
    "# 길이 분포 출력\n",
    "import matplotlib.pyplot as plt\n",
    "\n",
    "text_len = [len(s.split()) for s in data['text']]\n",
    "headlines_len = [len(s.split()) for s in data['headlines']]\n",
    "\n",
    "print('텍스트의 최소 길이 : {}'.format(np.min(text_len)))\n",
    "print('텍스트의 최대 길이 : {}'.format(np.max(text_len)))\n",
    "print('텍스트의 평균 길이 : {}'.format(np.mean(text_len)))\n",
    "print('요약의 최소 길이 : {}'.format(np.min(headlines_len)))\n",
    "print('요약의 최대 길이 : {}'.format(np.max(headlines_len)))\n",
    "print('요약의 평균 길이 : {}'.format(np.mean(headlines_len)))\n",
    "\n",
    "plt.subplot(1,2,1)\n",
    "plt.boxplot(headlines_len)\n",
    "plt.title('headlines')\n",
    "plt.subplot(1,2,2)\n",
    "plt.boxplot(text_len)\n",
    "plt.title('text')\n",
    "plt.tight_layout()\n",
    "plt.show()\n",
    "\n",
    "plt.title('headlines')\n",
    "plt.hist(headlines_len, bins = 40)\n",
    "plt.xlabel('length of samples')\n",
    "plt.ylabel('number of samples')\n",
    "plt.show()\n",
    "\n",
    "plt.title('Text')\n",
    "plt.hist(text_len, bins = 40)\n",
    "plt.xlabel('length of samples')\n",
    "plt.ylabel('number of samples')\n",
    "plt.show()"
   ]
  },
  {
   "cell_type": "markdown",
   "id": "spoken-employee",
   "metadata": {},
   "source": [
    "#### 시각화 결과  \n",
    "- text 경우  \n",
    "  최소 1, 최대 60  \n",
    "  평균 35\n",
    "\n",
    "- headlines 경우  \n",
    "  최소 1, 최대 16  \n",
    "  평균 9\n",
    "\n",
    "#### 2. Text의 최대 길이와 Summary의 적절한 최대 길이 정하기  \n",
    "\n",
    "##### 1) 임의로 정해보기"
   ]
  },
  {
   "cell_type": "code",
   "execution_count": 18,
   "id": "connected-dictionary",
   "metadata": {},
   "outputs": [
    {
     "name": "stdout",
     "output_type": "stream",
     "text": [
      "=3\n"
     ]
    }
   ],
   "source": [
    "text_max_len = 45\n",
    "headlines_max_len = 12\n",
    "print('=3')"
   ]
  },
  {
   "cell_type": "code",
   "execution_count": 19,
   "id": "humanitarian-emerald",
   "metadata": {},
   "outputs": [],
   "source": [
    "def below_threshold_len(max_len, nested_list):\n",
    "    cnt = 0\n",
    "    for s in nested_list:\n",
    "        if(len(s.split()) <= max_len):\n",
    "            cnt = cnt + 1\n",
    "    print('전체 샘플 중 길이가 %s 이하인 샘플의 비율: %s'%(max_len, (cnt / len(nested_list))))"
   ]
  },
  {
   "cell_type": "code",
   "execution_count": 20,
   "id": "received-audit",
   "metadata": {},
   "outputs": [
    {
     "name": "stdout",
     "output_type": "stream",
     "text": [
      "전체 샘플 중 길이가 45 이하인 샘플의 비율: 0.9967771451809678\n",
      "전체 샘플 중 길이가 12 이하인 샘플의 비율: 0.9880337535583571\n"
     ]
    }
   ],
   "source": [
    "\n",
    "below_threshold_len(text_max_len, data['text'])\n",
    "below_threshold_len(headlines_max_len,  data['headlines'])"
   ]
  },
  {
   "cell_type": "markdown",
   "id": "governmental-symphony",
   "metadata": {},
   "source": [
    "##### 2) 객관적 길이 결정을 평가  \n",
    "정한 최대 길이가 얼마나 많은 샘플 포함할수 있는지 확인하기 위해 함수 생성 "
   ]
  },
  {
   "cell_type": "code",
   "execution_count": 21,
   "id": "level-profile",
   "metadata": {},
   "outputs": [
    {
     "name": "stdout",
     "output_type": "stream",
     "text": [
      "전체 샘플수 : 96871\n"
     ]
    }
   ],
   "source": [
    "# 맥스 길이보다 길면 제외\n",
    "data = data[data['text'].apply(lambda x: len(x.split()) <= text_max_len)]\n",
    "data = data[data['headlines'].apply(lambda x: len(x.split()) <= headlines_max_len)]\n",
    "print('전체 샘플수 :', (len(data)))"
   ]
  },
  {
   "cell_type": "markdown",
   "id": "dynamic-ebony",
   "metadata": {},
   "source": [
    "#### 3. 시작 토큰 - 종료 토큰 추가하기\n",
    "* 시작 토큰은 sostoken,  \n",
    "  종료 토큰은 eostoken이라  \n",
    "  임의로 명명하고 앞, 뒤로 추가  \n",
    "\n",
    "\n",
    "* decoder_input : 디코더의 입력, 시작 토큰이 맨 앞에 있는 문장의 이름   \n",
    "  decoder_target : 디코더의 출력 또는 레이블, 종료 토큰이 맨 뒤에 붙는 문장의 이름\n",
    "  두 개의 문장 모두 Summary 열로부터 만들 거예요"
   ]
  },
  {
   "cell_type": "code",
   "execution_count": 22,
   "id": "heavy-reconstruction",
   "metadata": {},
   "outputs": [
    {
     "data": {
      "text/html": [
       "<div>\n",
       "<style scoped>\n",
       "    .dataframe tbody tr th:only-of-type {\n",
       "        vertical-align: middle;\n",
       "    }\n",
       "\n",
       "    .dataframe tbody tr th {\n",
       "        vertical-align: top;\n",
       "    }\n",
       "\n",
       "    .dataframe thead th {\n",
       "        text-align: right;\n",
       "    }\n",
       "</style>\n",
       "<table border=\"1\" class=\"dataframe\">\n",
       "  <thead>\n",
       "    <tr style=\"text-align: right;\">\n",
       "      <th></th>\n",
       "      <th>headlines</th>\n",
       "      <th>text</th>\n",
       "      <th>decoder_input</th>\n",
       "      <th>decoder_target</th>\n",
       "    </tr>\n",
       "  </thead>\n",
       "  <tbody>\n",
       "    <tr>\n",
       "      <th>0</th>\n",
       "      <td>upgrad learner switches to career in ml al wit...</td>\n",
       "      <td>saurav kant alumnus upgrad iiit pg program mac...</td>\n",
       "      <td>sostoken upgrad learner switches to career in ...</td>\n",
       "      <td>upgrad learner switches to career in ml al wit...</td>\n",
       "    </tr>\n",
       "    <tr>\n",
       "      <th>1</th>\n",
       "      <td>delhi techie wins free food from swiggy for on...</td>\n",
       "      <td>kunal shah credit card bill payment platform c...</td>\n",
       "      <td>sostoken delhi techie wins free food from swig...</td>\n",
       "      <td>delhi techie wins free food from swiggy for on...</td>\n",
       "    </tr>\n",
       "    <tr>\n",
       "      <th>2</th>\n",
       "      <td>new zealand end rohit sharma led india match w...</td>\n",
       "      <td>new zealand defeated india wickets fourth odi ...</td>\n",
       "      <td>sostoken new zealand end rohit sharma led indi...</td>\n",
       "      <td>new zealand end rohit sharma led india match w...</td>\n",
       "    </tr>\n",
       "    <tr>\n",
       "      <th>3</th>\n",
       "      <td>aegon life iterm insurance plan helps customer...</td>\n",
       "      <td>aegon life iterm insurance plan customers enjo...</td>\n",
       "      <td>sostoken aegon life iterm insurance plan helps...</td>\n",
       "      <td>aegon life iterm insurance plan helps customer...</td>\n",
       "    </tr>\n",
       "    <tr>\n",
       "      <th>5</th>\n",
       "      <td>rahat fateh ali khan denies getting notice for...</td>\n",
       "      <td>pakistani singer rahat fateh ali khan denied r...</td>\n",
       "      <td>sostoken rahat fateh ali khan denies getting n...</td>\n",
       "      <td>rahat fateh ali khan denies getting notice for...</td>\n",
       "    </tr>\n",
       "  </tbody>\n",
       "</table>\n",
       "</div>"
      ],
      "text/plain": [
       "                                           headlines  \\\n",
       "0  upgrad learner switches to career in ml al wit...   \n",
       "1  delhi techie wins free food from swiggy for on...   \n",
       "2  new zealand end rohit sharma led india match w...   \n",
       "3  aegon life iterm insurance plan helps customer...   \n",
       "5  rahat fateh ali khan denies getting notice for...   \n",
       "\n",
       "                                                text  \\\n",
       "0  saurav kant alumnus upgrad iiit pg program mac...   \n",
       "1  kunal shah credit card bill payment platform c...   \n",
       "2  new zealand defeated india wickets fourth odi ...   \n",
       "3  aegon life iterm insurance plan customers enjo...   \n",
       "5  pakistani singer rahat fateh ali khan denied r...   \n",
       "\n",
       "                                       decoder_input  \\\n",
       "0  sostoken upgrad learner switches to career in ...   \n",
       "1  sostoken delhi techie wins free food from swig...   \n",
       "2  sostoken new zealand end rohit sharma led indi...   \n",
       "3  sostoken aegon life iterm insurance plan helps...   \n",
       "5  sostoken rahat fateh ali khan denies getting n...   \n",
       "\n",
       "                                      decoder_target  \n",
       "0  upgrad learner switches to career in ml al wit...  \n",
       "1  delhi techie wins free food from swiggy for on...  \n",
       "2  new zealand end rohit sharma led india match w...  \n",
       "3  aegon life iterm insurance plan helps customer...  \n",
       "5  rahat fateh ali khan denies getting notice for...  "
      ]
     },
     "execution_count": 22,
     "metadata": {},
     "output_type": "execute_result"
    }
   ],
   "source": [
    "# 요약 데이터에는 시작 토큰과 종료 토큰을 추가한다.\n",
    "data['decoder_input'] = data['headlines'].apply(lambda x : 'sostoken '+ x)\n",
    "data['decoder_target'] = data['headlines'].apply(lambda x : x + ' eostoken')\n",
    "data.head()\n",
    "\n",
    "#앞,뒤로 토큰이 잘 붙어있음"
   ]
  },
  {
   "cell_type": "markdown",
   "id": "electric-lancaster",
   "metadata": {},
   "source": [
    "#### 4. 인코더/디코더 입력 값, 디코더 레이블 다시 넘파이 타입으로 저장  \n",
    "Summury 데이터의 인코더, 디코더임"
   ]
  },
  {
   "cell_type": "code",
   "execution_count": 23,
   "id": "mexican-friendship",
   "metadata": {},
   "outputs": [],
   "source": [
    "encoder_input = np.array(data['text']) # 인코더의 입력\n",
    "decoder_input = np.array(data['decoder_input']) # 디코더의 입력\n",
    "decoder_target = np.array(data['decoder_target']) # 디코더의 레이블"
   ]
  },
  {
   "cell_type": "markdown",
   "id": "frequent-cream",
   "metadata": {},
   "source": [
    "#### 5. 훈련, 테스트 데이터 분리\n",
    "\n",
    "##### 1) 순서가 잘 섞인 샘플 얻기"
   ]
  },
  {
   "cell_type": "code",
   "execution_count": 24,
   "id": "taken-disclaimer",
   "metadata": {},
   "outputs": [
    {
     "name": "stdout",
     "output_type": "stream",
     "text": [
      "[17062 42681 68447 ... 41948 90933 56582]\n"
     ]
    }
   ],
   "source": [
    "#인코더 인풋과 크기,형태 같고 \n",
    "indices = np.arange(encoder_input.shape[0])\n",
    "# 순서가 섞인 정수 시퀀스 생성\n",
    "np.random.shuffle(indices)\n",
    "print(indices)\n",
    "\n",
    "#정수 시퀀스 통해 -> 데이터 샘플 순서 정의 -> 샘플 잘 섞여짐\n",
    "encoder_input = encoder_input[indices]\n",
    "decoder_input = decoder_input[indices]\n",
    "decoder_target = decoder_target[indices]"
   ]
  },
  {
   "cell_type": "markdown",
   "id": "fleet-physiology",
   "metadata": {},
   "source": [
    "#### 2) 8:2 비율로 훈련,테스트 분리하기"
   ]
  },
  {
   "cell_type": "code",
   "execution_count": 25,
   "id": "bottom-florist",
   "metadata": {},
   "outputs": [
    {
     "name": "stdout",
     "output_type": "stream",
     "text": [
      "테스트 데이터의 수 : 19374\n"
     ]
    }
   ],
   "source": [
    "# 테스트 데이터 개수 구하기  \n",
    "\n",
    "n_of_val = int(len(encoder_input)*0.2)\n",
    "print('테스트 데이터의 수 :', n_of_val)"
   ]
  },
  {
   "cell_type": "code",
   "execution_count": 26,
   "id": "hired-stretch",
   "metadata": {},
   "outputs": [
    {
     "name": "stdout",
     "output_type": "stream",
     "text": [
      "훈련 데이터의 개수 : 77497\n",
      "훈련 레이블의 개수 : 77497\n",
      "테스트 데이터의 개수 : 19374\n",
      "테스트 레이블의 개수 : 19374\n"
     ]
    }
   ],
   "source": [
    "#테스트 데이터 개수 이용해서 전체 데이터 모두 분리하기\n",
    "\n",
    "encoder_input_train = encoder_input[:-n_of_val]\n",
    "decoder_input_train = decoder_input[:-n_of_val]\n",
    "decoder_target_train = decoder_target[:-n_of_val]\n",
    "\n",
    "encoder_input_test = encoder_input[-n_of_val:]\n",
    "decoder_input_test = decoder_input[-n_of_val:]\n",
    "decoder_target_test = decoder_target[-n_of_val:]\n",
    "\n",
    "print('훈련 데이터의 개수 :', len(encoder_input_train))\n",
    "print('훈련 레이블의 개수 :', len(decoder_input_train))\n",
    "print('테스트 데이터의 개수 :', len(encoder_input_test))\n",
    "print('테스트 레이블의 개수 :', len(decoder_input_test))"
   ]
  },
  {
   "cell_type": "markdown",
   "id": "nonprofit-gallery",
   "metadata": {},
   "source": [
    "### 4. 정수 인코딩 \n",
    "\n",
    "#### 1. encoder_input_ 단어 집합(vocabulary) 만들기 및 정수 인코딩\n",
    "기계가 텍스트를 숫자로 처리할 수 있도록 훈련, 테스트 데이터 단어들  \n",
    "모두 정수로 바꿔줘야함  \n",
    "-> 해당 과정 : 단어 집합(vocabulary) "
   ]
  },
  {
   "cell_type": "code",
   "execution_count": 27,
   "id": "fiscal-spread",
   "metadata": {},
   "outputs": [],
   "source": [
    "#keras의 토크나이저 정의\n",
    "#-> 원-핫인코딩 (각 항목을 벡터차원으로, 1 or0)을 간단히 변환가능\n",
    "#-> 훈련 데이터로 부터 단어집합 생성 가능\n",
    "src_tokenizer = Tokenizer() \n",
    "\n",
    "#입력된 데이터로부터 단어 집합 생성\n",
    "#각 단어에 고유한 정수가 부여됨\n",
    "# 현재 생성된 단어 집합은 src_tokenizer.word_index에 저장\n",
    "\n",
    "#fit_on_texts()  : 문자 데이터 입력 받아서 리스트 형태로 반환\n",
    "#토크 나이저의 word_index : 단어와 숫자의 키-값을 포함하는 딕셔너리 반환\n",
    "src_tokenizer.fit_on_texts(encoder_input_train) "
   ]
  },
  {
   "cell_type": "markdown",
   "id": "close-orange",
   "metadata": {},
   "source": [
    "#### 2.encoder_input_ 등장 빈도수 낮은 데이터 제외하기\n",
    "* 우리는 7회 미만은 버리려고함 \n",
    "\n",
    "* src_tokenizer.word_counts.items()  \n",
    "  단어와 각 단어의 등장 빈도수가 저장  \n",
    "  통계적인 정보를 얻을 수 있음  "
   ]
  },
  {
   "cell_type": "code",
   "execution_count": 28,
   "id": "earned-material",
   "metadata": {},
   "outputs": [
    {
     "name": "stdout",
     "output_type": "stream",
     "text": [
      "단어 집합(vocabulary)의 크기 : 69030\n",
      "등장 빈도가 6번 이하인 희귀 단어의 수: 47030\n",
      "단어 집합에서 희귀 단어를 제외시킬 경우의 단어 집합의 크기 22000\n",
      "단어 집합에서 희귀 단어의 비율: 68.12979863827321\n",
      "전체 등장 빈도에서 희귀 단어 등장 빈도 비율: 3.5190422700830446\n"
     ]
    }
   ],
   "source": [
    "threshold = 7\n",
    "total_cnt = len(src_tokenizer.word_index) # 단어의 수\n",
    "rare_cnt = 0 # 등장 빈도수가 threshold보다 작은 단어의 개수를 카운트\n",
    "total_freq = 0 # 훈련 데이터의 전체 단어 빈도수 총 합\n",
    "rare_freq = 0 # 등장 빈도수가 threshold보다 작은 단어의 등장 빈도수의 총 합\n",
    "\n",
    "# 단어와 빈도수의 쌍(pair)을 key와 value로 받는다.\n",
    "for key, value in src_tokenizer.word_counts.items():\n",
    "    total_freq = total_freq + value\n",
    "\n",
    "    # 단어의 등장 빈도수가 threshold보다 작으면\n",
    "    if(value < threshold):\n",
    "        rare_cnt = rare_cnt + 1\n",
    "        rare_freq = rare_freq + value\n",
    "\n",
    "print('단어 집합(vocabulary)의 크기 :', total_cnt)\n",
    "print('등장 빈도가 %s번 이하인 희귀 단어의 수: %s'%(threshold - 1, rare_cnt))\n",
    "print('단어 집합에서 희귀 단어를 제외시킬 경우의 단어 집합의 크기 %s'%(total_cnt - rare_cnt))\n",
    "print(\"단어 집합에서 희귀 단어의 비율:\", (rare_cnt / total_cnt)*100)\n",
    "print(\"전체 등장 빈도에서 희귀 단어 등장 빈도 비율:\", (rare_freq / total_freq)*100)"
   ]
  },
  {
   "cell_type": "markdown",
   "id": "limited-coast",
   "metadata": {},
   "source": [
    "encoder_input_train에는 6.9만 여개 단어 존재  \n",
    "\n",
    "등장 빈도 7회 미만 단어  \n",
    "단어 집합에서 무려 68% 이상  \n",
    "그러나 훈련 데이터에서 7회 미만 단어 등장 빈도 비율 3.5%  \n",
    "-> 정수 인코딩 과정, 훈련 데이터에서 제거  \n",
    "\n",
    "등장 빈도 7회 미만 제외 시, 단어 집합의 크기를 8천여 개로 계산  \n",
    "-> 단어 집합의 크기를 67000으로 제한  \n",
    "-> 토크 나이저에서 num_words = 67000"
   ]
  },
  {
   "cell_type": "markdown",
   "id": "flying-notice",
   "metadata": {},
   "source": [
    "#### 3. encoder_input 등장 빈도 수 낮은 데이터 버리고 새롭게 정수 인코딩\n",
    "\n",
    "##### 3-1) encoder 인풋 데이터_ 새로운 단어 집합 생성(7회 미만 버리고 + 20000개 까지)"
   ]
  },
  {
   "cell_type": "code",
   "execution_count": null,
   "id": "governing-safety",
   "metadata": {},
   "outputs": [],
   "source": [
    "src_vocab = 20000\n",
    "src_tokenizer = Tokenizer(num_words=src_vocab) # 단어 집합의 크기를 20000으로 제한\n",
    "src_tokenizer.fit_on_texts(encoder_input_train) # 단어 집합 재생성"
   ]
  },
  {
   "cell_type": "markdown",
   "id": "coupled-italy",
   "metadata": {},
   "source": [
    "##### 3-2) encoder 인풋 데이터_ 정수 인코딩"
   ]
  },
  {
   "cell_type": "code",
   "execution_count": 30,
   "id": "systematic-nelson",
   "metadata": {},
   "outputs": [
    {
     "name": "stdout",
     "output_type": "stream",
     "text": [
      "[[79, 2796, 3903, 352, 154, 153, 108, 1084, 7810, 572, 253, 1062, 656, 1109, 154, 3821, 572, 3933, 1666, 565, 342, 2642, 2796, 3662, 4267, 221, 856, 214, 1917, 656, 177, 15, 9203], [69, 8730, 565, 6079, 29, 213, 927, 3369, 4453, 1, 1045, 67, 565, 565, 6079, 4453, 1, 2517, 851, 27, 15220, 12511, 125, 573, 2235, 6271, 1045, 182, 1045, 3446, 1281, 2517, 3446, 2844], [5, 16, 124, 40, 2399, 150, 513, 90, 989, 1385, 404, 1420, 37, 370, 3162, 136, 513, 16, 1031, 4630, 40, 370, 59, 1385, 404, 1, 150, 234, 236, 921, 4326, 438, 484, 5, 116, 5, 12886, 10191, 1425, 402, 2376]]\n"
     ]
    }
   ],
   "source": [
    "# 텍스트 시퀀스를 정수 시퀀스로 변환\n",
    "#texts_to_sequences(): 생성된 단어집합 기반해서, 입력으로 들어온 텍스트 데이터  \n",
    "# 모두 정수로 변환하는 정수 인코딩 수행\n",
    "encoder_input_train = src_tokenizer.texts_to_sequences(encoder_input_train) \n",
    "encoder_input_test = src_tokenizer.texts_to_sequences(encoder_input_test)\n",
    "\n",
    "# 잘 진행되었는지 샘플 출력\n",
    "print(encoder_input_train[:3])\n",
    "#단어 모두 정수로 바뀌어서 출력되고 있음 확인"
   ]
  },
  {
   "cell_type": "markdown",
   "id": "solid-defeat",
   "metadata": {},
   "source": [
    "#### 4.  Summury 데이터_ 단어 집합(vocabulary) 만들기 및 정수 인코딩  \n",
    "단어집합 생성되면서, 각 단어 고유 정수가 부여  \n",
    "-> tar_tokenizer.word_index : 각 정수 저장됨  \n",
    "-> tar_tokenizer.word_counts.items() : 단어, 각 단어 등장 빈도 수 저장"
   ]
  },
  {
   "cell_type": "code",
   "execution_count": 31,
   "id": "working-decade",
   "metadata": {},
   "outputs": [],
   "source": [
    "tar_tokenizer = Tokenizer()\n",
    "tar_tokenizer.fit_on_texts(decoder_input_train)"
   ]
  },
  {
   "cell_type": "markdown",
   "id": "quiet-gambling",
   "metadata": {},
   "source": [
    "#### 5. Summury 데이터_등장 빈도수 낮은 데이터 제외하기"
   ]
  },
  {
   "cell_type": "code",
   "execution_count": 32,
   "id": "waiting-liabilities",
   "metadata": {},
   "outputs": [
    {
     "name": "stdout",
     "output_type": "stream",
     "text": [
      "단어 집합(vocabulary)의 크기 : 29912\n",
      "등장 빈도가 5번 이하인 희귀 단어의 수: 19561\n",
      "단어 집합에서 희귀 단어를 제외시킬 경우의 단어 집합의 크기 10351\n",
      "단어 집합에서 희귀 단어의 비율: 65.39515913345815\n",
      "전체 등장 빈도에서 희귀 단어 등장 빈도 비율: 4.716484788984128\n"
     ]
    }
   ],
   "source": [
    "threshold = 6\n",
    "total_cnt = len(tar_tokenizer.word_index) # 단어의 수\n",
    "rare_cnt = 0 # 등장 빈도수가 threshold보다 작은 단어의 개수를 카운트\n",
    "total_freq = 0 # 훈련 데이터의 전체 단어 빈도수 총 합\n",
    "rare_freq = 0 # 등장 빈도수가 threshold보다 작은 단어의 등장 빈도수의 총 합\n",
    "\n",
    "# 단어와 빈도수의 쌍(pair)을 key와 value로 받는다.\n",
    "for key, value in tar_tokenizer.word_counts.items():\n",
    "    total_freq = total_freq + value\n",
    "\n",
    "    # 단어의 등장 빈도수가 threshold보다 작으면\n",
    "    if(value < threshold):\n",
    "        rare_cnt = rare_cnt + 1\n",
    "        rare_freq = rare_freq + value\n",
    "\n",
    "print('단어 집합(vocabulary)의 크기 :', total_cnt)\n",
    "print('등장 빈도가 %s번 이하인 희귀 단어의 수: %s'%(threshold - 1, rare_cnt))\n",
    "print('단어 집합에서 희귀 단어를 제외시킬 경우의 단어 집합의 크기 %s'%(total_cnt - rare_cnt))\n",
    "print(\"단어 집합에서 희귀 단어의 비율:\", (rare_cnt / total_cnt)*100)\n",
    "print(\"전체 등장 빈도에서 희귀 단어 등장 빈도 비율:\", (rare_freq / total_freq)*100)"
   ]
  },
  {
   "cell_type": "markdown",
   "id": "changing-vermont",
   "metadata": {},
   "source": [
    "* 등장 빈도가 5회 이하인 단어  \n",
    "  -> 단어 집합에서 65%를 차지  \n",
    "  -> 실제로 훈련 데이터에서 등장 빈도로 차지하는 비율 4.7%  \n",
    "  -> 이 단어들은 모두 제거\n",
    "\n",
    "* 어림잡아 28600을 단어 집합의 크기로 제한"
   ]
  },
  {
   "cell_type": "markdown",
   "id": "alike-wheat",
   "metadata": {},
   "source": [
    "#### 6. Summury_빈 데이터 제거\n",
    "* 전체 데이터에서 빈도수가 낮은 단어가 삭제  \n",
    "  = 빈도수가 낮은 단어만으로 구성되었던 샘플들은 이제 **빈(empty) 샘플**이 됨    \n",
    "\n",
    "\n",
    "* 원문(text)에선 길어서 문제가 안됨  \n",
    "  근데 **평균 길이가 4인 요약문(headlines)** 의 경우에는  \n",
    "  이 현상이 굉장히 두드러질 가능성 높음  \n",
    "\n",
    "\n",
    "* 요약문에서 길이=0이 된 샘플 인덱스 확인  \n",
    "  -> 요약문의 길이가 1인 경우의 인덱스  \n",
    "     각각 drop_train과 drop_test에 라는 변수에 저장  \n",
    "  -> 이 샘플들은 모두 삭제할 거예요  \n",
    "\n",
    "\n",
    "* 주의점  \n",
    "  요약문인 decoder_input에는 sostoken , decoder_target에는 eostoken이 추가된 상태  \n",
    "  -> 이 두 토큰은 모든 샘플에서 등장  \n",
    "  -> 빈도수 높음  \n",
    "  -> 단어 집합 제한에도 삭제되지 않았음  \n",
    "  -> 길이가 0이 된 요약문 실제 길이 1로 나옴 (토큰만 남아서)"
   ]
  },
  {
   "cell_type": "code",
   "execution_count": 33,
   "id": "compatible-distribution",
   "metadata": {},
   "outputs": [
    {
     "name": "stdout",
     "output_type": "stream",
     "text": [
      "input\n",
      "input  [[1, 7617, 6783, 1486, 7, 7175, 864, 13, 278], [1, 1190, 166, 278, 4477, 2464, 4, 202, 2248], [1, 729, 28, 1545, 637, 1004, 170, 9, 1101, 20, 461], [1, 3967, 94, 2603, 1312, 1580, 16, 20, 470, 2132], [1, 7176, 792, 49, 842, 6, 901, 16, 2178]]\n",
      "target\n",
      "decoder  [[7617, 6783, 1486, 7, 7175, 864, 13, 278, 2], [1190, 166, 278, 4477, 2464, 4, 202, 2248, 2], [729, 28, 1545, 637, 1004, 170, 9, 1101, 20, 461, 2], [3967, 94, 2603, 1312, 1580, 16, 20, 470, 2132, 2], [7176, 792, 49, 842, 6, 901, 16, 2178, 2]]\n"
     ]
    }
   ],
   "source": [
    "tar_vocab = 8000\n",
    "tar_tokenizer = Tokenizer(num_words=tar_vocab) \n",
    "tar_tokenizer.fit_on_texts(decoder_input_train)\n",
    "tar_tokenizer.fit_on_texts(decoder_target_train)\n",
    "\n",
    "# 텍스트 시퀀스를 정수 시퀀스로 변환\n",
    "decoder_input_train = tar_tokenizer.texts_to_sequences(decoder_input_train) \n",
    "decoder_target_train = tar_tokenizer.texts_to_sequences(decoder_target_train)\n",
    "decoder_input_test = tar_tokenizer.texts_to_sequences(decoder_input_test)\n",
    "decoder_target_test = tar_tokenizer.texts_to_sequences(decoder_target_test)\n",
    "\n",
    "# 잘 변환되었는지 확인\n",
    "print('input')\n",
    "print('input ',decoder_input_train[:5])\n",
    "print('target')\n",
    "print('decoder ',decoder_target_train[:5])"
   ]
  },
  {
   "cell_type": "code",
   "execution_count": 34,
   "id": "included-vessel",
   "metadata": {},
   "outputs": [
    {
     "name": "stdout",
     "output_type": "stream",
     "text": [
      "삭제할 훈련 데이터의 개수 : 1\n",
      "삭제할 테스트 데이터의 개수 : 0\n"
     ]
    },
    {
     "name": "stderr",
     "output_type": "stream",
     "text": [
      "/opt/conda/lib/python3.7/site-packages/numpy/core/_asarray.py:83: VisibleDeprecationWarning: Creating an ndarray from ragged nested sequences (which is a list-or-tuple of lists-or-tuples-or ndarrays with different lengths or shapes) is deprecated. If you meant to do this, you must specify 'dtype=object' when creating the ndarray\n",
      "  return array(a, dtype, copy=False, order=order)\n"
     ]
    },
    {
     "name": "stdout",
     "output_type": "stream",
     "text": [
      "훈련 데이터의 개수 : 77496\n",
      "훈련 레이블의 개수 : 77496\n",
      "테스트 데이터의 개수 : 19374\n",
      "테스트 레이블의 개수 : 19374\n"
     ]
    }
   ],
   "source": [
    "#문장 길이 0인 문장들의 인덱스 찾아오기\n",
    "drop_train = [index for index, sentence in enumerate(decoder_input_train) if len(sentence) == 1]\n",
    "drop_test = [index for index, sentence in enumerate(decoder_input_test) if len(sentence) == 1]\n",
    "\n",
    "print('삭제할 훈련 데이터의 개수 :', len(drop_train))\n",
    "print('삭제할 테스트 데이터의 개수 :', len(drop_test))\n",
    "\n",
    "#위에서 찾은 0인 문장의 인덱스들 제거하기\n",
    "encoder_input_train = np.delete(encoder_input_train, drop_train, axis=0)\n",
    "decoder_input_train = np.delete(decoder_input_train, drop_train, axis=0)\n",
    "decoder_target_train = np.delete(decoder_target_train, drop_train, axis=0)\n",
    "\n",
    "encoder_input_test = np.delete(encoder_input_test, drop_test, axis=0)\n",
    "decoder_input_test = np.delete(decoder_input_test, drop_test, axis=0)\n",
    "decoder_target_test = np.delete(decoder_target_test, drop_test, axis=0)\n",
    "\n",
    "#길이 0 인 문장들 제거 후 개수\n",
    "print('훈련 데이터의 개수 :', len(encoder_input_train))\n",
    "print('훈련 레이블의 개수 :', len(decoder_input_train))\n",
    "print('테스트 데이터의 개수 :', len(encoder_input_test))\n",
    "print('테스트 레이블의 개수 :', len(decoder_input_test))"
   ]
  },
  {
   "cell_type": "markdown",
   "id": "liked-things",
   "metadata": {},
   "source": [
    "#### 7. 패딩하기\n",
    "텍스트 시퀀스를 -> 정수 시퀀스로 변환함  \n",
    "이제 샘플들 병렬처리를 위해  \n",
    "문장 길이들을 같은 길이로 맞춰 줘야함  \n",
    "\n",
    "이때 최대길이 사용해서 길이 맞춰줌  \n",
    "최대 길이보다 짧으면 뒷 공간에 숫자 0 을 넣어줌  "
   ]
  },
  {
   "cell_type": "code",
   "execution_count": 35,
   "id": "frank-separate",
   "metadata": {},
   "outputs": [],
   "source": [
    "encoder_input_train = pad_sequences(encoder_input_train, maxlen=text_max_len, padding='post')\n",
    "encoder_input_test = pad_sequences(encoder_input_test, maxlen=text_max_len, padding='post')\n",
    "decoder_input_train = pad_sequences(decoder_input_train, maxlen=headlines_max_len, padding='post')\n",
    "decoder_target_train = pad_sequences(decoder_target_train, maxlen=headlines_max_len, padding='post')\n",
    "decoder_input_test = pad_sequences(decoder_input_test, maxlen=headlines_max_len, padding='post')\n",
    "decoder_target_test = pad_sequences(decoder_target_test, maxlen=headlines_max_len, padding='post')"
   ]
  },
  {
   "cell_type": "markdown",
   "id": "secret-ceiling",
   "metadata": {},
   "source": [
    "### 5. 모델 설계하기  \n",
    "함수형 API를 이용해서 인코더 설계\n",
    "\n",
    "#### 1. 인코더 모델 설계"
   ]
  },
  {
   "cell_type": "code",
   "execution_count": 36,
   "id": "offensive-fabric",
   "metadata": {},
   "outputs": [
    {
     "name": "stdout",
     "output_type": "stream",
     "text": [
      "WARNING:tensorflow:Layer lstm will not use cuDNN kernel since it doesn't meet the cuDNN kernel criteria. It will use generic GPU kernel as fallback when running on GPU\n",
      "WARNING:tensorflow:Layer lstm_1 will not use cuDNN kernel since it doesn't meet the cuDNN kernel criteria. It will use generic GPU kernel as fallback when running on GPU\n",
      "WARNING:tensorflow:Layer lstm_2 will not use cuDNN kernel since it doesn't meet the cuDNN kernel criteria. It will use generic GPU kernel as fallback when running on GPU\n"
     ]
    }
   ],
   "source": [
    "from tensorflow.keras.layers import Input, LSTM, Embedding, Dense, Concatenate\n",
    "from tensorflow.keras.models import Model\n",
    "from tensorflow.keras.callbacks import EarlyStopping, ModelCheckpoint\n",
    "\n",
    "\n",
    "# 인코더 설계 시작\n",
    "embedding_dim = 128\n",
    " #히든 스테이트 사이즈 : LSTM 에서는 얼만큼의 수용력을 가질지 정하는 파라미터\n",
    " # LSTM의 용량 크기, 뉴런 개수들에 해당됨\n",
    " #크다고 무조건 성능 개선 되는 것 아님 \n",
    "hidden_size = 256\n",
    "\n",
    "# 인코더\n",
    "encoder_inputs = Input(shape=(text_max_len,))\n",
    "\n",
    "# 인코더의 임베딩 층\n",
    "enc_emb = Embedding(src_vocab, embedding_dim)(encoder_inputs)\n",
    "\n",
    "  #LSTM 레이어 3개\n",
    "  # 히든 스테이트 사이즈 늘리는 것 : LSTM 1개의 용량을 늘리는 것 \n",
    "  # 레이어를 늘리는 것 : 모델의 용량을 늘리는 것\n",
    "\n",
    "# 인코더의 LSTM 1\n",
    "#dropout : 레이어의 weight를 랜덤으로 생략하여 모델의 과적합(overfitting)을 해결\n",
    "#recurrent dropout : LSTM이 추가적으로 사용,  time step의 입력을 랜덤으로 생략\n",
    "# 그냥 드롭아웃 처럼 regularization을 해주는 효과가 있고, 과적합을 방지\n",
    "# 이렇게 두 드롭아웃 다 쓴것 : Variational Dropout\n",
    "encoder_lstm1 = LSTM(hidden_size, return_sequences=True, return_state=True ,dropout = 0.4, recurrent_dropout = 0.4)\n",
    "encoder_output1, state_h1, state_c1 = encoder_lstm1(enc_emb)\n",
    "\n",
    "# 인코더의 LSTM 2\n",
    "encoder_lstm2 = LSTM(hidden_size, return_sequences=True, return_state=True, dropout=0.4, recurrent_dropout=0.4)\n",
    "encoder_output2, state_h2, state_c2 = encoder_lstm2(encoder_output1)\n",
    "\n",
    "# 인코더의 LSTM 3\n",
    "encoder_lstm3 = LSTM(hidden_size, return_state=True, return_sequences=True, dropout=0.4, recurrent_dropout=0.4)\n",
    "encoder_outputs, state_h, state_c= encoder_lstm3(encoder_output2)\n",
    "\n",
    "#3개의 층을 지나서 인코더로부터 나온 출력 벡터는 디코더로 보내줌 !\n",
    "\n",
    "#경고문 : recurrent dropout을 사용할 시 cuDNN을 사용할 수 없어서 \n",
    "#recurrent dropout을 사용하지 않을 때보다 학습 시간이 오래 걸립니다."
   ]
  },
  {
   "cell_type": "markdown",
   "id": "raising-devices",
   "metadata": {},
   "source": [
    "#### 2. 디코더 모델 설계"
   ]
  },
  {
   "cell_type": "code",
   "execution_count": 37,
   "id": "royal-merchandise",
   "metadata": {},
   "outputs": [
    {
     "name": "stdout",
     "output_type": "stream",
     "text": [
      "WARNING:tensorflow:Layer lstm_3 will not use cuDNN kernel since it doesn't meet the cuDNN kernel criteria. It will use generic GPU kernel as fallback when running on GPU\n"
     ]
    }
   ],
   "source": [
    "# 디코더 설계\n",
    "decoder_inputs = Input(shape=(None,))\n",
    "\n",
    "# 디코더의 임베딩 층\n",
    "dec_emb_layer = Embedding(tar_vocab, embedding_dim)\n",
    "dec_emb = dec_emb_layer(decoder_inputs)\n",
    "\n",
    "# 디코더의 LSTM\n",
    "decoder_lstm = LSTM(hidden_size, return_sequences=True, return_state=True, dropout=0.4, recurrent_dropout=0.2)\n",
    "# 디코더 LSTM 입력 정의시, initial_state의 인자값으로 \n",
    "#인코더의 hidden state와 cell state의 값 넣어줌\n",
    "decoder_outputs, _, _ = decoder_lstm(dec_emb, initial_state=[state_h, state_c])"
   ]
  },
  {
   "cell_type": "markdown",
   "id": "secure-obligation",
   "metadata": {},
   "source": [
    "#### 3. 어텐션 메커니즘  \n",
    "이미 구현된 어텐션 함수 가져와서 디코더 출력층에 결합\n",
    "\n",
    "인코더의 hidden state들 ,  디코더의 hidden state들을  \n",
    "어텐션 함수의 입력으로 사용  \n",
    "-> 어텐션 함수가 리턴한 값을  \n",
    "예측 시에 디코더의 hidden state와 함께 활용하는 형태로 작동"
   ]
  },
  {
   "cell_type": "code",
   "execution_count": 38,
   "id": "persistent-track",
   "metadata": {},
   "outputs": [],
   "source": [
    "#경로에 attention.py 파일 생성 -> 어텐션 메커니즘 사용 준비 완료\n",
    "urllib.request.urlretrieve(\"https://raw.githubusercontent.com/thushv89/attention_keras/master/src/layers/attention.py\", filename=\"attention.py\")\n",
    "from attention import AttentionLayer"
   ]
  },
  {
   "cell_type": "code",
   "execution_count": 39,
   "id": "structural-ottawa",
   "metadata": {},
   "outputs": [
    {
     "name": "stdout",
     "output_type": "stream",
     "text": [
      "Model: \"model\"\n",
      "__________________________________________________________________________________________________\n",
      "Layer (type)                    Output Shape         Param #     Connected to                     \n",
      "==================================================================================================\n",
      "input_1 (InputLayer)            [(None, 45)]         0                                            \n",
      "__________________________________________________________________________________________________\n",
      "embedding (Embedding)           (None, 45, 128)      2560000     input_1[0][0]                    \n",
      "__________________________________________________________________________________________________\n",
      "lstm (LSTM)                     [(None, 45, 256), (N 394240      embedding[0][0]                  \n",
      "__________________________________________________________________________________________________\n",
      "input_2 (InputLayer)            [(None, None)]       0                                            \n",
      "__________________________________________________________________________________________________\n",
      "lstm_1 (LSTM)                   [(None, 45, 256), (N 525312      lstm[0][0]                       \n",
      "__________________________________________________________________________________________________\n",
      "embedding_1 (Embedding)         (None, None, 128)    1024000     input_2[0][0]                    \n",
      "__________________________________________________________________________________________________\n",
      "lstm_2 (LSTM)                   [(None, 45, 256), (N 525312      lstm_1[0][0]                     \n",
      "__________________________________________________________________________________________________\n",
      "lstm_3 (LSTM)                   [(None, None, 256),  394240      embedding_1[0][0]                \n",
      "                                                                 lstm_2[0][1]                     \n",
      "                                                                 lstm_2[0][2]                     \n",
      "__________________________________________________________________________________________________\n",
      "attention_layer (AttentionLayer ((None, None, 256),  131328      lstm_2[0][0]                     \n",
      "                                                                 lstm_3[0][0]                     \n",
      "__________________________________________________________________________________________________\n",
      "concat_layer (Concatenate)      (None, None, 512)    0           lstm_3[0][0]                     \n",
      "                                                                 attention_layer[0][0]            \n",
      "__________________________________________________________________________________________________\n",
      "dense (Dense)                   (None, None, 8000)   4104000     concat_layer[0][0]               \n",
      "==================================================================================================\n",
      "Total params: 9,658,432\n",
      "Trainable params: 9,658,432\n",
      "Non-trainable params: 0\n",
      "__________________________________________________________________________________________________\n"
     ]
    }
   ],
   "source": [
    "# 어텐션 층(어텐션 함수)\n",
    "attn_layer = AttentionLayer(name='attention_layer')\n",
    "# 인코더와 디코더의 모든 time step의 hidden state를 어텐션 층에 전달하고 결과를 리턴\n",
    "attn_out, attn_states = attn_layer([encoder_outputs, decoder_outputs])\n",
    "\n",
    "# 어텐션의 결과와 디코더의 hidden state들을 연결\n",
    "decoder_concat_input = Concatenate(axis=-1, name='concat_layer')([decoder_outputs, attn_out])\n",
    "\n",
    "# 디코더의 출력층\n",
    "decoder_softmax_layer = Dense(tar_vocab, activation='softmax')\n",
    "decoder_softmax_outputs = decoder_softmax_layer(decoder_concat_input)\n",
    "\n",
    "# 모델 정의\n",
    "model = Model([encoder_inputs, decoder_inputs], decoder_softmax_outputs)\n",
    "model.summary()"
   ]
  },
  {
   "cell_type": "markdown",
   "id": "environmental-spread",
   "metadata": {},
   "source": [
    "### 6. 모델 훈련\n",
    "\n",
    "#### 1. 모델 훈련"
   ]
  },
  {
   "cell_type": "code",
   "execution_count": 40,
   "id": "authorized-newark",
   "metadata": {},
   "outputs": [
    {
     "name": "stdout",
     "output_type": "stream",
     "text": [
      "Epoch 1/25\n",
      "303/303 [==============================] - 242s 763ms/step - loss: 5.8127 - val_loss: 5.0393\n",
      "Epoch 2/25\n",
      "303/303 [==============================] - 230s 759ms/step - loss: 4.9703 - val_loss: 4.6495\n",
      "Epoch 3/25\n",
      "303/303 [==============================] - 230s 759ms/step - loss: 4.5877 - val_loss: 4.3941\n",
      "Epoch 4/25\n",
      "303/303 [==============================] - 231s 761ms/step - loss: 4.3056 - val_loss: 4.1955\n",
      "Epoch 5/25\n",
      "303/303 [==============================] - 232s 765ms/step - loss: 4.0878 - val_loss: 4.0411\n",
      "Epoch 6/25\n",
      "303/303 [==============================] - 230s 759ms/step - loss: 3.9093 - val_loss: 3.9299\n",
      "Epoch 7/25\n",
      "303/303 [==============================] - 231s 764ms/step - loss: 3.7563 - val_loss: 3.8330\n",
      "Epoch 8/25\n",
      "303/303 [==============================] - 232s 765ms/step - loss: 3.6200 - val_loss: 3.7600\n",
      "Epoch 9/25\n",
      "303/303 [==============================] - 234s 771ms/step - loss: 3.4954 - val_loss: 3.6930\n",
      "Epoch 10/25\n",
      "303/303 [==============================] - 236s 778ms/step - loss: 3.4021 - val_loss: 3.6411\n",
      "Epoch 11/25\n",
      "303/303 [==============================] - 235s 775ms/step - loss: 3.3100 - val_loss: 3.5869\n",
      "Epoch 12/25\n",
      "303/303 [==============================] - 233s 769ms/step - loss: 3.2298 - val_loss: 3.5575\n",
      "Epoch 13/25\n",
      "303/303 [==============================] - 233s 769ms/step - loss: 3.1595 - val_loss: 3.5253\n",
      "Epoch 14/25\n",
      "303/303 [==============================] - 232s 767ms/step - loss: 3.0884 - val_loss: 3.4997\n",
      "Epoch 15/25\n",
      "303/303 [==============================] - 240s 791ms/step - loss: 3.0234 - val_loss: 3.4758\n",
      "Epoch 16/25\n",
      "303/303 [==============================] - 233s 768ms/step - loss: 2.9650 - val_loss: 3.4623\n",
      "Epoch 17/25\n",
      "303/303 [==============================] - 236s 779ms/step - loss: 2.9188 - val_loss: 3.4395\n",
      "Epoch 18/25\n",
      "303/303 [==============================] - 247s 816ms/step - loss: 2.8658 - val_loss: 3.4258\n",
      "Epoch 19/25\n",
      "303/303 [==============================] - 251s 828ms/step - loss: 2.8226 - val_loss: 3.4109\n",
      "Epoch 20/25\n",
      "303/303 [==============================] - 235s 776ms/step - loss: 2.7802 - val_loss: 3.4066\n",
      "Epoch 21/25\n",
      "303/303 [==============================] - 238s 784ms/step - loss: 2.7389 - val_loss: 3.3932\n",
      "Epoch 22/25\n",
      "303/303 [==============================] - 239s 790ms/step - loss: 2.7035 - val_loss: 3.3827\n",
      "Epoch 23/25\n",
      "303/303 [==============================] - 241s 796ms/step - loss: 2.6530 - val_loss: 3.3803\n",
      "Epoch 24/25\n",
      "303/303 [==============================] - 235s 777ms/step - loss: 2.6259 - val_loss: 3.3719\n",
      "Epoch 25/25\n",
      "303/303 [==============================] - 232s 766ms/step - loss: 2.5959 - val_loss: 3.3725\n"
     ]
    }
   ],
   "source": [
    "model.compile(optimizer='rmsprop', loss='sparse_categorical_crossentropy')\n",
    "\n",
    "#조기 종료: EarlyStopping : 특정 조건이 충족되면 훈련을 멈추는 역할 =모델 훈련 최적점에서 멈추기 가능\n",
    "#monitor= : val_loss(검증 데이터의 손실)을 관찰\n",
    "#patience : 검증 데이터의 손실이 줄어들지 않고 증가하는 현상이 2회(patience=2)  \n",
    "#관측되면 학습을 멈추도록 설정\n",
    "es = EarlyStopping(monitor='val_loss', patience=2, verbose=1)    \n",
    "history = model.fit(x=[encoder_input_train, decoder_input_train], y=decoder_target_train, \\\n",
    "          validation_data=([encoder_input_test, decoder_input_test], decoder_target_test), \\\n",
    "          batch_size=256, callbacks=[es], epochs=25)"
   ]
  },
  {
   "cell_type": "markdown",
   "id": "figured-mason",
   "metadata": {},
   "source": [
    "#### 2. 모델 훈련 과정 시각화  \n",
    "훈련 데이터의 손실과 검증 데이터의 손실이 줄어드는 과정"
   ]
  },
  {
   "cell_type": "code",
   "execution_count": 41,
   "id": "tender-attempt",
   "metadata": {},
   "outputs": [
    {
     "data": {
      "image/png": "[encoded data removed]",
      "text/plain": [
       "<Figure size 432x288 with 1 Axes>"
      ]
     },
     "metadata": {
      "needs_background": "light"
     },
     "output_type": "display_data"
    }
   ],
   "source": [
    "plt.plot(history.history['loss'], label='train')\n",
    "plt.plot(history.history['val_loss'], label='test')\n",
    "plt.legend()\n",
    "plt.show()"
   ]
  },
  {
   "cell_type": "markdown",
   "id": "wired-trinity",
   "metadata": {},
   "source": [
    "### 7. 인퍼런스 모델 구현  \n",
    "* seq2seq는 훈련할 때, 실제 동작할 때(인퍼런스 단계)의 방식 다름  \n",
    "  -> 그에 맞게 **모델 설계를 별개 진행**\n",
    "  \n",
    "  \n",
    "* **훈련 단계**  \n",
    "  디코더의 입력부에 정답이 되는 문장 전체를 한꺼번에 넣고  \n",
    "  디코더의 출력과 한 번에 비교 가능  \n",
    "  인코더와 디코더를 엮은 통짜 모델 하나만 준비했었음  \n",
    "  \n",
    "  \n",
    "* 그러나 정답 문장이 없는 **인퍼런스 단계**  \n",
    "  만들어야 할 문장의 길이만큼 디코더가 반복 구조로 동작해야함  \n",
    "  -> 인퍼런스를 위한 모델 설계 따로 해줌  \n",
    "  -> 이때는 인코더 모델과 디코더 모델을 분리해서 설계"
   ]
  },
  {
   "cell_type": "code",
   "execution_count": 42,
   "id": "suffering-closing",
   "metadata": {},
   "outputs": [],
   "source": [
    "# 원문 단어 집합에서 정수 -> 단어를 얻음\n",
    "src_index_to_word = src_tokenizer.index_word \n",
    "\n",
    "# 요약 단어 집합에서 단어 -> 정수를 얻음\n",
    "tar_word_to_index = tar_tokenizer.word_index \n",
    "\n",
    "# 요약 단어 집합에서 정수 -> 단어를 얻음\n",
    "tar_index_to_word = tar_tokenizer.index_word "
   ]
  },
  {
   "cell_type": "markdown",
   "id": "valid-reservation",
   "metadata": {},
   "source": [
    "#### 1. 인퍼런스 모델의_인코더 /디코더 설계"
   ]
  },
  {
   "cell_type": "code",
   "execution_count": 43,
   "id": "constitutional-myanmar",
   "metadata": {},
   "outputs": [],
   "source": [
    "# 인코더 설계\n",
    "encoder_model = Model(inputs=encoder_inputs, outputs=[encoder_outputs, state_h, state_c])\n",
    "\n",
    "# 이전 시점의 상태들을 저장하는 텐서\n",
    "decoder_state_input_h = Input(shape=(hidden_size,))\n",
    "decoder_state_input_c = Input(shape=(hidden_size,))\n",
    "\n",
    "dec_emb2 = dec_emb_layer(decoder_inputs)\n",
    "\n",
    "# 문장의 다음 단어를 예측하기 위해서\n",
    "#초기 상태(initial_state)를 이전 시점의 상태로 사용.\n",
    "#이는 뒤의 함수 decode_sequence()에 구현\n",
    "\n",
    "# 훈련 과정에서와 달리 LSTM의 리턴하는 은닉 상태=state_h와\n",
    "# 셀 상태인= state_c를 버리지 않음 (이전 상태에서 계속 가져옴)\n",
    "# 훈련 과정에서는 그냥 초기 인코더 꺼 가져와서 초기화해버림\n",
    "decoder_outputs2, state_h2, state_c2 = decoder_lstm(dec_emb2, initial_state=[decoder_state_input_h, decoder_state_input_c])"
   ]
  },
  {
   "cell_type": "markdown",
   "id": "transsexual-tongue",
   "metadata": {},
   "source": [
    "#### 2. 인퍼런스 단계 _ 출력층 설계 (어텐션 매커니즘 사용)"
   ]
  },
  {
   "cell_type": "code",
   "execution_count": 44,
   "id": "respective-vertical",
   "metadata": {},
   "outputs": [],
   "source": [
    "# 어텐션 함수\n",
    "decoder_hidden_state_input = Input(shape=(text_max_len, hidden_size))\n",
    "attn_out_inf, attn_states_inf = attn_layer([decoder_hidden_state_input, decoder_outputs2])\n",
    "decoder_inf_concat = Concatenate(axis=-1, name='concat')([decoder_outputs2, attn_out_inf])\n",
    "\n",
    "# 디코더의 출력층\n",
    "decoder_outputs2 = decoder_softmax_layer(decoder_inf_concat) \n",
    "\n",
    "# 최종 디코더 모델\n",
    "decoder_model = Model(\n",
    "    [decoder_inputs] + [decoder_hidden_state_input,decoder_state_input_h, decoder_state_input_c],\n",
    "    [decoder_outputs2] + [state_h2, state_c2])"
   ]
  },
  {
   "cell_type": "markdown",
   "id": "wireless-occasion",
   "metadata": {},
   "source": [
    "#### 3. 인퍼런스 단계_ 단어 시퀀스 완성해주는 함수 생성"
   ]
  },
  {
   "cell_type": "code",
   "execution_count": 45,
   "id": "endangered-damage",
   "metadata": {},
   "outputs": [],
   "source": [
    "def decode_sequence(input_seq):\n",
    "    # 입력으로부터 인코더의 상태를 얻음\n",
    "    e_out, e_h, e_c = encoder_model.predict(input_seq)\n",
    "\n",
    "     # <SOS>에 해당하는 토큰 생성\n",
    "    target_seq = np.zeros((1,1))\n",
    "    target_seq[0, 0] = tar_word_to_index['sostoken']\n",
    "\n",
    "    stop_condition = False\n",
    "    decoded_sentence = ''\n",
    "    while not stop_condition: # stop_condition이 True가 될 때까지 루프 반복\n",
    "\n",
    "        output_tokens, h, c = decoder_model.predict([target_seq] + [e_out, e_h, e_c])\n",
    "        sampled_token_index = np.argmax(output_tokens[0, -1, :])\n",
    "        sampled_token = tar_index_to_word[sampled_token_index]\n",
    "\n",
    "        if (sampled_token!='eostoken'):\n",
    "            decoded_sentence += ' '+sampled_token\n",
    "\n",
    "        #  <eos>에 도달하거나 최대 길이를 넘으면 중단.\n",
    "        if (sampled_token == 'eostoken'  or len(decoded_sentence.split()) >= (headlines_max_len-1)):\n",
    "            stop_condition = True\n",
    "\n",
    "        # 길이가 1인 타겟 시퀀스를 업데이트\n",
    "        target_seq = np.zeros((1,1))\n",
    "        target_seq[0, 0] = sampled_token_index\n",
    "\n",
    "        # 상태를 업데이트 합니다.\n",
    "        e_h, e_c = h, c\n",
    "\n",
    "    return decoded_sentence"
   ]
  },
  {
   "cell_type": "markdown",
   "id": "ambient-baking",
   "metadata": {},
   "source": [
    "### 8. 모델 테스트 하기  \n",
    "\n",
    "정수 시퀀스를 텍스트 시퀀스로 변환하여 결과를 확인  \n",
    "\n",
    "주어진 정수 시퀀스를 텍스트 시퀀스로 변환하는 함수 생성해보자  \n",
    "text 정수 시퀀스 -> 패딩을 위해 사용되는 숫자 0 제외  \n",
    "headlines 정수 시퀀스 -> 숫자 0, 시작 토큰의 인덱스, 종료 토큰의 인덱스를 출력에서 제외"
   ]
  },
  {
   "cell_type": "markdown",
   "id": "romantic-novelty",
   "metadata": {},
   "source": [
    "#### 1. 정수-> 텍스트 시퀀스 변환 함수 생성"
   ]
  },
  {
   "cell_type": "code",
   "execution_count": 46,
   "id": "violent-magazine",
   "metadata": {},
   "outputs": [],
   "source": [
    "# 원문(text)의 정수 시퀀스를 텍스트 시퀀스로 변환\n",
    "def seq2text(input_seq):\n",
    "    temp=''\n",
    "    for i in input_seq:\n",
    "        if (i!=0):\n",
    "            temp = temp + src_index_to_word[i]+' '\n",
    "    return temp\n",
    "\n",
    "# 요약문(headlines)의 정수 시퀀스를 텍스트 시퀀스로 변환\n",
    "def seq2headlines(input_seq):\n",
    "    temp=''\n",
    "    for i in input_seq:\n",
    "        if ((i!=0 and i!=tar_word_to_index['sostoken']) and i!=tar_word_to_index['eostoken']):\n",
    "            temp = temp + tar_index_to_word[i] + ' '\n",
    "    return temp"
   ]
  },
  {
   "cell_type": "markdown",
   "id": "incorporated-officer",
   "metadata": {},
   "source": [
    "#### 2. 테스트 데이터 약 50개의 샘플의 실제 요약 vs 예측된 요약"
   ]
  },
  {
   "cell_type": "code",
   "execution_count": 47,
   "id": "certain-triangle",
   "metadata": {},
   "outputs": [
    {
     "name": "stdout",
     "output_type": "stream",
     "text": [
      "원문 : year old delhi woman delivered premature baby car tuesday returned hospital allegedly finding doctor emergency section hospital authorities however said fault security guard inform family doctor present mother baby danger \n",
      "실제 요약 : delhi woman delivers baby in car after being denied doctor \n",
      "예측 요약 :  woman gives birth to baby in delhi\n",
      "\n",
      "\n",
      "원문 : spot fine imposed people found defecating open maharashtra according rules framed state government fine imposed levied spitting public moreover anyone found urinating public attract fine \n",
      "실제 요약 : open defecation in maharashtra to invite fine \n",
      "예측 요약 :  fine fined for water in maharashtra\n",
      "\n",
      "\n",
      "원문 : denying rumours third instalment film gangs anurag kashyap shared report tweeted true earlier writer filmmaker confirmed third film gangs film franchise planned part called part \n",
      "실제 요약 : not true anurag denies rumours of of \n",
      "예측 요약 :  anurag denies reports of housefull\n",
      "\n",
      "\n",
      "원문 : twenty eight time german first division champions bayern munich scored goals minutes pre season friendly match local german club fc many different players scored bayern four netting hat tricks seven bayern goals came first half bayern went win match \n",
      "실제 요약 : team scores goals in minutes players net hat trick \n",
      "예측 요약 :  scores hat trick in mumbai league\n",
      "\n",
      "\n",
      "원문 : cricketer also known il longest known last name first class cricketer surname literally means returned alive hospital island lau group played nine matches fiji two tours new zealand scored two hundreds \n",
      "실제 요약 : who is the cricketer with longest known surname in history \n",
      "예측 요약 :  player who is the st century in the first century\n",
      "\n",
      "\n",
      "원문 : security forces arrested nine persons chhattisgarh sukma district connection maoist attack claimed lives many crpf jawans attack took place crpf th battalion assisting local population road building clearing activity district \n",
      "실제 요약 : nine arrested over sukma maoist attack that killed jawans \n",
      "예측 요약 :  crpf jawans martyred in chhattisgarh attack on sukma attack\n",
      "\n",
      "\n",
      "원문 : shanghai based news aggregator app backed tencent filed initial public offering million united states app whose name means fun headlines reportedly reached unicorn status march raised million series funding led tencent launched app serves entertainment main content \n",
      "실제 요약 : tencent backed news app files for million ipo \n",
      "예측 요약 :  fb acquires platform to buy facebook platform for mn\n",
      "\n",
      "\n",
      "원문 : salman khan said katrina kaif incredible stage screen person said katrina professional comes stage clear people love calling simple girl salman added earth \n",
      "실제 요약 : katrina is on screen stage as person salman \n",
      "예측 요약 :  katrina kaif is katrina on katrina\n",
      "\n",
      "\n",
      "원문 : cement major chairman non executive director kumar mangalam birla received annual remuneration crore birla remuneration saw increase previous financial year notably remuneration contrast lakh earned group telecom arm idea cellular \n",
      "실제 요약 : kumar birla took crore salary from \n",
      "예측 요약 :  aditya birla chairman singh earned crore in\n",
      "\n",
      "\n",
      "원문 : veteran pacer ashish nehra wicketkeeper batsman dinesh karthik named indian squad series australia starting october nehra aged last played february year england karthik played july windies shikhar dhawan missed odi series due wife illness also included \n",
      "실제 요약 : year old nehra returns to india squad for australia is \n",
      "예측 요약 :  jadeja should be shut for kuldeep yadav\n",
      "\n",
      "\n",
      "원문 : per reports actor producer suniel shetty director priyadarshan set make sequel film bhag suniel act bhag reportedly acting sequel shooting scheduled start later year akshay kumar govinda paresh rawal rajpal yadav starred original film \n",
      "실제 요약 : suniel to make sequel report \n",
      "예측 요약 :  to play villain in sequel reports\n",
      "\n",
      "\n",
      "원문 : afghanistan defence minister abdullah army chief staff shah resigned positions soldiers killed last week deadliest ever attack taliban military base around taliban fighters dressed afghan army uniforms entered base opened fire soldiers \n",
      "실제 요약 : afghan defence min army chief resign after taliban attack \n",
      "예측 요약 :  army chief claims taliban attack on afghan soldiers killed\n",
      "\n",
      "\n",
      "원문 : philippine police officials paid executing drug suspects policemen planted evidence crime scenes part president rodrigo duterte war drugs according senior philippine officials challenging government also claimed drug related killings blamed vigilantes far orchestrated philippine national police \n",
      "실제 요약 : philippine cops get paid to drug suspects reports \n",
      "예측 요약 :  philippine police to police firing criminals\n",
      "\n",
      "\n",
      "원문 : teaser shubh mangal film ayushmann khurrana character erectile dysfunction released animated teaser introduces lead characters played ayushmann sugandha portrayed bhumi pednekar also features katrina kaif hrithik roshan james bond directed rs film release september \n",
      "실제 요약 : teaser of ayushmann film on released \n",
      "예측 요약 :  teaser of ayushmann starrer released\n",
      "\n",
      "\n",
      "원문 : silk saree presented cm chandrashekar rao gone missing telangana temple another hand silk saree presented couple vijayawada kanaka durga temple also missing audit telangana temple revealed set diamond studded bangles worth lakh also missing interestingly cctv footage three temples missing \n",
      "실제 요약 : saree presented by cm stolen from telangana temple \n",
      "예측 요약 :  goa cm announces contest to temple temple\n",
      "\n",
      "\n",
      "원문 : punjab haryana high court said azaan integral part islam necessarily played loudspeakers hearing plea sonu nigam court observed use word singer context azaan use loudspeakers \n",
      "실제 요약 : azaan part of islamic not hc \n",
      "예측 요약 :  why is the controversy hc on azaan row\n",
      "\n",
      "\n",
      "원문 : supreme court wednesday stayed order national company law tribunal allowed government take unitech management said centre taken apex court permission moving nclt tribunal december suspended eight directors realty firm allegations mismanagement siphoning funds \n",
      "실제 요약 : sc stays government move to take over unitech management \n",
      "예측 요약 :  sc stays order on sahara plea to deposit\n",
      "\n",
      "\n",
      "원문 : talking swara bhasker criticised padmaavat ranveer singh said got message yesterday loved performance film swara earlier written open letter director sanjay leela bhansali saying felt reduced vagina watching film padmaavat ranveer played sultan alauddin khilji film \n",
      "실제 요약 : swara me saying she loved me in padmaavat ranveer \n",
      "예측 요약 :  ranveer is like sonu on his film remark\n",
      "\n",
      "\n",
      "원문 : whatsapp vice president neeraj arora resigned paytm board directors days whatsapp launched payments feature india arora alumnus indian school business among first whatsapp employees joined meanwhile paytm founder vijay shekhar sharma called whatsapp payment feature rollout unfair said killing beautiful open upi system \n",
      "실제 요약 : whatsapp vice president neeraj arora quits paytm board \n",
      "예측 요약 :  whatsapp chief whatsapp ceo to whatsapp ceo\n",
      "\n",
      "\n",
      "원문 : aib co founders tanmay bhat stepping away business comedy group amid sexual harassment allegations utsav chakraborty featured aib videos earlier aib admitted tanmay received specific detailed allegations utsav confronted however aib continued work utsav capacity \n",
      "실제 요약 : aib step away amid sexual harassment row \n",
      "예측 요약 :  co founder quits over sexual harassment row\n",
      "\n",
      "\n",
      "원문 : year old mumbai based man appearing class xii board exams began today maharashtra year old daughter preparing class board exams sunil works bmc taken leave work study exams cleared class board exams \n",
      "실제 요약 : man gives class exams his daughter gives class exams \n",
      "예측 요약 :  yr old boy scores from exam exam for neet\n",
      "\n",
      "\n",
      "원문 : jammu kashmir police monday registered case drivers local taxi union allegedly created fake stories attacks amarnath pilgrims shared social media reports said drivers angered travel agency brought taxis outside state carry pilgrims \n",
      "실제 요약 : drivers shared fake news about attack on amarnath pilgrims \n",
      "예측 요약 :  police officer booked for fake fake news on fb\n",
      "\n",
      "\n",
      "원문 : textile major raymond announced acquisition stake joint venture partner jk manufacturer condoms brand crore raymond acquired ownership brand following deal jk become wholly owned subsidiary jk trade raymond group firm \n",
      "실제 요약 : raymond acquires ownership of brand \n",
      "예측 요약 :  to buy stake in for crore\n",
      "\n",
      "\n",
      "원문 : bengaluru based education management startup raised million pre series funding rs chairman group amount used product development expand team startup said statement retails school supplies books school uniforms water bottles stationery offers services like payment school fees online \n",
      "실제 요약 : bengaluru school startup raises million \n"
     ]
    },
    {
     "name": "stdout",
     "output_type": "stream",
     "text": [
      "예측 요약 :  bengaluru based startup raises funds\n",
      "\n",
      "\n",
      "원문 : couple travelled kilometres across us canada square foot house wheels forty two year old christian parsons year old alexis stephens sold set journey nearly three years ago house features bedroom son kitchen bathroom small chairs \n",
      "실제 요약 : us couple travels over km in house on wheels \n",
      "예측 요약 :  couple flies km to save km in china\n",
      "\n",
      "\n",
      "원문 : boxer mary kom thursday defeated north korea kim mi semi finals kg event reach final world women boxing championships seventh time kom take ukraine final saturday year old previously five gold medals one silver medal tournament \n",
      "실제 요약 : mary kom reaches world boxing championships final for th time \n",
      "예측 요약 :  mary kom assured of world medal at asian games semis\n",
      "\n",
      "\n",
      "원문 : road accident victim died ambulance driver allegedly left almost upside outside hospital several minutes kerala palakkad driver reportedly left injured man position urinating defecating inside vehicle accused charged endangering life criminal negligence \n",
      "실제 요약 : injured man left upside down by ambulance driver dies \n",
      "예측 요약 :  ambulance driver saves from moving car in up\n",
      "\n",
      "\n",
      "원문 : alleged revenge plan woman abducted along family members gangraped relatives son lover couple eloped uttar pradesh accused confined victims house assaulted police raided house acting tip registered case abduction gangrape \n",
      "실제 요약 : woman kin gangrape mother of man she with \n",
      "예측 요약 :  woman gangraped by husband in up for odisha police\n",
      "\n",
      "\n",
      "원문 : ranbir kapoor said would like go date someone outside bollywood although usually meet many people outside industry schedule talking relationships ranbir added someone amazing nothing beautiful alone something also enjoy much \n",
      "실제 요약 : would like to go on date with someone outside wood ranbir \n",
      "예측 요약 :  ranbir was like me he was like ranbir\n",
      "\n",
      "\n",
      "원문 : siberian bear zoo russia predicted champions fifa world cup choosing two marked flags france croatia respectively bear ate marked croatian flag predicting first time finalists lift trophy world cup final take place tonight \n",
      "실제 요약 : bear predicts fifa world cup champions by eating \n",
      "예측 요약 :  germany russia hosts wc wc winning wc exit with russia\n",
      "\n",
      "\n",
      "원문 : union minister electronics ravi shankar prasad said nearly crore mobile numbers new connections existing linked aadhaar till december also revealed crore bank accounts linked aadhaar deadline linking aadhaar number services government schemes march \n",
      "실제 요약 : over crore mobile numbers linked with aadhaar govt \n",
      "예측 요약 :  govt to pay crore for aadhaar mobile system minister\n",
      "\n",
      "\n",
      "원문 : technology giant google launched new app blog compass help indian manage site find topics write app available india works analytics recommendation platform provides users suggestions topics based interests posting history \n",
      "실제 요약 : google rolls out app for indian \n",
      "예측 요약 :  google launches app for india st india in india\n",
      "\n",
      "\n",
      "원문 : bjp president amit shah asked congress apologise statements senior leaders ghulam nabi azad soz take action came azad said indian army killing civilians terrorists jammu kashmir soz supported statement former pakistan president pervez musharraf kashmiris independence \n",
      "실제 요약 : congress should apologise act against amit shah \n",
      "예측 요약 :  amit shah denies bjp leaders remark on kashmir\n",
      "\n",
      "\n",
      "원문 : boxer vijender singh career second professional title defeating china zulpikar maimaitiali offered return championship belt called peace india china border tension border good give title people peace friendship hindi bhai bhai said vijender wbo asia pacific oriental champion \n",
      "실제 요약 : vijender offers to return ship belt for india china peace \n",
      "예측 요약 :  vijender singh wins his title with india title\n",
      "\n",
      "\n",
      "원문 : google launched play instant feature allows users tap try game without downloading first play store first games utilise google play instant include clash final fantasy feature still closed beta though google plans open developers later year \n",
      "실제 요약 : google now allows users to try gaming apps before \n",
      "예측 요약 :  google launches app for st time in video shows on ios\n",
      "\n",
      "\n",
      "원문 : kashmir received first snowfall wednesday month long dry spell valley meteorological department said jammu srinagar national highway mughal road closed vehicular traffic fresh snowfall officials said meanwhile officials predicted another spell snowfall valley friday onwards \n",
      "실제 요약 : kashmir witnesses its first of \n",
      "예측 요약 :  mumbai to get its first highway near highway\n",
      "\n",
      "\n",
      "원문 : congress president rahul gandhi hugged pm narendra modi lok sabha bjp mp subramanian swamy tweeted namo allowed hug adding russians north koreans use embrace technique insert poisoned needles victims urged pm modi get medical check ascertain microscopic \n",
      "실제 요약 : pm modi should get health after hug swamy \n",
      "예측 요약 :  rahul gandhi calls bjp mp cm on his birth anniversary\n",
      "\n",
      "\n",
      "원문 : germans expressing frustration restaurants berlin waiters know speak german deputy finance minister jens called said everyone know local language ensure peaceful locals foreigners however berlin business senator encouraged use english language \n",
      "실제 요약 : angry over restaurants where no german is \n",
      "예측 요약 :  there is not good people says how is not looking dictator\n",
      "\n",
      "\n",
      "원문 : several trains delayed uttar pradesh friday red signal moradabad division turn green station master fallen asleep getting drunk reports said northern railways suspended dereliction duty ordered inquiry kind behaviour duty unacceptable officials said \n",
      "실제 요약 : trains delayed after station master gets drunk falls asleep \n",
      "예측 요약 :  railway station asked to wear in up\n",
      "\n",
      "\n",
      "원문 : millionaire planning throw beach party cannes film festival claimed sent muslim former french presidential candidate marine le pen party invitation poster features le pen wearing full body notably le pen critical muslim scarves presidential campaign \n",
      "실제 요약 : tycoon plans party at cannes sends one to le pen \n",
      "예측 요약 :  artist hires cannes film to protest against padmavati\n",
      "\n",
      "\n",
      "원문 : late singer fateh ali khan song sanu ek pal chain na recreated upcoming film raid stars ajay devgn ileana cruz recreated version sanu ek pal chain sung nephew rahat fateh ali khan music recreated tanishk additional lyrics manoj \n",
      "실제 요약 : ek pal chain song recreated for devgn raid \n",
      "예측 요약 :  ali khan sings for upcoming film\n",
      "\n",
      "\n",
      "원문 : violence white farmers including murder torture rise south africa farm attacks reported according reports comes amid government decision transfer land white black owners without compensation per official records white people south africa \n",
      "실제 요약 : murder torture of white farmers on rise in africa report \n",
      "예측 요약 :  clashes in bulandshahr violence in us\n",
      "\n",
      "\n",
      "원문 : home ministry planning relax minimum height requirement people nepalese community residing india join paramilitary forces minister state home affairs kiren rijiju said added relaxation height limit would given scheduled castes scheduled tribes paramilitary forces nn \n",
      "실제 요약 : govt may height for in paramilitary forces mos \n",
      "예측 요약 :  govt to provide tricolour to pilgrims\n",
      "\n",
      "\n",
      "원문 : year old woman allegedly gangraped four men andhra pradesh guntur district taken room pretext offered job given drinks laced sedatives told police incident occurred march lodging complaint pictures appeared online recently \n",
      "실제 요약 : woman allegedly gangraped by men in andhra pradesh \n",
      "예측 요약 :  woman gangraped gangraped in andhra pradesh\n",
      "\n",
      "\n",
      "원문 : ousted tata sons chairman cyrus mistry tuesday said tata motors taken unanimous decision discontinue production loss making nano almost year back however continues manufactured said risky lending nano small commercial vehicles segment resulted loss crore company tata motors finance \n",
      "실제 요약 : tata motors took decision to stop nano mistry \n",
      "예측 요약 :  tata sons may tata sons to sell stake in tata sons\n",
      "\n",
      "\n",
      "원문 : us based plus size fashion blogger anna brien released video tell people reports calling russian millionaire searching indian husband fake anna briefly worked india said started getting proposals indian men interested marrying gross want money money even exist added \n",
      "실제 요약 : woman finds fake news of her looking for indian husband posts video \n",
      "예측 요약 :  artist releases nude pics with srk dancing with veere di\n",
      "\n",
      "\n",
      "원문 : wales forward gareth bale performed back heel two opponents trying away ball world cup qualifier match austria bale near corner flag back defenders back heel move notably bale made back heel assist cristiano ronaldo borussia dortmund \n",
      "실제 요약 : two players with back move \n"
     ]
    },
    {
     "name": "stdout",
     "output_type": "stream",
     "text": [
      "예측 요약 :  david warner plays with his first match in england\n",
      "\n",
      "\n",
      "원문 : pakistan army shot indian spy along line control pakistan army spokesperson major general asif claimed tuesday shot bagh sector along loc added director general inter services public relations released picture official twitter handle \n",
      "실제 요약 : pakistan claims it shot down indian spy \n",
      "예측 요약 :  pakistan isi of india to pak\n",
      "\n",
      "\n",
      "원문 : former agent us intelligence agency cia charged conspiring spy chinese government department justice said jerry lee accused retaining classified documents revealing details cia assets undercover operatives china year old worked cia \n",
      "실제 요약 : former cia agent charged with spying for china \n",
      "예측 요약 :  fbi agent used to cia agent in china\n",
      "\n",
      "\n",
      "원문 : former england manchester united captain david beckham revealed talk show heartbreaking none three sons play football despite talented year old also revealed six year old daughter harper plays sport gets watching play sport harper beckham said \n",
      "실제 요약 : that my sons do not play football beckham \n",
      "예측 요약 :  ex footballer once plays his team from his home\n",
      "\n",
      "\n"
     ]
    }
   ],
   "source": [
    "for i in range(50, 100):\n",
    "    print(\"원문 :\", seq2text(encoder_input_test[i]))\n",
    "    print(\"실제 요약 :\", seq2headlines(decoder_input_test[i]))\n",
    "    print(\"예측 요약 :\", decode_sequence(encoder_input_test[i].reshape(1, text_max_len)))\n",
    "    print(\"\\n\")"
   ]
  },
  {
   "cell_type": "markdown",
   "id": "intelligent-triple",
   "metadata": {},
   "source": [
    "* 결과분석  \n",
    "1) 기존의 요약과는 다른 요약 + 원문의 내용을 담고 있는 의미 있는 요약되고 있음    \n",
    "2) 심지어 일부 요약의 경우에는 원문에 없던 단어를 사용해서 요약함  \n",
    "3) 그다지 좋지 않은 요약의 예도 꽤나 보이기도 함  \n",
    "\n",
    "\n",
    "* 성능 개선 방안  \n",
    "1) seq2seq와 어텐션의 자체의 조합을 좀 더 좋게 수정하는 방법  \n",
    "2) 빔 서치(beam search)  \n",
    "3) 사전 훈련된 워드 임베딩(pre-trained word embedding)  \n",
    "4) 인코더 - 디코더 자체의 구조를 새로이 변경한 하는 트랜스포머(Transformer)  "
   ]
  },
  {
   "cell_type": "markdown",
   "id": "powered-honolulu",
   "metadata": {},
   "source": [
    "### 9. 추출적 요약 해보기\n",
    "\n",
    "* 추상적 요약 -> 앞서 seq2seq로 한것  \n",
    "  추출적 요약 -> 이미 본문에 존재하는 단어구, 문장을 뽑아서 요약\n",
    "  \n",
    "\n",
    "* 패키지 Summa->  추출적 요약을 위한 모듈인 summarize를 제공"
   ]
  },
  {
   "cell_type": "markdown",
   "id": "metallic-hobby",
   "metadata": {},
   "source": [
    "#### 1. 패키지 설치\n",
    "클라우드의 경우 이미 summa 가 설치됨  "
   ]
  },
  {
   "cell_type": "code",
   "execution_count": 48,
   "id": "secure-clinton",
   "metadata": {},
   "outputs": [
    {
     "name": "stdout",
     "output_type": "stream",
     "text": [
      "summa                         1.2.0\n",
      "\u001b[33mWARNING: You are using pip version 20.3.3; however, version 21.3.1 is available.\n",
      "You should consider upgrading via the '/opt/conda/bin/python3.7 -m pip install --upgrade pip' command.\u001b[0m\n"
     ]
    }
   ],
   "source": [
    "! pip list | grep summa"
   ]
  },
  {
   "cell_type": "markdown",
   "id": "reliable-communication",
   "metadata": {},
   "source": [
    "#### 2. 데이터 다운로드하기"
   ]
  },
  {
   "cell_type": "code",
   "execution_count": 49,
   "id": "neural-tracy",
   "metadata": {},
   "outputs": [],
   "source": [
    "import requests\n",
    "from summa.summarizer import summarize"
   ]
  },
  {
   "cell_type": "markdown",
   "id": "falling-adrian",
   "metadata": {},
   "source": [
    "#### 3. 매트릭스 시놉시스를 다운로드  "
   ]
  },
  {
   "cell_type": "code",
   "execution_count": 50,
   "id": "cooked-integral",
   "metadata": {},
   "outputs": [],
   "source": [
    "#text = 매트릭스 시놉시스가 문자열로 저장  \n",
    "text = requests.get('http://rare-technologies.com/the_matrix_synopsis.txt').text"
   ]
  },
  {
   "cell_type": "code",
   "execution_count": 51,
   "id": "dress-parts",
   "metadata": {},
   "outputs": [
    {
     "name": "stdout",
     "output_type": "stream",
     "text": [
      "The screen is filled with green, cascading code which gives way to the title, The Matrix.\r\n",
      "\r\n",
      "A phone rings and text appears on the screen: \"Call trans opt: received. 2-19-98 13:24:18 REC: Log>\" As a conversation takes place between Trinity (Carrie-Anne Moss) and Cypher (Joe Pantoliano), two free humans, a table of random green numbers are being scanned and individual numbers selected, creating a series of digits not unlike an ordinary phone number, as if a code is being deciphered or a call is being traced.\r\n",
      "\r\n",
      "Trinity discusses some unknown person. Cypher taunts Trinity, suggesting she enjoys watching him. Trinity counters that \"Morpheus (Laurence Fishburne) says he may be 'the One',\" just as the sound of a number being selected alerts Trinity that someone may be tracing their call. She ends the call.\r\n",
      "\r\n",
      "Armed policemen move down a darkened, decrepit hallway in the Heart O' the City Hotel, their flashlight beam bouncing just ahead of them. They come to room 303, kick down the door and find a woman dressed in black, facing away from them. It's Trinity. She brings her hands up from the laptop she's working on at their command.\r\n",
      "\r\n",
      "Outside the hotel a car drives up and three agents appear in neatly pressed black suits. They are Agent Smith (Hugo Weaving), Agent Brown (Paul Goddard), and Agent Jones (Robert Taylor). Agent Smith and the presiding police lieutenant argue. Agent Smith admonishes the policeman that they were given specific orders to contact the agents first, for their\n"
     ]
    }
   ],
   "source": [
    "#잘 저장이 되었는지 확인\n",
    "#출력결과 너무 길어서 일부만 출력\n",
    "print(text[:1500])"
   ]
  },
  {
   "cell_type": "markdown",
   "id": "humanitarian-settle",
   "metadata": {},
   "source": [
    "#### 4. summarize 사용하기\n",
    "* Summa의 summarize()의 인자로 사용되는 값  \n",
    "  1) text (str) : 요약할 테스트  \n",
    "  2) ratio (float, optional) – 요약문에서 원본에서 선택되는 문장 비율. 0~1 사이값  \n",
    "  3) words (int or None, optional) – 출력에 포함할 단어 수  \n",
    "     만약, ratio와 함께 두 파라미터가 모두 제공되는 경우 ratio는 무시  \n",
    "  4) split (bool, optional) – True면 문장 list / False는 조인(join)된 문자열을 반환  \n",
    "\n",
    "Summa의 summarize는 문장 토큰화 안해도  \n",
    "-> 내부적으로 문장 토큰화를 수행  \n",
    "-> 문장 구분이 되어있지 않은 원문을 바로 입력으로 넣어도 됨  \n",
    "\n",
    "비율을 적게 주어서 요약문으로 선택되는 문장의 개수를 줄임  \n",
    "원문의 0.005%만을 출력하도록 설정함  "
   ]
  },
  {
   "cell_type": "code",
   "execution_count": 52,
   "id": "ideal-lesson",
   "metadata": {},
   "outputs": [
    {
     "name": "stdout",
     "output_type": "stream",
     "text": [
      "headlines:\n",
      "Morpheus, Trinity, Neo, Apoc, Switch, Mouse and Cypher are jacked into the Matrix.\n",
      "Trinity brings the helicopter down to the floor that Morpheus is on and Neo opens fire on the three Agents.\n"
     ]
    }
   ],
   "source": [
    "print('headlines:')\n",
    "print(summarize(text, ratio=0.005))"
   ]
  },
  {
   "cell_type": "code",
   "execution_count": 53,
   "id": "imposed-louis",
   "metadata": {},
   "outputs": [
    {
     "name": "stdout",
     "output_type": "stream",
     "text": [
      "headlines:\n",
      "['Morpheus, Trinity, Neo, Apoc, Switch, Mouse and Cypher are jacked into the Matrix.', 'Trinity brings the helicopter down to the floor that Morpheus is on and Neo opens fire on the three Agents.']\n"
     ]
    }
   ],
   "source": [
    "print('headlines:')\n",
    "# split=True : 출력 결과 리스트로\n",
    "print(summarize(text, ratio=0.005, split=True))"
   ]
  },
  {
   "cell_type": "code",
   "execution_count": 54,
   "id": "possible-drink",
   "metadata": {},
   "outputs": [
    {
     "name": "stdout",
     "output_type": "stream",
     "text": [
      "headlines:\n",
      "Trinity takes Neo to Morpheus.\n",
      "Morpheus, Trinity, Neo, Apoc, Switch, Mouse and Cypher are jacked into the Matrix.\n",
      "Trinity brings the helicopter down to the floor that Morpheus is on and Neo opens fire on the three Agents.\n"
     ]
    }
   ],
   "source": [
    "print('headlines:')\n",
    "#단어 수 : 요약문 크기 조절 가능\n",
    "print(summarize(text, words=50))"
   ]
  },
  {
   "cell_type": "markdown",
   "id": "corporate-position",
   "metadata": {},
   "source": [
    "### 10. 추상적 요약 vs 추출적 요약  \n",
    "\n",
    "- 추상적 요약보다 추출적 요약이 실제 요약과 더 비슷하게 요약된 것 으로 판단됨  .\n",
    "- 추상적 요약에는 더 많은 데이터와 학습이 필요할 것 같음  \n",
    "\n",
    "- 추출적 요약이 더 잘 요약된 이유는  \n",
    "  키워드가 되는 단어를 그대로 사용했기 때문인 것 같음  \n",
    "\n",
    "- 전처리할때 소문자로 모두 변환했었는데  \n",
    "  추출적 요약시에 대문자로 출력됨  "
   ]
  },
  {
   "cell_type": "markdown",
   "id": "equivalent-equation",
   "metadata": {},
   "source": [
    "### 회고  \n",
    "\n",
    "#### 💚 루브릭  \n",
    "1. Abstractive 모델 구성을 위한 텍스트 전처리 단계가 체계적으로 진행되었다.  \n",
    "분석단계, 정제단계, 정규화와 불용어 제거, 데이터셋 분리, 인코딩 과정이 빠짐없이 체계적으로 진행됨  \n",
    "\n",
    "\n",
    "2. 텍스트 요약모델이 성공적으로 학습되었음을 확인하였다.  \n",
    "   1) 모델학습이 안정적으로 수렴되었음을 그래프를 통해 확인할 수 있었음  \n",
    "      Earlystop 기능으로 적절한 에포크 횟수의 학습을 진행할 수 있었음  \n",
    "      val loss를 약 3.3~3.4 까지 감소시켰음  \n",
    "      (이전 학습에서는 3.8-7 정도가 평균으로 출력되었었음)\n",
    "\n",
    "   2) 실제 요약문과 유사한 요약문장을 얻을 수 있었음  \n",
    "      원문 : cement major chairman non executive director kumar mangalam birla received annual remuneration crore birla  \n",
    "      remuneration saw increase previous financial year notably remuneration contrast lakh earned group telecom arm idea cellular  \n",
    "      실제 요약 : kumar birla took crore salary from  \n",
    "      예측 요약 :  aditya birla chairman singh earned crore in  \n",
    "\n",
    "      원문 : 독일 1부 리그 우승팀 바이에른 뮌헨이 시즌 전 지역 클럽 FC와 경기전 28분 동안 골을 넣었고,  \n",
    "      많은 다른 선수들이 4골을 넣으며 해트트릭을 성공시켰고, 바이에른은 전반전에 7골을 넣었다.  \n",
    "      실제요약: 팀 득점 시간: 선수 네트 해트트릭  \n",
    "      예측요약: 뭄바이리그 해트트릭 득점  \n",
    "\n",
    "\n",
    "3. Extractive 요약을 시도해 보고 Abstractive 요약 결과 비교하기  \n",
    "Extractive 방식으로 추출된 요약문이 Abstractive 요약 결과 보다  \n",
    "문법완성도, 핵심단어 포함 측면에서 괜찮은 요약을 보여주는 것 같음  \n",
    "\n",
    "\n",
    "#### 💚 어려웠던 점  \n",
    "- 요약이 잘된지, 안된건지 판단하기가 어려웠음  \n",
    "- 처음에 단어사전의 크기를 어떻게 설정할지 조금 판단하기 어려웠었음  \n",
    "\n",
    "#### 💚 재밌었던 점  \n",
    "- 어텐션 메커니즘을 직접 써볼 수 있었던 경험이 재밌었음  \n",
    "- 뉴스 요약을 위한 데이터 구축을 위한 아르바이트 공고를 본적이 있는데  \n",
    "  몇일 안되어서 해당 노드를 보니까 피부로 느끼는 기술이라 재밌게 느껴짐  \n",
    "  \n",
    "#### 💚 개선 및 노력하고 싶은 점  \n",
    "- 해당 노드에서는 어텐션 메커니즘이 적용된 모델을 사용해보기만 해봄  \n",
    "  이번주에 어텐션 논문 읽고 다음주 월욜에 리뷰를 하기로 했는데  \n",
    "  해당 논문을 읽고 깊이 좀 이해하고 싶음  "
   ]
  },
  {
   "cell_type": "code",
   "execution_count": null,
   "id": "adverse-appearance",
   "metadata": {},
   "outputs": [],
   "source": []
  },
  {
   "cell_type": "code",
   "execution_count": null,
   "id": "smart-moscow",
   "metadata": {},
   "outputs": [],
   "source": []
  },
  {
   "cell_type": "code",
   "execution_count": null,
   "id": "partial-source",
   "metadata": {},
   "outputs": [],
   "source": []
  }
 ],
 "metadata": {
  "kernelspec": {
   "display_name": "Python 3",
   "language": "python",
   "name": "python3"
  },
  "language_info": {
   "codemirror_mode": {
    "name": "ipython",
    "version": 3
   },
   "file_extension": ".py",
   "mimetype": "text/x-python",
   "name": "python",
   "nbconvert_exporter": "python",
   "pygments_lexer": "ipython3",
   "version": "3.7.9"
  }
 },
 "nbformat": 4,
 "nbformat_minor": 5
}
