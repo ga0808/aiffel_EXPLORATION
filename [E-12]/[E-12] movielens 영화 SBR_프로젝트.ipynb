{
 "cells": [
  {
   "cell_type": "markdown",
   "id": "bright-collectible",
   "metadata": {},
   "source": [
    "\n",
    "\n",
    "### 1. 데이터 불러오기"
   ]
  },
  {
   "cell_type": "markdown",
   "id": "marine-mongolia",
   "metadata": {},
   "source": [
    "#### 1. 터미널"
   ]
  },
  {
   "cell_type": "code",
   "execution_count": null,
   "id": "traditional-bride",
   "metadata": {},
   "outputs": [],
   "source": [
    "#1) 데이터 확인\n",
    "!ls -l ~/data\n",
    "\n",
    "#2) 프로젝트 폴더 생성\n",
    "! mkdir -p ~/aiffel/yoochoose\n",
    "\n",
    "#3) 프로젝트 폴더로 데이터 폴더 링크 연결\n",
    "! ln -s ~/data/* ~/aiffel/yoochoose/data"
   ]
  },
  {
   "cell_type": "markdown",
   "id": "acknowledged-hollywood",
   "metadata": {},
   "source": [
    "#### 2. 데이터 불러오기"
   ]
  },
  {
   "cell_type": "code",
   "execution_count": 1,
   "id": "introductory-outside",
   "metadata": {},
   "outputs": [
    {
     "data": {
      "text/html": [
       "<div>\n",
       "<style scoped>\n",
       "    .dataframe tbody tr th:only-of-type {\n",
       "        vertical-align: middle;\n",
       "    }\n",
       "\n",
       "    .dataframe tbody tr th {\n",
       "        vertical-align: top;\n",
       "    }\n",
       "\n",
       "    .dataframe thead th {\n",
       "        text-align: right;\n",
       "    }\n",
       "</style>\n",
       "<table border=\"1\" class=\"dataframe\">\n",
       "  <thead>\n",
       "    <tr style=\"text-align: right;\">\n",
       "      <th></th>\n",
       "      <th>UserId</th>\n",
       "      <th>ItemId</th>\n",
       "      <th>Rating</th>\n",
       "      <th>Time</th>\n",
       "    </tr>\n",
       "  </thead>\n",
       "  <tbody>\n",
       "    <tr>\n",
       "      <th>31</th>\n",
       "      <td>1</td>\n",
       "      <td>3186</td>\n",
       "      <td>4</td>\n",
       "      <td>978300019</td>\n",
       "    </tr>\n",
       "    <tr>\n",
       "      <th>22</th>\n",
       "      <td>1</td>\n",
       "      <td>1270</td>\n",
       "      <td>5</td>\n",
       "      <td>978300055</td>\n",
       "    </tr>\n",
       "    <tr>\n",
       "      <th>27</th>\n",
       "      <td>1</td>\n",
       "      <td>1721</td>\n",
       "      <td>4</td>\n",
       "      <td>978300055</td>\n",
       "    </tr>\n",
       "    <tr>\n",
       "      <th>37</th>\n",
       "      <td>1</td>\n",
       "      <td>1022</td>\n",
       "      <td>5</td>\n",
       "      <td>978300055</td>\n",
       "    </tr>\n",
       "    <tr>\n",
       "      <th>24</th>\n",
       "      <td>1</td>\n",
       "      <td>2340</td>\n",
       "      <td>3</td>\n",
       "      <td>978300103</td>\n",
       "    </tr>\n",
       "    <tr>\n",
       "      <th>...</th>\n",
       "      <td>...</td>\n",
       "      <td>...</td>\n",
       "      <td>...</td>\n",
       "      <td>...</td>\n",
       "    </tr>\n",
       "    <tr>\n",
       "      <th>1000019</th>\n",
       "      <td>6040</td>\n",
       "      <td>2917</td>\n",
       "      <td>4</td>\n",
       "      <td>997454429</td>\n",
       "    </tr>\n",
       "    <tr>\n",
       "      <th>999988</th>\n",
       "      <td>6040</td>\n",
       "      <td>1921</td>\n",
       "      <td>4</td>\n",
       "      <td>997454464</td>\n",
       "    </tr>\n",
       "    <tr>\n",
       "      <th>1000172</th>\n",
       "      <td>6040</td>\n",
       "      <td>1784</td>\n",
       "      <td>3</td>\n",
       "      <td>997454464</td>\n",
       "    </tr>\n",
       "    <tr>\n",
       "      <th>1000167</th>\n",
       "      <td>6040</td>\n",
       "      <td>161</td>\n",
       "      <td>3</td>\n",
       "      <td>997454486</td>\n",
       "    </tr>\n",
       "    <tr>\n",
       "      <th>1000042</th>\n",
       "      <td>6040</td>\n",
       "      <td>1221</td>\n",
       "      <td>4</td>\n",
       "      <td>998315055</td>\n",
       "    </tr>\n",
       "  </tbody>\n",
       "</table>\n",
       "<p>1000209 rows × 4 columns</p>\n",
       "</div>"
      ],
      "text/plain": [
       "         UserId  ItemId  Rating       Time\n",
       "31            1    3186       4  978300019\n",
       "22            1    1270       5  978300055\n",
       "27            1    1721       4  978300055\n",
       "37            1    1022       5  978300055\n",
       "24            1    2340       3  978300103\n",
       "...         ...     ...     ...        ...\n",
       "1000019    6040    2917       4  997454429\n",
       "999988     6040    1921       4  997454464\n",
       "1000172    6040    1784       3  997454464\n",
       "1000167    6040     161       3  997454486\n",
       "1000042    6040    1221       4  998315055\n",
       "\n",
       "[1000209 rows x 4 columns]"
      ]
     },
     "execution_count": 1,
     "metadata": {},
     "output_type": "execute_result"
    }
   ],
   "source": [
    "import os\n",
    "import datetime as dt\n",
    "from pathlib import Path\n",
    "\n",
    "import numpy as np\n",
    "import pandas as pd\n",
    "import warnings\n",
    "warnings.filterwarnings('ignore')\n",
    "\n",
    "data_path = Path(os.getenv('HOME')+'/aiffel/yoochoose/data/') \n",
    "train_path = data_path / 'ratings.dat'\n",
    "\n",
    "def load_data(data_path: Path, nrows=None):\n",
    "    data = pd.read_csv(data_path, sep='::', header=None, usecols=[0, 1, 2, 3], dtype={0: np.int32, 1: np.int32, 2: np.int32}, nrows=nrows)\n",
    "    data.columns = ['UserId', 'ItemId', 'Rating', 'Time']\n",
    "    return data\n",
    "\n",
    "data = load_data(train_path, None)\n",
    "# data를 id와 시간 순서로 정렬\n",
    "data.sort_values(['UserId', 'Time'], inplace=True)  \n",
    "\n",
    "data"
   ]
  },
  {
   "cell_type": "markdown",
   "id": "yellow-macro",
   "metadata": {},
   "source": [
    "1) SessionID 대신 UserID 존재  \n",
    "  - 명확한 1회 세션의 SessionID를 포함하지 않고 있음  \n",
    "  - UserID가 SessionID 역할을 해야 함  \n",
    "  - UserID, SessionID 다른점  \n",
    "    같은 id면 다른 시간이여도 (몇년의 차이가 있더라도) 하나의 취향으로 묶임  \n",
    "    session은 같은 시간대 + 같은 id를 묶어준것  \n",
    "  \n",
    "  \n",
    "2) Ratin  \n",
    "  - 평점  \n",
    "  - 직전에 봤던 영화가 맘에 들었는지 여부가 \n",
    "    비슷한 영화를 더 고르게 하는 것과 상관이 있을 수도 있음  \n",
    "  - Rating이 낮은 데이터를 어떻게 처리할지 고민해봐야함  \n",
    "\n",
    "\n",
    "\n",
    "3) Time   \n",
    "  - UTC time 가 포함되어  \n",
    "    1970년 1월 1일부터 경과된 초단위 시간이 기재되어 있습니다."
   ]
  },
  {
   "cell_type": "markdown",
   "id": "outer-patent",
   "metadata": {},
   "source": [
    "### 3. 데이터 전처리  \n",
    "#### 1. 필요한 컬럼만 데이터에 존재 함  \n",
    "  UserId, ItemId , Rating , Time  \n",
    "  \n",
    "  \n",
    "#### 2. Time 시간순으로 정렬되어 있음  \n",
    "\n",
    "#### 3. UserId, ItemId 컬럼 수 확인하기"
   ]
  },
  {
   "cell_type": "code",
   "execution_count": 2,
   "id": "civilian-nelson",
   "metadata": {},
   "outputs": [
    {
     "data": {
      "text/plain": [
       "(6040, 3706)"
      ]
     },
     "execution_count": 2,
     "metadata": {},
     "output_type": "execute_result"
    }
   ],
   "source": [
    "data['UserId'].nunique(), data['ItemId'].nunique()"
   ]
  },
  {
   "cell_type": "markdown",
   "id": "liberal-credits",
   "metadata": {},
   "source": [
    "#### 4. 각 유저 (UserId) 의 대략적인 클릭 데이터 살펴보기"
   ]
  },
  {
   "cell_type": "code",
   "execution_count": 3,
   "id": "descending-nursing",
   "metadata": {},
   "outputs": [
    {
     "data": {
      "text/plain": [
       "UserId\n",
       "1        53\n",
       "2       129\n",
       "3        51\n",
       "4        21\n",
       "5       198\n",
       "       ... \n",
       "6036    888\n",
       "6037    202\n",
       "6038     20\n",
       "6039    123\n",
       "6040    341\n",
       "Length: 6040, dtype: int64"
      ]
     },
     "execution_count": 3,
     "metadata": {},
     "output_type": "execute_result"
    }
   ],
   "source": [
    "#len() : 리스트 길이 알려줌, 중첩 리스트 경우, 가장 바깥 리스트 길이 알려줌  \n",
    "#size() : 요소의 개수 알려줌. 3X4 배열의 사이즈= 12로 나옴\n",
    "\n",
    "#user_length : 한 유저가 갖는 row의 개수\n",
    "#해당 유저가 몇번의 액션을 취했는지(몇개의 상품정보를 클릭했는지)의 의미\n",
    "user_length = data.groupby('UserId').size()\n",
    "user_length"
   ]
  },
  {
   "cell_type": "markdown",
   "id": "generous-restoration",
   "metadata": {},
   "source": [
    "## 중앙값이 가지는 의미는?"
   ]
  },
  {
   "cell_type": "code",
   "execution_count": 4,
   "id": "adolescent-instrumentation",
   "metadata": {},
   "outputs": [
    {
     "data": {
      "text/plain": [
       "(96.0, 165.5975165562914)"
      ]
     },
     "execution_count": 4,
     "metadata": {},
     "output_type": "execute_result"
    }
   ],
   "source": [
    "#유저들이 남기는 리뷰 개수의 중앙값, 평균값\n",
    "user_length.median(), user_length.mean()"
   ]
  },
  {
   "cell_type": "code",
   "execution_count": 5,
   "id": "fossil-greensboro",
   "metadata": {},
   "outputs": [
    {
     "data": {
      "text/plain": [
       "(20, 2314)"
      ]
     },
     "execution_count": 5,
     "metadata": {},
     "output_type": "execute_result"
    }
   ],
   "source": [
    "#유저들이 남기는 리뷰 개수의 최소값, 최대값\n",
    "user_length.min(), user_length.max()"
   ]
  },
  {
   "cell_type": "code",
   "execution_count": 6,
   "id": "veterinary-vampire",
   "metadata": {},
   "outputs": [
    {
     "data": {
      "text/plain": [
       "1343.181000000005"
      ]
     },
     "execution_count": 6,
     "metadata": {},
     "output_type": "execute_result"
    }
   ],
   "source": [
    "#유저들이 남기는 리뷰 개수의 백분율 구하기\n",
    "#quantile: 오름차순 정렬시, 최소값0 최대값100으로 백분율로 나타낸 값\n",
    "user_length.quantile(0.999)"
   ]
  },
  {
   "cell_type": "markdown",
   "id": "prompt-negative",
   "metadata": {},
   "source": [
    "* 유저들이 남기는 평균 리뷰 수 : 165 개  \n",
    "* 99퍼= 대부분 유저들은 1343개의 리뷰를 남김  "
   ]
  },
  {
   "cell_type": "code",
   "execution_count": 7,
   "id": "dramatic-onion",
   "metadata": {},
   "outputs": [
    {
     "data": {
      "text/html": [
       "<div>\n",
       "<style scoped>\n",
       "    .dataframe tbody tr th:only-of-type {\n",
       "        vertical-align: middle;\n",
       "    }\n",
       "\n",
       "    .dataframe tbody tr th {\n",
       "        vertical-align: top;\n",
       "    }\n",
       "\n",
       "    .dataframe thead th {\n",
       "        text-align: right;\n",
       "    }\n",
       "</style>\n",
       "<table border=\"1\" class=\"dataframe\">\n",
       "  <thead>\n",
       "    <tr style=\"text-align: right;\">\n",
       "      <th></th>\n",
       "      <th>UserId</th>\n",
       "      <th>ItemId</th>\n",
       "      <th>Rating</th>\n",
       "      <th>Time</th>\n",
       "    </tr>\n",
       "  </thead>\n",
       "  <tbody>\n",
       "    <tr>\n",
       "      <th>696969</th>\n",
       "      <td>4169</td>\n",
       "      <td>1268</td>\n",
       "      <td>5</td>\n",
       "      <td>965333392</td>\n",
       "    </tr>\n",
       "    <tr>\n",
       "      <th>697168</th>\n",
       "      <td>4169</td>\n",
       "      <td>2617</td>\n",
       "      <td>4</td>\n",
       "      <td>965333392</td>\n",
       "    </tr>\n",
       "    <tr>\n",
       "      <th>697185</th>\n",
       "      <td>4169</td>\n",
       "      <td>2628</td>\n",
       "      <td>4</td>\n",
       "      <td>965333392</td>\n",
       "    </tr>\n",
       "    <tr>\n",
       "      <th>697219</th>\n",
       "      <td>4169</td>\n",
       "      <td>2653</td>\n",
       "      <td>4</td>\n",
       "      <td>965333392</td>\n",
       "    </tr>\n",
       "    <tr>\n",
       "      <th>697275</th>\n",
       "      <td>4169</td>\n",
       "      <td>423</td>\n",
       "      <td>3</td>\n",
       "      <td>965333392</td>\n",
       "    </tr>\n",
       "    <tr>\n",
       "      <th>...</th>\n",
       "      <td>...</td>\n",
       "      <td>...</td>\n",
       "      <td>...</td>\n",
       "      <td>...</td>\n",
       "    </tr>\n",
       "    <tr>\n",
       "      <th>697882</th>\n",
       "      <td>4169</td>\n",
       "      <td>3754</td>\n",
       "      <td>2</td>\n",
       "      <td>1024174347</td>\n",
       "    </tr>\n",
       "    <tr>\n",
       "      <th>695702</th>\n",
       "      <td>4169</td>\n",
       "      <td>1413</td>\n",
       "      <td>3</td>\n",
       "      <td>1024175031</td>\n",
       "    </tr>\n",
       "    <tr>\n",
       "      <th>697358</th>\n",
       "      <td>4169</td>\n",
       "      <td>494</td>\n",
       "      <td>4</td>\n",
       "      <td>1024175760</td>\n",
       "    </tr>\n",
       "    <tr>\n",
       "      <th>695945</th>\n",
       "      <td>4169</td>\n",
       "      <td>1804</td>\n",
       "      <td>2</td>\n",
       "      <td>1024175783</td>\n",
       "    </tr>\n",
       "    <tr>\n",
       "      <th>696446</th>\n",
       "      <td>4169</td>\n",
       "      <td>1548</td>\n",
       "      <td>3</td>\n",
       "      <td>1024176337</td>\n",
       "    </tr>\n",
       "  </tbody>\n",
       "</table>\n",
       "<p>2314 rows × 4 columns</p>\n",
       "</div>"
      ],
      "text/plain": [
       "        UserId  ItemId  Rating        Time\n",
       "696969    4169    1268       5   965333392\n",
       "697168    4169    2617       4   965333392\n",
       "697185    4169    2628       4   965333392\n",
       "697219    4169    2653       4   965333392\n",
       "697275    4169     423       3   965333392\n",
       "...        ...     ...     ...         ...\n",
       "697882    4169    3754       2  1024174347\n",
       "695702    4169    1413       3  1024175031\n",
       "697358    4169     494       4  1024175760\n",
       "695945    4169    1804       2  1024175783\n",
       "696446    4169    1548       3  1024176337\n",
       "\n",
       "[2314 rows x 4 columns]"
      ]
     },
     "execution_count": 7,
     "metadata": {},
     "output_type": "execute_result"
    }
   ],
   "source": [
    "#최대 클릭 데이터 갖는 유저 확인\n",
    "long_user = user_length[user_length==2314].index[0]\n",
    "data[data['UserId']==long_user]"
   ]
  },
  {
   "cell_type": "markdown",
   "id": "deluxe-liabilities",
   "metadata": {},
   "source": [
    "* 같은 유저이긴 하지만 너무 다른 시간대까지 포함되어  \n",
    "  같은유저 + 같은 시간대를 반영한 Session 정의를 해야함  \n",
    "  -> SessionId"
   ]
  },
  {
   "cell_type": "markdown",
   "id": "stylish-vault",
   "metadata": {},
   "source": [
    "#### 5. SessionId 포함한 data 생성\n",
    "너무 오류가 나서,, 우수노드 참고"
   ]
  },
  {
   "cell_type": "markdown",
   "id": "restricted-purse",
   "metadata": {},
   "source": [
    "##### 1) 인덱스 만들기\n",
    "같은 UserId, Time 으로 인덱스 생성"
   ]
  },
  {
   "cell_type": "code",
   "execution_count": 8,
   "id": "published-gallery",
   "metadata": {},
   "outputs": [
    {
     "data": {
      "text/html": [
       "<div>\n",
       "<style scoped>\n",
       "    .dataframe tbody tr th:only-of-type {\n",
       "        vertical-align: middle;\n",
       "    }\n",
       "\n",
       "    .dataframe tbody tr th {\n",
       "        vertical-align: top;\n",
       "    }\n",
       "\n",
       "    .dataframe thead th {\n",
       "        text-align: right;\n",
       "    }\n",
       "</style>\n",
       "<table border=\"1\" class=\"dataframe\">\n",
       "  <thead>\n",
       "    <tr style=\"text-align: right;\">\n",
       "      <th></th>\n",
       "      <th>index</th>\n",
       "      <th>UserId</th>\n",
       "      <th>Time</th>\n",
       "      <th>ItemId</th>\n",
       "    </tr>\n",
       "  </thead>\n",
       "  <tbody>\n",
       "    <tr>\n",
       "      <th>0</th>\n",
       "      <td>0</td>\n",
       "      <td>1</td>\n",
       "      <td>978300019</td>\n",
       "      <td>1</td>\n",
       "    </tr>\n",
       "    <tr>\n",
       "      <th>1</th>\n",
       "      <td>1</td>\n",
       "      <td>1</td>\n",
       "      <td>978300055</td>\n",
       "      <td>3</td>\n",
       "    </tr>\n",
       "    <tr>\n",
       "      <th>2</th>\n",
       "      <td>2</td>\n",
       "      <td>1</td>\n",
       "      <td>978300103</td>\n",
       "      <td>1</td>\n",
       "    </tr>\n",
       "    <tr>\n",
       "      <th>3</th>\n",
       "      <td>3</td>\n",
       "      <td>1</td>\n",
       "      <td>978300172</td>\n",
       "      <td>1</td>\n",
       "    </tr>\n",
       "    <tr>\n",
       "      <th>4</th>\n",
       "      <td>4</td>\n",
       "      <td>1</td>\n",
       "      <td>978300275</td>\n",
       "      <td>1</td>\n",
       "    </tr>\n",
       "    <tr>\n",
       "      <th>...</th>\n",
       "      <td>...</td>\n",
       "      <td>...</td>\n",
       "      <td>...</td>\n",
       "      <td>...</td>\n",
       "    </tr>\n",
       "    <tr>\n",
       "      <th>471158</th>\n",
       "      <td>471158</td>\n",
       "      <td>6040</td>\n",
       "      <td>997454398</td>\n",
       "      <td>1</td>\n",
       "    </tr>\n",
       "    <tr>\n",
       "      <th>471159</th>\n",
       "      <td>471159</td>\n",
       "      <td>6040</td>\n",
       "      <td>997454429</td>\n",
       "      <td>1</td>\n",
       "    </tr>\n",
       "    <tr>\n",
       "      <th>471160</th>\n",
       "      <td>471160</td>\n",
       "      <td>6040</td>\n",
       "      <td>997454464</td>\n",
       "      <td>2</td>\n",
       "    </tr>\n",
       "    <tr>\n",
       "      <th>471161</th>\n",
       "      <td>471161</td>\n",
       "      <td>6040</td>\n",
       "      <td>997454486</td>\n",
       "      <td>1</td>\n",
       "    </tr>\n",
       "    <tr>\n",
       "      <th>471162</th>\n",
       "      <td>471162</td>\n",
       "      <td>6040</td>\n",
       "      <td>998315055</td>\n",
       "      <td>1</td>\n",
       "    </tr>\n",
       "  </tbody>\n",
       "</table>\n",
       "<p>471163 rows × 4 columns</p>\n",
       "</div>"
      ],
      "text/plain": [
       "         index  UserId       Time  ItemId\n",
       "0            0       1  978300019       1\n",
       "1            1       1  978300055       3\n",
       "2            2       1  978300103       1\n",
       "3            3       1  978300172       1\n",
       "4            4       1  978300275       1\n",
       "...        ...     ...        ...     ...\n",
       "471158  471158    6040  997454398       1\n",
       "471159  471159    6040  997454429       1\n",
       "471160  471160    6040  997454464       2\n",
       "471161  471161    6040  997454486       1\n",
       "471162  471162    6040  998315055       1\n",
       "\n",
       "[471163 rows x 4 columns]"
      ]
     },
     "execution_count": 8,
     "metadata": {},
     "output_type": "execute_result"
    }
   ],
   "source": [
    "df = data.groupby(['UserId', 'Time'])['ItemId'].count().reset_index()\n",
    "#inplace=True : 메소드 실행 후 적용된 데이터 프레임으로 반환 \n",
    "df.reset_index(inplace=True)\n",
    "df"
   ]
  },
  {
   "cell_type": "markdown",
   "id": "based-serbia",
   "metadata": {},
   "source": [
    "##### 2) 위에서 정의한 SessionID 컬럼 추가"
   ]
  },
  {
   "cell_type": "code",
   "execution_count": 9,
   "id": "spatial-weapon",
   "metadata": {},
   "outputs": [
    {
     "data": {
      "text/html": [
       "<div>\n",
       "<style scoped>\n",
       "    .dataframe tbody tr th:only-of-type {\n",
       "        vertical-align: middle;\n",
       "    }\n",
       "\n",
       "    .dataframe tbody tr th {\n",
       "        vertical-align: top;\n",
       "    }\n",
       "\n",
       "    .dataframe thead th {\n",
       "        text-align: right;\n",
       "    }\n",
       "</style>\n",
       "<table border=\"1\" class=\"dataframe\">\n",
       "  <thead>\n",
       "    <tr style=\"text-align: right;\">\n",
       "      <th></th>\n",
       "      <th>UserId</th>\n",
       "      <th>ItemId</th>\n",
       "      <th>Rating</th>\n",
       "      <th>Time</th>\n",
       "      <th>SessionId</th>\n",
       "    </tr>\n",
       "  </thead>\n",
       "  <tbody>\n",
       "    <tr>\n",
       "      <th>0</th>\n",
       "      <td>1</td>\n",
       "      <td>3186</td>\n",
       "      <td>4</td>\n",
       "      <td>978300019</td>\n",
       "      <td>0</td>\n",
       "    </tr>\n",
       "    <tr>\n",
       "      <th>1</th>\n",
       "      <td>1</td>\n",
       "      <td>1270</td>\n",
       "      <td>5</td>\n",
       "      <td>978300055</td>\n",
       "      <td>1</td>\n",
       "    </tr>\n",
       "    <tr>\n",
       "      <th>2</th>\n",
       "      <td>1</td>\n",
       "      <td>1721</td>\n",
       "      <td>4</td>\n",
       "      <td>978300055</td>\n",
       "      <td>1</td>\n",
       "    </tr>\n",
       "    <tr>\n",
       "      <th>3</th>\n",
       "      <td>1</td>\n",
       "      <td>1022</td>\n",
       "      <td>5</td>\n",
       "      <td>978300055</td>\n",
       "      <td>1</td>\n",
       "    </tr>\n",
       "    <tr>\n",
       "      <th>4</th>\n",
       "      <td>1</td>\n",
       "      <td>2340</td>\n",
       "      <td>3</td>\n",
       "      <td>978300103</td>\n",
       "      <td>2</td>\n",
       "    </tr>\n",
       "    <tr>\n",
       "      <th>...</th>\n",
       "      <td>...</td>\n",
       "      <td>...</td>\n",
       "      <td>...</td>\n",
       "      <td>...</td>\n",
       "      <td>...</td>\n",
       "    </tr>\n",
       "    <tr>\n",
       "      <th>1000204</th>\n",
       "      <td>6040</td>\n",
       "      <td>2917</td>\n",
       "      <td>4</td>\n",
       "      <td>997454429</td>\n",
       "      <td>471159</td>\n",
       "    </tr>\n",
       "    <tr>\n",
       "      <th>1000205</th>\n",
       "      <td>6040</td>\n",
       "      <td>1921</td>\n",
       "      <td>4</td>\n",
       "      <td>997454464</td>\n",
       "      <td>471160</td>\n",
       "    </tr>\n",
       "    <tr>\n",
       "      <th>1000206</th>\n",
       "      <td>6040</td>\n",
       "      <td>1784</td>\n",
       "      <td>3</td>\n",
       "      <td>997454464</td>\n",
       "      <td>471160</td>\n",
       "    </tr>\n",
       "    <tr>\n",
       "      <th>1000207</th>\n",
       "      <td>6040</td>\n",
       "      <td>161</td>\n",
       "      <td>3</td>\n",
       "      <td>997454486</td>\n",
       "      <td>471161</td>\n",
       "    </tr>\n",
       "    <tr>\n",
       "      <th>1000208</th>\n",
       "      <td>6040</td>\n",
       "      <td>1221</td>\n",
       "      <td>4</td>\n",
       "      <td>998315055</td>\n",
       "      <td>471162</td>\n",
       "    </tr>\n",
       "  </tbody>\n",
       "</table>\n",
       "<p>1000209 rows × 5 columns</p>\n",
       "</div>"
      ],
      "text/plain": [
       "         UserId  ItemId  Rating       Time  SessionId\n",
       "0             1    3186       4  978300019          0\n",
       "1             1    1270       5  978300055          1\n",
       "2             1    1721       4  978300055          1\n",
       "3             1    1022       5  978300055          1\n",
       "4             1    2340       3  978300103          2\n",
       "...         ...     ...     ...        ...        ...\n",
       "1000204    6040    2917       4  997454429     471159\n",
       "1000205    6040    1921       4  997454464     471160\n",
       "1000206    6040    1784       3  997454464     471160\n",
       "1000207    6040     161       3  997454486     471161\n",
       "1000208    6040    1221       4  998315055     471162\n",
       "\n",
       "[1000209 rows x 5 columns]"
      ]
     },
     "execution_count": 9,
     "metadata": {},
     "output_type": "execute_result"
    }
   ],
   "source": [
    "data = pd.merge(data, df, on=['UserId', 'Time'])\n",
    "data.drop(columns='ItemId_y', inplace=True)\n",
    "data.columns = ['UserId', 'ItemId', 'Rating', 'Time', 'SessionId']\n",
    "data"
   ]
  },
  {
   "cell_type": "markdown",
   "id": "attended-scheduling",
   "metadata": {},
   "source": [
    "#### 6. SessionId_length\n",
    "\n",
    "##### 1) SessionId 의 대략적인 평가한 영화 개수 살펴보기"
   ]
  },
  {
   "cell_type": "code",
   "execution_count": 10,
   "id": "liable-enclosure",
   "metadata": {},
   "outputs": [
    {
     "data": {
      "text/plain": [
       "SessionId\n",
       "0         1\n",
       "1         3\n",
       "2         1\n",
       "3         1\n",
       "4         1\n",
       "         ..\n",
       "471158    1\n",
       "471159    1\n",
       "471160    2\n",
       "471161    1\n",
       "471162    1\n",
       "Length: 471163, dtype: int64"
      ]
     },
     "execution_count": 10,
     "metadata": {},
     "output_type": "execute_result"
    }
   ],
   "source": [
    "#len() : 리스트 길이 알려줌, 중첩 리스트 경우, 가장 바깥 리스트 길이 알려줌  \n",
    "#size() : 요소의 개수 알려줌. 3X4 배열의 사이즈= 12로 나옴\n",
    "\n",
    "#session_length : 같은 SessionId를 갖는 row의 개수\n",
    "#하나의 세션이 몇개의 영화를 평가했는가에 대한 정보를 담고 있음  \n",
    "session_length = data.groupby('SessionId').size()\n",
    "session_length"
   ]
  },
  {
   "cell_type": "code",
   "execution_count": 11,
   "id": "comfortable-locator",
   "metadata": {},
   "outputs": [
    {
     "data": {
      "text/plain": [
       "(2.0, 2.1228513274599234)"
      ]
     },
     "execution_count": 11,
     "metadata": {},
     "output_type": "execute_result"
    }
   ],
   "source": [
    "#한 세션당 평가한 영화 개수의 중앙값, 평균 구하기\n",
    "session_length.median(), session_length.mean()"
   ]
  },
  {
   "cell_type": "code",
   "execution_count": 12,
   "id": "national-monster",
   "metadata": {},
   "outputs": [
    {
     "data": {
      "text/plain": [
       "(1, 30)"
      ]
     },
     "execution_count": 12,
     "metadata": {},
     "output_type": "execute_result"
    }
   ],
   "source": [
    "#한 세션당 평가한 영화 개수의 최소, 최대값 구하기\n",
    "session_length.min(), session_length.max()"
   ]
  },
  {
   "cell_type": "code",
   "execution_count": 13,
   "id": "looking-operations",
   "metadata": {},
   "outputs": [
    {
     "data": {
      "text/plain": [
       "10.0"
      ]
     },
     "execution_count": 13,
     "metadata": {},
     "output_type": "execute_result"
    }
   ],
   "source": [
    "#한 세션당 평가한 영화 개수의 백분율 구하기\n",
    "#quantile: 오름차순 정렬시, 최소값0 최대값100으로 백분율로 나타낸 값\n",
    "session_length.quantile(0.999)"
   ]
  },
  {
   "cell_type": "markdown",
   "id": "thrown-wedding",
   "metadata": {},
   "source": [
    "* UserId를 한 세션으로 봤을 때와 달리  \n",
    "  조금더 합리적인 데이터 결과가 확인됨  \n",
    "  \n",
    "\n",
    "* 한 SessionId 당 평가한 평균 영화 개수 : 2  \n",
    "* 대부분(99%)은 10개 정도의 영화를 평가함  \n",
    "  10개 초과 ~ 30개 (최대값) 이하는 이상치로 판단됨  "
   ]
  },
  {
   "cell_type": "code",
   "execution_count": 14,
   "id": "sought-staff",
   "metadata": {},
   "outputs": [
    {
     "data": {
      "text/html": [
       "<div>\n",
       "<style scoped>\n",
       "    .dataframe tbody tr th:only-of-type {\n",
       "        vertical-align: middle;\n",
       "    }\n",
       "\n",
       "    .dataframe tbody tr th {\n",
       "        vertical-align: top;\n",
       "    }\n",
       "\n",
       "    .dataframe thead th {\n",
       "        text-align: right;\n",
       "    }\n",
       "</style>\n",
       "<table border=\"1\" class=\"dataframe\">\n",
       "  <thead>\n",
       "    <tr style=\"text-align: right;\">\n",
       "      <th></th>\n",
       "      <th>UserId</th>\n",
       "      <th>ItemId</th>\n",
       "      <th>Rating</th>\n",
       "      <th>Time</th>\n",
       "      <th>SessionId</th>\n",
       "    </tr>\n",
       "  </thead>\n",
       "  <tbody>\n",
       "    <tr>\n",
       "      <th>112347</th>\n",
       "      <td>731</td>\n",
       "      <td>3044</td>\n",
       "      <td>4</td>\n",
       "      <td>975528402</td>\n",
       "      <td>55117</td>\n",
       "    </tr>\n",
       "    <tr>\n",
       "      <th>112348</th>\n",
       "      <td>731</td>\n",
       "      <td>1455</td>\n",
       "      <td>3</td>\n",
       "      <td>975528402</td>\n",
       "      <td>55117</td>\n",
       "    </tr>\n",
       "    <tr>\n",
       "      <th>112349</th>\n",
       "      <td>731</td>\n",
       "      <td>1639</td>\n",
       "      <td>5</td>\n",
       "      <td>975528402</td>\n",
       "      <td>55117</td>\n",
       "    </tr>\n",
       "    <tr>\n",
       "      <th>112350</th>\n",
       "      <td>731</td>\n",
       "      <td>3244</td>\n",
       "      <td>4</td>\n",
       "      <td>975528402</td>\n",
       "      <td>55117</td>\n",
       "    </tr>\n",
       "    <tr>\n",
       "      <th>112351</th>\n",
       "      <td>731</td>\n",
       "      <td>1656</td>\n",
       "      <td>2</td>\n",
       "      <td>975528402</td>\n",
       "      <td>55117</td>\n",
       "    </tr>\n",
       "    <tr>\n",
       "      <th>112352</th>\n",
       "      <td>731</td>\n",
       "      <td>3426</td>\n",
       "      <td>4</td>\n",
       "      <td>975528402</td>\n",
       "      <td>55117</td>\n",
       "    </tr>\n",
       "    <tr>\n",
       "      <th>112353</th>\n",
       "      <td>731</td>\n",
       "      <td>1829</td>\n",
       "      <td>2</td>\n",
       "      <td>975528402</td>\n",
       "      <td>55117</td>\n",
       "    </tr>\n",
       "    <tr>\n",
       "      <th>112354</th>\n",
       "      <td>731</td>\n",
       "      <td>2675</td>\n",
       "      <td>4</td>\n",
       "      <td>975528402</td>\n",
       "      <td>55117</td>\n",
       "    </tr>\n",
       "    <tr>\n",
       "      <th>112355</th>\n",
       "      <td>731</td>\n",
       "      <td>802</td>\n",
       "      <td>3</td>\n",
       "      <td>975528402</td>\n",
       "      <td>55117</td>\n",
       "    </tr>\n",
       "    <tr>\n",
       "      <th>112356</th>\n",
       "      <td>731</td>\n",
       "      <td>803</td>\n",
       "      <td>5</td>\n",
       "      <td>975528402</td>\n",
       "      <td>55117</td>\n",
       "    </tr>\n",
       "    <tr>\n",
       "      <th>112357</th>\n",
       "      <td>731</td>\n",
       "      <td>1357</td>\n",
       "      <td>4</td>\n",
       "      <td>975528402</td>\n",
       "      <td>55117</td>\n",
       "    </tr>\n",
       "    <tr>\n",
       "      <th>112358</th>\n",
       "      <td>731</td>\n",
       "      <td>838</td>\n",
       "      <td>5</td>\n",
       "      <td>975528402</td>\n",
       "      <td>55117</td>\n",
       "    </tr>\n",
       "    <tr>\n",
       "      <th>112359</th>\n",
       "      <td>731</td>\n",
       "      <td>2171</td>\n",
       "      <td>4</td>\n",
       "      <td>975528402</td>\n",
       "      <td>55117</td>\n",
       "    </tr>\n",
       "    <tr>\n",
       "      <th>112360</th>\n",
       "      <td>731</td>\n",
       "      <td>852</td>\n",
       "      <td>2</td>\n",
       "      <td>975528402</td>\n",
       "      <td>55117</td>\n",
       "    </tr>\n",
       "    <tr>\n",
       "      <th>112361</th>\n",
       "      <td>731</td>\n",
       "      <td>2331</td>\n",
       "      <td>4</td>\n",
       "      <td>975528402</td>\n",
       "      <td>55117</td>\n",
       "    </tr>\n",
       "    <tr>\n",
       "      <th>112362</th>\n",
       "      <td>731</td>\n",
       "      <td>1535</td>\n",
       "      <td>3</td>\n",
       "      <td>975528402</td>\n",
       "      <td>55117</td>\n",
       "    </tr>\n",
       "    <tr>\n",
       "      <th>112363</th>\n",
       "      <td>731</td>\n",
       "      <td>1393</td>\n",
       "      <td>2</td>\n",
       "      <td>975528402</td>\n",
       "      <td>55117</td>\n",
       "    </tr>\n",
       "    <tr>\n",
       "      <th>112364</th>\n",
       "      <td>731</td>\n",
       "      <td>1564</td>\n",
       "      <td>4</td>\n",
       "      <td>975528402</td>\n",
       "      <td>55117</td>\n",
       "    </tr>\n",
       "    <tr>\n",
       "      <th>112365</th>\n",
       "      <td>731</td>\n",
       "      <td>892</td>\n",
       "      <td>5</td>\n",
       "      <td>975528402</td>\n",
       "      <td>55117</td>\n",
       "    </tr>\n",
       "    <tr>\n",
       "      <th>112366</th>\n",
       "      <td>731</td>\n",
       "      <td>151</td>\n",
       "      <td>3</td>\n",
       "      <td>975528402</td>\n",
       "      <td>55117</td>\n",
       "    </tr>\n",
       "    <tr>\n",
       "      <th>112367</th>\n",
       "      <td>731</td>\n",
       "      <td>2715</td>\n",
       "      <td>2</td>\n",
       "      <td>975528402</td>\n",
       "      <td>55117</td>\n",
       "    </tr>\n",
       "    <tr>\n",
       "      <th>112368</th>\n",
       "      <td>731</td>\n",
       "      <td>2570</td>\n",
       "      <td>2</td>\n",
       "      <td>975528402</td>\n",
       "      <td>55117</td>\n",
       "    </tr>\n",
       "    <tr>\n",
       "      <th>112369</th>\n",
       "      <td>731</td>\n",
       "      <td>39</td>\n",
       "      <td>5</td>\n",
       "      <td>975528402</td>\n",
       "      <td>55117</td>\n",
       "    </tr>\n",
       "    <tr>\n",
       "      <th>112370</th>\n",
       "      <td>731</td>\n",
       "      <td>2919</td>\n",
       "      <td>4</td>\n",
       "      <td>975528402</td>\n",
       "      <td>55117</td>\n",
       "    </tr>\n",
       "    <tr>\n",
       "      <th>112371</th>\n",
       "      <td>731</td>\n",
       "      <td>49</td>\n",
       "      <td>4</td>\n",
       "      <td>975528402</td>\n",
       "      <td>55117</td>\n",
       "    </tr>\n",
       "    <tr>\n",
       "      <th>112372</th>\n",
       "      <td>731</td>\n",
       "      <td>58</td>\n",
       "      <td>4</td>\n",
       "      <td>975528402</td>\n",
       "      <td>55117</td>\n",
       "    </tr>\n",
       "    <tr>\n",
       "      <th>112373</th>\n",
       "      <td>731</td>\n",
       "      <td>1210</td>\n",
       "      <td>3</td>\n",
       "      <td>975528402</td>\n",
       "      <td>55117</td>\n",
       "    </tr>\n",
       "    <tr>\n",
       "      <th>112374</th>\n",
       "      <td>731</td>\n",
       "      <td>85</td>\n",
       "      <td>4</td>\n",
       "      <td>975528402</td>\n",
       "      <td>55117</td>\n",
       "    </tr>\n",
       "    <tr>\n",
       "      <th>112375</th>\n",
       "      <td>731</td>\n",
       "      <td>2969</td>\n",
       "      <td>4</td>\n",
       "      <td>975528402</td>\n",
       "      <td>55117</td>\n",
       "    </tr>\n",
       "    <tr>\n",
       "      <th>112376</th>\n",
       "      <td>731</td>\n",
       "      <td>1244</td>\n",
       "      <td>5</td>\n",
       "      <td>975528402</td>\n",
       "      <td>55117</td>\n",
       "    </tr>\n",
       "  </tbody>\n",
       "</table>\n",
       "</div>"
      ],
      "text/plain": [
       "        UserId  ItemId  Rating       Time  SessionId\n",
       "112347     731    3044       4  975528402      55117\n",
       "112348     731    1455       3  975528402      55117\n",
       "112349     731    1639       5  975528402      55117\n",
       "112350     731    3244       4  975528402      55117\n",
       "112351     731    1656       2  975528402      55117\n",
       "112352     731    3426       4  975528402      55117\n",
       "112353     731    1829       2  975528402      55117\n",
       "112354     731    2675       4  975528402      55117\n",
       "112355     731     802       3  975528402      55117\n",
       "112356     731     803       5  975528402      55117\n",
       "112357     731    1357       4  975528402      55117\n",
       "112358     731     838       5  975528402      55117\n",
       "112359     731    2171       4  975528402      55117\n",
       "112360     731     852       2  975528402      55117\n",
       "112361     731    2331       4  975528402      55117\n",
       "112362     731    1535       3  975528402      55117\n",
       "112363     731    1393       2  975528402      55117\n",
       "112364     731    1564       4  975528402      55117\n",
       "112365     731     892       5  975528402      55117\n",
       "112366     731     151       3  975528402      55117\n",
       "112367     731    2715       2  975528402      55117\n",
       "112368     731    2570       2  975528402      55117\n",
       "112369     731      39       5  975528402      55117\n",
       "112370     731    2919       4  975528402      55117\n",
       "112371     731      49       4  975528402      55117\n",
       "112372     731      58       4  975528402      55117\n",
       "112373     731    1210       3  975528402      55117\n",
       "112374     731      85       4  975528402      55117\n",
       "112375     731    2969       4  975528402      55117\n",
       "112376     731    1244       5  975528402      55117"
      ]
     },
     "execution_count": 14,
     "metadata": {},
     "output_type": "execute_result"
    }
   ],
   "source": [
    "#영화평가 30개한 세션 확인\n",
    "long_session = session_length[session_length==30].index[0]\n",
    "data[data['SessionId']==long_session]"
   ]
  },
  {
   "cell_type": "markdown",
   "id": "guilty-mistake",
   "metadata": {},
   "source": [
    "* 너무 같은 시간에 많은 리뷰를 남김  \n",
    "  조작된 리뷰는 아닌가? 합리적인 소비행태인가에 대한 판단력 필요함  "
   ]
  },
  {
   "cell_type": "markdown",
   "id": "different-findings",
   "metadata": {},
   "source": [
    "##### 2) SessionId_length 분포 시각화"
   ]
  },
  {
   "cell_type": "code",
   "execution_count": 15,
   "id": "substantial-lightning",
   "metadata": {},
   "outputs": [
    {
     "data": {
      "text/plain": [
       "1    0.480048\n",
       "2    0.713936\n",
       "3    0.847350\n",
       "4    0.919684\n",
       "5    0.958639\n",
       "6    0.979132\n",
       "7    0.989772\n",
       "8    0.994989\n",
       "9    0.997604\n",
       "dtype: float64"
      ]
     },
     "execution_count": 15,
     "metadata": {},
     "output_type": "execute_result"
    }
   ],
   "source": [
    "# 각 리뷰 개수에 해당되는 세션 비율 확인하기\n",
    "length_count = session_length.groupby(session_length).size()\n",
    "length_percent_cumsum = length_count.cumsum() / length_count.sum()\n",
    "length_percent_cumsum_999 = length_percent_cumsum[length_percent_cumsum < 0.999]\n",
    "\n",
    "length_percent_cumsum_999\n",
    "\n",
    "# 99.76(대부분)이 9이하의 리뷰 개수를 가지고 있음"
   ]
  },
  {
   "cell_type": "code",
   "execution_count": 16,
   "id": "behind-handle",
   "metadata": {},
   "outputs": [
    {
     "data": {
      "image/png": "[encoded data removed]",
      "text/plain": [
       "<Figure size 720x360 with 1 Axes>"
      ]
     },
     "metadata": {
      "needs_background": "light"
     },
     "output_type": "display_data"
    }
   ],
   "source": [
    "## 전체 분포 시각화\n",
    "import matplotlib.pyplot as plt\n",
    "\n",
    "plt.figure(figsize=(10, 5))\n",
    "plt.bar(x=length_percent_cumsum.index,\n",
    "        height=length_percent_cumsum, color='green')\n",
    "plt.xticks(length_percent_cumsum.index)\n",
    "plt.yticks(np.arange(0, 1.01, 0.05))\n",
    "plt.title('Cumsum Percentage Entire', size=20)\n",
    "plt.show()"
   ]
  },
  {
   "cell_type": "code",
   "execution_count": 17,
   "id": "exterior-delhi",
   "metadata": {},
   "outputs": [
    {
     "data": {
      "image/png": "[encoded data removed]",
      "text/plain": [
       "<Figure size 1440x720 with 1 Axes>"
      ]
     },
     "metadata": {
      "needs_background": "light"
     },
     "output_type": "display_data"
    }
   ],
   "source": [
    "#9이하의 각 리뷰 개수에 해당되는 세션들의 분포 시각화\n",
    "import matplotlib.pyplot as plt\n",
    "\n",
    "plt.figure(figsize=(20, 10))\n",
    "plt.bar(x=length_percent_cumsum_999.index,\n",
    "        height=length_percent_cumsum_999)\n",
    "plt.xticks(length_percent_cumsum_999.index)\n",
    "plt.yticks(np.arange(0, 1.01, 0.05))\n",
    "plt.title('Cumsum Percentage Until 0.999', size=20)\n",
    "plt.show()"
   ]
  },
  {
   "cell_type": "markdown",
   "id": "canadian-december",
   "metadata": {},
   "source": [
    "#### 7. Session Time\n",
    "* 유저들의 소비 패턴은 금방 변함  \n",
    "  -> 추천시스템을 구축할 때, **최근 소비 트렌드를 학습**하는 것이 중요  \n",
    "\n",
    "\n",
    "* Q2. 추천 시스템에서 다루는 시간 관련 데이터는 다양한 측면이 있음  \n",
    "  데이터 생성 날짜 말고 또 어떤 요소가 있을까?  \n",
    "  \n",
    "  접속하는 시간대(오전, 오후, 새벽), 접속해 있는 시간, 접속하는 요일,  \n",
    "  계절, 마지막 접속 시간, 장바구니에 넣고 지난 시간 등등\n",
    "\n",
    "##### 1) Time 변환  : fromtimestamp()"
   ]
  },
  {
   "cell_type": "code",
   "execution_count": 18,
   "id": "proved-mapping",
   "metadata": {},
   "outputs": [
    {
     "data": {
      "text/html": [
       "<div>\n",
       "<style scoped>\n",
       "    .dataframe tbody tr th:only-of-type {\n",
       "        vertical-align: middle;\n",
       "    }\n",
       "\n",
       "    .dataframe tbody tr th {\n",
       "        vertical-align: top;\n",
       "    }\n",
       "\n",
       "    .dataframe thead th {\n",
       "        text-align: right;\n",
       "    }\n",
       "</style>\n",
       "<table border=\"1\" class=\"dataframe\">\n",
       "  <thead>\n",
       "    <tr style=\"text-align: right;\">\n",
       "      <th></th>\n",
       "      <th>UserId</th>\n",
       "      <th>ItemId</th>\n",
       "      <th>Rating</th>\n",
       "      <th>Time</th>\n",
       "      <th>SessionId</th>\n",
       "    </tr>\n",
       "  </thead>\n",
       "  <tbody>\n",
       "    <tr>\n",
       "      <th>0</th>\n",
       "      <td>1</td>\n",
       "      <td>3186</td>\n",
       "      <td>4</td>\n",
       "      <td>2000-12-31 22:00:19</td>\n",
       "      <td>0</td>\n",
       "    </tr>\n",
       "    <tr>\n",
       "      <th>1</th>\n",
       "      <td>1</td>\n",
       "      <td>1270</td>\n",
       "      <td>5</td>\n",
       "      <td>2000-12-31 22:00:55</td>\n",
       "      <td>1</td>\n",
       "    </tr>\n",
       "    <tr>\n",
       "      <th>2</th>\n",
       "      <td>1</td>\n",
       "      <td>1721</td>\n",
       "      <td>4</td>\n",
       "      <td>2000-12-31 22:00:55</td>\n",
       "      <td>1</td>\n",
       "    </tr>\n",
       "    <tr>\n",
       "      <th>3</th>\n",
       "      <td>1</td>\n",
       "      <td>1022</td>\n",
       "      <td>5</td>\n",
       "      <td>2000-12-31 22:00:55</td>\n",
       "      <td>1</td>\n",
       "    </tr>\n",
       "    <tr>\n",
       "      <th>4</th>\n",
       "      <td>1</td>\n",
       "      <td>2340</td>\n",
       "      <td>3</td>\n",
       "      <td>2000-12-31 22:01:43</td>\n",
       "      <td>2</td>\n",
       "    </tr>\n",
       "  </tbody>\n",
       "</table>\n",
       "</div>"
      ],
      "text/plain": [
       "   UserId  ItemId  Rating                Time  SessionId\n",
       "0       1    3186       4 2000-12-31 22:00:19          0\n",
       "1       1    1270       5 2000-12-31 22:00:55          1\n",
       "2       1    1721       4 2000-12-31 22:00:55          1\n",
       "3       1    1022       5 2000-12-31 22:00:55          1\n",
       "4       1    2340       3 2000-12-31 22:01:43          2"
      ]
     },
     "execution_count": 18,
     "metadata": {},
     "output_type": "execute_result"
    }
   ],
   "source": [
    "from datetime import datetime\n",
    "\n",
    "change_date = []\n",
    "for time in data['Time']:\n",
    "    temp = dt.datetime.fromtimestamp(time)\n",
    "    change_date.append(temp)\n",
    "\n",
    "data['Time'] = change_date\n",
    "data.head()"
   ]
  },
  {
   "cell_type": "markdown",
   "id": "requested-butter",
   "metadata": {},
   "source": [
    "##### 2) 데이터의 시간 관련 정보를 확인"
   ]
  },
  {
   "cell_type": "code",
   "execution_count": 19,
   "id": "thirty-inflation",
   "metadata": {},
   "outputs": [
    {
     "name": "stdout",
     "output_type": "stream",
     "text": [
      "2000-04-25 23:05:32\n",
      "2003-02-28 17:49:50\n"
     ]
    }
   ],
   "source": [
    "#가장 오래 전 리뷰 남긴 시간, 가장 최근 리뷰 남긴 시간 확인\n",
    "oldest, latest = data['Time'].min(), data['Time'].max()\n",
    "print(oldest) \n",
    "print(latest)"
   ]
  },
  {
   "cell_type": "markdown",
   "id": "expanded-melissa",
   "metadata": {},
   "source": [
    "##### 3) 날짜끼리 비교(차이) 하기\n",
    "* 약 3년치의 데이터가 있는데 최근 소비 트렌드 반영을 위해  \n",
    "  각 년도 별 데이터수를 확인하고  \n",
    "  최근 년도 데이터를 사용하는 것을 고려해본다  \n"
   ]
  },
  {
   "cell_type": "markdown",
   "id": "civilian-equation",
   "metadata": {},
   "source": [
    "* 한 세션당 남긴 평균 리뷰 개수 : 2 이고,  \n",
    "  리뷰 1~4개까지 남긴 비율  : 91% 이다  \n",
    "  때문에 그냥 모든 년도의 데이터를 반영하기로 함  "
   ]
  },
  {
   "cell_type": "markdown",
   "id": "realistic-charles",
   "metadata": {},
   "source": [
    "#### 8. Rating  \n",
    "평점이 낮은 영화는 선호하는 영화라고 판단하기 어려움  \n",
    "때문에 데이터를 제거하는것이 합리적으로 판단  "
   ]
  },
  {
   "cell_type": "code",
   "execution_count": 20,
   "id": "rational-blood",
   "metadata": {},
   "outputs": [
    {
     "name": "stdout",
     "output_type": "stream",
     "text": [
      "56174\n",
      "107557\n",
      "261197\n",
      "348971\n",
      "226310\n"
     ]
    }
   ],
   "source": [
    "#1. 우선 각 평점에 대한 rating 개수를 구함  \n",
    "print(len(data[data['Rating'] == 1]))   # 평점의 최솟값이 1이므로 Entire Data의 개수가 나온다.\n",
    "print(len(data[data['Rating'] == 2]))   # 평점이 2점 이상인 데이터의 총 개수\n",
    "print(len(data[data['Rating'] == 3]))   # 평점이 3점 이상인 데이터의 총 개수\n",
    "print(len(data[data['Rating'] == 4]))   # 평점이 4점 이상인 데이터의 총 개수\n",
    "print(len(data[data['Rating'] == 5]))   # 평점의 최댓값을 준 데이터의 개수이다."
   ]
  },
  {
   "cell_type": "code",
   "execution_count": 21,
   "id": "changing-southeast",
   "metadata": {},
   "outputs": [
    {
     "data": {
      "text/html": [
       "<div>\n",
       "<style scoped>\n",
       "    .dataframe tbody tr th:only-of-type {\n",
       "        vertical-align: middle;\n",
       "    }\n",
       "\n",
       "    .dataframe tbody tr th {\n",
       "        vertical-align: top;\n",
       "    }\n",
       "\n",
       "    .dataframe thead th {\n",
       "        text-align: right;\n",
       "    }\n",
       "</style>\n",
       "<table border=\"1\" class=\"dataframe\">\n",
       "  <thead>\n",
       "    <tr style=\"text-align: right;\">\n",
       "      <th></th>\n",
       "      <th>SessionId</th>\n",
       "      <th>UserId</th>\n",
       "      <th>Time</th>\n",
       "      <th>ItemId</th>\n",
       "      <th>Rating</th>\n",
       "    </tr>\n",
       "  </thead>\n",
       "  <tbody>\n",
       "    <tr>\n",
       "      <th>0</th>\n",
       "      <td>0</td>\n",
       "      <td>1</td>\n",
       "      <td>2000-12-31 22:00:19</td>\n",
       "      <td>3186</td>\n",
       "      <td>4</td>\n",
       "    </tr>\n",
       "    <tr>\n",
       "      <th>1</th>\n",
       "      <td>1</td>\n",
       "      <td>1</td>\n",
       "      <td>2000-12-31 22:00:55</td>\n",
       "      <td>1270</td>\n",
       "      <td>5</td>\n",
       "    </tr>\n",
       "    <tr>\n",
       "      <th>2</th>\n",
       "      <td>1</td>\n",
       "      <td>1</td>\n",
       "      <td>2000-12-31 22:00:55</td>\n",
       "      <td>1721</td>\n",
       "      <td>4</td>\n",
       "    </tr>\n",
       "    <tr>\n",
       "      <th>3</th>\n",
       "      <td>1</td>\n",
       "      <td>1</td>\n",
       "      <td>2000-12-31 22:00:55</td>\n",
       "      <td>1022</td>\n",
       "      <td>5</td>\n",
       "    </tr>\n",
       "    <tr>\n",
       "      <th>4</th>\n",
       "      <td>2</td>\n",
       "      <td>1</td>\n",
       "      <td>2000-12-31 22:01:43</td>\n",
       "      <td>2340</td>\n",
       "      <td>3</td>\n",
       "    </tr>\n",
       "    <tr>\n",
       "      <th>...</th>\n",
       "      <td>...</td>\n",
       "      <td>...</td>\n",
       "      <td>...</td>\n",
       "      <td>...</td>\n",
       "      <td>...</td>\n",
       "    </tr>\n",
       "    <tr>\n",
       "      <th>1000204</th>\n",
       "      <td>471159</td>\n",
       "      <td>6040</td>\n",
       "      <td>2001-08-10 14:40:29</td>\n",
       "      <td>2917</td>\n",
       "      <td>4</td>\n",
       "    </tr>\n",
       "    <tr>\n",
       "      <th>1000205</th>\n",
       "      <td>471160</td>\n",
       "      <td>6040</td>\n",
       "      <td>2001-08-10 14:41:04</td>\n",
       "      <td>1921</td>\n",
       "      <td>4</td>\n",
       "    </tr>\n",
       "    <tr>\n",
       "      <th>1000206</th>\n",
       "      <td>471160</td>\n",
       "      <td>6040</td>\n",
       "      <td>2001-08-10 14:41:04</td>\n",
       "      <td>1784</td>\n",
       "      <td>3</td>\n",
       "    </tr>\n",
       "    <tr>\n",
       "      <th>1000207</th>\n",
       "      <td>471161</td>\n",
       "      <td>6040</td>\n",
       "      <td>2001-08-10 14:41:26</td>\n",
       "      <td>161</td>\n",
       "      <td>3</td>\n",
       "    </tr>\n",
       "    <tr>\n",
       "      <th>1000208</th>\n",
       "      <td>471162</td>\n",
       "      <td>6040</td>\n",
       "      <td>2001-08-20 13:44:15</td>\n",
       "      <td>1221</td>\n",
       "      <td>4</td>\n",
       "    </tr>\n",
       "  </tbody>\n",
       "</table>\n",
       "<p>836478 rows × 5 columns</p>\n",
       "</div>"
      ],
      "text/plain": [
       "         SessionId  UserId                Time  ItemId  Rating\n",
       "0                0       1 2000-12-31 22:00:19    3186       4\n",
       "1                1       1 2000-12-31 22:00:55    1270       5\n",
       "2                1       1 2000-12-31 22:00:55    1721       4\n",
       "3                1       1 2000-12-31 22:00:55    1022       5\n",
       "4                2       1 2000-12-31 22:01:43    2340       3\n",
       "...            ...     ...                 ...     ...     ...\n",
       "1000204     471159    6040 2001-08-10 14:40:29    2917       4\n",
       "1000205     471160    6040 2001-08-10 14:41:04    1921       4\n",
       "1000206     471160    6040 2001-08-10 14:41:04    1784       3\n",
       "1000207     471161    6040 2001-08-10 14:41:26     161       3\n",
       "1000208     471162    6040 2001-08-20 13:44:15    1221       4\n",
       "\n",
       "[836478 rows x 5 columns]"
      ]
     },
     "execution_count": 21,
     "metadata": {},
     "output_type": "execute_result"
    }
   ],
   "source": [
    "# 3~4점만 반영하기위해, data에서 1,2 점 리뷰 데이터는 삭제함\n",
    "data = data[data['Rating'] >= 3]\n",
    "data = data[['SessionId', 'UserId', 'Time', 'ItemId', 'Rating']]\n",
    "data"
   ]
  },
  {
   "cell_type": "markdown",
   "id": "surface-madness",
   "metadata": {},
   "source": [
    "#### 9. SessionId_length 길이가 1인 경우 제거"
   ]
  },
  {
   "cell_type": "code",
   "execution_count": 22,
   "id": "ambient-tractor",
   "metadata": {},
   "outputs": [],
   "source": [
    "# short_session을 제거한 다음 unpopular item을 제거하면 \n",
    "#다시 길이가 1인 session이 생길 수 있습니다.\n",
    "# 이를 위해 반복문을 통해 지속적으로 제거 합니다.\n",
    "\n",
    "#shortest : shortest 번 만큼만 클릭한 세션(유저) 제거 \n",
    "#least_click: least_click 번 만큼만 클릭되어진 아이템 제거\n",
    "def cleanse_recursive(data: pd.DataFrame, shortest, least_click) -> pd.DataFrame:\n",
    "    while True:\n",
    "        before_len = len(data)\n",
    "        data = cleanse_short_session(data, shortest)\n",
    "        data = cleanse_unpopular_item(data, least_click)\n",
    "        after_len = len(data)\n",
    "        if before_len == after_len:\n",
    "            break\n",
    "    return data\n",
    "\n",
    "\n",
    "def cleanse_short_session(data: pd.DataFrame, shortest):\n",
    "    session_len = data.groupby('SessionId').size()\n",
    "    session_use = session_len[session_len >= shortest].index\n",
    "    data = data[data['SessionId'].isin(session_use)]\n",
    "    return data\n",
    "\n",
    "\n",
    "def cleanse_unpopular_item(data: pd.DataFrame, least_click):\n",
    "    item_popular = data.groupby('ItemId').size()\n",
    "    item_use = item_popular[item_popular >= least_click].index\n",
    "    data = data[data['ItemId'].isin(item_use)]\n",
    "    return data"
   ]
  },
  {
   "cell_type": "code",
   "execution_count": 23,
   "id": "skilled-spring",
   "metadata": {},
   "outputs": [
    {
     "data": {
      "text/html": [
       "<div>\n",
       "<style scoped>\n",
       "    .dataframe tbody tr th:only-of-type {\n",
       "        vertical-align: middle;\n",
       "    }\n",
       "\n",
       "    .dataframe tbody tr th {\n",
       "        vertical-align: top;\n",
       "    }\n",
       "\n",
       "    .dataframe thead th {\n",
       "        text-align: right;\n",
       "    }\n",
       "</style>\n",
       "<table border=\"1\" class=\"dataframe\">\n",
       "  <thead>\n",
       "    <tr style=\"text-align: right;\">\n",
       "      <th></th>\n",
       "      <th>SessionId</th>\n",
       "      <th>UserId</th>\n",
       "      <th>Time</th>\n",
       "      <th>ItemId</th>\n",
       "      <th>Rating</th>\n",
       "    </tr>\n",
       "  </thead>\n",
       "  <tbody>\n",
       "    <tr>\n",
       "      <th>1</th>\n",
       "      <td>1</td>\n",
       "      <td>1</td>\n",
       "      <td>2000-12-31 22:00:55</td>\n",
       "      <td>1270</td>\n",
       "      <td>5</td>\n",
       "    </tr>\n",
       "    <tr>\n",
       "      <th>2</th>\n",
       "      <td>1</td>\n",
       "      <td>1</td>\n",
       "      <td>2000-12-31 22:00:55</td>\n",
       "      <td>1721</td>\n",
       "      <td>4</td>\n",
       "    </tr>\n",
       "    <tr>\n",
       "      <th>3</th>\n",
       "      <td>1</td>\n",
       "      <td>1</td>\n",
       "      <td>2000-12-31 22:00:55</td>\n",
       "      <td>1022</td>\n",
       "      <td>5</td>\n",
       "    </tr>\n",
       "    <tr>\n",
       "      <th>7</th>\n",
       "      <td>5</td>\n",
       "      <td>1</td>\n",
       "      <td>2000-12-31 22:11:59</td>\n",
       "      <td>2804</td>\n",
       "      <td>5</td>\n",
       "    </tr>\n",
       "    <tr>\n",
       "      <th>8</th>\n",
       "      <td>5</td>\n",
       "      <td>1</td>\n",
       "      <td>2000-12-31 22:11:59</td>\n",
       "      <td>1207</td>\n",
       "      <td>4</td>\n",
       "    </tr>\n",
       "    <tr>\n",
       "      <th>...</th>\n",
       "      <td>...</td>\n",
       "      <td>...</td>\n",
       "      <td>...</td>\n",
       "      <td>...</td>\n",
       "      <td>...</td>\n",
       "    </tr>\n",
       "    <tr>\n",
       "      <th>1000189</th>\n",
       "      <td>471145</td>\n",
       "      <td>6040</td>\n",
       "      <td>2001-08-10 14:29:56</td>\n",
       "      <td>3362</td>\n",
       "      <td>4</td>\n",
       "    </tr>\n",
       "    <tr>\n",
       "      <th>1000190</th>\n",
       "      <td>471146</td>\n",
       "      <td>6040</td>\n",
       "      <td>2001-08-10 14:31:49</td>\n",
       "      <td>3421</td>\n",
       "      <td>3</td>\n",
       "    </tr>\n",
       "    <tr>\n",
       "      <th>1000191</th>\n",
       "      <td>471146</td>\n",
       "      <td>6040</td>\n",
       "      <td>2001-08-10 14:31:49</td>\n",
       "      <td>1258</td>\n",
       "      <td>4</td>\n",
       "    </tr>\n",
       "    <tr>\n",
       "      <th>1000205</th>\n",
       "      <td>471160</td>\n",
       "      <td>6040</td>\n",
       "      <td>2001-08-10 14:41:04</td>\n",
       "      <td>1921</td>\n",
       "      <td>4</td>\n",
       "    </tr>\n",
       "    <tr>\n",
       "      <th>1000206</th>\n",
       "      <td>471160</td>\n",
       "      <td>6040</td>\n",
       "      <td>2001-08-10 14:41:04</td>\n",
       "      <td>1784</td>\n",
       "      <td>3</td>\n",
       "    </tr>\n",
       "  </tbody>\n",
       "</table>\n",
       "<p>618703 rows × 5 columns</p>\n",
       "</div>"
      ],
      "text/plain": [
       "         SessionId  UserId                Time  ItemId  Rating\n",
       "1                1       1 2000-12-31 22:00:55    1270       5\n",
       "2                1       1 2000-12-31 22:00:55    1721       4\n",
       "3                1       1 2000-12-31 22:00:55    1022       5\n",
       "7                5       1 2000-12-31 22:11:59    2804       5\n",
       "8                5       1 2000-12-31 22:11:59    1207       4\n",
       "...            ...     ...                 ...     ...     ...\n",
       "1000189     471145    6040 2001-08-10 14:29:56    3362       4\n",
       "1000190     471146    6040 2001-08-10 14:31:49    3421       3\n",
       "1000191     471146    6040 2001-08-10 14:31:49    1258       4\n",
       "1000205     471160    6040 2001-08-10 14:41:04    1921       4\n",
       "1000206     471160    6040 2001-08-10 14:41:04    1784       3\n",
       "\n",
       "[618703 rows x 5 columns]"
      ]
     },
     "execution_count": 23,
     "metadata": {},
     "output_type": "execute_result"
    }
   ],
   "source": [
    "# 1번만 아이템 클릭한 세션아이디 제거\n",
    "# 1번 이하만 클릭된 아이템 제거\n",
    "data = cleanse_recursive(data, shortest=2, least_click=1)\n",
    "data"
   ]
  },
  {
   "cell_type": "markdown",
   "id": "serial-contents",
   "metadata": {},
   "source": [
    "### 4. train, val, test 분리  "
   ]
  },
  {
   "cell_type": "markdown",
   "id": "failing-stewart",
   "metadata": {},
   "source": [
    "* terain : val : test  \n",
    "  = 8 : 1 :1  \n",
    "  \n",
    "\n",
    "* 3년의 1/10이 약 110 일  \n",
    "  val, test를 110일로 설정하고  \n",
    "  나머지는 train 데이터로 분리  "
   ]
  },
  {
   "cell_type": "markdown",
   "id": "macro-university",
   "metadata": {},
   "source": [
    "##### 1) n_days 전 후로 train, test 분리하는 함수 생성"
   ]
  },
  {
   "cell_type": "code",
   "execution_count": 24,
   "id": "inside-piece",
   "metadata": {},
   "outputs": [],
   "source": [
    "def split_by_date(data: pd.DataFrame, n_days: int):\n",
    "    final_time = data['Time'].max()\n",
    "    session_last_time = data.groupby('Time')['Time'].max()\n",
    "    session_in_train = session_last_time[session_last_time < final_time - dt.timedelta(n_days)].index\n",
    "    session_in_test = session_last_time[session_last_time >= final_time - dt.timedelta(n_days)].index\n",
    "\n",
    "    before_date = data[data['Time'].isin(session_in_train)]\n",
    "    after_date = data[data['Time'].isin(session_in_test)]\n",
    "    return before_date, after_date"
   ]
  },
  {
   "cell_type": "markdown",
   "id": "focal-brighton",
   "metadata": {},
   "source": [
    "##### 2) 위 함수로 tr, val, test 분리하기"
   ]
  },
  {
   "cell_type": "code",
   "execution_count": 25,
   "id": "returning-diagnosis",
   "metadata": {},
   "outputs": [],
   "source": [
    "#n_days=110 일 전까지 tr, 후는 test\n",
    "tr, test = split_by_date(data, n_days=110)\n",
    "\n",
    "#분리된 tr 에서 n_days=110 일 전까지 tr, 후는 val\n",
    "tr, val = split_by_date(tr, n_days=110)"
   ]
  },
  {
   "cell_type": "markdown",
   "id": "attempted-cotton",
   "metadata": {},
   "source": [
    "##### 3) 분리된 데이터 확인하기"
   ]
  },
  {
   "cell_type": "code",
   "execution_count": 26,
   "id": "noble-database",
   "metadata": {},
   "outputs": [],
   "source": [
    "# data에 대한 정보를 살펴보는 함수 생성\n",
    "def stats_info(data: pd.DataFrame, status: str):\n",
    "    print(f'* {status} Set Stats Info\\n'\n",
    "          f'\\t Events: {len(data)}\\n'\n",
    "          f'\\t Sessions: {data[\"SessionId\"].nunique()}\\n'\n",
    "          f'\\t Items: {data[\"ItemId\"].nunique()}\\n'\n",
    "          f'\\t First Time : {data[\"Time\"].min()}\\n'\n",
    "          f'\\t Last Time : {data[\"Time\"].max()}\\n')"
   ]
  },
  {
   "cell_type": "code",
   "execution_count": 27,
   "id": "becoming-georgia",
   "metadata": {},
   "outputs": [
    {
     "name": "stdout",
     "output_type": "stream",
     "text": [
      "* train Set Stats Info\n",
      "\t Events: 614604\n",
      "\t Sessions: 204048\n",
      "\t Items: 3527\n",
      "\t First Time : 2000-04-25 23:05:54\n",
      "\t Last Time : 2002-07-22 13:56:03\n",
      "\n",
      "* valid Set Stats Info\n",
      "\t Events: 2088\n",
      "\t Sessions: 794\n",
      "\t Items: 1131\n",
      "\t First Time : 2002-07-24 23:34:56\n",
      "\t Last Time : 2002-11-10 08:45:55\n",
      "\n",
      "* test Set Stats Info\n",
      "\t Events: 2011\n",
      "\t Sessions: 791\n",
      "\t Items: 1098\n",
      "\t First Time : 2002-11-10 21:01:17\n",
      "\t Last Time : 2003-02-28 17:49:08\n",
      "\n"
     ]
    }
   ],
   "source": [
    "#살펴보는 함수 호출\n",
    "stats_info(tr, 'train')\n",
    "stats_info(val, 'valid')\n",
    "stats_info(test, 'test')\n",
    "\n",
    "#의도대로 잘 나누어짐\n",
    "\n",
    "#Events: 데이터 갯수\n",
    "#Sessions: UserId의 고유값\n",
    "#Items: ItemId의 고유값\n",
    "#First Time : 최소시간\n",
    "#Last Time : 최대시간"
   ]
  },
  {
   "cell_type": "markdown",
   "id": "exempt-child",
   "metadata": {},
   "source": [
    "##### 4) train, val, test 모두에 있는 아이템만 사용하기"
   ]
  },
  {
   "cell_type": "code",
   "execution_count": 28,
   "id": "peaceful-stack",
   "metadata": {},
   "outputs": [],
   "source": [
    "# train set에 없는 아이템이 val, test기간에 생길 수 있으므로 train data를 기준으로 인덱싱합니다.\n",
    "id2idx = {item_id : index for index, item_id in enumerate(tr['ItemId'].unique())}\n",
    "\n",
    "def indexing(df, id2idx):\n",
    "    df['item_idx'] = df['ItemId'].map(lambda x: id2idx.get(x, -1))  # id2idx에 없는 아이템은 모르는 값(-1) 처리 해줍니다.\n",
    "    return df\n",
    "\n",
    "tr = indexing(tr, id2idx)\n",
    "val = indexing(val, id2idx)\n",
    "test = indexing(test, id2idx)"
   ]
  },
  {
   "cell_type": "markdown",
   "id": "removed-england",
   "metadata": {},
   "source": [
    "#### 5) 전처리 + 분리 완료된 데이터 저장\n",
    "데이터를 저장한 다음 나중에 data pipeline을 구축하려고 함"
   ]
  },
  {
   "cell_type": "code",
   "execution_count": 29,
   "id": "premium-student",
   "metadata": {},
   "outputs": [],
   "source": [
    "save_path = data_path / 'processed'\n",
    "save_path.mkdir(parents=True, exist_ok=True)\n",
    "\n",
    "tr.to_pickle(save_path / 'train.pkl')\n",
    "val.to_pickle(save_path / 'valid.pkl')\n",
    "test.to_pickle(save_path / 'test.pkl')"
   ]
  },
  {
   "cell_type": "markdown",
   "id": "south-brick",
   "metadata": {},
   "source": [
    "### 4. 미니배치 구현 _Data Pipeline  \n",
    "이전 스텝에서 개념을 정리해 본 Session-Parallel Mini-Batch 구현\n",
    "\n",
    "#### 1. SessionDataset\n",
    "\n",
    "##### 1) 클래스 생성 : 각 세션마다 인덱스 값 부여\n",
    "데이터가 주어지면 세션이 시작되는 인덱스를 담는 값과  \n",
    "세션을 새로 인덱싱한 값을 갖는 클래스"
   ]
  },
  {
   "cell_type": "code",
   "execution_count": 30,
   "id": "focused-appointment",
   "metadata": {},
   "outputs": [],
   "source": [
    "class SessionDataset:\n",
    "    \"\"\"Credit to yhs-968/pyGRU4REC.\"\"\"\n",
    "\n",
    "    def __init__(self, data):\n",
    "        self.df = data\n",
    "        self.click_offsets = self.get_click_offsets()\n",
    "        self.session_idx = np.arange(self.df['SessionId'].nunique())  # indexing to SessionId\n",
    "\n",
    "    def get_click_offsets(self):\n",
    "        \"\"\"\n",
    "        Return the indexes of the first click of each session IDs,\n",
    "        \"\"\"\n",
    "        offsets = np.zeros(self.df['SessionId'].nunique() + 1, dtype=np.int32)\n",
    "        offsets[1:] = self.df.groupby('SessionId').size().cumsum()\n",
    "        return offsets"
   ]
  },
  {
   "cell_type": "markdown",
   "id": "amazing-enemy",
   "metadata": {},
   "source": [
    "##### 2) train데이터로 SessionDataset 객체 생성 -> 인스턴스 변수들 살펴봄  "
   ]
  },
  {
   "cell_type": "code",
   "execution_count": 31,
   "id": "published-kingston",
   "metadata": {},
   "outputs": [
    {
     "data": {
      "text/html": [
       "<div>\n",
       "<style scoped>\n",
       "    .dataframe tbody tr th:only-of-type {\n",
       "        vertical-align: middle;\n",
       "    }\n",
       "\n",
       "    .dataframe tbody tr th {\n",
       "        vertical-align: top;\n",
       "    }\n",
       "\n",
       "    .dataframe thead th {\n",
       "        text-align: right;\n",
       "    }\n",
       "</style>\n",
       "<table border=\"1\" class=\"dataframe\">\n",
       "  <thead>\n",
       "    <tr style=\"text-align: right;\">\n",
       "      <th></th>\n",
       "      <th>SessionId</th>\n",
       "      <th>UserId</th>\n",
       "      <th>Time</th>\n",
       "      <th>ItemId</th>\n",
       "      <th>Rating</th>\n",
       "      <th>item_idx</th>\n",
       "    </tr>\n",
       "  </thead>\n",
       "  <tbody>\n",
       "    <tr>\n",
       "      <th>1</th>\n",
       "      <td>1</td>\n",
       "      <td>1</td>\n",
       "      <td>2000-12-31 22:00:55</td>\n",
       "      <td>1270</td>\n",
       "      <td>5</td>\n",
       "      <td>0</td>\n",
       "    </tr>\n",
       "    <tr>\n",
       "      <th>2</th>\n",
       "      <td>1</td>\n",
       "      <td>1</td>\n",
       "      <td>2000-12-31 22:00:55</td>\n",
       "      <td>1721</td>\n",
       "      <td>4</td>\n",
       "      <td>1</td>\n",
       "    </tr>\n",
       "    <tr>\n",
       "      <th>3</th>\n",
       "      <td>1</td>\n",
       "      <td>1</td>\n",
       "      <td>2000-12-31 22:00:55</td>\n",
       "      <td>1022</td>\n",
       "      <td>5</td>\n",
       "      <td>2</td>\n",
       "    </tr>\n",
       "    <tr>\n",
       "      <th>7</th>\n",
       "      <td>5</td>\n",
       "      <td>1</td>\n",
       "      <td>2000-12-31 22:11:59</td>\n",
       "      <td>2804</td>\n",
       "      <td>5</td>\n",
       "      <td>3</td>\n",
       "    </tr>\n",
       "    <tr>\n",
       "      <th>8</th>\n",
       "      <td>5</td>\n",
       "      <td>1</td>\n",
       "      <td>2000-12-31 22:11:59</td>\n",
       "      <td>1207</td>\n",
       "      <td>4</td>\n",
       "      <td>4</td>\n",
       "    </tr>\n",
       "    <tr>\n",
       "      <th>9</th>\n",
       "      <td>6</td>\n",
       "      <td>1</td>\n",
       "      <td>2000-12-31 22:12:40</td>\n",
       "      <td>1193</td>\n",
       "      <td>5</td>\n",
       "      <td>5</td>\n",
       "    </tr>\n",
       "    <tr>\n",
       "      <th>10</th>\n",
       "      <td>6</td>\n",
       "      <td>1</td>\n",
       "      <td>2000-12-31 22:12:40</td>\n",
       "      <td>720</td>\n",
       "      <td>3</td>\n",
       "      <td>6</td>\n",
       "    </tr>\n",
       "    <tr>\n",
       "      <th>11</th>\n",
       "      <td>6</td>\n",
       "      <td>1</td>\n",
       "      <td>2000-12-31 22:12:40</td>\n",
       "      <td>260</td>\n",
       "      <td>4</td>\n",
       "      <td>7</td>\n",
       "    </tr>\n",
       "    <tr>\n",
       "      <th>19</th>\n",
       "      <td>14</td>\n",
       "      <td>1</td>\n",
       "      <td>2000-12-31 22:29:13</td>\n",
       "      <td>1035</td>\n",
       "      <td>5</td>\n",
       "      <td>8</td>\n",
       "    </tr>\n",
       "    <tr>\n",
       "      <th>20</th>\n",
       "      <td>14</td>\n",
       "      <td>1</td>\n",
       "      <td>2000-12-31 22:29:13</td>\n",
       "      <td>1962</td>\n",
       "      <td>4</td>\n",
       "      <td>9</td>\n",
       "    </tr>\n",
       "  </tbody>\n",
       "</table>\n",
       "</div>"
      ],
      "text/plain": [
       "    SessionId  UserId                Time  ItemId  Rating  item_idx\n",
       "1           1       1 2000-12-31 22:00:55    1270       5         0\n",
       "2           1       1 2000-12-31 22:00:55    1721       4         1\n",
       "3           1       1 2000-12-31 22:00:55    1022       5         2\n",
       "7           5       1 2000-12-31 22:11:59    2804       5         3\n",
       "8           5       1 2000-12-31 22:11:59    1207       4         4\n",
       "9           6       1 2000-12-31 22:12:40    1193       5         5\n",
       "10          6       1 2000-12-31 22:12:40     720       3         6\n",
       "11          6       1 2000-12-31 22:12:40     260       4         7\n",
       "19         14       1 2000-12-31 22:29:13    1035       5         8\n",
       "20         14       1 2000-12-31 22:29:13    1962       4         9"
      ]
     },
     "execution_count": 31,
     "metadata": {},
     "output_type": "execute_result"
    }
   ],
   "source": [
    "# SessionDataset 객체 생성 \n",
    "tr_dataset = SessionDataset(tr)\n",
    "tr_dataset.df.head(10)"
   ]
  },
  {
   "cell_type": "code",
   "execution_count": 32,
   "id": "ordered-acting",
   "metadata": {},
   "outputs": [
    {
     "data": {
      "text/plain": [
       "array([     0,      3,      5, ..., 614600, 614602, 614604], dtype=int32)"
      ]
     },
     "execution_count": 32,
     "metadata": {},
     "output_type": "execute_result"
    }
   ],
   "source": [
    "#click_offsets : 각 세션이 시작된 인덱스를 담고 있음  \n",
    "tr_dataset.click_offsets"
   ]
  },
  {
   "cell_type": "code",
   "execution_count": 33,
   "id": "reduced-usage",
   "metadata": {},
   "outputs": [
    {
     "data": {
      "text/plain": [
       "array([     0,      1,      2, ..., 204045, 204046, 204047])"
      ]
     },
     "execution_count": 33,
     "metadata": {},
     "output_type": "execute_result"
    }
   ],
   "source": [
    "#session_idx : 각 세션을 인덱싱한 np.array \n",
    "tr_dataset.session_idx"
   ]
  },
  {
   "cell_type": "markdown",
   "id": "optimum-hindu",
   "metadata": {},
   "source": [
    "#### 2. SessionDataLoader  \n",
    "파이썬 문법 (iterator, generator) : https://dojang.io/mod/page/view.php?id=2405  \n",
    "\n",
    "##### 1) Session-Parallel mini-batch 만드는 클래스 생성  "
   ]
  },
  {
   "cell_type": "code",
   "execution_count": 34,
   "id": "independent-judgment",
   "metadata": {},
   "outputs": [],
   "source": [
    "#SessionDataset 객체를 받아서 Session-Parallel mini-batch 만드는 클래스 생성 \n",
    "class SessionDataLoader:\n",
    "    \"\"\"Credit to yhs-968/pyGRU4REC.\"\"\"\n",
    "\n",
    "    def __init__(self, dataset: SessionDataset, batch_size=50):\n",
    "        self.dataset = dataset\n",
    "        self.batch_size = batch_size\n",
    "\n",
    "    # __iter__ 메소드 : 모델 인풋, 라벨, 세션이 끝나는 곳의 위치를 yield\n",
    "    def __iter__(self):\n",
    "        \"\"\" Returns the iterator for producing session-parallel training mini-batches.\n",
    "        Yields:\n",
    "            input (B,):  Item indices that will be encoded as one-hot vectors later.\n",
    "            target (B,): a Variable that stores the target item indices\n",
    "            masks: Numpy array indicating the positions of the sessions to be terminated\n",
    "        \"\"\"\n",
    "        # mask : 후에 RNN Cell State를 초기화 하는데 사용\n",
    "        start, end, mask, last_session, finished = self.initialize()  # initialize 메소드에서 확인해주세요.\n",
    "        \"\"\"\n",
    "        start : Index Where Session Start\n",
    "        end : Index Where Session End\n",
    "        mask : indicator for the sessions to be terminated\n",
    "        \"\"\"\n",
    "\n",
    "        while not finished:\n",
    "            min_len = (end - start).min() - 1  # Shortest Length Among Sessions\n",
    "            for i in range(min_len):\n",
    "                # Build inputs & targets\n",
    "                inp = self.dataset.df['item_idx'].values[start + i]\n",
    "                target = self.dataset.df['item_idx'].values[start + i + 1]\n",
    "                yield inp, target, mask\n",
    "\n",
    "            start, end, mask, last_session, finished = self.update_status(start, end, min_len, last_session, finished)\n",
    "\n",
    "    def initialize(self):\n",
    "        first_iters = np.arange(self.batch_size)    # 첫 배치에 사용할 세션 Index를 가져옵니다.\n",
    "        last_session = self.batch_size - 1    # 마지막으로 다루고 있는 세션 Index를 저장해둡니다.\n",
    "        start = self.dataset.click_offsets[self.dataset.session_idx[first_iters]]       # data 상에서 session이 시작된 위치를 가져옵니다.\n",
    "        end = self.dataset.click_offsets[self.dataset.session_idx[first_iters] + 1]  # session이 끝난 위치 바로 다음 위치를 가져옵니다.\n",
    "        mask = np.array([])   # session의 모든 아이템을 다 돌은 경우 mask에 추가해줄 것입니다.\n",
    "        finished = False         # data를 전부 돌았는지 기록하기 위한 변수입니다.\n",
    "        return start, end, mask, last_session, finished\n",
    "\n",
    "    def update_status(self, start: np.ndarray, end: np.ndarray, min_len: int, last_session: int, finished: bool):  \n",
    "        # 다음 배치 데이터를 생성하기 위해 상태를 update합니다.\n",
    "        \n",
    "        start += min_len   # __iter__에서 min_len 만큼 for문을 돌았으므로 start를 min_len 만큼 더해줍니다.\n",
    "        mask = np.arange(self.batch_size)[(end - start) == 1]  \n",
    "        # end는 다음 세션이 시작되는 위치인데 start와 한 칸 차이난다는 것은 session이 끝났다는 뜻입니다. mask에 기록해줍니다.\n",
    "\n",
    "        for i, idx in enumerate(mask, start=1):  # mask에 추가된 세션 개수만큼 새로운 세션을 돌것입니다.\n",
    "            new_session = last_session + i  \n",
    "            if new_session > self.dataset.session_idx[-1]:  # 만약 새로운 세션이 마지막 세션 index보다 크다면 모든 학습데이터를 돈 것입니다.\n",
    "                finished = True\n",
    "                break\n",
    "            # update the next starting/ending point\n",
    "            start[idx] = self.dataset.click_offsets[self.dataset.session_idx[new_session]]     # 종료된 세션 대신 새로운 세션의 시작점을 기록합니다.\n",
    "            end[idx] = self.dataset.click_offsets[self.dataset.session_idx[new_session] + 1]\n",
    "\n",
    "        last_session += len(mask)  # 마지막 세션의 위치를 기록해둡니다.\n",
    "        return start, end, mask, last_session, finished"
   ]
  },
  {
   "cell_type": "markdown",
   "id": "variable-utility",
   "metadata": {},
   "source": [
    "##### 2) 위 클래스 사용하여 병렬구조 미니배치 생성"
   ]
  },
  {
   "cell_type": "code",
   "execution_count": 35,
   "id": "young-mirror",
   "metadata": {},
   "outputs": [
    {
     "data": {
      "text/html": [
       "<div>\n",
       "<style scoped>\n",
       "    .dataframe tbody tr th:only-of-type {\n",
       "        vertical-align: middle;\n",
       "    }\n",
       "\n",
       "    .dataframe tbody tr th {\n",
       "        vertical-align: top;\n",
       "    }\n",
       "\n",
       "    .dataframe thead th {\n",
       "        text-align: right;\n",
       "    }\n",
       "</style>\n",
       "<table border=\"1\" class=\"dataframe\">\n",
       "  <thead>\n",
       "    <tr style=\"text-align: right;\">\n",
       "      <th></th>\n",
       "      <th>SessionId</th>\n",
       "      <th>UserId</th>\n",
       "      <th>Time</th>\n",
       "      <th>ItemId</th>\n",
       "      <th>Rating</th>\n",
       "      <th>item_idx</th>\n",
       "    </tr>\n",
       "  </thead>\n",
       "  <tbody>\n",
       "    <tr>\n",
       "      <th>1</th>\n",
       "      <td>1</td>\n",
       "      <td>1</td>\n",
       "      <td>2000-12-31 22:00:55</td>\n",
       "      <td>1270</td>\n",
       "      <td>5</td>\n",
       "      <td>0</td>\n",
       "    </tr>\n",
       "    <tr>\n",
       "      <th>2</th>\n",
       "      <td>1</td>\n",
       "      <td>1</td>\n",
       "      <td>2000-12-31 22:00:55</td>\n",
       "      <td>1721</td>\n",
       "      <td>4</td>\n",
       "      <td>1</td>\n",
       "    </tr>\n",
       "    <tr>\n",
       "      <th>3</th>\n",
       "      <td>1</td>\n",
       "      <td>1</td>\n",
       "      <td>2000-12-31 22:00:55</td>\n",
       "      <td>1022</td>\n",
       "      <td>5</td>\n",
       "      <td>2</td>\n",
       "    </tr>\n",
       "    <tr>\n",
       "      <th>7</th>\n",
       "      <td>5</td>\n",
       "      <td>1</td>\n",
       "      <td>2000-12-31 22:11:59</td>\n",
       "      <td>2804</td>\n",
       "      <td>5</td>\n",
       "      <td>3</td>\n",
       "    </tr>\n",
       "    <tr>\n",
       "      <th>8</th>\n",
       "      <td>5</td>\n",
       "      <td>1</td>\n",
       "      <td>2000-12-31 22:11:59</td>\n",
       "      <td>1207</td>\n",
       "      <td>4</td>\n",
       "      <td>4</td>\n",
       "    </tr>\n",
       "    <tr>\n",
       "      <th>9</th>\n",
       "      <td>6</td>\n",
       "      <td>1</td>\n",
       "      <td>2000-12-31 22:12:40</td>\n",
       "      <td>1193</td>\n",
       "      <td>5</td>\n",
       "      <td>5</td>\n",
       "    </tr>\n",
       "    <tr>\n",
       "      <th>10</th>\n",
       "      <td>6</td>\n",
       "      <td>1</td>\n",
       "      <td>2000-12-31 22:12:40</td>\n",
       "      <td>720</td>\n",
       "      <td>3</td>\n",
       "      <td>6</td>\n",
       "    </tr>\n",
       "    <tr>\n",
       "      <th>11</th>\n",
       "      <td>6</td>\n",
       "      <td>1</td>\n",
       "      <td>2000-12-31 22:12:40</td>\n",
       "      <td>260</td>\n",
       "      <td>4</td>\n",
       "      <td>7</td>\n",
       "    </tr>\n",
       "    <tr>\n",
       "      <th>19</th>\n",
       "      <td>14</td>\n",
       "      <td>1</td>\n",
       "      <td>2000-12-31 22:29:13</td>\n",
       "      <td>1035</td>\n",
       "      <td>5</td>\n",
       "      <td>8</td>\n",
       "    </tr>\n",
       "    <tr>\n",
       "      <th>20</th>\n",
       "      <td>14</td>\n",
       "      <td>1</td>\n",
       "      <td>2000-12-31 22:29:13</td>\n",
       "      <td>1962</td>\n",
       "      <td>4</td>\n",
       "      <td>9</td>\n",
       "    </tr>\n",
       "    <tr>\n",
       "      <th>21</th>\n",
       "      <td>15</td>\n",
       "      <td>1</td>\n",
       "      <td>2000-12-31 22:29:37</td>\n",
       "      <td>2018</td>\n",
       "      <td>4</td>\n",
       "      <td>10</td>\n",
       "    </tr>\n",
       "    <tr>\n",
       "      <th>22</th>\n",
       "      <td>15</td>\n",
       "      <td>1</td>\n",
       "      <td>2000-12-31 22:29:37</td>\n",
       "      <td>150</td>\n",
       "      <td>5</td>\n",
       "      <td>11</td>\n",
       "    </tr>\n",
       "    <tr>\n",
       "      <th>23</th>\n",
       "      <td>15</td>\n",
       "      <td>1</td>\n",
       "      <td>2000-12-31 22:29:37</td>\n",
       "      <td>1028</td>\n",
       "      <td>5</td>\n",
       "      <td>12</td>\n",
       "    </tr>\n",
       "    <tr>\n",
       "      <th>26</th>\n",
       "      <td>18</td>\n",
       "      <td>1</td>\n",
       "      <td>2000-12-31 22:33:59</td>\n",
       "      <td>1287</td>\n",
       "      <td>5</td>\n",
       "      <td>13</td>\n",
       "    </tr>\n",
       "    <tr>\n",
       "      <th>27</th>\n",
       "      <td>18</td>\n",
       "      <td>1</td>\n",
       "      <td>2000-12-31 22:33:59</td>\n",
       "      <td>2797</td>\n",
       "      <td>4</td>\n",
       "      <td>14</td>\n",
       "    </tr>\n",
       "  </tbody>\n",
       "</table>\n",
       "</div>"
      ],
      "text/plain": [
       "    SessionId  UserId                Time  ItemId  Rating  item_idx\n",
       "1           1       1 2000-12-31 22:00:55    1270       5         0\n",
       "2           1       1 2000-12-31 22:00:55    1721       4         1\n",
       "3           1       1 2000-12-31 22:00:55    1022       5         2\n",
       "7           5       1 2000-12-31 22:11:59    2804       5         3\n",
       "8           5       1 2000-12-31 22:11:59    1207       4         4\n",
       "9           6       1 2000-12-31 22:12:40    1193       5         5\n",
       "10          6       1 2000-12-31 22:12:40     720       3         6\n",
       "11          6       1 2000-12-31 22:12:40     260       4         7\n",
       "19         14       1 2000-12-31 22:29:13    1035       5         8\n",
       "20         14       1 2000-12-31 22:29:13    1962       4         9\n",
       "21         15       1 2000-12-31 22:29:37    2018       4        10\n",
       "22         15       1 2000-12-31 22:29:37     150       5        11\n",
       "23         15       1 2000-12-31 22:29:37    1028       5        12\n",
       "26         18       1 2000-12-31 22:33:59    1287       5        13\n",
       "27         18       1 2000-12-31 22:33:59    2797       4        14"
      ]
     },
     "execution_count": 35,
     "metadata": {},
     "output_type": "execute_result"
    }
   ],
   "source": [
    "tr_data_loader = SessionDataLoader(tr_dataset, batch_size=4)\n",
    "tr_dataset.df.head(15)"
   ]
  },
  {
   "cell_type": "code",
   "execution_count": 36,
   "id": "informative-postcard",
   "metadata": {},
   "outputs": [],
   "source": [
    "iter_ex = iter(tr_data_loader)"
   ]
  },
  {
   "cell_type": "code",
   "execution_count": 37,
   "id": "smart-russian",
   "metadata": {},
   "outputs": [
    {
     "name": "stdout",
     "output_type": "stream",
     "text": [
      "Model Input Item Idx are : [0 3 5 8]\n",
      "Label Item Idx are :       [1 4 6 9]\n",
      "Previous Masked Input Idx are []\n"
     ]
    }
   ],
   "source": [
    "#next : 계속 다음 데이터 생성 \n",
    "inputs, labels, mask =  next(iter_ex)\n",
    "print(f'Model Input Item Idx are : {inputs}')\n",
    "print(f'Label Item Idx are : {\"\":5} {labels}')\n",
    "print(f'Previous Masked Input Idx are {mask}')"
   ]
  },
  {
   "cell_type": "markdown",
   "id": "attached-cargo",
   "metadata": {},
   "source": [
    "### 5. 모델 생성  \n"
   ]
  },
  {
   "cell_type": "code",
   "execution_count": 38,
   "id": "fabulous-diversity",
   "metadata": {},
   "outputs": [],
   "source": [
    "def mrr_k(pred, truth: int, k: int):\n",
    "    indexing = np.where(pred[:k] == truth)[0]\n",
    "    if len(indexing) > 0:\n",
    "        return 1 / (indexing[0] + 1)\n",
    "    else:\n",
    "        return 0\n",
    "\n",
    "\n",
    "def recall_k(pred, truth: int, k: int) -> int:\n",
    "    answer = truth in pred[:k]\n",
    "    return int(answer)"
   ]
  },
  {
   "cell_type": "markdown",
   "id": "roman-visitor",
   "metadata": {},
   "source": [
    "#### 2. Model Architecture 구현"
   ]
  },
  {
   "cell_type": "code",
   "execution_count": 39,
   "id": "artificial-antibody",
   "metadata": {},
   "outputs": [],
   "source": [
    "import numpy as np\n",
    "import tensorflow as tf\n",
    "from tensorflow.keras.layers import Input, Dense, Dropout, GRU\n",
    "from tensorflow.keras.losses import categorical_crossentropy\n",
    "from tensorflow.keras.models import Model\n",
    "from tensorflow.keras.optimizers import Adam\n",
    "from tensorflow.keras.utils import to_categorical\n",
    "from tqdm import tqdm"
   ]
  },
  {
   "cell_type": "code",
   "execution_count": 40,
   "id": "nasty-roulette",
   "metadata": {},
   "outputs": [],
   "source": [
    "def create_model(args):\n",
    "    inputs = Input(batch_shape=(args.batch_size, 1, args.num_items))\n",
    "    gru, _ = GRU(args.hsz, stateful=True, return_state=True, name='GRU')(inputs)\n",
    "    dropout = Dropout(args.drop_rate)(gru)\n",
    "    predictions = Dense(args.num_items, activation='softmax')(dropout)\n",
    "    model = Model(inputs=inputs, outputs=[predictions])\n",
    "    model.compile(loss=categorical_crossentropy, optimizer=Adam(args.lr), metrics=['accuracy'])\n",
    "    model.summary()\n",
    "    return model"
   ]
  },
  {
   "cell_type": "code",
   "execution_count": 41,
   "id": "severe-installation",
   "metadata": {},
   "outputs": [],
   "source": [
    "#하이퍼파라미터 관리 클래스 생성\n",
    "class Args:\n",
    "    def __init__(self, tr, val, test, batch_size, hsz, drop_rate, lr, epochs, k):\n",
    "        self.tr = tr\n",
    "        self.val = val\n",
    "        self.test = test\n",
    "        self.num_items = tr['ItemId'].nunique()\n",
    "        self.num_sessions = tr['SessionId'].nunique()\n",
    "        self.batch_size = batch_size\n",
    "        self.hsz = hsz\n",
    "        self.drop_rate = drop_rate\n",
    "        self.lr = lr\n",
    "        self.epochs = epochs\n",
    "        self.k = k"
   ]
  },
  {
   "cell_type": "code",
   "execution_count": 42,
   "id": "other-bristol",
   "metadata": {},
   "outputs": [],
   "source": [
    "args = Args(tr, val, test, batch_size=256, hsz=50, drop_rate=0.1, lr=0.001, epochs=5, k=20)"
   ]
  },
  {
   "cell_type": "code",
   "execution_count": 43,
   "id": "listed-catholic",
   "metadata": {},
   "outputs": [
    {
     "name": "stdout",
     "output_type": "stream",
     "text": [
      "Model: \"model\"\n",
      "_________________________________________________________________\n",
      "Layer (type)                 Output Shape              Param #   \n",
      "=================================================================\n",
      "input_1 (InputLayer)         [(256, 1, 3527)]          0         \n",
      "_________________________________________________________________\n",
      "GRU (GRU)                    [(256, 50), (256, 50)]    536850    \n",
      "_________________________________________________________________\n",
      "dropout (Dropout)            (256, 50)                 0         \n",
      "_________________________________________________________________\n",
      "dense (Dense)                (256, 3527)               179877    \n",
      "=================================================================\n",
      "Total params: 716,727\n",
      "Trainable params: 716,727\n",
      "Non-trainable params: 0\n",
      "_________________________________________________________________\n"
     ]
    }
   ],
   "source": [
    "model = create_model(args)"
   ]
  },
  {
   "cell_type": "markdown",
   "id": "governmental-stuart",
   "metadata": {},
   "source": [
    "### 6. 모델 학습"
   ]
  },
  {
   "cell_type": "markdown",
   "id": "unable-deficit",
   "metadata": {},
   "source": [
    "#### 1. 모델 학습 함수 생성"
   ]
  },
  {
   "cell_type": "code",
   "execution_count": 44,
   "id": "optimum-louisville",
   "metadata": {},
   "outputs": [],
   "source": [
    "# train 셋으로 학습하면서 valid 셋으로 검증합니다.\n",
    "def train_model(model, args):\n",
    "    train_dataset = SessionDataset(args.tr)\n",
    "    train_loader = SessionDataLoader(train_dataset, batch_size=args.batch_size)\n",
    "\n",
    "    for epoch in range(1, args.epochs + 1):\n",
    "        total_step = len(args.tr) - args.tr['SessionId'].nunique()\n",
    "        tr_loader = tqdm(train_loader, total=total_step // args.batch_size, desc='Train', mininterval=1)\n",
    "        for feat, target, mask in tr_loader:\n",
    "            reset_hidden_states(model, mask)  # 종료된 session은 hidden_state를 초기화합니다. 아래 메서드에서 확인해주세요.\n",
    "\n",
    "            input_ohe = to_categorical(feat, num_classes=args.num_items)\n",
    "            input_ohe = np.expand_dims(input_ohe, axis=1)\n",
    "            target_ohe = to_categorical(target, num_classes=args.num_items)\n",
    "\n",
    "            result = model.train_on_batch(input_ohe, target_ohe)\n",
    "            tr_loader.set_postfix(train_loss=result[0], accuracy = result[1])\n",
    "\n",
    "        val_recall, val_mrr = get_metrics(args.val, model, args, args.k)  # valid set에 대해 검증합니다.\n",
    "\n",
    "        print(f\"\\t - Recall@{args.k} epoch {epoch}: {val_recall:3f}\")\n",
    "        print(f\"\\t - MRR@{args.k}    epoch {epoch}: {val_mrr:3f}\\n\")\n",
    "\n",
    "\n",
    "def reset_hidden_states(model, mask):\n",
    "    gru_layer = model.get_layer(name='GRU')  # model에서 gru layer를 가져옵니다.\n",
    "    hidden_states = gru_layer.states[0].numpy()  # gru_layer의 parameter를 가져옵니다.\n",
    "    for elt in mask:  # mask된 인덱스 즉, 종료된 세션의 인덱스를 돌면서\n",
    "        hidden_states[elt, :] = 0  # parameter를 초기화 합니다.\n",
    "    gru_layer.reset_states(states=hidden_states)\n",
    "\n",
    "\n",
    "def get_metrics(data, model, args, k: int):  # valid셋과 test셋을 평가하는 코드입니다. \n",
    "                                             # train과 거의 같지만 mrr, recall을 구하는 라인이 있습니다.\n",
    "    dataset = SessionDataset(data)\n",
    "    loader = SessionDataLoader(dataset, batch_size=args.batch_size)\n",
    "    recall_list, mrr_list = [], []\n",
    "\n",
    "    total_step = len(data) - data['SessionId'].nunique()\n",
    "    for inputs, label, mask in tqdm(loader, total=total_step // args.batch_size, desc='Evaluation', mininterval=1):\n",
    "        reset_hidden_states(model, mask)\n",
    "        input_ohe = to_categorical(inputs, num_classes=args.num_items)\n",
    "        input_ohe = np.expand_dims(input_ohe, axis=1)\n",
    "\n",
    "        pred = model.predict(input_ohe, batch_size=args.batch_size)\n",
    "        pred_arg = tf.argsort(pred, direction='DESCENDING')  # softmax 값이 큰 순서대로 sorting 합니다.\n",
    "\n",
    "        length = len(inputs)\n",
    "        recall_list.extend([recall_k(pred_arg[i], label[i], k) for i in range(length)])\n",
    "        mrr_list.extend([mrr_k(pred_arg[i], label[i], k) for i in range(length)])\n",
    "\n",
    "    recall, mrr = np.mean(recall_list), np.mean(mrr_list)\n",
    "    return recall, mrr"
   ]
  },
  {
   "cell_type": "markdown",
   "id": "thick-marks",
   "metadata": {},
   "source": [
    "#### 2. 함수 호출 및 학습 시작"
   ]
  },
  {
   "cell_type": "code",
   "execution_count": 45,
   "id": "loving-conflict",
   "metadata": {},
   "outputs": [
    {
     "name": "stderr",
     "output_type": "stream",
     "text": [
      "Train: 100%|█████████▉| 1602/1603 [00:53<00:00, 29.95it/s, accuracy=0.00391, train_loss=7.11]\n",
      "Evaluation:  80%|████████  | 4/5 [00:06<00:01,  1.64s/it]\n",
      "Train:   0%|          | 0/1603 [00:00<?, ?it/s, accuracy=0.00391, train_loss=7.03]"
     ]
    },
    {
     "name": "stdout",
     "output_type": "stream",
     "text": [
      "\t - Recall@20 epoch 1: 0.048828\n",
      "\t - MRR@20    epoch 1: 0.009391\n",
      "\n"
     ]
    },
    {
     "name": "stderr",
     "output_type": "stream",
     "text": [
      "Train: 100%|█████████▉| 1602/1603 [00:52<00:00, 30.40it/s, accuracy=0.0391, train_loss=6.44] \n",
      "Evaluation:  80%|████████  | 4/5 [00:06<00:01,  1.51s/it]\n",
      "Train:   0%|          | 0/1603 [00:00<?, ?it/s, accuracy=0.0234, train_loss=6.44]"
     ]
    },
    {
     "name": "stdout",
     "output_type": "stream",
     "text": [
      "\t - Recall@20 epoch 2: 0.103516\n",
      "\t - MRR@20    epoch 2: 0.030234\n",
      "\n"
     ]
    },
    {
     "name": "stderr",
     "output_type": "stream",
     "text": [
      "Train: 100%|█████████▉| 1602/1603 [00:52<00:00, 30.72it/s, accuracy=0.0703, train_loss=6.11]\n",
      "Evaluation:  80%|████████  | 4/5 [00:05<00:01,  1.46s/it]\n",
      "Train:   0%|          | 0/1603 [00:00<?, ?it/s, accuracy=0.043, train_loss=6.18] "
     ]
    },
    {
     "name": "stdout",
     "output_type": "stream",
     "text": [
      "\t - Recall@20 epoch 3: 0.151367\n",
      "\t - MRR@20    epoch 3: 0.046119\n",
      "\n"
     ]
    },
    {
     "name": "stderr",
     "output_type": "stream",
     "text": [
      "Train: 100%|█████████▉| 1602/1603 [00:51<00:00, 31.14it/s, accuracy=0.0586, train_loss=5.94]\n",
      "Evaluation:  80%|████████  | 4/5 [00:05<00:01,  1.43s/it]\n",
      "Train:   0%|          | 0/1603 [00:00<?, ?it/s, accuracy=0.0625, train_loss=6.09]"
     ]
    },
    {
     "name": "stdout",
     "output_type": "stream",
     "text": [
      "\t - Recall@20 epoch 4: 0.166016\n",
      "\t - MRR@20    epoch 4: 0.052866\n",
      "\n"
     ]
    },
    {
     "name": "stderr",
     "output_type": "stream",
     "text": [
      "Train: 100%|█████████▉| 1602/1603 [00:52<00:00, 30.50it/s, accuracy=0.0703, train_loss=5.82]\n",
      "Evaluation:  80%|████████  | 4/5 [00:05<00:01,  1.44s/it]"
     ]
    },
    {
     "name": "stdout",
     "output_type": "stream",
     "text": [
      "\t - Recall@20 epoch 5: 0.174805\n",
      "\t - MRR@20    epoch 5: 0.057009\n",
      "\n"
     ]
    },
    {
     "name": "stderr",
     "output_type": "stream",
     "text": [
      "\n"
     ]
    }
   ],
   "source": [
    "train_model(model, args)"
   ]
  },
  {
   "cell_type": "markdown",
   "id": "forced-volunteer",
   "metadata": {},
   "source": [
    "### 7. 모델 테스트 \n",
    "* 모델 성능 평가 지표 : precision, recall  \n",
    "  - Session-Based Recommendation Task에서는 모델이 k개의 아이템을 제시  \n",
    "    -> 유저가 클릭/ 구매한 n개의 아이템이 많아야 좋음  \n",
    "  - 이 때문에 recall의 개념을 확장한 **recall@k** 지표  \n",
    "    (recall= 재현율= 실제 True인 것 중에서 모델이 True라고 예측한 것의 비율)  \n",
    "    precision의 개념을 확장한 **Mean Average Precision@k** 지표 등을 사용  \n",
    "\n",
    "\n",
    "\n",
    "* 취향 적중된 추천에 대한 순서도 중요  \n",
    "    - 순서에 민감한 지표 : **MRR, NDCG** 같은 지표도 사용  \n",
    "    - MRR : 정답 아이템이 나온 순번의 역수 값 = 평균 상호 순위  \n",
    "      (정답 아이템이 추천 결과 앞쪽 순번에 나온다면 지표가 높아짐  \n",
    "      뒤쪽에 나오거나 안나온다면 지표가 낮아짐) \n",
    "\n",
    "\n",
    "* 사용할 평가 지표   \n",
    "  **MRR, Recall@k**  \n",
    " \n",
    "NDCG, MRR, MAP에 대한 자세한 설명  \n",
    "(https://medium.com/swlh/rank-aware-recsys-evaluation-metrics-5191bba16832) "
   ]
  },
  {
   "cell_type": "code",
   "execution_count": 46,
   "id": "chronic-creature",
   "metadata": {},
   "outputs": [
    {
     "name": "stderr",
     "output_type": "stream",
     "text": [
      "Evaluation: 100%|██████████| 4/4 [00:05<00:00,  1.43s/it]"
     ]
    },
    {
     "name": "stdout",
     "output_type": "stream",
     "text": [
      "\t - Recall@20: 0.181641\n",
      "\t - MRR@20: 0.063126\n",
      "\n"
     ]
    },
    {
     "name": "stderr",
     "output_type": "stream",
     "text": [
      "\n"
     ]
    }
   ],
   "source": [
    "def test_model(model, args, test):\n",
    "    test_recall, test_mrr = get_metrics(test, model, args, 20)\n",
    "    print(f\"\\t - Recall@{args.k}: {test_recall:3f}\")\n",
    "    print(f\"\\t - MRR@{args.k}: {test_mrr:3f}\\n\")\n",
    "\n",
    "test_model(model, args, test)"
   ]
  },
  {
   "cell_type": "markdown",
   "id": "artificial-miracle",
   "metadata": {},
   "source": [
    "### 8. 모델 성능 개선 _ 하이퍼파라미터 조정\n",
    "\n",
    "#### 1. Batch size 변경"
   ]
  },
  {
   "cell_type": "code",
   "execution_count": 47,
   "id": "august-locator",
   "metadata": {},
   "outputs": [
    {
     "name": "stdout",
     "output_type": "stream",
     "text": [
      "Model: \"model_1\"\n",
      "_________________________________________________________________\n",
      "Layer (type)                 Output Shape              Param #   \n",
      "=================================================================\n",
      "input_2 (InputLayer)         [(1024, 1, 3527)]         0         \n",
      "_________________________________________________________________\n",
      "GRU (GRU)                    [(1024, 50), (1024, 50)]  536850    \n",
      "_________________________________________________________________\n",
      "dropout_1 (Dropout)          (1024, 50)                0         \n",
      "_________________________________________________________________\n",
      "dense_1 (Dense)              (1024, 3527)              179877    \n",
      "=================================================================\n",
      "Total params: 716,727\n",
      "Trainable params: 716,727\n",
      "Non-trainable params: 0\n",
      "_________________________________________________________________\n"
     ]
    }
   ],
   "source": [
    "#1 batch_size=1024\n",
    "args = Args(tr, val, test, batch_size=1024, hsz=50, drop_rate=0.1, lr=0.001, epochs=5, k=20)\n",
    "model = create_model(args)\n",
    "\n",
    "\n",
    "#배치 사이즈 크면 에러남 "
   ]
  },
  {
   "cell_type": "code",
   "execution_count": 68,
   "id": "secondary-belize",
   "metadata": {
    "scrolled": true
   },
   "outputs": [
    {
     "name": "stderr",
     "output_type": "stream",
     "text": [
      "Train: 100%|█████████▉| 399/400 [00:43<00:00,  9.13it/s, accuracy=0.00293, train_loss=7.07] \n",
      "Evaluation:   0%|          | 0/1 [00:00<?, ?it/s]\n"
     ]
    },
    {
     "ename": "IndexError",
     "evalue": "index 794 is out of bounds for axis 0 with size 794",
     "output_type": "error",
     "traceback": [
      "\u001b[0;31m---------------------------------------------------------------------------\u001b[0m",
      "\u001b[0;31mIndexError\u001b[0m                                Traceback (most recent call last)",
      "\u001b[0;32m<ipython-input-68-feeb9149d92b>\u001b[0m in \u001b[0;36m<module>\u001b[0;34m\u001b[0m\n\u001b[0;32m----> 1\u001b[0;31m \u001b[0mtrain_model\u001b[0m\u001b[0;34m(\u001b[0m\u001b[0mmodel\u001b[0m\u001b[0;34m,\u001b[0m \u001b[0margs\u001b[0m\u001b[0;34m)\u001b[0m\u001b[0;34m\u001b[0m\u001b[0;34m\u001b[0m\u001b[0m\n\u001b[0m",
      "\u001b[0;32m<ipython-input-48-6ccb1f8b9ee9>\u001b[0m in \u001b[0;36mtrain_model\u001b[0;34m(model, args)\u001b[0m\n\u001b[1;32m     17\u001b[0m             \u001b[0mtr_loader\u001b[0m\u001b[0;34m.\u001b[0m\u001b[0mset_postfix\u001b[0m\u001b[0;34m(\u001b[0m\u001b[0mtrain_loss\u001b[0m\u001b[0;34m=\u001b[0m\u001b[0mresult\u001b[0m\u001b[0;34m[\u001b[0m\u001b[0;36m0\u001b[0m\u001b[0;34m]\u001b[0m\u001b[0;34m,\u001b[0m \u001b[0maccuracy\u001b[0m \u001b[0;34m=\u001b[0m \u001b[0mresult\u001b[0m\u001b[0;34m[\u001b[0m\u001b[0;36m1\u001b[0m\u001b[0;34m]\u001b[0m\u001b[0;34m)\u001b[0m\u001b[0;34m\u001b[0m\u001b[0;34m\u001b[0m\u001b[0m\n\u001b[1;32m     18\u001b[0m \u001b[0;34m\u001b[0m\u001b[0m\n\u001b[0;32m---> 19\u001b[0;31m         \u001b[0mval_recall\u001b[0m\u001b[0;34m,\u001b[0m \u001b[0mval_mrr\u001b[0m \u001b[0;34m=\u001b[0m \u001b[0mget_metrics\u001b[0m\u001b[0;34m(\u001b[0m\u001b[0margs\u001b[0m\u001b[0;34m.\u001b[0m\u001b[0mval\u001b[0m\u001b[0;34m,\u001b[0m \u001b[0mmodel\u001b[0m\u001b[0;34m,\u001b[0m \u001b[0margs\u001b[0m\u001b[0;34m,\u001b[0m \u001b[0margs\u001b[0m\u001b[0;34m.\u001b[0m\u001b[0mk\u001b[0m\u001b[0;34m)\u001b[0m  \u001b[0;31m# valid set에 대해 검증합니다.\u001b[0m\u001b[0;34m\u001b[0m\u001b[0;34m\u001b[0m\u001b[0m\n\u001b[0m\u001b[1;32m     20\u001b[0m \u001b[0;34m\u001b[0m\u001b[0m\n\u001b[1;32m     21\u001b[0m         \u001b[0mprint\u001b[0m\u001b[0;34m(\u001b[0m\u001b[0;34mf\"\\t - Recall@{args.k} epoch {epoch}: {val_recall:3f}\"\u001b[0m\u001b[0;34m)\u001b[0m\u001b[0;34m\u001b[0m\u001b[0;34m\u001b[0m\u001b[0m\n",
      "\u001b[0;32m<ipython-input-48-6ccb1f8b9ee9>\u001b[0m in \u001b[0;36mget_metrics\u001b[0;34m(data, model, args, k)\u001b[0m\n\u001b[1;32m     38\u001b[0m \u001b[0;34m\u001b[0m\u001b[0m\n\u001b[1;32m     39\u001b[0m     \u001b[0mtotal_step\u001b[0m \u001b[0;34m=\u001b[0m \u001b[0mlen\u001b[0m\u001b[0;34m(\u001b[0m\u001b[0mdata\u001b[0m\u001b[0;34m)\u001b[0m \u001b[0;34m-\u001b[0m \u001b[0mdata\u001b[0m\u001b[0;34m[\u001b[0m\u001b[0;34m'SessionId'\u001b[0m\u001b[0;34m]\u001b[0m\u001b[0;34m.\u001b[0m\u001b[0mnunique\u001b[0m\u001b[0;34m(\u001b[0m\u001b[0;34m)\u001b[0m\u001b[0;34m\u001b[0m\u001b[0;34m\u001b[0m\u001b[0m\n\u001b[0;32m---> 40\u001b[0;31m     \u001b[0;32mfor\u001b[0m \u001b[0minputs\u001b[0m\u001b[0;34m,\u001b[0m \u001b[0mlabel\u001b[0m\u001b[0;34m,\u001b[0m \u001b[0mmask\u001b[0m \u001b[0;32min\u001b[0m \u001b[0mtqdm\u001b[0m\u001b[0;34m(\u001b[0m\u001b[0mloader\u001b[0m\u001b[0;34m,\u001b[0m \u001b[0mtotal\u001b[0m\u001b[0;34m=\u001b[0m\u001b[0mtotal_step\u001b[0m \u001b[0;34m//\u001b[0m \u001b[0margs\u001b[0m\u001b[0;34m.\u001b[0m\u001b[0mbatch_size\u001b[0m\u001b[0;34m,\u001b[0m \u001b[0mdesc\u001b[0m\u001b[0;34m=\u001b[0m\u001b[0;34m'Evaluation'\u001b[0m\u001b[0;34m,\u001b[0m \u001b[0mmininterval\u001b[0m\u001b[0;34m=\u001b[0m\u001b[0;36m1\u001b[0m\u001b[0;34m)\u001b[0m\u001b[0;34m:\u001b[0m\u001b[0;34m\u001b[0m\u001b[0;34m\u001b[0m\u001b[0m\n\u001b[0m\u001b[1;32m     41\u001b[0m         \u001b[0mreset_hidden_states\u001b[0m\u001b[0;34m(\u001b[0m\u001b[0mmodel\u001b[0m\u001b[0;34m,\u001b[0m \u001b[0mmask\u001b[0m\u001b[0;34m)\u001b[0m\u001b[0;34m\u001b[0m\u001b[0;34m\u001b[0m\u001b[0m\n\u001b[1;32m     42\u001b[0m         \u001b[0minput_ohe\u001b[0m \u001b[0;34m=\u001b[0m \u001b[0mto_categorical\u001b[0m\u001b[0;34m(\u001b[0m\u001b[0minputs\u001b[0m\u001b[0;34m,\u001b[0m \u001b[0mnum_classes\u001b[0m\u001b[0;34m=\u001b[0m\u001b[0margs\u001b[0m\u001b[0;34m.\u001b[0m\u001b[0mnum_items\u001b[0m\u001b[0;34m)\u001b[0m\u001b[0;34m\u001b[0m\u001b[0;34m\u001b[0m\u001b[0m\n",
      "\u001b[0;32m/opt/conda/lib/python3.7/site-packages/tqdm/std.py\u001b[0m in \u001b[0;36m__iter__\u001b[0;34m(self)\u001b[0m\n\u001b[1;32m   1164\u001b[0m \u001b[0;34m\u001b[0m\u001b[0m\n\u001b[1;32m   1165\u001b[0m         \u001b[0;32mtry\u001b[0m\u001b[0;34m:\u001b[0m\u001b[0;34m\u001b[0m\u001b[0;34m\u001b[0m\u001b[0m\n\u001b[0;32m-> 1166\u001b[0;31m             \u001b[0;32mfor\u001b[0m \u001b[0mobj\u001b[0m \u001b[0;32min\u001b[0m \u001b[0miterable\u001b[0m\u001b[0;34m:\u001b[0m\u001b[0;34m\u001b[0m\u001b[0;34m\u001b[0m\u001b[0m\n\u001b[0m\u001b[1;32m   1167\u001b[0m                 \u001b[0;32myield\u001b[0m \u001b[0mobj\u001b[0m\u001b[0;34m\u001b[0m\u001b[0;34m\u001b[0m\u001b[0m\n\u001b[1;32m   1168\u001b[0m                 \u001b[0;31m# Update and possibly print the progressbar.\u001b[0m\u001b[0;34m\u001b[0m\u001b[0;34m\u001b[0m\u001b[0;34m\u001b[0m\u001b[0m\n",
      "\u001b[0;32m<ipython-input-34-4aa05dd3b261>\u001b[0m in \u001b[0;36m__iter__\u001b[0;34m(self)\u001b[0m\n\u001b[1;32m     16\u001b[0m         \"\"\"\n\u001b[1;32m     17\u001b[0m         \u001b[0;31m# mask : 후에 RNN Cell State를 초기화 하는데 사용\u001b[0m\u001b[0;34m\u001b[0m\u001b[0;34m\u001b[0m\u001b[0;34m\u001b[0m\u001b[0m\n\u001b[0;32m---> 18\u001b[0;31m         \u001b[0mstart\u001b[0m\u001b[0;34m,\u001b[0m \u001b[0mend\u001b[0m\u001b[0;34m,\u001b[0m \u001b[0mmask\u001b[0m\u001b[0;34m,\u001b[0m \u001b[0mlast_session\u001b[0m\u001b[0;34m,\u001b[0m \u001b[0mfinished\u001b[0m \u001b[0;34m=\u001b[0m \u001b[0mself\u001b[0m\u001b[0;34m.\u001b[0m\u001b[0minitialize\u001b[0m\u001b[0;34m(\u001b[0m\u001b[0;34m)\u001b[0m  \u001b[0;31m# initialize 메소드에서 확인해주세요.\u001b[0m\u001b[0;34m\u001b[0m\u001b[0;34m\u001b[0m\u001b[0m\n\u001b[0m\u001b[1;32m     19\u001b[0m         \"\"\"\n\u001b[1;32m     20\u001b[0m         \u001b[0mstart\u001b[0m \u001b[0;34m:\u001b[0m \u001b[0mIndex\u001b[0m \u001b[0mWhere\u001b[0m \u001b[0mSession\u001b[0m \u001b[0mStart\u001b[0m\u001b[0;34m\u001b[0m\u001b[0;34m\u001b[0m\u001b[0m\n",
      "\u001b[0;32m<ipython-input-34-4aa05dd3b261>\u001b[0m in \u001b[0;36minitialize\u001b[0;34m(self)\u001b[0m\n\u001b[1;32m     36\u001b[0m         \u001b[0mfirst_iters\u001b[0m \u001b[0;34m=\u001b[0m \u001b[0mnp\u001b[0m\u001b[0;34m.\u001b[0m\u001b[0marange\u001b[0m\u001b[0;34m(\u001b[0m\u001b[0mself\u001b[0m\u001b[0;34m.\u001b[0m\u001b[0mbatch_size\u001b[0m\u001b[0;34m)\u001b[0m    \u001b[0;31m# 첫 배치에 사용할 세션 Index를 가져옵니다.\u001b[0m\u001b[0;34m\u001b[0m\u001b[0;34m\u001b[0m\u001b[0m\n\u001b[1;32m     37\u001b[0m         \u001b[0mlast_session\u001b[0m \u001b[0;34m=\u001b[0m \u001b[0mself\u001b[0m\u001b[0;34m.\u001b[0m\u001b[0mbatch_size\u001b[0m \u001b[0;34m-\u001b[0m \u001b[0;36m1\u001b[0m    \u001b[0;31m# 마지막으로 다루고 있는 세션 Index를 저장해둡니다.\u001b[0m\u001b[0;34m\u001b[0m\u001b[0;34m\u001b[0m\u001b[0m\n\u001b[0;32m---> 38\u001b[0;31m         \u001b[0mstart\u001b[0m \u001b[0;34m=\u001b[0m \u001b[0mself\u001b[0m\u001b[0;34m.\u001b[0m\u001b[0mdataset\u001b[0m\u001b[0;34m.\u001b[0m\u001b[0mclick_offsets\u001b[0m\u001b[0;34m[\u001b[0m\u001b[0mself\u001b[0m\u001b[0;34m.\u001b[0m\u001b[0mdataset\u001b[0m\u001b[0;34m.\u001b[0m\u001b[0msession_idx\u001b[0m\u001b[0;34m[\u001b[0m\u001b[0mfirst_iters\u001b[0m\u001b[0;34m]\u001b[0m\u001b[0;34m]\u001b[0m       \u001b[0;31m# data 상에서 session이 시작된 위치를 가져옵니다.\u001b[0m\u001b[0;34m\u001b[0m\u001b[0;34m\u001b[0m\u001b[0m\n\u001b[0m\u001b[1;32m     39\u001b[0m         \u001b[0mend\u001b[0m \u001b[0;34m=\u001b[0m \u001b[0mself\u001b[0m\u001b[0;34m.\u001b[0m\u001b[0mdataset\u001b[0m\u001b[0;34m.\u001b[0m\u001b[0mclick_offsets\u001b[0m\u001b[0;34m[\u001b[0m\u001b[0mself\u001b[0m\u001b[0;34m.\u001b[0m\u001b[0mdataset\u001b[0m\u001b[0;34m.\u001b[0m\u001b[0msession_idx\u001b[0m\u001b[0;34m[\u001b[0m\u001b[0mfirst_iters\u001b[0m\u001b[0;34m]\u001b[0m \u001b[0;34m+\u001b[0m \u001b[0;36m1\u001b[0m\u001b[0;34m]\u001b[0m  \u001b[0;31m# session이 끝난 위치 바로 다음 위치를 가져옵니다.\u001b[0m\u001b[0;34m\u001b[0m\u001b[0;34m\u001b[0m\u001b[0m\n\u001b[1;32m     40\u001b[0m         \u001b[0mmask\u001b[0m \u001b[0;34m=\u001b[0m \u001b[0mnp\u001b[0m\u001b[0;34m.\u001b[0m\u001b[0marray\u001b[0m\u001b[0;34m(\u001b[0m\u001b[0;34m[\u001b[0m\u001b[0;34m]\u001b[0m\u001b[0;34m)\u001b[0m   \u001b[0;31m# session의 모든 아이템을 다 돌은 경우 mask에 추가해줄 것입니다.\u001b[0m\u001b[0;34m\u001b[0m\u001b[0;34m\u001b[0m\u001b[0m\n",
      "\u001b[0;31mIndexError\u001b[0m: index 794 is out of bounds for axis 0 with size 794"
     ]
    }
   ],
   "source": [
    "train_model(model, args) \n",
    "#배치 사이즈 크면 에러남 "
   ]
  },
  {
   "cell_type": "code",
   "execution_count": 88,
   "id": "egyptian-maryland",
   "metadata": {
    "scrolled": true
   },
   "outputs": [],
   "source": [
    "#2. batch_size=128\n",
    "args = Args(tr, val, test, batch_size=128, hsz=50, drop_rate=0.1, lr=0.01, epochs=10, k=20)"
   ]
  },
  {
   "cell_type": "code",
   "execution_count": 87,
   "id": "greek-triple",
   "metadata": {},
   "outputs": [
    {
     "name": "stderr",
     "output_type": "stream",
     "text": [
      "Train: 100%|█████████▉| 3206/3207 [01:10<00:00, 45.27it/s, accuracy=0.0469, train_loss=5.95] \n",
      "Evaluation:  80%|████████  | 8/10 [00:06<00:01,  1.30it/s]\n",
      "Train:   0%|          | 0/3207 [00:00<?, ?it/s, accuracy=0.0625, train_loss=6.38] "
     ]
    },
    {
     "name": "stdout",
     "output_type": "stream",
     "text": [
      "\t - Recall@20 epoch 1: 0.178711\n",
      "\t - MRR@20    epoch 1: 0.057978\n",
      "\n"
     ]
    },
    {
     "name": "stderr",
     "output_type": "stream",
     "text": [
      "Train: 100%|█████████▉| 3206/3207 [01:08<00:00, 46.90it/s, accuracy=0.0625, train_loss=5.75] \n",
      "Evaluation:  80%|████████  | 8/10 [00:05<00:01,  1.36it/s]\n",
      "Train:   0%|          | 0/3207 [00:00<?, ?it/s, accuracy=0.0469, train_loss=6.27] "
     ]
    },
    {
     "name": "stdout",
     "output_type": "stream",
     "text": [
      "\t - Recall@20 epoch 2: 0.180664\n",
      "\t - MRR@20    epoch 2: 0.056033\n",
      "\n"
     ]
    },
    {
     "name": "stderr",
     "output_type": "stream",
     "text": [
      "Train: 100%|█████████▉| 3206/3207 [01:08<00:00, 46.94it/s, accuracy=0.0469, train_loss=5.75] \n",
      "Evaluation:  80%|████████  | 8/10 [00:05<00:01,  1.37it/s]\n",
      "Train:   0%|          | 0/3207 [00:00<?, ?it/s, accuracy=0.0391, train_loss=6.28] "
     ]
    },
    {
     "name": "stdout",
     "output_type": "stream",
     "text": [
      "\t - Recall@20 epoch 3: 0.191406\n",
      "\t - MRR@20    epoch 3: 0.058018\n",
      "\n"
     ]
    },
    {
     "name": "stderr",
     "output_type": "stream",
     "text": [
      "Train: 100%|█████████▉| 3206/3207 [01:08<00:00, 46.82it/s, accuracy=0.0625, train_loss=5.63] \n",
      "Evaluation:  80%|████████  | 8/10 [00:05<00:01,  1.36it/s]\n",
      "Train:   0%|          | 0/3207 [00:00<?, ?it/s, accuracy=0.0469, train_loss=6.23] "
     ]
    },
    {
     "name": "stdout",
     "output_type": "stream",
     "text": [
      "\t - Recall@20 epoch 4: 0.183594\n",
      "\t - MRR@20    epoch 4: 0.055842\n",
      "\n"
     ]
    },
    {
     "name": "stderr",
     "output_type": "stream",
     "text": [
      "Train: 100%|█████████▉| 3206/3207 [01:07<00:00, 47.33it/s, accuracy=0.0703, train_loss=5.63] \n",
      "Evaluation:  80%|████████  | 8/10 [00:05<00:01,  1.36it/s]\n",
      "Train:   0%|          | 0/3207 [00:00<?, ?it/s, accuracy=0.0547, train_loss=6]    "
     ]
    },
    {
     "name": "stdout",
     "output_type": "stream",
     "text": [
      "\t - Recall@20 epoch 5: 0.182617\n",
      "\t - MRR@20    epoch 5: 0.056478\n",
      "\n"
     ]
    },
    {
     "name": "stderr",
     "output_type": "stream",
     "text": [
      "Train: 100%|█████████▉| 3206/3207 [01:07<00:00, 47.29it/s, accuracy=0.0547, train_loss=5.64] \n",
      "Evaluation:  80%|████████  | 8/10 [00:05<00:01,  1.35it/s]\n",
      "Train:   0%|          | 0/3207 [00:00<?, ?it/s, accuracy=0.0703, train_loss=6.07]"
     ]
    },
    {
     "name": "stdout",
     "output_type": "stream",
     "text": [
      "\t - Recall@20 epoch 6: 0.181641\n",
      "\t - MRR@20    epoch 6: 0.055826\n",
      "\n"
     ]
    },
    {
     "name": "stderr",
     "output_type": "stream",
     "text": [
      "Train: 100%|█████████▉| 3206/3207 [01:08<00:00, 47.10it/s, accuracy=0.0547, train_loss=5.55]\n",
      "Evaluation:  80%|████████  | 8/10 [00:05<00:01,  1.35it/s]\n",
      "Train:   0%|          | 0/3207 [00:00<?, ?it/s, accuracy=0.0469, train_loss=6.16]"
     ]
    },
    {
     "name": "stdout",
     "output_type": "stream",
     "text": [
      "\t - Recall@20 epoch 7: 0.169922\n",
      "\t - MRR@20    epoch 7: 0.054798\n",
      "\n"
     ]
    },
    {
     "name": "stderr",
     "output_type": "stream",
     "text": [
      "Train: 100%|█████████▉| 3206/3207 [01:09<00:00, 46.17it/s, accuracy=0.0469, train_loss=5.57] \n",
      "Evaluation:  80%|████████  | 8/10 [00:05<00:01,  1.36it/s]\n",
      "Train:   0%|          | 0/3207 [00:00<?, ?it/s, accuracy=0.0703, train_loss=6.15]"
     ]
    },
    {
     "name": "stdout",
     "output_type": "stream",
     "text": [
      "\t - Recall@20 epoch 8: 0.177734\n",
      "\t - MRR@20    epoch 8: 0.055304\n",
      "\n"
     ]
    },
    {
     "name": "stderr",
     "output_type": "stream",
     "text": [
      "Train: 100%|█████████▉| 3206/3207 [01:09<00:00, 46.30it/s, accuracy=0.0469, train_loss=5.58] \n",
      "Evaluation:  80%|████████  | 8/10 [00:05<00:01,  1.36it/s]\n",
      "Train:   0%|          | 0/3207 [00:00<?, ?it/s, accuracy=0.0547, train_loss=6.07]"
     ]
    },
    {
     "name": "stdout",
     "output_type": "stream",
     "text": [
      "\t - Recall@20 epoch 9: 0.166992\n",
      "\t - MRR@20    epoch 9: 0.054715\n",
      "\n"
     ]
    },
    {
     "name": "stderr",
     "output_type": "stream",
     "text": [
      "Train: 100%|█████████▉| 3206/3207 [01:09<00:00, 46.10it/s, accuracy=0.0391, train_loss=5.56] \n",
      "Evaluation:  80%|████████  | 8/10 [00:05<00:01,  1.37it/s]"
     ]
    },
    {
     "name": "stdout",
     "output_type": "stream",
     "text": [
      "\t - Recall@20 epoch 10: 0.173828\n",
      "\t - MRR@20    epoch 10: 0.056275\n",
      "\n"
     ]
    },
    {
     "name": "stderr",
     "output_type": "stream",
     "text": [
      "\n"
     ]
    }
   ],
   "source": [
    "train_model(model, args)"
   ]
  },
  {
   "cell_type": "code",
   "execution_count": 89,
   "id": "cosmetic-cleaners",
   "metadata": {},
   "outputs": [
    {
     "name": "stderr",
     "output_type": "stream",
     "text": [
      "Evaluation:  89%|████████▉ | 8/9 [00:05<00:00,  1.39it/s]"
     ]
    },
    {
     "name": "stdout",
     "output_type": "stream",
     "text": [
      "\t - Recall@20: 0.195312\n",
      "\t - MRR@20: 0.068286\n",
      "\n"
     ]
    },
    {
     "name": "stderr",
     "output_type": "stream",
     "text": [
      "\n"
     ]
    }
   ],
   "source": [
    "test_model(model, args, test)"
   ]
  },
  {
   "cell_type": "code",
   "execution_count": 90,
   "id": "reliable-maker",
   "metadata": {},
   "outputs": [
    {
     "name": "stdout",
     "output_type": "stream",
     "text": [
      "Model: \"model_14\"\n",
      "_________________________________________________________________\n",
      "Layer (type)                 Output Shape              Param #   \n",
      "=================================================================\n",
      "input_15 (InputLayer)        [(64, 1, 3527)]           0         \n",
      "_________________________________________________________________\n",
      "GRU (GRU)                    [(64, 50), (64, 50)]      536850    \n",
      "_________________________________________________________________\n",
      "dropout_14 (Dropout)         (64, 50)                  0         \n",
      "_________________________________________________________________\n",
      "dense_14 (Dense)             (64, 3527)                179877    \n",
      "=================================================================\n",
      "Total params: 716,727\n",
      "Trainable params: 716,727\n",
      "Non-trainable params: 0\n",
      "_________________________________________________________________\n"
     ]
    }
   ],
   "source": [
    "#3. batch_size= 64\n",
    "args = Args(tr, val, test, batch_size= 64, hsz=50, drop_rate=0.1, lr=0.001, epochs=10, k=20)\n",
    "model = create_model(args)"
   ]
  },
  {
   "cell_type": "code",
   "execution_count": 91,
   "id": "offshore-omaha",
   "metadata": {},
   "outputs": [
    {
     "name": "stderr",
     "output_type": "stream",
     "text": [
      "Train: 100%|██████████| 6414/6414 [01:49<00:00, 58.70it/s, accuracy=0.0312, train_loss=6.47]\n",
      "Evaluation:  95%|█████████▌| 19/20 [00:07<00:00,  2.41it/s]\n",
      "Train:   0%|          | 0/6414 [00:00<?, ?it/s, accuracy=0.0469, train_loss=6.61]"
     ]
    },
    {
     "name": "stdout",
     "output_type": "stream",
     "text": [
      "\t - Recall@20 epoch 1: 0.120888\n",
      "\t - MRR@20    epoch 1: 0.033978\n",
      "\n"
     ]
    },
    {
     "name": "stderr",
     "output_type": "stream",
     "text": [
      "Train: 100%|██████████| 6414/6414 [01:45<00:00, 60.64it/s, accuracy=0.0469, train_loss=6.01]\n",
      "Evaluation:  95%|█████████▌| 19/20 [00:07<00:00,  2.63it/s]\n",
      "Train:   0%|          | 0/6414 [00:00<?, ?it/s, accuracy=0.109, train_loss=5.95] "
     ]
    },
    {
     "name": "stdout",
     "output_type": "stream",
     "text": [
      "\t - Recall@20 epoch 2: 0.198191\n",
      "\t - MRR@20    epoch 2: 0.059895\n",
      "\n"
     ]
    },
    {
     "name": "stderr",
     "output_type": "stream",
     "text": [
      "Train: 100%|██████████| 6414/6414 [01:47<00:00, 59.71it/s, accuracy=0.0625, train_loss=5.83]\n",
      "Evaluation:  95%|█████████▌| 19/20 [00:07<00:00,  2.64it/s]\n",
      "Train:   0%|          | 0/6414 [00:00<?, ?it/s, accuracy=0.0625, train_loss=6.05]"
     ]
    },
    {
     "name": "stdout",
     "output_type": "stream",
     "text": [
      "\t - Recall@20 epoch 3: 0.208882\n",
      "\t - MRR@20    epoch 3: 0.070062\n",
      "\n"
     ]
    },
    {
     "name": "stderr",
     "output_type": "stream",
     "text": [
      "Train: 100%|██████████| 6414/6414 [01:43<00:00, 62.25it/s, accuracy=0.0781, train_loss=5.87]\n",
      "Evaluation:  95%|█████████▌| 19/20 [00:07<00:00,  2.59it/s]\n",
      "Train:   0%|          | 0/6414 [00:00<?, ?it/s, accuracy=0.0469, train_loss=5.88]"
     ]
    },
    {
     "name": "stdout",
     "output_type": "stream",
     "text": [
      "\t - Recall@20 epoch 4: 0.210526\n",
      "\t - MRR@20    epoch 4: 0.068132\n",
      "\n"
     ]
    },
    {
     "name": "stderr",
     "output_type": "stream",
     "text": [
      "Train: 100%|██████████| 6414/6414 [01:43<00:00, 62.11it/s, accuracy=0.0781, train_loss=5.81]\n",
      "Evaluation:  95%|█████████▌| 19/20 [00:07<00:00,  2.65it/s]\n",
      "Train:   0%|          | 0/6414 [00:00<?, ?it/s, accuracy=0.0312, train_loss=5.8] "
     ]
    },
    {
     "name": "stdout",
     "output_type": "stream",
     "text": [
      "\t - Recall@20 epoch 5: 0.210526\n",
      "\t - MRR@20    epoch 5: 0.068893\n",
      "\n"
     ]
    },
    {
     "name": "stderr",
     "output_type": "stream",
     "text": [
      "Train: 100%|██████████| 6414/6414 [01:44<00:00, 61.10it/s, accuracy=0.0938, train_loss=5.62]\n",
      "Evaluation:  95%|█████████▌| 19/20 [00:07<00:00,  2.65it/s]\n",
      "Train:   0%|          | 0/6414 [00:00<?, ?it/s, accuracy=0.0781, train_loss=5.86]"
     ]
    },
    {
     "name": "stdout",
     "output_type": "stream",
     "text": [
      "\t - Recall@20 epoch 6: 0.209704\n",
      "\t - MRR@20    epoch 6: 0.070815\n",
      "\n"
     ]
    },
    {
     "name": "stderr",
     "output_type": "stream",
     "text": [
      "Train: 100%|██████████| 6414/6414 [01:45<00:00, 61.07it/s, accuracy=0.0781, train_loss=5.63]\n",
      "Evaluation:  95%|█████████▌| 19/20 [00:07<00:00,  2.66it/s]\n",
      "Train:   0%|          | 0/6414 [00:00<?, ?it/s, accuracy=0.0625, train_loss=5.73]"
     ]
    },
    {
     "name": "stdout",
     "output_type": "stream",
     "text": [
      "\t - Recall@20 epoch 7: 0.209704\n",
      "\t - MRR@20    epoch 7: 0.071483\n",
      "\n"
     ]
    },
    {
     "name": "stderr",
     "output_type": "stream",
     "text": [
      "Train: 100%|██████████| 6414/6414 [01:42<00:00, 62.80it/s, accuracy=0.0938, train_loss=5.69]\n",
      "Evaluation:  95%|█████████▌| 19/20 [00:07<00:00,  2.65it/s]\n",
      "Train:   0%|          | 0/6414 [00:00<?, ?it/s, accuracy=0.0625, train_loss=5.58]"
     ]
    },
    {
     "name": "stdout",
     "output_type": "stream",
     "text": [
      "\t - Recall@20 epoch 8: 0.216283\n",
      "\t - MRR@20    epoch 8: 0.070100\n",
      "\n"
     ]
    },
    {
     "name": "stderr",
     "output_type": "stream",
     "text": [
      "Train: 100%|██████████| 6414/6414 [01:41<00:00, 63.25it/s, accuracy=0.0938, train_loss=5.72]\n",
      "Evaluation:  95%|█████████▌| 19/20 [00:07<00:00,  2.64it/s]\n",
      "Train:   0%|          | 0/6414 [00:00<?, ?it/s, accuracy=0.0625, train_loss=5.6] "
     ]
    },
    {
     "name": "stdout",
     "output_type": "stream",
     "text": [
      "\t - Recall@20 epoch 9: 0.215461\n",
      "\t - MRR@20    epoch 9: 0.072145\n",
      "\n"
     ]
    },
    {
     "name": "stderr",
     "output_type": "stream",
     "text": [
      "Train: 100%|██████████| 6414/6414 [01:48<00:00, 59.26it/s, accuracy=0.0781, train_loss=5.62]\n",
      "Evaluation:  95%|█████████▌| 19/20 [00:07<00:00,  2.63it/s]"
     ]
    },
    {
     "name": "stdout",
     "output_type": "stream",
     "text": [
      "\t - Recall@20 epoch 10: 0.219572\n",
      "\t - MRR@20    epoch 10: 0.073340\n",
      "\n"
     ]
    },
    {
     "name": "stderr",
     "output_type": "stream",
     "text": [
      "\n"
     ]
    }
   ],
   "source": [
    "train_model(model, args)"
   ]
  },
  {
   "cell_type": "code",
   "execution_count": 92,
   "id": "awful-aviation",
   "metadata": {},
   "outputs": [
    {
     "name": "stderr",
     "output_type": "stream",
     "text": [
      "Evaluation:  95%|█████████▍| 18/19 [00:06<00:00,  2.75it/s]"
     ]
    },
    {
     "name": "stdout",
     "output_type": "stream",
     "text": [
      "\t - Recall@20: 0.258681\n",
      "\t - MRR@20: 0.097276\n",
      "\n"
     ]
    },
    {
     "name": "stderr",
     "output_type": "stream",
     "text": [
      "\n"
     ]
    }
   ],
   "source": [
    "test_model(model, args, test)"
   ]
  },
  {
   "cell_type": "markdown",
   "id": "advance-therapist",
   "metadata": {},
   "source": [
    "#### 2. epoch 변경"
   ]
  },
  {
   "cell_type": "code",
   "execution_count": 59,
   "id": "pleasant-prize",
   "metadata": {},
   "outputs": [
    {
     "name": "stdout",
     "output_type": "stream",
     "text": [
      "Model: \"model_6\"\n",
      "_________________________________________________________________\n",
      "Layer (type)                 Output Shape              Param #   \n",
      "=================================================================\n",
      "input_7 (InputLayer)         [(128, 1, 3527)]          0         \n",
      "_________________________________________________________________\n",
      "GRU (GRU)                    [(128, 50), (128, 50)]    536850    \n",
      "_________________________________________________________________\n",
      "dropout_6 (Dropout)          (128, 50)                 0         \n",
      "_________________________________________________________________\n",
      "dense_6 (Dense)              (128, 3527)               179877    \n",
      "=================================================================\n",
      "Total params: 716,727\n",
      "Trainable params: 716,727\n",
      "Non-trainable params: 0\n",
      "_________________________________________________________________\n"
     ]
    }
   ],
   "source": [
    "#1 epochs=10\n",
    "args = Args(tr, val, test, batch_size= 128, hsz=50, drop_rate=0.1, lr=0.001, epochs=10, k=20)\n",
    "model = create_model(args)"
   ]
  },
  {
   "cell_type": "code",
   "execution_count": 60,
   "id": "proved-detector",
   "metadata": {},
   "outputs": [
    {
     "name": "stderr",
     "output_type": "stream",
     "text": [
      "Train: 100%|█████████▉| 3206/3207 [01:15<00:00, 42.63it/s, accuracy=0.0156, train_loss=6.51] \n",
      "Evaluation:  80%|████████  | 8/10 [00:06<00:01,  1.25it/s]\n",
      "Train:   0%|          | 0/3207 [00:00<?, ?it/s, accuracy=0.0312, train_loss=6.87] "
     ]
    },
    {
     "name": "stdout",
     "output_type": "stream",
     "text": [
      "\t - Recall@20 epoch 1: 0.083008\n",
      "\t - MRR@20    epoch 1: 0.021416\n",
      "\n"
     ]
    },
    {
     "name": "stderr",
     "output_type": "stream",
     "text": [
      "Train: 100%|█████████▉| 3206/3207 [01:11<00:00, 44.80it/s, accuracy=0.0469, train_loss=6.04] \n",
      "Evaluation:  80%|████████  | 8/10 [00:05<00:01,  1.35it/s]\n",
      "Train:   0%|          | 0/3207 [00:00<?, ?it/s, accuracy=0.0625, train_loss=6.11]"
     ]
    },
    {
     "name": "stdout",
     "output_type": "stream",
     "text": [
      "\t - Recall@20 epoch 2: 0.173828\n",
      "\t - MRR@20    epoch 2: 0.048894\n",
      "\n"
     ]
    },
    {
     "name": "stderr",
     "output_type": "stream",
     "text": [
      "Train: 100%|█████████▉| 3206/3207 [01:10<00:00, 45.80it/s, accuracy=0.0547, train_loss=5.89] \n",
      "Evaluation:  80%|████████  | 8/10 [00:05<00:01,  1.36it/s]\n",
      "Train:   0%|          | 0/3207 [00:00<?, ?it/s, accuracy=0.0469, train_loss=6.03]"
     ]
    },
    {
     "name": "stdout",
     "output_type": "stream",
     "text": [
      "\t - Recall@20 epoch 3: 0.193359\n",
      "\t - MRR@20    epoch 3: 0.058371\n",
      "\n"
     ]
    },
    {
     "name": "stderr",
     "output_type": "stream",
     "text": [
      "Train: 100%|█████████▉| 3206/3207 [01:10<00:00, 45.28it/s, accuracy=0.0312, train_loss=5.76] \n",
      "Evaluation:  80%|████████  | 8/10 [00:05<00:01,  1.38it/s]\n",
      "Train:   0%|          | 0/3207 [00:00<?, ?it/s, accuracy=0.0703, train_loss=5.95]"
     ]
    },
    {
     "name": "stdout",
     "output_type": "stream",
     "text": [
      "\t - Recall@20 epoch 4: 0.204102\n",
      "\t - MRR@20    epoch 4: 0.065513\n",
      "\n"
     ]
    },
    {
     "name": "stderr",
     "output_type": "stream",
     "text": [
      "Train: 100%|█████████▉| 3206/3207 [01:11<00:00, 45.10it/s, accuracy=0.0469, train_loss=5.79] \n",
      "Evaluation:  80%|████████  | 8/10 [00:05<00:01,  1.37it/s]\n",
      "Train:   0%|          | 0/3207 [00:00<?, ?it/s, accuracy=0.117, train_loss=5.86] "
     ]
    },
    {
     "name": "stdout",
     "output_type": "stream",
     "text": [
      "\t - Recall@20 epoch 5: 0.212891\n",
      "\t - MRR@20    epoch 5: 0.068447\n",
      "\n"
     ]
    },
    {
     "name": "stderr",
     "output_type": "stream",
     "text": [
      "Train: 100%|█████████▉| 3206/3207 [01:12<00:00, 44.23it/s, accuracy=0.0391, train_loss=5.74] \n",
      "Evaluation:  80%|████████  | 8/10 [00:05<00:01,  1.37it/s]\n",
      "Train:   0%|          | 0/3207 [00:00<?, ?it/s, accuracy=0.0703, train_loss=5.79]"
     ]
    },
    {
     "name": "stdout",
     "output_type": "stream",
     "text": [
      "\t - Recall@20 epoch 6: 0.217773\n",
      "\t - MRR@20    epoch 6: 0.069808\n",
      "\n"
     ]
    },
    {
     "name": "stderr",
     "output_type": "stream",
     "text": [
      "Train: 100%|█████████▉| 3206/3207 [01:12<00:00, 44.29it/s, accuracy=0.0391, train_loss=5.63] \n",
      "Evaluation:  80%|████████  | 8/10 [00:05<00:01,  1.38it/s]\n",
      "Train:   0%|          | 0/3207 [00:00<?, ?it/s, accuracy=0.0859, train_loss=5.47] "
     ]
    },
    {
     "name": "stdout",
     "output_type": "stream",
     "text": [
      "\t - Recall@20 epoch 7: 0.216797\n",
      "\t - MRR@20    epoch 7: 0.069277\n",
      "\n"
     ]
    },
    {
     "name": "stderr",
     "output_type": "stream",
     "text": [
      "Train: 100%|█████████▉| 3206/3207 [01:12<00:00, 44.22it/s, accuracy=0.0469, train_loss=5.68] \n",
      "Evaluation:  80%|████████  | 8/10 [00:05<00:01,  1.40it/s]\n",
      "Train:   0%|          | 0/3207 [00:00<?, ?it/s, accuracy=0.0938, train_loss=5.73] "
     ]
    },
    {
     "name": "stdout",
     "output_type": "stream",
     "text": [
      "\t - Recall@20 epoch 8: 0.217773\n",
      "\t - MRR@20    epoch 8: 0.068882\n",
      "\n"
     ]
    },
    {
     "name": "stderr",
     "output_type": "stream",
     "text": [
      "Train: 100%|█████████▉| 3206/3207 [01:13<00:00, 43.86it/s, accuracy=0.0469, train_loss=5.66] \n",
      "Evaluation:  80%|████████  | 8/10 [00:05<00:01,  1.40it/s]\n",
      "Train:   0%|          | 0/3207 [00:00<?, ?it/s, accuracy=0.0859, train_loss=5.46] "
     ]
    },
    {
     "name": "stdout",
     "output_type": "stream",
     "text": [
      "\t - Recall@20 epoch 9: 0.221680\n",
      "\t - MRR@20    epoch 9: 0.067562\n",
      "\n"
     ]
    },
    {
     "name": "stderr",
     "output_type": "stream",
     "text": [
      "Train: 100%|█████████▉| 3206/3207 [01:12<00:00, 44.46it/s, accuracy=0.0625, train_loss=5.63] \n",
      "Evaluation:  80%|████████  | 8/10 [00:05<00:01,  1.38it/s]"
     ]
    },
    {
     "name": "stdout",
     "output_type": "stream",
     "text": [
      "\t - Recall@20 epoch 10: 0.224609\n",
      "\t - MRR@20    epoch 10: 0.068598\n",
      "\n"
     ]
    },
    {
     "name": "stderr",
     "output_type": "stream",
     "text": [
      "\n"
     ]
    }
   ],
   "source": [
    "train_model(model, args)"
   ]
  },
  {
   "cell_type": "code",
   "execution_count": 61,
   "id": "statutory-clock",
   "metadata": {},
   "outputs": [
    {
     "name": "stderr",
     "output_type": "stream",
     "text": [
      "Evaluation:  89%|████████▉ | 8/9 [00:05<00:00,  1.42it/s]"
     ]
    },
    {
     "name": "stdout",
     "output_type": "stream",
     "text": [
      "\t - Recall@20: 0.237305\n",
      "\t - MRR@20: 0.088246\n",
      "\n"
     ]
    },
    {
     "name": "stderr",
     "output_type": "stream",
     "text": [
      "\n"
     ]
    }
   ],
   "source": [
    "test_model(model, args, test)"
   ]
  },
  {
   "cell_type": "code",
   "execution_count": 62,
   "id": "possible-policy",
   "metadata": {},
   "outputs": [
    {
     "name": "stdout",
     "output_type": "stream",
     "text": [
      "Model: \"model_7\"\n",
      "_________________________________________________________________\n",
      "Layer (type)                 Output Shape              Param #   \n",
      "=================================================================\n",
      "input_8 (InputLayer)         [(128, 1, 3527)]          0         \n",
      "_________________________________________________________________\n",
      "GRU (GRU)                    [(128, 50), (128, 50)]    536850    \n",
      "_________________________________________________________________\n",
      "dropout_7 (Dropout)          (128, 50)                 0         \n",
      "_________________________________________________________________\n",
      "dense_7 (Dense)              (128, 3527)               179877    \n",
      "=================================================================\n",
      "Total params: 716,727\n",
      "Trainable params: 716,727\n",
      "Non-trainable params: 0\n",
      "_________________________________________________________________\n"
     ]
    }
   ],
   "source": [
    "#2 epochs= 15\n",
    "args = Args(tr, val, test, batch_size= 128, hsz=50, drop_rate=0.1, lr=0.001, epochs=15, k=20)\n",
    "model = create_model(args)"
   ]
  },
  {
   "cell_type": "code",
   "execution_count": 63,
   "id": "terminal-shanghai",
   "metadata": {
    "scrolled": false
   },
   "outputs": [
    {
     "name": "stderr",
     "output_type": "stream",
     "text": [
      "Train: 100%|█████████▉| 3206/3207 [01:13<00:00, 43.58it/s, accuracy=0.0234, train_loss=6.52] \n",
      "Evaluation:  80%|████████  | 8/10 [00:06<00:01,  1.24it/s]\n",
      "Train:   0%|          | 0/3207 [00:00<?, ?it/s, accuracy=0.0312, train_loss=6.85] "
     ]
    },
    {
     "name": "stdout",
     "output_type": "stream",
     "text": [
      "\t - Recall@20 epoch 1: 0.092773\n",
      "\t - MRR@20    epoch 1: 0.024890\n",
      "\n"
     ]
    },
    {
     "name": "stderr",
     "output_type": "stream",
     "text": [
      "Train: 100%|█████████▉| 3206/3207 [01:10<00:00, 45.55it/s, accuracy=0.0625, train_loss=6.09] \n",
      "Evaluation:  80%|████████  | 8/10 [00:05<00:01,  1.36it/s]\n",
      "Train:   0%|          | 0/3207 [00:00<?, ?it/s, accuracy=0.0703, train_loss=6.04]"
     ]
    },
    {
     "name": "stdout",
     "output_type": "stream",
     "text": [
      "\t - Recall@20 epoch 2: 0.175781\n",
      "\t - MRR@20    epoch 2: 0.049671\n",
      "\n"
     ]
    },
    {
     "name": "stderr",
     "output_type": "stream",
     "text": [
      "Train: 100%|█████████▉| 3206/3207 [01:10<00:00, 45.23it/s, accuracy=0.0703, train_loss=5.81] \n",
      "Evaluation:  80%|████████  | 8/10 [00:05<00:01,  1.36it/s]\n",
      "Train:   0%|          | 0/3207 [00:00<?, ?it/s, accuracy=0.0469, train_loss=6.09]"
     ]
    },
    {
     "name": "stdout",
     "output_type": "stream",
     "text": [
      "\t - Recall@20 epoch 3: 0.200195\n",
      "\t - MRR@20    epoch 3: 0.064102\n",
      "\n"
     ]
    },
    {
     "name": "stderr",
     "output_type": "stream",
     "text": [
      "Train: 100%|█████████▉| 3206/3207 [01:14<00:00, 43.29it/s, accuracy=0.0547, train_loss=5.77] \n",
      "Evaluation:  80%|████████  | 8/10 [00:05<00:01,  1.37it/s]\n",
      "Train:   0%|          | 0/3207 [00:00<?, ?it/s, accuracy=0.0625, train_loss=6.05] "
     ]
    },
    {
     "name": "stdout",
     "output_type": "stream",
     "text": [
      "\t - Recall@20 epoch 4: 0.213867\n",
      "\t - MRR@20    epoch 4: 0.070785\n",
      "\n"
     ]
    },
    {
     "name": "stderr",
     "output_type": "stream",
     "text": [
      "Train: 100%|█████████▉| 3206/3207 [01:10<00:00, 45.39it/s, accuracy=0.0469, train_loss=5.66] \n",
      "Evaluation:  80%|████████  | 8/10 [00:05<00:01,  1.37it/s]\n",
      "Train:   0%|          | 0/3207 [00:00<?, ?it/s, accuracy=0.0703, train_loss=5.93]"
     ]
    },
    {
     "name": "stdout",
     "output_type": "stream",
     "text": [
      "\t - Recall@20 epoch 5: 0.220703\n",
      "\t - MRR@20    epoch 5: 0.073110\n",
      "\n"
     ]
    },
    {
     "name": "stderr",
     "output_type": "stream",
     "text": [
      "Train: 100%|█████████▉| 3206/3207 [01:11<00:00, 45.13it/s, accuracy=0.0391, train_loss=5.6]  \n",
      "Evaluation:  80%|████████  | 8/10 [00:05<00:01,  1.38it/s]\n",
      "Train:   0%|          | 0/3207 [00:00<?, ?it/s, accuracy=0.0625, train_loss=5.46]"
     ]
    },
    {
     "name": "stdout",
     "output_type": "stream",
     "text": [
      "\t - Recall@20 epoch 6: 0.218750\n",
      "\t - MRR@20    epoch 6: 0.072599\n",
      "\n"
     ]
    },
    {
     "name": "stderr",
     "output_type": "stream",
     "text": [
      "Train: 100%|█████████▉| 3206/3207 [01:10<00:00, 45.74it/s, accuracy=0.0469, train_loss=5.58] \n",
      "Evaluation:  80%|████████  | 8/10 [00:05<00:01,  1.37it/s]\n",
      "Train:   0%|          | 0/3207 [00:00<?, ?it/s, accuracy=0.0781, train_loss=5.91]"
     ]
    },
    {
     "name": "stdout",
     "output_type": "stream",
     "text": [
      "\t - Recall@20 epoch 7: 0.213867\n",
      "\t - MRR@20    epoch 7: 0.074712\n",
      "\n"
     ]
    },
    {
     "name": "stderr",
     "output_type": "stream",
     "text": [
      "Train: 100%|█████████▉| 3206/3207 [01:10<00:00, 45.31it/s, accuracy=0.0625, train_loss=5.52] \n",
      "Evaluation:  80%|████████  | 8/10 [00:05<00:01,  1.37it/s]\n",
      "Train:   0%|          | 0/3207 [00:00<?, ?it/s, accuracy=0.0859, train_loss=5.75] "
     ]
    },
    {
     "name": "stdout",
     "output_type": "stream",
     "text": [
      "\t - Recall@20 epoch 8: 0.215820\n",
      "\t - MRR@20    epoch 8: 0.074567\n",
      "\n"
     ]
    },
    {
     "name": "stderr",
     "output_type": "stream",
     "text": [
      "Train: 100%|█████████▉| 3206/3207 [01:10<00:00, 45.35it/s, accuracy=0.0625, train_loss=5.45] \n",
      "Evaluation:  80%|████████  | 8/10 [00:05<00:01,  1.39it/s]\n",
      "Train:   0%|          | 0/3207 [00:00<?, ?it/s, accuracy=0.0938, train_loss=5.81] "
     ]
    },
    {
     "name": "stdout",
     "output_type": "stream",
     "text": [
      "\t - Recall@20 epoch 9: 0.212891\n",
      "\t - MRR@20    epoch 9: 0.073014\n",
      "\n"
     ]
    },
    {
     "name": "stderr",
     "output_type": "stream",
     "text": [
      "Train: 100%|█████████▉| 3206/3207 [01:11<00:00, 45.15it/s, accuracy=0.0547, train_loss=5.47] \n",
      "Evaluation:  80%|████████  | 8/10 [00:05<00:01,  1.38it/s]\n",
      "Train:   0%|          | 0/3207 [00:00<?, ?it/s, accuracy=0.0781, train_loss=5.75] "
     ]
    },
    {
     "name": "stdout",
     "output_type": "stream",
     "text": [
      "\t - Recall@20 epoch 10: 0.210938\n",
      "\t - MRR@20    epoch 10: 0.073482\n",
      "\n"
     ]
    },
    {
     "name": "stderr",
     "output_type": "stream",
     "text": [
      "Train: 100%|█████████▉| 3206/3207 [01:10<00:00, 45.67it/s, accuracy=0.0547, train_loss=5.43] \n",
      "Evaluation:  80%|████████  | 8/10 [00:05<00:01,  1.39it/s]\n",
      "Train:   0%|          | 0/3207 [00:00<?, ?it/s, accuracy=0.0703, train_loss=5.75]"
     ]
    },
    {
     "name": "stdout",
     "output_type": "stream",
     "text": [
      "\t - Recall@20 epoch 11: 0.207031\n",
      "\t - MRR@20    epoch 11: 0.071416\n",
      "\n"
     ]
    },
    {
     "name": "stderr",
     "output_type": "stream",
     "text": [
      "Train: 100%|█████████▉| 3206/3207 [01:11<00:00, 45.00it/s, accuracy=0.0859, train_loss=5.4] \n",
      "Evaluation:  80%|████████  | 8/10 [00:05<00:01,  1.39it/s]\n",
      "Train:   0%|          | 0/3207 [00:00<?, ?it/s, accuracy=0.0703, train_loss=5.66] "
     ]
    },
    {
     "name": "stdout",
     "output_type": "stream",
     "text": [
      "\t - Recall@20 epoch 12: 0.210938\n",
      "\t - MRR@20    epoch 12: 0.071542\n",
      "\n"
     ]
    },
    {
     "name": "stderr",
     "output_type": "stream",
     "text": [
      "Train: 100%|█████████▉| 3206/3207 [01:12<00:00, 43.94it/s, accuracy=0.0625, train_loss=5.37] \n",
      "Evaluation:  80%|████████  | 8/10 [00:05<00:01,  1.37it/s]\n",
      "Train:   0%|          | 0/3207 [00:00<?, ?it/s, accuracy=0.0703, train_loss=5.61] "
     ]
    },
    {
     "name": "stdout",
     "output_type": "stream",
     "text": [
      "\t - Recall@20 epoch 13: 0.209961\n",
      "\t - MRR@20    epoch 13: 0.070288\n",
      "\n"
     ]
    },
    {
     "name": "stderr",
     "output_type": "stream",
     "text": [
      "Train: 100%|█████████▉| 3206/3207 [01:13<00:00, 43.42it/s, accuracy=0.0547, train_loss=5.32] \n",
      "Evaluation:  80%|████████  | 8/10 [00:05<00:01,  1.37it/s]\n",
      "Train:   0%|          | 0/3207 [00:00<?, ?it/s, accuracy=0.0859, train_loss=5.69] "
     ]
    },
    {
     "name": "stdout",
     "output_type": "stream",
     "text": [
      "\t - Recall@20 epoch 14: 0.208008\n",
      "\t - MRR@20    epoch 14: 0.070836\n",
      "\n"
     ]
    },
    {
     "name": "stderr",
     "output_type": "stream",
     "text": [
      "Train: 100%|█████████▉| 3206/3207 [01:12<00:00, 44.11it/s, accuracy=0.0781, train_loss=5.35] \n",
      "Evaluation:  80%|████████  | 8/10 [00:05<00:01,  1.38it/s]"
     ]
    },
    {
     "name": "stdout",
     "output_type": "stream",
     "text": [
      "\t - Recall@20 epoch 15: 0.208984\n",
      "\t - MRR@20    epoch 15: 0.067960\n",
      "\n"
     ]
    },
    {
     "name": "stderr",
     "output_type": "stream",
     "text": [
      "\n"
     ]
    }
   ],
   "source": [
    "train_model(model, args)"
   ]
  },
  {
   "cell_type": "code",
   "execution_count": 64,
   "id": "valuable-tactics",
   "metadata": {},
   "outputs": [
    {
     "name": "stderr",
     "output_type": "stream",
     "text": [
      "Evaluation:  89%|████████▉ | 8/9 [00:05<00:00,  1.42it/s]"
     ]
    },
    {
     "name": "stdout",
     "output_type": "stream",
     "text": [
      "\t - Recall@20: 0.234375\n",
      "\t - MRR@20: 0.089609\n",
      "\n"
     ]
    },
    {
     "name": "stderr",
     "output_type": "stream",
     "text": [
      "\n"
     ]
    }
   ],
   "source": [
    "test_model(model, args, test)"
   ]
  },
  {
   "cell_type": "code",
   "execution_count": 65,
   "id": "improving-warning",
   "metadata": {
    "scrolled": true
   },
   "outputs": [
    {
     "name": "stdout",
     "output_type": "stream",
     "text": [
      "Model: \"model_8\"\n",
      "_________________________________________________________________\n",
      "Layer (type)                 Output Shape              Param #   \n",
      "=================================================================\n",
      "input_9 (InputLayer)         [(128, 1, 3527)]          0         \n",
      "_________________________________________________________________\n",
      "GRU (GRU)                    [(128, 50), (128, 50)]    536850    \n",
      "_________________________________________________________________\n",
      "dropout_8 (Dropout)          (128, 50)                 0         \n",
      "_________________________________________________________________\n",
      "dense_8 (Dense)              (128, 3527)               179877    \n",
      "=================================================================\n",
      "Total params: 716,727\n",
      "Trainable params: 716,727\n",
      "Non-trainable params: 0\n",
      "_________________________________________________________________\n"
     ]
    }
   ],
   "source": [
    "#3 epochs=20\n",
    "args = Args(tr, val, test, batch_size= 128, hsz=50, drop_rate=0.1, lr=0.001, epochs=20, k=20)\n",
    "model = create_model(args)"
   ]
  },
  {
   "cell_type": "code",
   "execution_count": 66,
   "id": "existing-leather",
   "metadata": {},
   "outputs": [
    {
     "name": "stderr",
     "output_type": "stream",
     "text": [
      "Train: 100%|█████████▉| 3206/3207 [01:13<00:00, 43.58it/s, accuracy=0.0312, train_loss=6.48] \n",
      "Evaluation:  80%|████████  | 8/10 [00:06<00:01,  1.25it/s]\n",
      "Train:   0%|          | 0/3207 [00:00<?, ?it/s, accuracy=0.0391, train_loss=6.9]  "
     ]
    },
    {
     "name": "stdout",
     "output_type": "stream",
     "text": [
      "\t - Recall@20 epoch 1: 0.093750\n",
      "\t - MRR@20    epoch 1: 0.022537\n",
      "\n"
     ]
    },
    {
     "name": "stderr",
     "output_type": "stream",
     "text": [
      "Train: 100%|█████████▉| 3206/3207 [01:12<00:00, 43.99it/s, accuracy=0.0547, train_loss=6]    \n",
      "Evaluation:  80%|████████  | 8/10 [00:05<00:01,  1.36it/s]\n",
      "Train:   0%|          | 0/3207 [00:00<?, ?it/s, accuracy=0.0625, train_loss=6.2]  "
     ]
    },
    {
     "name": "stdout",
     "output_type": "stream",
     "text": [
      "\t - Recall@20 epoch 2: 0.176758\n",
      "\t - MRR@20    epoch 2: 0.050703\n",
      "\n"
     ]
    },
    {
     "name": "stderr",
     "output_type": "stream",
     "text": [
      "Train: 100%|█████████▉| 3206/3207 [01:11<00:00, 44.84it/s, accuracy=0.0469, train_loss=5.77] \n",
      "Evaluation:  80%|████████  | 8/10 [00:05<00:01,  1.38it/s]\n",
      "Train:   0%|          | 0/3207 [00:00<?, ?it/s, accuracy=0.0547, train_loss=6.01]"
     ]
    },
    {
     "name": "stdout",
     "output_type": "stream",
     "text": [
      "\t - Recall@20 epoch 3: 0.209961\n",
      "\t - MRR@20    epoch 3: 0.067209\n",
      "\n"
     ]
    },
    {
     "name": "stderr",
     "output_type": "stream",
     "text": [
      "Train: 100%|█████████▉| 3206/3207 [01:12<00:00, 44.41it/s, accuracy=0.0703, train_loss=5.64] \n",
      "Evaluation:  80%|████████  | 8/10 [00:05<00:01,  1.38it/s]\n",
      "Train:   0%|          | 0/3207 [00:00<?, ?it/s, accuracy=0.0703, train_loss=5.95] "
     ]
    },
    {
     "name": "stdout",
     "output_type": "stream",
     "text": [
      "\t - Recall@20 epoch 4: 0.221680\n",
      "\t - MRR@20    epoch 4: 0.069520\n",
      "\n"
     ]
    },
    {
     "name": "stderr",
     "output_type": "stream",
     "text": [
      "Train: 100%|█████████▉| 3206/3207 [01:11<00:00, 44.61it/s, accuracy=0.0469, train_loss=5.65] \n",
      "Evaluation:  80%|████████  | 8/10 [00:05<00:01,  1.38it/s]\n",
      "Train:   0%|          | 0/3207 [00:00<?, ?it/s, accuracy=0.0625, train_loss=5.91]"
     ]
    },
    {
     "name": "stdout",
     "output_type": "stream",
     "text": [
      "\t - Recall@20 epoch 5: 0.221680\n",
      "\t - MRR@20    epoch 5: 0.071602\n",
      "\n"
     ]
    },
    {
     "name": "stderr",
     "output_type": "stream",
     "text": [
      "Train: 100%|█████████▉| 3206/3207 [01:12<00:00, 44.23it/s, accuracy=0.0391, train_loss=5.65] \n",
      "Evaluation:  80%|████████  | 8/10 [00:05<00:01,  1.39it/s]\n",
      "Train:   0%|          | 0/3207 [00:00<?, ?it/s, accuracy=0.0703, train_loss=5.74] "
     ]
    },
    {
     "name": "stdout",
     "output_type": "stream",
     "text": [
      "\t - Recall@20 epoch 6: 0.222656\n",
      "\t - MRR@20    epoch 6: 0.069359\n",
      "\n"
     ]
    },
    {
     "name": "stderr",
     "output_type": "stream",
     "text": [
      "Train: 100%|█████████▉| 3206/3207 [01:13<00:00, 43.48it/s, accuracy=0.0469, train_loss=5.64] \n",
      "Evaluation:  80%|████████  | 8/10 [00:05<00:01,  1.38it/s]\n",
      "Train:   0%|          | 0/3207 [00:00<?, ?it/s, accuracy=0.0781, train_loss=5.69] "
     ]
    },
    {
     "name": "stdout",
     "output_type": "stream",
     "text": [
      "\t - Recall@20 epoch 7: 0.221680\n",
      "\t - MRR@20    epoch 7: 0.070350\n",
      "\n"
     ]
    },
    {
     "name": "stderr",
     "output_type": "stream",
     "text": [
      "Train: 100%|█████████▉| 3206/3207 [01:11<00:00, 44.69it/s, accuracy=0.0469, train_loss=5.62] \n",
      "Evaluation:  80%|████████  | 8/10 [00:05<00:01,  1.39it/s]\n",
      "Train:   0%|          | 0/3207 [00:00<?, ?it/s, accuracy=0.0938, train_loss=5.71] "
     ]
    },
    {
     "name": "stdout",
     "output_type": "stream",
     "text": [
      "\t - Recall@20 epoch 8: 0.216797\n",
      "\t - MRR@20    epoch 8: 0.070311\n",
      "\n"
     ]
    },
    {
     "name": "stderr",
     "output_type": "stream",
     "text": [
      "Train: 100%|█████████▉| 3206/3207 [01:10<00:00, 45.26it/s, accuracy=0.0469, train_loss=5.54] \n",
      "Evaluation:  80%|████████  | 8/10 [00:05<00:01,  1.37it/s]\n",
      "Train:   0%|          | 0/3207 [00:00<?, ?it/s, accuracy=0.0859, train_loss=5.74] "
     ]
    },
    {
     "name": "stdout",
     "output_type": "stream",
     "text": [
      "\t - Recall@20 epoch 9: 0.214844\n",
      "\t - MRR@20    epoch 9: 0.071196\n",
      "\n"
     ]
    },
    {
     "name": "stderr",
     "output_type": "stream",
     "text": [
      "Train: 100%|█████████▉| 3206/3207 [01:10<00:00, 45.31it/s, accuracy=0.0703, train_loss=5.54] \n",
      "Evaluation:  80%|████████  | 8/10 [00:05<00:01,  1.38it/s]\n",
      "Train:   0%|          | 0/3207 [00:00<?, ?it/s, accuracy=0.0703, train_loss=5.59]"
     ]
    },
    {
     "name": "stdout",
     "output_type": "stream",
     "text": [
      "\t - Recall@20 epoch 10: 0.213867\n",
      "\t - MRR@20    epoch 10: 0.070783\n",
      "\n"
     ]
    },
    {
     "name": "stderr",
     "output_type": "stream",
     "text": [
      "Train: 100%|█████████▉| 3206/3207 [01:10<00:00, 45.23it/s, accuracy=0.0781, train_loss=5.47] \n",
      "Evaluation:  80%|████████  | 8/10 [00:05<00:01,  1.39it/s]\n",
      "Train:   0%|          | 0/3207 [00:00<?, ?it/s, accuracy=0.109, train_loss=5.61]  "
     ]
    },
    {
     "name": "stdout",
     "output_type": "stream",
     "text": [
      "\t - Recall@20 epoch 11: 0.218750\n",
      "\t - MRR@20    epoch 11: 0.070453\n",
      "\n"
     ]
    },
    {
     "name": "stderr",
     "output_type": "stream",
     "text": [
      "Train: 100%|█████████▉| 3206/3207 [01:14<00:00, 42.77it/s, accuracy=0.0547, train_loss=5.5]  \n",
      "Evaluation:  80%|████████  | 8/10 [00:05<00:01,  1.39it/s]\n",
      "Train:   0%|          | 0/3207 [00:00<?, ?it/s, accuracy=0.102, train_loss=5.57] "
     ]
    },
    {
     "name": "stdout",
     "output_type": "stream",
     "text": [
      "\t - Recall@20 epoch 12: 0.220703\n",
      "\t - MRR@20    epoch 12: 0.070710\n",
      "\n"
     ]
    },
    {
     "name": "stderr",
     "output_type": "stream",
     "text": [
      "Train: 100%|█████████▉| 3206/3207 [01:10<00:00, 45.65it/s, accuracy=0.0391, train_loss=5.47] \n",
      "Evaluation:  80%|████████  | 8/10 [00:05<00:01,  1.37it/s]\n",
      "Train:   0%|          | 0/3207 [00:00<?, ?it/s, accuracy=0.0859, train_loss=5.48]"
     ]
    },
    {
     "name": "stdout",
     "output_type": "stream",
     "text": [
      "\t - Recall@20 epoch 13: 0.217773\n",
      "\t - MRR@20    epoch 13: 0.070983\n",
      "\n"
     ]
    },
    {
     "name": "stderr",
     "output_type": "stream",
     "text": [
      "Train: 100%|█████████▉| 3206/3207 [01:09<00:00, 45.83it/s, accuracy=0.0703, train_loss=5.49] \n",
      "Evaluation:  80%|████████  | 8/10 [00:05<00:01,  1.39it/s]\n",
      "Train:   0%|          | 0/3207 [00:00<?, ?it/s, accuracy=0.0938, train_loss=5.59] "
     ]
    },
    {
     "name": "stdout",
     "output_type": "stream",
     "text": [
      "\t - Recall@20 epoch 14: 0.219727\n",
      "\t - MRR@20    epoch 14: 0.070158\n",
      "\n"
     ]
    },
    {
     "name": "stderr",
     "output_type": "stream",
     "text": [
      "Train: 100%|█████████▉| 3206/3207 [01:09<00:00, 45.82it/s, accuracy=0.0703, train_loss=5.44] \n",
      "Evaluation:  80%|████████  | 8/10 [00:05<00:01,  1.38it/s]\n",
      "Train:   0%|          | 0/3207 [00:00<?, ?it/s, accuracy=0.102, train_loss=5.48] "
     ]
    },
    {
     "name": "stdout",
     "output_type": "stream",
     "text": [
      "\t - Recall@20 epoch 15: 0.212891\n",
      "\t - MRR@20    epoch 15: 0.069979\n",
      "\n"
     ]
    },
    {
     "name": "stderr",
     "output_type": "stream",
     "text": [
      "Train: 100%|█████████▉| 3206/3207 [01:10<00:00, 45.23it/s, accuracy=0.0703, train_loss=5.54] \n",
      "Evaluation:  80%|████████  | 8/10 [00:05<00:01,  1.38it/s]\n",
      "Train:   0%|          | 0/3207 [00:00<?, ?it/s, accuracy=0.0859, train_loss=5.49]"
     ]
    },
    {
     "name": "stdout",
     "output_type": "stream",
     "text": [
      "\t - Recall@20 epoch 16: 0.208008\n",
      "\t - MRR@20    epoch 16: 0.069062\n",
      "\n"
     ]
    },
    {
     "name": "stderr",
     "output_type": "stream",
     "text": [
      "Train: 100%|█████████▉| 3206/3207 [01:11<00:00, 44.67it/s, accuracy=0.0391, train_loss=5.46] \n",
      "Evaluation:  80%|████████  | 8/10 [00:05<00:01,  1.38it/s]\n",
      "Train:   0%|          | 0/3207 [00:00<?, ?it/s, accuracy=0.0938, train_loss=5.45] "
     ]
    },
    {
     "name": "stdout",
     "output_type": "stream",
     "text": [
      "\t - Recall@20 epoch 17: 0.212891\n",
      "\t - MRR@20    epoch 17: 0.069097\n",
      "\n"
     ]
    },
    {
     "name": "stderr",
     "output_type": "stream",
     "text": [
      "Train: 100%|█████████▉| 3206/3207 [01:11<00:00, 45.04it/s, accuracy=0.0547, train_loss=5.43] \n",
      "Evaluation:  80%|████████  | 8/10 [00:05<00:01,  1.38it/s]\n",
      "Train:   0%|          | 0/3207 [00:00<?, ?it/s, accuracy=0.0781, train_loss=5.33]"
     ]
    },
    {
     "name": "stdout",
     "output_type": "stream",
     "text": [
      "\t - Recall@20 epoch 18: 0.209961\n",
      "\t - MRR@20    epoch 18: 0.069133\n",
      "\n"
     ]
    },
    {
     "name": "stderr",
     "output_type": "stream",
     "text": [
      "Train: 100%|█████████▉| 3206/3207 [01:10<00:00, 45.38it/s, accuracy=0.0469, train_loss=5.42] \n",
      "Evaluation:  80%|████████  | 8/10 [00:05<00:01,  1.38it/s]\n",
      "Train:   0%|          | 0/3207 [00:00<?, ?it/s, accuracy=0.102, train_loss=5.5]   "
     ]
    },
    {
     "name": "stdout",
     "output_type": "stream",
     "text": [
      "\t - Recall@20 epoch 19: 0.208008\n",
      "\t - MRR@20    epoch 19: 0.067363\n",
      "\n"
     ]
    },
    {
     "name": "stderr",
     "output_type": "stream",
     "text": [
      "Train: 100%|█████████▉| 3206/3207 [01:13<00:00, 43.64it/s, accuracy=0.0625, train_loss=5.43] \n",
      "Evaluation:  80%|████████  | 8/10 [00:05<00:01,  1.37it/s]"
     ]
    },
    {
     "name": "stdout",
     "output_type": "stream",
     "text": [
      "\t - Recall@20 epoch 20: 0.208984\n",
      "\t - MRR@20    epoch 20: 0.067140\n",
      "\n"
     ]
    },
    {
     "name": "stderr",
     "output_type": "stream",
     "text": [
      "\n"
     ]
    }
   ],
   "source": [
    "train_model(model, args)"
   ]
  },
  {
   "cell_type": "code",
   "execution_count": 67,
   "id": "sweet-engineer",
   "metadata": {},
   "outputs": [
    {
     "name": "stderr",
     "output_type": "stream",
     "text": [
      "Evaluation:  89%|████████▉ | 8/9 [00:05<00:00,  1.41it/s]"
     ]
    },
    {
     "name": "stdout",
     "output_type": "stream",
     "text": [
      "\t - Recall@20: 0.238281\n",
      "\t - MRR@20: 0.080938\n",
      "\n"
     ]
    },
    {
     "name": "stderr",
     "output_type": "stream",
     "text": [
      "\n"
     ]
    }
   ],
   "source": [
    "test_model(model, args, test)"
   ]
  },
  {
   "cell_type": "markdown",
   "id": "ideal-cleaning",
   "metadata": {},
   "source": [
    "#### 3. droprate 변경"
   ]
  },
  {
   "cell_type": "code",
   "execution_count": 68,
   "id": "unexpected-silicon",
   "metadata": {},
   "outputs": [
    {
     "name": "stdout",
     "output_type": "stream",
     "text": [
      "Model: \"model_9\"\n",
      "_________________________________________________________________\n",
      "Layer (type)                 Output Shape              Param #   \n",
      "=================================================================\n",
      "input_10 (InputLayer)        [(128, 1, 3527)]          0         \n",
      "_________________________________________________________________\n",
      "GRU (GRU)                    [(128, 50), (128, 50)]    536850    \n",
      "_________________________________________________________________\n",
      "dropout_9 (Dropout)          (128, 50)                 0         \n",
      "_________________________________________________________________\n",
      "dense_9 (Dense)              (128, 3527)               179877    \n",
      "=================================================================\n",
      "Total params: 716,727\n",
      "Trainable params: 716,727\n",
      "Non-trainable params: 0\n",
      "_________________________________________________________________\n"
     ]
    }
   ],
   "source": [
    "#1 drop_rate=0.2\n",
    "args = Args(tr, val, test, batch_size= 128, hsz=50, drop_rate=0.2, lr=0.001, epochs=10, k=20)\n",
    "model = create_model(args)"
   ]
  },
  {
   "cell_type": "code",
   "execution_count": 69,
   "id": "infrared-linux",
   "metadata": {},
   "outputs": [
    {
     "name": "stderr",
     "output_type": "stream",
     "text": [
      "Train: 100%|█████████▉| 3206/3207 [01:11<00:00, 44.78it/s, accuracy=0.0156, train_loss=6.59] \n",
      "Evaluation:  80%|████████  | 8/10 [00:06<00:01,  1.22it/s]\n",
      "Train:   0%|          | 0/3207 [00:00<?, ?it/s, accuracy=0.0469, train_loss=6.88] "
     ]
    },
    {
     "name": "stdout",
     "output_type": "stream",
     "text": [
      "\t - Recall@20 epoch 1: 0.083984\n",
      "\t - MRR@20    epoch 1: 0.019311\n",
      "\n"
     ]
    },
    {
     "name": "stderr",
     "output_type": "stream",
     "text": [
      "Train: 100%|█████████▉| 3206/3207 [01:11<00:00, 44.92it/s, accuracy=0.0234, train_loss=6.22] \n",
      "Evaluation:  80%|████████  | 8/10 [00:05<00:01,  1.34it/s]\n",
      "Train:   0%|          | 0/3207 [00:00<?, ?it/s, accuracy=0.0547, train_loss=6.33]"
     ]
    },
    {
     "name": "stdout",
     "output_type": "stream",
     "text": [
      "\t - Recall@20 epoch 2: 0.170898\n",
      "\t - MRR@20    epoch 2: 0.050231\n",
      "\n"
     ]
    },
    {
     "name": "stderr",
     "output_type": "stream",
     "text": [
      "Train: 100%|█████████▉| 3206/3207 [01:12<00:00, 44.49it/s, accuracy=0.0312, train_loss=6.05] \n",
      "Evaluation:  80%|████████  | 8/10 [00:05<00:01,  1.37it/s]\n",
      "Train:   0%|          | 0/3207 [00:00<?, ?it/s, accuracy=0.0859, train_loss=6.12] "
     ]
    },
    {
     "name": "stdout",
     "output_type": "stream",
     "text": [
      "\t - Recall@20 epoch 3: 0.203125\n",
      "\t - MRR@20    epoch 3: 0.061847\n",
      "\n"
     ]
    },
    {
     "name": "stderr",
     "output_type": "stream",
     "text": [
      "Train: 100%|█████████▉| 3206/3207 [01:12<00:00, 44.00it/s, accuracy=0.0391, train_loss=5.95] \n",
      "Evaluation:  80%|████████  | 8/10 [00:05<00:01,  1.37it/s]\n",
      "Train:   0%|          | 0/3207 [00:00<?, ?it/s, accuracy=0.0625, train_loss=6.06]"
     ]
    },
    {
     "name": "stdout",
     "output_type": "stream",
     "text": [
      "\t - Recall@20 epoch 4: 0.215820\n",
      "\t - MRR@20    epoch 4: 0.065706\n",
      "\n"
     ]
    },
    {
     "name": "stderr",
     "output_type": "stream",
     "text": [
      "Train: 100%|█████████▉| 3206/3207 [01:11<00:00, 44.79it/s, accuracy=0.0469, train_loss=5.81] \n",
      "Evaluation:  80%|████████  | 8/10 [00:05<00:01,  1.38it/s]\n",
      "Train:   0%|          | 0/3207 [00:00<?, ?it/s, accuracy=0.0703, train_loss=5.96] "
     ]
    },
    {
     "name": "stdout",
     "output_type": "stream",
     "text": [
      "\t - Recall@20 epoch 5: 0.219727\n",
      "\t - MRR@20    epoch 5: 0.070657\n",
      "\n"
     ]
    },
    {
     "name": "stderr",
     "output_type": "stream",
     "text": [
      "Train: 100%|█████████▉| 3206/3207 [01:11<00:00, 44.87it/s, accuracy=0.0391, train_loss=5.81] \n",
      "Evaluation:  80%|████████  | 8/10 [00:05<00:01,  1.39it/s]\n",
      "Train:   0%|          | 0/3207 [00:00<?, ?it/s, accuracy=0.0703, train_loss=5.95] "
     ]
    },
    {
     "name": "stdout",
     "output_type": "stream",
     "text": [
      "\t - Recall@20 epoch 6: 0.219727\n",
      "\t - MRR@20    epoch 6: 0.070657\n",
      "\n"
     ]
    },
    {
     "name": "stderr",
     "output_type": "stream",
     "text": [
      "Train: 100%|█████████▉| 3206/3207 [01:10<00:00, 45.30it/s, accuracy=0.0547, train_loss=5.76] \n",
      "Evaluation:  80%|████████  | 8/10 [00:05<00:01,  1.38it/s]\n",
      "Train:   0%|          | 0/3207 [00:00<?, ?it/s, accuracy=0.0938, train_loss=5.78] "
     ]
    },
    {
     "name": "stdout",
     "output_type": "stream",
     "text": [
      "\t - Recall@20 epoch 7: 0.218750\n",
      "\t - MRR@20    epoch 7: 0.072032\n",
      "\n"
     ]
    },
    {
     "name": "stderr",
     "output_type": "stream",
     "text": [
      "Train: 100%|█████████▉| 3206/3207 [01:12<00:00, 44.41it/s, accuracy=0.0547, train_loss=5.7]  \n",
      "Evaluation:  80%|████████  | 8/10 [00:05<00:01,  1.39it/s]\n",
      "Train:   0%|          | 0/3207 [00:00<?, ?it/s, accuracy=0.0859, train_loss=5.85] "
     ]
    },
    {
     "name": "stdout",
     "output_type": "stream",
     "text": [
      "\t - Recall@20 epoch 8: 0.213867\n",
      "\t - MRR@20    epoch 8: 0.072114\n",
      "\n"
     ]
    },
    {
     "name": "stderr",
     "output_type": "stream",
     "text": [
      "Train: 100%|█████████▉| 3206/3207 [01:12<00:00, 44.36it/s, accuracy=0.0469, train_loss=5.71] \n",
      "Evaluation:  80%|████████  | 8/10 [00:05<00:01,  1.39it/s]\n",
      "Train:   0%|          | 0/3207 [00:00<?, ?it/s, accuracy=0.0938, train_loss=5.77]"
     ]
    },
    {
     "name": "stdout",
     "output_type": "stream",
     "text": [
      "\t - Recall@20 epoch 9: 0.218750\n",
      "\t - MRR@20    epoch 9: 0.071183\n",
      "\n"
     ]
    },
    {
     "name": "stderr",
     "output_type": "stream",
     "text": [
      "Train: 100%|█████████▉| 3206/3207 [01:09<00:00, 46.28it/s, accuracy=0.0625, train_loss=5.65] \n",
      "Evaluation:  80%|████████  | 8/10 [00:05<00:01,  1.39it/s]"
     ]
    },
    {
     "name": "stdout",
     "output_type": "stream",
     "text": [
      "\t - Recall@20 epoch 10: 0.216797\n",
      "\t - MRR@20    epoch 10: 0.073435\n",
      "\n"
     ]
    },
    {
     "name": "stderr",
     "output_type": "stream",
     "text": [
      "\n"
     ]
    }
   ],
   "source": [
    "hystory_d1=train_model(model, args)"
   ]
  },
  {
   "cell_type": "code",
   "execution_count": 70,
   "id": "coastal-budget",
   "metadata": {},
   "outputs": [
    {
     "name": "stderr",
     "output_type": "stream",
     "text": [
      "Evaluation:  89%|████████▉ | 8/9 [00:05<00:00,  1.41it/s]"
     ]
    },
    {
     "name": "stdout",
     "output_type": "stream",
     "text": [
      "\t - Recall@20: 0.233398\n",
      "\t - MRR@20: 0.084766\n",
      "\n"
     ]
    },
    {
     "name": "stderr",
     "output_type": "stream",
     "text": [
      "\n"
     ]
    }
   ],
   "source": [
    "test_model(model, args, test)"
   ]
  },
  {
   "cell_type": "code",
   "execution_count": 71,
   "id": "tight-effects",
   "metadata": {},
   "outputs": [
    {
     "name": "stdout",
     "output_type": "stream",
     "text": [
      "Model: \"model_10\"\n",
      "_________________________________________________________________\n",
      "Layer (type)                 Output Shape              Param #   \n",
      "=================================================================\n",
      "input_11 (InputLayer)        [(128, 1, 3527)]          0         \n",
      "_________________________________________________________________\n",
      "GRU (GRU)                    [(128, 50), (128, 50)]    536850    \n",
      "_________________________________________________________________\n",
      "dropout_10 (Dropout)         (128, 50)                 0         \n",
      "_________________________________________________________________\n",
      "dense_10 (Dense)             (128, 3527)               179877    \n",
      "=================================================================\n",
      "Total params: 716,727\n",
      "Trainable params: 716,727\n",
      "Non-trainable params: 0\n",
      "_________________________________________________________________\n"
     ]
    }
   ],
   "source": [
    "#2 drop_rate=0.5\n",
    "args = Args(tr, val, test, batch_size= 128, hsz=50, drop_rate=0.5, lr=0.001, epochs=10, k=20)\n",
    "model = create_model(args)"
   ]
  },
  {
   "cell_type": "code",
   "execution_count": 72,
   "id": "exciting-nirvana",
   "metadata": {},
   "outputs": [
    {
     "name": "stderr",
     "output_type": "stream",
     "text": [
      "Train: 100%|█████████▉| 3206/3207 [01:11<00:00, 45.07it/s, accuracy=0.0234, train_loss=6.82] \n",
      "Evaluation:  80%|████████  | 8/10 [00:06<00:01,  1.21it/s]\n",
      "Train:   0%|          | 0/3207 [00:00<?, ?it/s, accuracy=0.0156, train_loss=7.08] "
     ]
    },
    {
     "name": "stdout",
     "output_type": "stream",
     "text": [
      "\t - Recall@20 epoch 1: 0.073242\n",
      "\t - MRR@20    epoch 1: 0.015948\n",
      "\n"
     ]
    },
    {
     "name": "stderr",
     "output_type": "stream",
     "text": [
      "Train: 100%|█████████▉| 3206/3207 [01:09<00:00, 46.35it/s, accuracy=0.0234, train_loss=6.47] \n",
      "Evaluation:  80%|████████  | 8/10 [00:06<00:01,  1.32it/s]\n",
      "Train:   0%|          | 0/3207 [00:00<?, ?it/s, accuracy=0.0156, train_loss=6.62] "
     ]
    },
    {
     "name": "stdout",
     "output_type": "stream",
     "text": [
      "\t - Recall@20 epoch 2: 0.139648\n",
      "\t - MRR@20    epoch 2: 0.040045\n",
      "\n"
     ]
    },
    {
     "name": "stderr",
     "output_type": "stream",
     "text": [
      "Train: 100%|█████████▉| 3206/3207 [01:08<00:00, 46.60it/s, accuracy=0.0469, train_loss=6.22] \n",
      "Evaluation:  80%|████████  | 8/10 [00:05<00:01,  1.36it/s]\n",
      "Train:   0%|          | 0/3207 [00:00<?, ?it/s, accuracy=0.0391, train_loss=6.25] "
     ]
    },
    {
     "name": "stdout",
     "output_type": "stream",
     "text": [
      "\t - Recall@20 epoch 3: 0.184570\n",
      "\t - MRR@20    epoch 3: 0.053705\n",
      "\n"
     ]
    },
    {
     "name": "stderr",
     "output_type": "stream",
     "text": [
      "Train: 100%|█████████▉| 3206/3207 [01:09<00:00, 46.29it/s, accuracy=0.0312, train_loss=6.16] \n",
      "Evaluation:  80%|████████  | 8/10 [00:05<00:01,  1.37it/s]\n",
      "Train:   0%|          | 0/3207 [00:00<?, ?it/s, accuracy=0.0625, train_loss=6.38] "
     ]
    },
    {
     "name": "stdout",
     "output_type": "stream",
     "text": [
      "\t - Recall@20 epoch 4: 0.199219\n",
      "\t - MRR@20    epoch 4: 0.061705\n",
      "\n"
     ]
    },
    {
     "name": "stderr",
     "output_type": "stream",
     "text": [
      "Train: 100%|█████████▉| 3206/3207 [01:08<00:00, 46.67it/s, accuracy=0.0703, train_loss=6.1]  \n",
      "Evaluation:  80%|████████  | 8/10 [00:05<00:01,  1.38it/s]\n",
      "Train:   0%|          | 0/3207 [00:00<?, ?it/s, accuracy=0.0703, train_loss=6.09]"
     ]
    },
    {
     "name": "stdout",
     "output_type": "stream",
     "text": [
      "\t - Recall@20 epoch 5: 0.200195\n",
      "\t - MRR@20    epoch 5: 0.065886\n",
      "\n"
     ]
    },
    {
     "name": "stderr",
     "output_type": "stream",
     "text": [
      "Train: 100%|█████████▉| 3206/3207 [01:07<00:00, 47.23it/s, accuracy=0.0469, train_loss=5.97] \n",
      "Evaluation:  80%|████████  | 8/10 [00:05<00:01,  1.40it/s]\n",
      "Train:   0%|          | 0/3207 [00:00<?, ?it/s, accuracy=0.0469, train_loss=6.04] "
     ]
    },
    {
     "name": "stdout",
     "output_type": "stream",
     "text": [
      "\t - Recall@20 epoch 6: 0.217773\n",
      "\t - MRR@20    epoch 6: 0.068198\n",
      "\n"
     ]
    },
    {
     "name": "stderr",
     "output_type": "stream",
     "text": [
      "Train: 100%|█████████▉| 3206/3207 [01:08<00:00, 47.04it/s, accuracy=0.0469, train_loss=5.98] \n",
      "Evaluation:  80%|████████  | 8/10 [00:05<00:01,  1.38it/s]\n",
      "Train:   0%|          | 0/3207 [00:00<?, ?it/s, accuracy=0.0625, train_loss=5.92] "
     ]
    },
    {
     "name": "stdout",
     "output_type": "stream",
     "text": [
      "\t - Recall@20 epoch 7: 0.212891\n",
      "\t - MRR@20    epoch 7: 0.068117\n",
      "\n"
     ]
    },
    {
     "name": "stderr",
     "output_type": "stream",
     "text": [
      "Train: 100%|█████████▉| 3206/3207 [01:09<00:00, 46.31it/s, accuracy=0.0312, train_loss=6.12] \n",
      "Evaluation:  80%|████████  | 8/10 [00:05<00:01,  1.40it/s]\n",
      "Train:   0%|          | 0/3207 [00:00<?, ?it/s, accuracy=0.0391, train_loss=6.13] "
     ]
    },
    {
     "name": "stdout",
     "output_type": "stream",
     "text": [
      "\t - Recall@20 epoch 8: 0.221680\n",
      "\t - MRR@20    epoch 8: 0.069228\n",
      "\n"
     ]
    },
    {
     "name": "stderr",
     "output_type": "stream",
     "text": [
      "Train: 100%|█████████▉| 3206/3207 [01:09<00:00, 45.91it/s, accuracy=0.0391, train_loss=6.06] \n",
      "Evaluation:  80%|████████  | 8/10 [00:05<00:01,  1.39it/s]\n",
      "Train:   0%|          | 0/3207 [00:00<?, ?it/s, accuracy=0.0547, train_loss=6.09]"
     ]
    },
    {
     "name": "stdout",
     "output_type": "stream",
     "text": [
      "\t - Recall@20 epoch 9: 0.221680\n",
      "\t - MRR@20    epoch 9: 0.069821\n",
      "\n"
     ]
    },
    {
     "name": "stderr",
     "output_type": "stream",
     "text": [
      "Train: 100%|█████████▉| 3206/3207 [01:09<00:00, 46.37it/s, accuracy=0.0234, train_loss=6.13] \n",
      "Evaluation:  80%|████████  | 8/10 [00:05<00:01,  1.39it/s]"
     ]
    },
    {
     "name": "stdout",
     "output_type": "stream",
     "text": [
      "\t - Recall@20 epoch 10: 0.219727\n",
      "\t - MRR@20    epoch 10: 0.069245\n",
      "\n"
     ]
    },
    {
     "name": "stderr",
     "output_type": "stream",
     "text": [
      "\n"
     ]
    }
   ],
   "source": [
    "hystory_d2=train_model(model, args)"
   ]
  },
  {
   "cell_type": "code",
   "execution_count": 73,
   "id": "charming-benjamin",
   "metadata": {},
   "outputs": [
    {
     "name": "stderr",
     "output_type": "stream",
     "text": [
      "Evaluation:  89%|████████▉ | 8/9 [00:05<00:00,  1.40it/s]"
     ]
    },
    {
     "name": "stdout",
     "output_type": "stream",
     "text": [
      "\t - Recall@20: 0.234375\n",
      "\t - MRR@20: 0.083033\n",
      "\n"
     ]
    },
    {
     "name": "stderr",
     "output_type": "stream",
     "text": [
      "\n"
     ]
    }
   ],
   "source": [
    "test_model(model, args, test)"
   ]
  },
  {
   "cell_type": "code",
   "execution_count": 74,
   "id": "exterior-villa",
   "metadata": {},
   "outputs": [
    {
     "name": "stdout",
     "output_type": "stream",
     "text": [
      "Model: \"model_11\"\n",
      "_________________________________________________________________\n",
      "Layer (type)                 Output Shape              Param #   \n",
      "=================================================================\n",
      "input_12 (InputLayer)        [(128, 1, 3527)]          0         \n",
      "_________________________________________________________________\n",
      "GRU (GRU)                    [(128, 50), (128, 50)]    536850    \n",
      "_________________________________________________________________\n",
      "dropout_11 (Dropout)         (128, 50)                 0         \n",
      "_________________________________________________________________\n",
      "dense_11 (Dense)             (128, 3527)               179877    \n",
      "=================================================================\n",
      "Total params: 716,727\n",
      "Trainable params: 716,727\n",
      "Non-trainable params: 0\n",
      "_________________________________________________________________\n"
     ]
    }
   ],
   "source": [
    "#3 drop_rate=0.9\n",
    "args = Args(tr, val, test, batch_size= 128, hsz=50, drop_rate=0.9, lr=0.001, epochs=10, k=20)\n",
    "model = create_model(args)"
   ]
  },
  {
   "cell_type": "code",
   "execution_count": 75,
   "id": "wired-digit",
   "metadata": {},
   "outputs": [
    {
     "name": "stderr",
     "output_type": "stream",
     "text": [
      "Train: 100%|█████████▉| 3206/3207 [01:10<00:00, 45.36it/s, accuracy=0, train_loss=7.18]      \n",
      "Evaluation:  80%|████████  | 8/10 [00:06<00:01,  1.21it/s]\n",
      "Train:   0%|          | 0/3207 [00:00<?, ?it/s, accuracy=0.0156, train_loss=7.29] "
     ]
    },
    {
     "name": "stdout",
     "output_type": "stream",
     "text": [
      "\t - Recall@20 epoch 1: 0.050781\n",
      "\t - MRR@20    epoch 1: 0.010666\n",
      "\n"
     ]
    },
    {
     "name": "stderr",
     "output_type": "stream",
     "text": [
      "Train: 100%|█████████▉| 3206/3207 [01:10<00:00, 45.16it/s, accuracy=0, train_loss=7.12]      \n",
      "Evaluation:  80%|████████  | 8/10 [00:06<00:01,  1.28it/s]\n",
      "Train:   0%|          | 0/3207 [00:00<?, ?it/s, accuracy=0.00781, train_loss=7.15]"
     ]
    },
    {
     "name": "stdout",
     "output_type": "stream",
     "text": [
      "\t - Recall@20 epoch 2: 0.058594\n",
      "\t - MRR@20    epoch 2: 0.012714\n",
      "\n"
     ]
    },
    {
     "name": "stderr",
     "output_type": "stream",
     "text": [
      "Train: 100%|█████████▉| 3206/3207 [01:09<00:00, 45.94it/s, accuracy=0, train_loss=7.02]      \n",
      "Evaluation:  80%|████████  | 8/10 [00:06<00:01,  1.27it/s]\n",
      "Train:   0%|          | 0/3207 [00:00<?, ?it/s, accuracy=0.0156, train_loss=7]    "
     ]
    },
    {
     "name": "stdout",
     "output_type": "stream",
     "text": [
      "\t - Recall@20 epoch 3: 0.069336\n",
      "\t - MRR@20    epoch 3: 0.015127\n",
      "\n"
     ]
    },
    {
     "name": "stderr",
     "output_type": "stream",
     "text": [
      "Train: 100%|█████████▉| 3206/3207 [01:09<00:00, 46.40it/s, accuracy=0, train_loss=6.99]      \n",
      "Evaluation:  80%|████████  | 8/10 [00:06<00:01,  1.29it/s]\n",
      "Train:   0%|          | 0/3207 [00:00<?, ?it/s, accuracy=0.0156, train_loss=6.91] "
     ]
    },
    {
     "name": "stdout",
     "output_type": "stream",
     "text": [
      "\t - Recall@20 epoch 4: 0.090820\n",
      "\t - MRR@20    epoch 4: 0.022429\n",
      "\n"
     ]
    },
    {
     "name": "stderr",
     "output_type": "stream",
     "text": [
      "Train: 100%|█████████▉| 3206/3207 [01:09<00:00, 46.21it/s, accuracy=0.00781, train_loss=6.97]\n",
      "Evaluation:  80%|████████  | 8/10 [00:06<00:01,  1.31it/s]\n",
      "Train:   0%|          | 0/3207 [00:00<?, ?it/s, accuracy=0.0156, train_loss=6.9]  "
     ]
    },
    {
     "name": "stdout",
     "output_type": "stream",
     "text": [
      "\t - Recall@20 epoch 5: 0.114258\n",
      "\t - MRR@20    epoch 5: 0.028585\n",
      "\n"
     ]
    },
    {
     "name": "stderr",
     "output_type": "stream",
     "text": [
      "Train: 100%|█████████▉| 3206/3207 [01:10<00:00, 45.58it/s, accuracy=0.0156, train_loss=6.91] \n",
      "Evaluation:  80%|████████  | 8/10 [00:06<00:01,  1.31it/s]\n",
      "Train:   0%|          | 0/3207 [00:00<?, ?it/s, accuracy=0.0312, train_loss=6.92] "
     ]
    },
    {
     "name": "stdout",
     "output_type": "stream",
     "text": [
      "\t - Recall@20 epoch 6: 0.126953\n",
      "\t - MRR@20    epoch 6: 0.032156\n",
      "\n"
     ]
    },
    {
     "name": "stderr",
     "output_type": "stream",
     "text": [
      "Train: 100%|█████████▉| 3206/3207 [01:10<00:00, 45.30it/s, accuracy=0.0156, train_loss=6.71] \n",
      "Evaluation:  80%|████████  | 8/10 [00:06<00:01,  1.30it/s]\n",
      "Train:   0%|          | 0/3207 [00:00<?, ?it/s, accuracy=0.0234, train_loss=6.84] "
     ]
    },
    {
     "name": "stdout",
     "output_type": "stream",
     "text": [
      "\t - Recall@20 epoch 7: 0.129883\n",
      "\t - MRR@20    epoch 7: 0.035541\n",
      "\n"
     ]
    },
    {
     "name": "stderr",
     "output_type": "stream",
     "text": [
      "Train: 100%|█████████▉| 3206/3207 [01:11<00:00, 44.76it/s, accuracy=0.00781, train_loss=6.88]\n",
      "Evaluation:  80%|████████  | 8/10 [00:06<00:01,  1.33it/s]\n",
      "Train:   0%|          | 0/3207 [00:00<?, ?it/s, accuracy=0.00781, train_loss=6.7] "
     ]
    },
    {
     "name": "stdout",
     "output_type": "stream",
     "text": [
      "\t - Recall@20 epoch 8: 0.131836\n",
      "\t - MRR@20    epoch 8: 0.038768\n",
      "\n"
     ]
    },
    {
     "name": "stderr",
     "output_type": "stream",
     "text": [
      "Train: 100%|█████████▉| 3206/3207 [01:13<00:00, 43.51it/s, accuracy=0, train_loss=6.84]      \n",
      "Evaluation:  80%|████████  | 8/10 [00:06<00:01,  1.32it/s]\n",
      "Train:   0%|          | 0/3207 [00:00<?, ?it/s, accuracy=0.0156, train_loss=6.63] "
     ]
    },
    {
     "name": "stdout",
     "output_type": "stream",
     "text": [
      "\t - Recall@20 epoch 9: 0.147461\n",
      "\t - MRR@20    epoch 9: 0.040363\n",
      "\n"
     ]
    },
    {
     "name": "stderr",
     "output_type": "stream",
     "text": [
      "Train: 100%|█████████▉| 3206/3207 [01:11<00:00, 44.53it/s, accuracy=0.00781, train_loss=6.9] \n",
      "Evaluation:  80%|████████  | 8/10 [00:06<00:01,  1.32it/s]"
     ]
    },
    {
     "name": "stdout",
     "output_type": "stream",
     "text": [
      "\t - Recall@20 epoch 10: 0.155273\n",
      "\t - MRR@20    epoch 10: 0.043417\n",
      "\n"
     ]
    },
    {
     "name": "stderr",
     "output_type": "stream",
     "text": [
      "\n"
     ]
    }
   ],
   "source": [
    "hystory_d3=train_model(model, args)"
   ]
  },
  {
   "cell_type": "code",
   "execution_count": 76,
   "id": "undefined-project",
   "metadata": {},
   "outputs": [
    {
     "name": "stderr",
     "output_type": "stream",
     "text": [
      "Evaluation:  89%|████████▉ | 8/9 [00:05<00:00,  1.34it/s]"
     ]
    },
    {
     "name": "stdout",
     "output_type": "stream",
     "text": [
      "\t - Recall@20: 0.156250\n",
      "\t - MRR@20: 0.049881\n",
      "\n"
     ]
    },
    {
     "name": "stderr",
     "output_type": "stream",
     "text": [
      "\n"
     ]
    }
   ],
   "source": [
    "test_model(model, args, test)"
   ]
  },
  {
   "cell_type": "markdown",
   "id": "assumed-buying",
   "metadata": {},
   "source": [
    "### 9. 시각화"
   ]
  },
  {
   "cell_type": "code",
   "execution_count": null,
   "id": "sunrise-honolulu",
   "metadata": {},
   "outputs": [],
   "source": [
    "import matplotlib.pyplot as plt\n",
    "\n",
    "fig, ax = plt.subplots(1, 3, figsize=(20, 3))\n",
    "ax = ax.ravel()\n",
    "\n",
    "for i, met in enumerate(['accuracy', 'recall', 'MRR@20']):\n",
    "    ax[i].plot(history_d3.history[met])\n",
    "    ax[i].set_title('Model {}'.format(met))\n",
    "    ax[i].set_xlabel('epochs')\n",
    "    ax[i].set_ylabel(met)\n",
    "    ax[i].legend(['train'])"
   ]
  },
  {
   "cell_type": "markdown",
   "id": "original-boating",
   "metadata": {},
   "source": [
    "### 회고  \n",
    "\n",
    "#### 💚루브릭  \n",
    "**1.** Movielens 데이터셋을 session based recommendation 관점으로 체계적인 전처리 진행  \n",
    "  * 새로운 SessionID 컬럼 생성  \n",
    "    같은 UserId면 다른 시간이여도 (몇년의 차이가 있더라도) 하나의 취향으로 묶여버림  \n",
    "    -> 그래서 session은 같은 시간대 + 같은 id를 묶어준것  \n",
    "  \n",
    "  \n",
    "  * 한 세션당 남긴 평균 리뷰 개수 : 2  \n",
    "      리뷰 1~4개까지 남긴 비율 : 91%  \n",
    "      -> 그래서 그냥 모든 시간대의 데이터 반영하기로 함 (3년 길이의 시간)  \n",
    "\n",
    "\n",
    "**2.** RNN 기반의 예측 모델이 정상적으로 구성되어 안정적으로 훈련이 진행됨  \n",
    "  * train loss가 안정적으로 감소   \n",
    "  * validation 단계에서의 Recall, MRR이 개선됨  \n",
    "  \n",
    "  \n",
    "  * 모델 스펙 : args = Args(tr, val, test, batch_size=256, hsz=50, drop_rate=0.1, lr=0.001, epochs=5, k=20)\n",
    "\n",
    "|    |train | test |\n",
    "|---|---|---|\n",
    "|Recall@20|0.174805| 0.181641|\n",
    "|MRR@20|0.057009| 0.063126|\n",
    "\n",
    "\n",
    "**3.** 세션정의, 모델구조, 하이퍼파라미터 등을 변경해서 실험하여 Recall, MRR 등의 변화추이를 관찰하였다.\n",
    "1. batchsize  \n",
    "  * 모델 스펙 : args = Args(tr, val, test, hsz=50, drop_rate=0.1, lr=0.001, epochs=10, k=20)\n",
    "  * batchsize= 256 모델만 에포크 : 5\n",
    "  \n",
    "|    |batchsize=64 | batchsize=128 | batchsize= 256 |\n",
    "|---|---|---|---|\n",
    "|Recall@20| 0.258681 | 0.195312|  0.181641|\n",
    "|MRR@20| 0.097276| 0.068286 |  0.057009 |\n",
    "\n",
    "* 인사이트 : batchsize=64 때가 가장 성능 좋음  \n",
    "\n",
    "2. epoch  \n",
    "  * 모델 스펙 : args = Args(tr, val, test, batch_size= 128, hsz=50, drop_rate=0.1, lr=0.001, k=20)  \n",
    "  * 변경전 : epoch =1  \n",
    "  \n",
    "|    |epoch =10 | epoch =15 | epoch =20 |\n",
    "|---|---|---|---|\n",
    "|Recall@20|0.237305   |0.234375   |0.238281|\n",
    "|MRR@20|0.088246|  0.089609 |0.080938 |  \n",
    "\n",
    "* 인사이트 : 에포크 값이 그렇게 큰 영향 못주는 것 같음  \n",
    "\n",
    "\n",
    "3. droprate를 변경해가면서 실험함  \n",
    "  * 모델 스펙 : args = Args(tr, val, test, batch_size= 128, hsz=50, lr=0.001, epochs=10, k=20)  \n",
    "  * 변경전엔 droprate =0.1  \n",
    "  \n",
    "|    |drop_rate=0.2 | drop_rate=0.5 | drop_rate=0.9 |\n",
    "|---|---|---|---|\n",
    "|Recall@20|0.233398   | 0.234375   |0.156250|\n",
    "|MRR@20|0.084766| 0.083033 |0.049881|  \n",
    "\n",
    "* 인사이트 : dropout=0.9가 가장 낮은 성능을 보임, 앞의 모델이 과적합은 아니었던것 같음 \n",
    "\n",
    "#### 💚어려웠던 점  \n",
    "데이터셋에 대한 이해도가 낮기 때문일까  \n",
    "SessionId 에 대한 정의를 스스로 해볼때  \n",
    "유도해내는 것에 대해서 아주 어려웠음  \n",
    "\n",
    "#### 💚더 개선해볼 점  \n",
    "- 학습 결과들에 대해서 시각화 도전 :  \n",
    "  코드 에러는 안나는데 런타임이 너무 길어서 계속 컴퓨터가 꺼지거나  \n",
    "  커널이 다운되어버림  \n",
    "  왜 안되는지 이유에 대해서 알아봐야함  \n",
    "\n",
    "- 구체적으로 어떤 영화가 추천되는지에 대해서 알아보는 것을 알아보고 싶다  \n",
    "  (비슷하지 않은 결과를 더 얻을 수 있을리라도)  "
   ]
  },
  {
   "cell_type": "code",
   "execution_count": null,
   "id": "decimal-influence",
   "metadata": {},
   "outputs": [],
   "source": []
  }
 ],
 "metadata": {
  "kernelspec": {
   "display_name": "Python 3",
   "language": "python",
   "name": "python3"
  },
  "language_info": {
   "codemirror_mode": {
    "name": "ipython",
    "version": 3
   },
   "file_extension": ".py",
   "mimetype": "text/x-python",
   "name": "python",
   "nbconvert_exporter": "python",
   "pygments_lexer": "ipython3",
   "version": "3.7.9"
  }
 },
 "nbformat": 4,
 "nbformat_minor": 5
}
