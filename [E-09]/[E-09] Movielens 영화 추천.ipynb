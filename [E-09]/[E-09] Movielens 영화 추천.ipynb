{
 "cells": [
  {
   "cell_type": "markdown",
   "id": "suffering-tulsa",
   "metadata": {},
   "source": [
    "## E-09: Movielens 영화 추천시스템 만들기 \n",
    "* 평가지표  \n",
    "   1. CSR matrix가 정상적으로 만들어졌다.  \n",
    "      사용자와 아이템 개수를 바탕으로 정확한 사이즈로 만들었다.\n",
    "   \n",
    "   2. MF 모델이 정상적으로 훈련되어 그럴듯한 추천이 이루어졌다.  \n",
    "      사용자와 아이템 벡터 내적수치가 의미있게 형성되었다.  \n",
    "   \n",
    "   3. 비슷한 영화 찾기와 유저에게 추천하기의 과정이 정상적으로 진행되었다.  \n",
    "      MF모델이 예측한 유저 선호도 및 아이템간 유사도, 기여도가 의미있게 측정되었다.\n",
    "\n",
    "\n",
    "* 활용할 데이터셋 :  추천시스템의 MNIST라고 부를만한 Movielens 데이터\n",
    "\n",
    "* Movielens  \n",
    " - 유저가 영화에 대해 평점을 매긴 데이터가 데이터 크기 별로 있습니다  \n",
    "    **MovieLens 1M Dataset 사용을 권장**합니다.  \n",
    " - **별점** 데이터는 대표적인 explicit 데이터입니다.  \n",
    "    하지만 **implicit 데이터로 간주**하고 테스트해볼 수 있습니다.\n",
    " - 별점을 **시청횟수**로 해석해서 생각하겠습니다.\n",
    " - 유저가 **3점 미만**으로 준 데이터는 **선호하지 않는다**고 가정하고 제외하 겠습니다."
   ]
  },
  {
   "cell_type": "code",
   "execution_count": 1,
   "id": "casual-inventory",
   "metadata": {},
   "outputs": [],
   "source": [
    "# Cloud Storage에 미리 업로드 된 ml-1m폴더 내 파일을 \n",
    "#심볼릭 링크로 개인 storage에 연결\n",
    "! mkdir -p ~/aiffel/recommendata_iu/data/ml-1m\n",
    "! ln -s ~/data/ml-1m/* ~/aiffel/recommendata_iu/data/ml-1m"
   ]
  },
  {
   "cell_type": "markdown",
   "id": "cathedral-robertson",
   "metadata": {},
   "source": [
    "### 1. 데이터 불러오기 및 simple 전처리"
   ]
  },
  {
   "cell_type": "markdown",
   "id": "irish-enough",
   "metadata": {},
   "source": [
    "#### 1. 데이터 가져오기"
   ]
  },
  {
   "cell_type": "code",
   "execution_count": 1,
   "id": "active-special",
   "metadata": {
    "scrolled": true
   },
   "outputs": [
    {
     "data": {
      "text/html": [
       "<div>\n",
       "<style scoped>\n",
       "    .dataframe tbody tr th:only-of-type {\n",
       "        vertical-align: middle;\n",
       "    }\n",
       "\n",
       "    .dataframe tbody tr th {\n",
       "        vertical-align: top;\n",
       "    }\n",
       "\n",
       "    .dataframe thead th {\n",
       "        text-align: right;\n",
       "    }\n",
       "</style>\n",
       "<table border=\"1\" class=\"dataframe\">\n",
       "  <thead>\n",
       "    <tr style=\"text-align: right;\">\n",
       "      <th></th>\n",
       "      <th>user_id</th>\n",
       "      <th>movie_id</th>\n",
       "      <th>ratings</th>\n",
       "      <th>timestamp</th>\n",
       "    </tr>\n",
       "  </thead>\n",
       "  <tbody>\n",
       "    <tr>\n",
       "      <th>0</th>\n",
       "      <td>1</td>\n",
       "      <td>1193</td>\n",
       "      <td>5</td>\n",
       "      <td>978300760</td>\n",
       "    </tr>\n",
       "    <tr>\n",
       "      <th>1</th>\n",
       "      <td>1</td>\n",
       "      <td>661</td>\n",
       "      <td>3</td>\n",
       "      <td>978302109</td>\n",
       "    </tr>\n",
       "    <tr>\n",
       "      <th>2</th>\n",
       "      <td>1</td>\n",
       "      <td>914</td>\n",
       "      <td>3</td>\n",
       "      <td>978301968</td>\n",
       "    </tr>\n",
       "    <tr>\n",
       "      <th>3</th>\n",
       "      <td>1</td>\n",
       "      <td>3408</td>\n",
       "      <td>4</td>\n",
       "      <td>978300275</td>\n",
       "    </tr>\n",
       "    <tr>\n",
       "      <th>4</th>\n",
       "      <td>1</td>\n",
       "      <td>2355</td>\n",
       "      <td>5</td>\n",
       "      <td>978824291</td>\n",
       "    </tr>\n",
       "  </tbody>\n",
       "</table>\n",
       "</div>"
      ],
      "text/plain": [
       "   user_id  movie_id  ratings  timestamp\n",
       "0        1      1193        5  978300760\n",
       "1        1       661        3  978302109\n",
       "2        1       914        3  978301968\n",
       "3        1      3408        4  978300275\n",
       "4        1      2355        5  978824291"
      ]
     },
     "execution_count": 1,
     "metadata": {},
     "output_type": "execute_result"
    }
   ],
   "source": [
    "import pandas as pd\n",
    "import os\n",
    "rating_file_path=os.getenv('HOME') + '/aiffel/recommendata_iu/data/ml-1m/ratings.dat'\n",
    "ratings_cols = ['user_id', 'movie_id', 'ratings', 'timestamp']\n",
    "ratings = pd.read_csv(rating_file_path, sep='::', names=ratings_cols, engine='python', encoding = \"ISO-8859-1\")\n",
    "orginal_data_size = len(ratings)\n",
    "ratings.head()"
   ]
  },
  {
   "cell_type": "markdown",
   "id": "corresponding-apple",
   "metadata": {},
   "source": [
    "#### 2. 전처리  \n",
    "\n",
    "##### 2-1) 3점 미만 데이터 미선호 데이터로 간주 = 3점 이상만 데이터에 남기기"
   ]
  },
  {
   "cell_type": "code",
   "execution_count": 2,
   "id": "informal-princeton",
   "metadata": {},
   "outputs": [
    {
     "name": "stdout",
     "output_type": "stream",
     "text": [
      "orginal_data_size: 1000209, filtered_data_size: 836478\n",
      "Ratio of Remaining Data is 83.63%\n"
     ]
    }
   ],
   "source": [
    "# 3점 이상만 남깁니다.\n",
    "ratings = ratings[ratings['ratings']>=3]\n",
    "filtered_data_size = len(ratings)\n",
    "\n",
    "print(f'orginal_data_size: {orginal_data_size}, filtered_data_size: {filtered_data_size}')\n",
    "print(f'Ratio of Remaining Data is {filtered_data_size / orginal_data_size:.2%}')"
   ]
  },
  {
   "cell_type": "markdown",
   "id": "classical-atlanta",
   "metadata": {},
   "source": [
    "##### 2-2) 유저가 몇번 봤는지 : ratings  -> count 로  \n",
    "데이터셋 이름이랑 겹침"
   ]
  },
  {
   "cell_type": "code",
   "execution_count": 3,
   "id": "completed-nudist",
   "metadata": {},
   "outputs": [],
   "source": [
    "# ratings 컬럼의 이름을 counts로 바꿉니다.\n",
    "ratings.rename(columns={'ratings':'count'}, inplace=True)"
   ]
  },
  {
   "cell_type": "code",
   "execution_count": 4,
   "id": "solar-provider",
   "metadata": {},
   "outputs": [
    {
     "data": {
      "text/plain": [
       "0          5\n",
       "1          3\n",
       "2          3\n",
       "3          4\n",
       "4          5\n",
       "          ..\n",
       "1000203    3\n",
       "1000205    5\n",
       "1000206    5\n",
       "1000207    4\n",
       "1000208    4\n",
       "Name: count, Length: 836478, dtype: int64"
      ]
     },
     "execution_count": 4,
     "metadata": {},
     "output_type": "execute_result"
    }
   ],
   "source": [
    "ratings['count']"
   ]
  },
  {
   "cell_type": "markdown",
   "id": "polyphonic-windows",
   "metadata": {},
   "source": [
    "##### 2-3) 영화 제목 확인해보기"
   ]
  },
  {
   "cell_type": "code",
   "execution_count": 5,
   "id": "otherwise-circumstances",
   "metadata": {},
   "outputs": [
    {
     "data": {
      "text/html": [
       "<div>\n",
       "<style scoped>\n",
       "    .dataframe tbody tr th:only-of-type {\n",
       "        vertical-align: middle;\n",
       "    }\n",
       "\n",
       "    .dataframe tbody tr th {\n",
       "        vertical-align: top;\n",
       "    }\n",
       "\n",
       "    .dataframe thead th {\n",
       "        text-align: right;\n",
       "    }\n",
       "</style>\n",
       "<table border=\"1\" class=\"dataframe\">\n",
       "  <thead>\n",
       "    <tr style=\"text-align: right;\">\n",
       "      <th></th>\n",
       "      <th>movie_id</th>\n",
       "      <th>title</th>\n",
       "      <th>genre</th>\n",
       "    </tr>\n",
       "  </thead>\n",
       "  <tbody>\n",
       "    <tr>\n",
       "      <th>0</th>\n",
       "      <td>1</td>\n",
       "      <td>Toy Story (1995)</td>\n",
       "      <td>Animation|Children's|Comedy</td>\n",
       "    </tr>\n",
       "    <tr>\n",
       "      <th>1</th>\n",
       "      <td>2</td>\n",
       "      <td>Jumanji (1995)</td>\n",
       "      <td>Adventure|Children's|Fantasy</td>\n",
       "    </tr>\n",
       "    <tr>\n",
       "      <th>2</th>\n",
       "      <td>3</td>\n",
       "      <td>Grumpier Old Men (1995)</td>\n",
       "      <td>Comedy|Romance</td>\n",
       "    </tr>\n",
       "    <tr>\n",
       "      <th>3</th>\n",
       "      <td>4</td>\n",
       "      <td>Waiting to Exhale (1995)</td>\n",
       "      <td>Comedy|Drama</td>\n",
       "    </tr>\n",
       "    <tr>\n",
       "      <th>4</th>\n",
       "      <td>5</td>\n",
       "      <td>Father of the Bride Part II (1995)</td>\n",
       "      <td>Comedy</td>\n",
       "    </tr>\n",
       "  </tbody>\n",
       "</table>\n",
       "</div>"
      ],
      "text/plain": [
       "   movie_id                               title                         genre\n",
       "0         1                    Toy Story (1995)   Animation|Children's|Comedy\n",
       "1         2                      Jumanji (1995)  Adventure|Children's|Fantasy\n",
       "2         3             Grumpier Old Men (1995)                Comedy|Romance\n",
       "3         4            Waiting to Exhale (1995)                  Comedy|Drama\n",
       "4         5  Father of the Bride Part II (1995)                        Comedy"
      ]
     },
     "execution_count": 5,
     "metadata": {},
     "output_type": "execute_result"
    }
   ],
   "source": [
    "# 영화 제목을 보기 위해 메타 데이터를 읽어옵니다.\n",
    "movie_file_path=os.getenv('HOME') + '/aiffel/recommendata_iu/data/ml-1m/movies.dat'\n",
    "cols = ['movie_id', 'title', 'genre'] \n",
    "movies = pd.read_csv(movie_file_path, sep='::', names=cols, engine='python', encoding='ISO-8859-1')\n",
    "movies.head()"
   ]
  },
  {
   "cell_type": "markdown",
   "id": "legislative-tsunami",
   "metadata": {},
   "source": [
    "##### 2-4) 영화제목 소문자로 바꾸기"
   ]
  },
  {
   "cell_type": "code",
   "execution_count": 6,
   "id": "different-acoustic",
   "metadata": {},
   "outputs": [
    {
     "data": {
      "text/html": [
       "<div>\n",
       "<style scoped>\n",
       "    .dataframe tbody tr th:only-of-type {\n",
       "        vertical-align: middle;\n",
       "    }\n",
       "\n",
       "    .dataframe tbody tr th {\n",
       "        vertical-align: top;\n",
       "    }\n",
       "\n",
       "    .dataframe thead th {\n",
       "        text-align: right;\n",
       "    }\n",
       "</style>\n",
       "<table border=\"1\" class=\"dataframe\">\n",
       "  <thead>\n",
       "    <tr style=\"text-align: right;\">\n",
       "      <th></th>\n",
       "      <th>movie_id</th>\n",
       "      <th>title</th>\n",
       "      <th>genre</th>\n",
       "    </tr>\n",
       "  </thead>\n",
       "  <tbody>\n",
       "    <tr>\n",
       "      <th>0</th>\n",
       "      <td>1</td>\n",
       "      <td>toy story (1995)</td>\n",
       "      <td>Animation|Children's|Comedy</td>\n",
       "    </tr>\n",
       "    <tr>\n",
       "      <th>1</th>\n",
       "      <td>2</td>\n",
       "      <td>jumanji (1995)</td>\n",
       "      <td>Adventure|Children's|Fantasy</td>\n",
       "    </tr>\n",
       "    <tr>\n",
       "      <th>2</th>\n",
       "      <td>3</td>\n",
       "      <td>grumpier old men (1995)</td>\n",
       "      <td>Comedy|Romance</td>\n",
       "    </tr>\n",
       "    <tr>\n",
       "      <th>3</th>\n",
       "      <td>4</td>\n",
       "      <td>waiting to exhale (1995)</td>\n",
       "      <td>Comedy|Drama</td>\n",
       "    </tr>\n",
       "    <tr>\n",
       "      <th>4</th>\n",
       "      <td>5</td>\n",
       "      <td>father of the bride part ii (1995)</td>\n",
       "      <td>Comedy</td>\n",
       "    </tr>\n",
       "  </tbody>\n",
       "</table>\n",
       "</div>"
      ],
      "text/plain": [
       "   movie_id                               title                         genre\n",
       "0         1                    toy story (1995)   Animation|Children's|Comedy\n",
       "1         2                      jumanji (1995)  Adventure|Children's|Fantasy\n",
       "2         3             grumpier old men (1995)                Comedy|Romance\n",
       "3         4            waiting to exhale (1995)                  Comedy|Drama\n",
       "4         5  father of the bride part ii (1995)                        Comedy"
      ]
     },
     "execution_count": 6,
     "metadata": {},
     "output_type": "execute_result"
    }
   ],
   "source": [
    "movies['title'] = movies['title'].str.lower()\n",
    "movies.head()"
   ]
  },
  {
   "cell_type": "markdown",
   "id": "organizational-greeting",
   "metadata": {},
   "source": [
    "##### 2-5) 영화 제목 들어간 ratings 데이터 만들기"
   ]
  },
  {
   "cell_type": "code",
   "execution_count": 7,
   "id": "happy-steam",
   "metadata": {},
   "outputs": [
    {
     "data": {
      "text/html": [
       "<div>\n",
       "<style scoped>\n",
       "    .dataframe tbody tr th:only-of-type {\n",
       "        vertical-align: middle;\n",
       "    }\n",
       "\n",
       "    .dataframe tbody tr th {\n",
       "        vertical-align: top;\n",
       "    }\n",
       "\n",
       "    .dataframe thead th {\n",
       "        text-align: right;\n",
       "    }\n",
       "</style>\n",
       "<table border=\"1\" class=\"dataframe\">\n",
       "  <thead>\n",
       "    <tr style=\"text-align: right;\">\n",
       "      <th></th>\n",
       "      <th>user_id</th>\n",
       "      <th>movie_id</th>\n",
       "      <th>count</th>\n",
       "      <th>timestamp</th>\n",
       "      <th>title</th>\n",
       "      <th>genre</th>\n",
       "    </tr>\n",
       "  </thead>\n",
       "  <tbody>\n",
       "    <tr>\n",
       "      <th>0</th>\n",
       "      <td>1</td>\n",
       "      <td>1193</td>\n",
       "      <td>5</td>\n",
       "      <td>978300760</td>\n",
       "      <td>one flew over the cuckoo's nest (1975)</td>\n",
       "      <td>Drama</td>\n",
       "    </tr>\n",
       "    <tr>\n",
       "      <th>1</th>\n",
       "      <td>1</td>\n",
       "      <td>661</td>\n",
       "      <td>3</td>\n",
       "      <td>978302109</td>\n",
       "      <td>james and the giant peach (1996)</td>\n",
       "      <td>Animation|Children's|Musical</td>\n",
       "    </tr>\n",
       "    <tr>\n",
       "      <th>2</th>\n",
       "      <td>1</td>\n",
       "      <td>914</td>\n",
       "      <td>3</td>\n",
       "      <td>978301968</td>\n",
       "      <td>my fair lady (1964)</td>\n",
       "      <td>Musical|Romance</td>\n",
       "    </tr>\n",
       "    <tr>\n",
       "      <th>3</th>\n",
       "      <td>1</td>\n",
       "      <td>3408</td>\n",
       "      <td>4</td>\n",
       "      <td>978300275</td>\n",
       "      <td>erin brockovich (2000)</td>\n",
       "      <td>Drama</td>\n",
       "    </tr>\n",
       "    <tr>\n",
       "      <th>4</th>\n",
       "      <td>1</td>\n",
       "      <td>2355</td>\n",
       "      <td>5</td>\n",
       "      <td>978824291</td>\n",
       "      <td>bug's life, a (1998)</td>\n",
       "      <td>Animation|Children's|Comedy</td>\n",
       "    </tr>\n",
       "  </tbody>\n",
       "</table>\n",
       "</div>"
      ],
      "text/plain": [
       "   user_id  movie_id  count  timestamp  \\\n",
       "0        1      1193      5  978300760   \n",
       "1        1       661      3  978302109   \n",
       "2        1       914      3  978301968   \n",
       "3        1      3408      4  978300275   \n",
       "4        1      2355      5  978824291   \n",
       "\n",
       "                                    title                         genre  \n",
       "0  one flew over the cuckoo's nest (1975)                         Drama  \n",
       "1        james and the giant peach (1996)  Animation|Children's|Musical  \n",
       "2                     my fair lady (1964)               Musical|Romance  \n",
       "3                  erin brockovich (2000)                         Drama  \n",
       "4                    bug's life, a (1998)   Animation|Children's|Comedy  "
      ]
     },
     "execution_count": 7,
     "metadata": {},
     "output_type": "execute_result"
    }
   ],
   "source": [
    "data = ratings.join(movies.set_index('movie_id'), on='movie_id')\n",
    "\n",
    "data.head()"
   ]
  },
  {
   "cell_type": "code",
   "execution_count": 8,
   "id": "combined-perfume",
   "metadata": {},
   "outputs": [
    {
     "data": {
      "text/html": [
       "<div>\n",
       "<style scoped>\n",
       "    .dataframe tbody tr th:only-of-type {\n",
       "        vertical-align: middle;\n",
       "    }\n",
       "\n",
       "    .dataframe tbody tr th {\n",
       "        vertical-align: top;\n",
       "    }\n",
       "\n",
       "    .dataframe thead th {\n",
       "        text-align: right;\n",
       "    }\n",
       "</style>\n",
       "<table border=\"1\" class=\"dataframe\">\n",
       "  <thead>\n",
       "    <tr style=\"text-align: right;\">\n",
       "      <th></th>\n",
       "      <th>user_id</th>\n",
       "      <th>movie_id</th>\n",
       "      <th>count</th>\n",
       "      <th>title</th>\n",
       "      <th>genre</th>\n",
       "    </tr>\n",
       "  </thead>\n",
       "  <tbody>\n",
       "    <tr>\n",
       "      <th>0</th>\n",
       "      <td>1</td>\n",
       "      <td>1193</td>\n",
       "      <td>5</td>\n",
       "      <td>one flew over the cuckoo's nest (1975)</td>\n",
       "      <td>Drama</td>\n",
       "    </tr>\n",
       "    <tr>\n",
       "      <th>1</th>\n",
       "      <td>1</td>\n",
       "      <td>661</td>\n",
       "      <td>3</td>\n",
       "      <td>james and the giant peach (1996)</td>\n",
       "      <td>Animation|Children's|Musical</td>\n",
       "    </tr>\n",
       "    <tr>\n",
       "      <th>2</th>\n",
       "      <td>1</td>\n",
       "      <td>914</td>\n",
       "      <td>3</td>\n",
       "      <td>my fair lady (1964)</td>\n",
       "      <td>Musical|Romance</td>\n",
       "    </tr>\n",
       "    <tr>\n",
       "      <th>3</th>\n",
       "      <td>1</td>\n",
       "      <td>3408</td>\n",
       "      <td>4</td>\n",
       "      <td>erin brockovich (2000)</td>\n",
       "      <td>Drama</td>\n",
       "    </tr>\n",
       "    <tr>\n",
       "      <th>4</th>\n",
       "      <td>1</td>\n",
       "      <td>2355</td>\n",
       "      <td>5</td>\n",
       "      <td>bug's life, a (1998)</td>\n",
       "      <td>Animation|Children's|Comedy</td>\n",
       "    </tr>\n",
       "  </tbody>\n",
       "</table>\n",
       "</div>"
      ],
      "text/plain": [
       "   user_id  movie_id  count                                   title  \\\n",
       "0        1      1193      5  one flew over the cuckoo's nest (1975)   \n",
       "1        1       661      3        james and the giant peach (1996)   \n",
       "2        1       914      3                     my fair lady (1964)   \n",
       "3        1      3408      4                  erin brockovich (2000)   \n",
       "4        1      2355      5                    bug's life, a (1998)   \n",
       "\n",
       "                          genre  \n",
       "0                         Drama  \n",
       "1  Animation|Children's|Musical  \n",
       "2               Musical|Romance  \n",
       "3                         Drama  \n",
       "4   Animation|Children's|Comedy  "
      ]
     },
     "execution_count": 8,
     "metadata": {},
     "output_type": "execute_result"
    }
   ],
   "source": [
    "del data['timestamp']\n",
    "#del data['genre']\n",
    "data.head()"
   ]
  },
  {
   "cell_type": "markdown",
   "id": "restricted-farming",
   "metadata": {},
   "source": [
    "### 2. 데이터 분석하기"
   ]
  },
  {
   "cell_type": "code",
   "execution_count": 9,
   "id": "connected-scientist",
   "metadata": {},
   "outputs": [
    {
     "data": {
      "text/plain": [
       "6039"
      ]
     },
     "execution_count": 9,
     "metadata": {},
     "output_type": "execute_result"
    }
   ],
   "source": [
    "#유저수\n",
    "data['user_id'].nunique()"
   ]
  },
  {
   "cell_type": "code",
   "execution_count": 10,
   "id": "included-acceptance",
   "metadata": {},
   "outputs": [
    {
     "data": {
      "text/plain": [
       "3628"
      ]
     },
     "execution_count": 10,
     "metadata": {},
     "output_type": "execute_result"
    }
   ],
   "source": [
    "# 영화 개수\n",
    "data['movie_id'].nunique()"
   ]
  },
  {
   "cell_type": "code",
   "execution_count": 11,
   "id": "greater-wholesale",
   "metadata": {},
   "outputs": [
    {
     "data": {
      "text/plain": [
       "title\n",
       "american beauty (1999)                                   3211\n",
       "star wars: episode iv - a new hope (1977)                2910\n",
       "star wars: episode v - the empire strikes back (1980)    2885\n",
       "star wars: episode vi - return of the jedi (1983)        2716\n",
       "saving private ryan (1998)                               2561\n",
       "terminator 2: judgment day (1991)                        2509\n",
       "silence of the lambs, the (1991)                         2498\n",
       "raiders of the lost ark (1981)                           2473\n",
       "back to the future (1985)                                2460\n",
       "matrix, the (1999)                                       2434\n",
       "jurassic park (1993)                                     2413\n",
       "sixth sense, the (1999)                                  2385\n",
       "fargo (1996)                                             2371\n",
       "braveheart (1995)                                        2314\n",
       "men in black (1997)                                      2297\n",
       "schindler's list (1993)                                  2257\n",
       "princess bride, the (1987)                               2252\n",
       "shakespeare in love (1998)                               2213\n",
       "l.a. confidential (1997)                                 2210\n",
       "shawshank redemption, the (1994)                         2194\n",
       "godfather, the (1972)                                    2167\n",
       "groundhog day (1993)                                     2121\n",
       "e.t. the extra-terrestrial (1982)                        2102\n",
       "being john malkovich (1999)                              2066\n",
       "ghostbusters (1984)                                      2051\n",
       "pulp fiction (1994)                                      2030\n",
       "forrest gump (1994)                                      2022\n",
       "terminator, the (1984)                                   2019\n",
       "toy story (1995)                                         2000\n",
       "fugitive, the (1993)                                     1941\n",
       "Name: user_id, dtype: int64"
      ]
     },
     "execution_count": 11,
     "metadata": {},
     "output_type": "execute_result"
    }
   ],
   "source": [
    "#인기 많은 영화\n",
    "data_ratings = data.groupby('title')['user_id'].count()\n",
    "#ascending=False : 내림 차순으로 순위 매김\n",
    "#rank() : 그냥 순위 정하는 메소드\n",
    "data_ratings.sort_values(ascending=False).head(30)"
   ]
  },
  {
   "cell_type": "code",
   "execution_count": 12,
   "id": "conservative-sampling",
   "metadata": {},
   "outputs": [
    {
     "data": {
      "text/plain": [
       "count    3628.000000\n",
       "mean      230.561742\n",
       "std       355.596393\n",
       "min         1.000000\n",
       "25%        23.000000\n",
       "50%        87.000000\n",
       "75%       285.000000\n",
       "max      3211.000000\n",
       "Name: user_id, dtype: float64"
      ]
     },
     "execution_count": 12,
     "metadata": {},
     "output_type": "execute_result"
    }
   ],
   "source": [
    "# 유저별 몇개의 영화를 보고 있는지에 대한 통계\n",
    "user_count = data.groupby('movie_id')['user_id'].count()\n",
    "user_count.describe()"
   ]
  },
  {
   "cell_type": "markdown",
   "id": "indirect-tunnel",
   "metadata": {},
   "source": [
    "### 3. 영화를 5가지 골라서 data에 넣기 \n",
    "처음 가입하는 사용자의 취향과 유사한 영화 정보를 5개 이상 입력받는 과정"
   ]
  },
  {
   "cell_type": "code",
   "execution_count": 45,
   "id": "affiliated-polyester",
   "metadata": {},
   "outputs": [
    {
     "data": {
      "text/html": [
       "<div>\n",
       "<style scoped>\n",
       "    .dataframe tbody tr th:only-of-type {\n",
       "        vertical-align: middle;\n",
       "    }\n",
       "\n",
       "    .dataframe tbody tr th {\n",
       "        vertical-align: top;\n",
       "    }\n",
       "\n",
       "    .dataframe thead th {\n",
       "        text-align: right;\n",
       "    }\n",
       "</style>\n",
       "<table border=\"1\" class=\"dataframe\">\n",
       "  <thead>\n",
       "    <tr style=\"text-align: right;\">\n",
       "      <th></th>\n",
       "      <th>movie_id</th>\n",
       "      <th>title</th>\n",
       "      <th>genre</th>\n",
       "    </tr>\n",
       "  </thead>\n",
       "  <tbody>\n",
       "    <tr>\n",
       "      <th>2</th>\n",
       "      <td>3</td>\n",
       "      <td>grumpier old men (1995)</td>\n",
       "      <td>Comedy|Romance</td>\n",
       "    </tr>\n",
       "    <tr>\n",
       "      <th>6</th>\n",
       "      <td>7</td>\n",
       "      <td>sabrina (1995)</td>\n",
       "      <td>Comedy|Romance</td>\n",
       "    </tr>\n",
       "    <tr>\n",
       "      <th>38</th>\n",
       "      <td>39</td>\n",
       "      <td>clueless (1995)</td>\n",
       "      <td>Comedy|Romance</td>\n",
       "    </tr>\n",
       "    <tr>\n",
       "      <th>63</th>\n",
       "      <td>64</td>\n",
       "      <td>two if by sea (1996)</td>\n",
       "      <td>Comedy|Romance</td>\n",
       "    </tr>\n",
       "    <tr>\n",
       "      <th>67</th>\n",
       "      <td>68</td>\n",
       "      <td>french twist (gazon maudit) (1995)</td>\n",
       "      <td>Comedy|Romance</td>\n",
       "    </tr>\n",
       "    <tr>\n",
       "      <th>...</th>\n",
       "      <td>...</td>\n",
       "      <td>...</td>\n",
       "      <td>...</td>\n",
       "    </tr>\n",
       "    <tr>\n",
       "      <th>3679</th>\n",
       "      <td>3748</td>\n",
       "      <td>match, the (1999)</td>\n",
       "      <td>Comedy|Romance</td>\n",
       "    </tr>\n",
       "    <tr>\n",
       "      <th>3759</th>\n",
       "      <td>3829</td>\n",
       "      <td>mad about mambo (2000)</td>\n",
       "      <td>Comedy|Romance</td>\n",
       "    </tr>\n",
       "    <tr>\n",
       "      <th>3804</th>\n",
       "      <td>3874</td>\n",
       "      <td>couch in new york, a (1996)</td>\n",
       "      <td>Comedy|Romance</td>\n",
       "    </tr>\n",
       "    <tr>\n",
       "      <th>3815</th>\n",
       "      <td>3885</td>\n",
       "      <td>love &amp; sex (2000)</td>\n",
       "      <td>Comedy|Romance</td>\n",
       "    </tr>\n",
       "    <tr>\n",
       "      <th>3839</th>\n",
       "      <td>3909</td>\n",
       "      <td>woman on top (2000)</td>\n",
       "      <td>Comedy|Romance</td>\n",
       "    </tr>\n",
       "  </tbody>\n",
       "</table>\n",
       "<p>154 rows × 3 columns</p>\n",
       "</div>"
      ],
      "text/plain": [
       "      movie_id                               title           genre\n",
       "2            3             grumpier old men (1995)  Comedy|Romance\n",
       "6            7                      sabrina (1995)  Comedy|Romance\n",
       "38          39                     clueless (1995)  Comedy|Romance\n",
       "63          64                two if by sea (1996)  Comedy|Romance\n",
       "67          68  french twist (gazon maudit) (1995)  Comedy|Romance\n",
       "...        ...                                 ...             ...\n",
       "3679      3748                   match, the (1999)  Comedy|Romance\n",
       "3759      3829              mad about mambo (2000)  Comedy|Romance\n",
       "3804      3874         couch in new york, a (1996)  Comedy|Romance\n",
       "3815      3885                   love & sex (2000)  Comedy|Romance\n",
       "3839      3909                 woman on top (2000)  Comedy|Romance\n",
       "\n",
       "[154 rows x 3 columns]"
      ]
     },
     "execution_count": 45,
     "metadata": {},
     "output_type": "execute_result"
    }
   ],
   "source": [
    "# 영화 genre 키워드로 검색\n",
    "movies[movies['genre'].str.lower().str.contains('comedy|romance', regex=False)]"
   ]
  },
  {
   "cell_type": "code",
   "execution_count": 13,
   "id": "professional-military",
   "metadata": {},
   "outputs": [
    {
     "data": {
      "text/html": [
       "<div>\n",
       "<style scoped>\n",
       "    .dataframe tbody tr th:only-of-type {\n",
       "        vertical-align: middle;\n",
       "    }\n",
       "\n",
       "    .dataframe tbody tr th {\n",
       "        vertical-align: top;\n",
       "    }\n",
       "\n",
       "    .dataframe thead th {\n",
       "        text-align: right;\n",
       "    }\n",
       "</style>\n",
       "<table border=\"1\" class=\"dataframe\">\n",
       "  <thead>\n",
       "    <tr style=\"text-align: right;\">\n",
       "      <th></th>\n",
       "      <th>movie_id</th>\n",
       "      <th>title</th>\n",
       "      <th>genre</th>\n",
       "    </tr>\n",
       "  </thead>\n",
       "  <tbody>\n",
       "    <tr>\n",
       "      <th>352</th>\n",
       "      <td>356</td>\n",
       "      <td>forrest gump (1994)</td>\n",
       "      <td>Comedy|Romance|War</td>\n",
       "    </tr>\n",
       "  </tbody>\n",
       "</table>\n",
       "</div>"
      ],
      "text/plain": [
       "     movie_id                title               genre\n",
       "352       356  forrest gump (1994)  Comedy|Romance|War"
      ]
     },
     "execution_count": 13,
     "metadata": {},
     "output_type": "execute_result"
    }
   ],
   "source": [
    "# 영화 제목 키워드로 검색\n",
    "movies[movies['title'].str.lower().str.contains('forrest gump', regex=False)]"
   ]
  },
  {
   "cell_type": "code",
   "execution_count": 14,
   "id": "spanish-affiliation",
   "metadata": {},
   "outputs": [
    {
     "data": {
      "text/html": [
       "<div>\n",
       "<style scoped>\n",
       "    .dataframe tbody tr th:only-of-type {\n",
       "        vertical-align: middle;\n",
       "    }\n",
       "\n",
       "    .dataframe tbody tr th {\n",
       "        vertical-align: top;\n",
       "    }\n",
       "\n",
       "    .dataframe thead th {\n",
       "        text-align: right;\n",
       "    }\n",
       "</style>\n",
       "<table border=\"1\" class=\"dataframe\">\n",
       "  <thead>\n",
       "    <tr style=\"text-align: right;\">\n",
       "      <th></th>\n",
       "      <th>movie_id</th>\n",
       "      <th>title</th>\n",
       "      <th>genre</th>\n",
       "    </tr>\n",
       "  </thead>\n",
       "  <tbody>\n",
       "    <tr>\n",
       "      <th>535</th>\n",
       "      <td>539</td>\n",
       "      <td>sleepless in seattle (1993)</td>\n",
       "      <td>Comedy|Romance</td>\n",
       "    </tr>\n",
       "  </tbody>\n",
       "</table>\n",
       "</div>"
      ],
      "text/plain": [
       "     movie_id                        title           genre\n",
       "535       539  sleepless in seattle (1993)  Comedy|Romance"
      ]
     },
     "execution_count": 14,
     "metadata": {},
     "output_type": "execute_result"
    }
   ],
   "source": [
    "# 영화 제목 키워드로 검색\n",
    "movies[movies['title'].str.lower().str.contains('sleepless', regex=False)]"
   ]
  },
  {
   "cell_type": "code",
   "execution_count": 15,
   "id": "introductory-turtle",
   "metadata": {},
   "outputs": [
    {
     "data": {
      "text/html": [
       "<div>\n",
       "<style scoped>\n",
       "    .dataframe tbody tr th:only-of-type {\n",
       "        vertical-align: middle;\n",
       "    }\n",
       "\n",
       "    .dataframe tbody tr th {\n",
       "        vertical-align: top;\n",
       "    }\n",
       "\n",
       "    .dataframe thead th {\n",
       "        text-align: right;\n",
       "    }\n",
       "</style>\n",
       "<table border=\"1\" class=\"dataframe\">\n",
       "  <thead>\n",
       "    <tr style=\"text-align: right;\">\n",
       "      <th></th>\n",
       "      <th>movie_id</th>\n",
       "      <th>title</th>\n",
       "      <th>genre</th>\n",
       "    </tr>\n",
       "  </thead>\n",
       "  <tbody>\n",
       "    <tr>\n",
       "      <th>376</th>\n",
       "      <td>380</td>\n",
       "      <td>true lies (1994)</td>\n",
       "      <td>Action|Adventure|Comedy|Romance</td>\n",
       "    </tr>\n",
       "  </tbody>\n",
       "</table>\n",
       "</div>"
      ],
      "text/plain": [
       "     movie_id             title                            genre\n",
       "376       380  true lies (1994)  Action|Adventure|Comedy|Romance"
      ]
     },
     "execution_count": 15,
     "metadata": {},
     "output_type": "execute_result"
    }
   ],
   "source": [
    "# 영화 제목 키워드로 검색\n",
    "movies[movies['title'].str.lower().str.contains('true lies', regex=False)]"
   ]
  },
  {
   "cell_type": "code",
   "execution_count": 16,
   "id": "dress-batman",
   "metadata": {},
   "outputs": [
    {
     "data": {
      "text/html": [
       "<div>\n",
       "<style scoped>\n",
       "    .dataframe tbody tr th:only-of-type {\n",
       "        vertical-align: middle;\n",
       "    }\n",
       "\n",
       "    .dataframe tbody tr th {\n",
       "        vertical-align: top;\n",
       "    }\n",
       "\n",
       "    .dataframe thead th {\n",
       "        text-align: right;\n",
       "    }\n",
       "</style>\n",
       "<table border=\"1\" class=\"dataframe\">\n",
       "  <thead>\n",
       "    <tr style=\"text-align: right;\">\n",
       "      <th></th>\n",
       "      <th>movie_id</th>\n",
       "      <th>title</th>\n",
       "      <th>genre</th>\n",
       "    </tr>\n",
       "  </thead>\n",
       "  <tbody>\n",
       "    <tr>\n",
       "      <th>2139</th>\n",
       "      <td>2208</td>\n",
       "      <td>lady vanishes, the (1938)</td>\n",
       "      <td>Comedy|Mystery|Romance|Thriller</td>\n",
       "    </tr>\n",
       "  </tbody>\n",
       "</table>\n",
       "</div>"
      ],
      "text/plain": [
       "      movie_id                      title                            genre\n",
       "2139      2208  lady vanishes, the (1938)  Comedy|Mystery|Romance|Thriller"
      ]
     },
     "execution_count": 16,
     "metadata": {},
     "output_type": "execute_result"
    }
   ],
   "source": [
    "# 영화 제목 키워드로 검색\n",
    "movies[movies['title'].str.lower().str.contains('lady vanishes', regex=False)]"
   ]
  },
  {
   "cell_type": "code",
   "execution_count": 17,
   "id": "silent-pantyhose",
   "metadata": {},
   "outputs": [
    {
     "data": {
      "text/html": [
       "<div>\n",
       "<style scoped>\n",
       "    .dataframe tbody tr th:only-of-type {\n",
       "        vertical-align: middle;\n",
       "    }\n",
       "\n",
       "    .dataframe tbody tr th {\n",
       "        vertical-align: top;\n",
       "    }\n",
       "\n",
       "    .dataframe thead th {\n",
       "        text-align: right;\n",
       "    }\n",
       "</style>\n",
       "<table border=\"1\" class=\"dataframe\">\n",
       "  <thead>\n",
       "    <tr style=\"text-align: right;\">\n",
       "      <th></th>\n",
       "      <th>movie_id</th>\n",
       "      <th>title</th>\n",
       "      <th>genre</th>\n",
       "    </tr>\n",
       "  </thead>\n",
       "  <tbody>\n",
       "    <tr>\n",
       "      <th>1245</th>\n",
       "      <td>1265</td>\n",
       "      <td>groundhog day (1993)</td>\n",
       "      <td>Comedy|Romance</td>\n",
       "    </tr>\n",
       "  </tbody>\n",
       "</table>\n",
       "</div>"
      ],
      "text/plain": [
       "      movie_id                 title           genre\n",
       "1245      1265  groundhog day (1993)  Comedy|Romance"
      ]
     },
     "execution_count": 17,
     "metadata": {},
     "output_type": "execute_result"
    }
   ],
   "source": [
    "# 영화 제목 키워드로 검색\n",
    "movies[movies['title'].str.lower().str.contains('groundhog day', regex=False)]"
   ]
  },
  {
   "cell_type": "code",
   "execution_count": 19,
   "id": "expressed-doctor",
   "metadata": {},
   "outputs": [
    {
     "data": {
      "text/html": [
       "<div>\n",
       "<style scoped>\n",
       "    .dataframe tbody tr th:only-of-type {\n",
       "        vertical-align: middle;\n",
       "    }\n",
       "\n",
       "    .dataframe tbody tr th {\n",
       "        vertical-align: top;\n",
       "    }\n",
       "\n",
       "    .dataframe thead th {\n",
       "        text-align: right;\n",
       "    }\n",
       "</style>\n",
       "<table border=\"1\" class=\"dataframe\">\n",
       "  <thead>\n",
       "    <tr style=\"text-align: right;\">\n",
       "      <th></th>\n",
       "      <th>user_id</th>\n",
       "      <th>movie_id</th>\n",
       "      <th>title</th>\n",
       "      <th>count</th>\n",
       "    </tr>\n",
       "  </thead>\n",
       "  <tbody>\n",
       "    <tr>\n",
       "      <th>1000203</th>\n",
       "      <td>6040</td>\n",
       "      <td>1090</td>\n",
       "      <td>platoon (1986)</td>\n",
       "      <td>3</td>\n",
       "    </tr>\n",
       "    <tr>\n",
       "      <th>1000205</th>\n",
       "      <td>6040</td>\n",
       "      <td>1094</td>\n",
       "      <td>crying game, the (1992)</td>\n",
       "      <td>5</td>\n",
       "    </tr>\n",
       "    <tr>\n",
       "      <th>1000206</th>\n",
       "      <td>6040</td>\n",
       "      <td>562</td>\n",
       "      <td>welcome to the dollhouse (1995)</td>\n",
       "      <td>5</td>\n",
       "    </tr>\n",
       "    <tr>\n",
       "      <th>1000207</th>\n",
       "      <td>6040</td>\n",
       "      <td>1096</td>\n",
       "      <td>sophie's choice (1982)</td>\n",
       "      <td>4</td>\n",
       "    </tr>\n",
       "    <tr>\n",
       "      <th>1000208</th>\n",
       "      <td>6040</td>\n",
       "      <td>1097</td>\n",
       "      <td>e.t. the extra-terrestrial (1982)</td>\n",
       "      <td>4</td>\n",
       "    </tr>\n",
       "    <tr>\n",
       "      <th>0</th>\n",
       "      <td>gayeong</td>\n",
       "      <td>356</td>\n",
       "      <td>forrest gump (1994)</td>\n",
       "      <td>5</td>\n",
       "    </tr>\n",
       "    <tr>\n",
       "      <th>1</th>\n",
       "      <td>gayeong</td>\n",
       "      <td>539</td>\n",
       "      <td>sleepless in seattle (1993)</td>\n",
       "      <td>5</td>\n",
       "    </tr>\n",
       "    <tr>\n",
       "      <th>2</th>\n",
       "      <td>gayeong</td>\n",
       "      <td>380</td>\n",
       "      <td>true lies (1994)</td>\n",
       "      <td>5</td>\n",
       "    </tr>\n",
       "    <tr>\n",
       "      <th>3</th>\n",
       "      <td>gayeong</td>\n",
       "      <td>2208</td>\n",
       "      <td>lady vanishes, the (1938)</td>\n",
       "      <td>5</td>\n",
       "    </tr>\n",
       "    <tr>\n",
       "      <th>4</th>\n",
       "      <td>gayeong</td>\n",
       "      <td>1265</td>\n",
       "      <td>groundhog day (1993)</td>\n",
       "      <td>5</td>\n",
       "    </tr>\n",
       "  </tbody>\n",
       "</table>\n",
       "</div>"
      ],
      "text/plain": [
       "         user_id  movie_id                              title  count\n",
       "1000203     6040      1090                     platoon (1986)      3\n",
       "1000205     6040      1094            crying game, the (1992)      5\n",
       "1000206     6040       562    welcome to the dollhouse (1995)      5\n",
       "1000207     6040      1096             sophie's choice (1982)      4\n",
       "1000208     6040      1097  e.t. the extra-terrestrial (1982)      4\n",
       "0        gayeong       356                forrest gump (1994)      5\n",
       "1        gayeong       539        sleepless in seattle (1993)      5\n",
       "2        gayeong       380                   true lies (1994)      5\n",
       "3        gayeong      2208          lady vanishes, the (1938)      5\n",
       "4        gayeong      1265               groundhog day (1993)      5"
      ]
     },
     "execution_count": 19,
     "metadata": {},
     "output_type": "execute_result"
    }
   ],
   "source": [
    "# 좋아하는 영화의 id 리스트\n",
    "my_favoite_movie_id = [356, 539, 380, 2208, 1265]\n",
    "\n",
    "# id 리스트를 title 리스트로 변환해준다\n",
    "my_favorite_movie = []\n",
    "for mid in my_favoite_movie_id:\n",
    "    my_favorite_movie.append(list(movies[movies['movie_id']==mid]['title'])[0])\n",
    "    \n",
    "# id 리스트를 genre 리스트로 변환해준다\n",
    "#my_favorite_genre = []\n",
    "#for mid in my_favoite_movie_id:\n",
    "#    my_favorite_genre.append(list(movies[movies['movie_id']==mid]['genre'])[0])\n",
    "\n",
    "# '923'이라는 user_id가 위 영화를 5회씩 시청했다고 가정하겠습니다.\n",
    "my_watchlist = pd.DataFrame({'user_id': ['gayeong']*5, 'movie_id': my_favoite_movie_id, 'title': my_favorite_movie, 'count':[5]*5})\n",
    "\n",
    "if not data.isin({'user_id':['gayeong']})['user_id'].any():  # user_id에 'eunyoeng'이라는 데이터가 없다면\n",
    "    data = data.append(my_watchlist)                           # 위에 임의로 만든 my_favorite 데이터를 추가해 줍니다. \n",
    "\n",
    "data = data[['user_id', 'movie_id', 'title', 'count']]\n",
    "data.tail(10)"
   ]
  },
  {
   "cell_type": "markdown",
   "id": "naval-offering",
   "metadata": {},
   "source": [
    "## 왜 counts로 하면 안될까?\n",
    "왜 장르는 안될까?"
   ]
  },
  {
   "cell_type": "markdown",
   "id": "racial-thousand",
   "metadata": {},
   "source": [
    "# 본인이 좋아하는 영화 5개 데이터 넣기\n",
    "my_favorite_title = ['lalaland' , 'soul' ,'note book' ,'before sunrise' ,'closer']\n",
    "my_favorite_movie_id = {3628, 3629, 3630, 3631, 3632}\n",
    "my_favorite_genre = {'Romance', 'Drama', 'Romance', 'Romance', 'Romance'}\n",
    "# 'gayeong'이라는 user_id가 위 영화를 4번씩 봤다고 가정\n",
    "my_playlist = pd.DataFrame({'user_id': ['923']*5, 'movie_id' : my_favorite_movie_id,  'counts':[4]*5,'title': my_favorite_title , 'genre' : my_favorite_genre})\n",
    "\n",
    "# user_id에 'gayeong'이라는 데이터가 없다면\n",
    "# 위에 임의로 만든 my_favorite 데이터를 추가해 줍니다.\n",
    "if not data.isin({'user_id':['923']})['user_id'].any():  \n",
    "    data = data.append(my_playlist)                            \n",
    "\n",
    "data = data[['user_id', 'movie_id', 'title', 'counts', 'genre']]\n",
    "data.tail(10)       # 잘 추가되었는지 확인해 봅시다.\n",
    "\n",
    "#\tuser_id\tmovie_id\tcounts\ttitle\tgenre"
   ]
  },
  {
   "cell_type": "markdown",
   "id": "exempt-philosophy",
   "metadata": {},
   "source": [
    "### 4. CSR 매트릭스 생성   \n",
    "CSR(Compressed Sparse Row) Matrix  \n",
    "sparse한 matrix에서 0이 아닌 유효한 데이터로 채워지는  \n",
    "데이터 값과 좌표 정보만으로 구성 -> 메모리 사용량 최소화   "
   ]
  },
  {
   "cell_type": "markdown",
   "id": "immediate-midnight",
   "metadata": {},
   "source": [
    "##### 1. 매트릭스 생성 위한 인덱싱"
   ]
  },
  {
   "cell_type": "code",
   "execution_count": 20,
   "id": "medieval-edinburgh",
   "metadata": {},
   "outputs": [],
   "source": [
    "from scipy.sparse import csr_matrix\n",
    "#user, title 찾기 (중복없이)\n",
    "user_unique = data['user_id'].unique()\n",
    "movie_unique = data['title'].unique()\n",
    "\n",
    "#user, movie 각각 인덱싱 하기\n",
    "user_to_idx = {v:k for k,v in enumerate(user_unique)}\n",
    "movie_to_idx = {v:k for k,v in enumerate(movie_unique)}"
   ]
  },
  {
   "cell_type": "code",
   "execution_count": 21,
   "id": "imposed-spouse",
   "metadata": {},
   "outputs": [
    {
     "name": "stdout",
     "output_type": "stream",
     "text": [
      "user_id column indexing OK!!\n"
     ]
    }
   ],
   "source": [
    "#user_id 모두 인덱싱 하기\n",
    "temp_user_data = data['user_id'].map(user_to_idx.get).dropna()\n",
    "if len(temp_user_data) == len(data):\n",
    "    print('user_id column indexing OK!!')\n",
    "    data['user_id'] = temp_user_data\n",
    "else:\n",
    "    print('user_id column indexing Fail!!')"
   ]
  },
  {
   "cell_type": "code",
   "execution_count": 22,
   "id": "express-wrist",
   "metadata": {},
   "outputs": [
    {
     "name": "stdout",
     "output_type": "stream",
     "text": [
      "title column indexing OK!!\n"
     ]
    }
   ],
   "source": [
    "#title 모두 인덱싱 하기\n",
    "temp_movie_data = data['title'].map(movie_to_idx.get).dropna()\n",
    "if len(temp_movie_data) == len(data):\n",
    "    print('title column indexing OK!!')\n",
    "    data['title'] = temp_movie_data\n",
    "else:\n",
    "    print('title column indexing Fail!!')"
   ]
  },
  {
   "cell_type": "code",
   "execution_count": 23,
   "id": "interstate-proceeding",
   "metadata": {},
   "outputs": [
    {
     "data": {
      "text/html": [
       "<div>\n",
       "<style scoped>\n",
       "    .dataframe tbody tr th:only-of-type {\n",
       "        vertical-align: middle;\n",
       "    }\n",
       "\n",
       "    .dataframe tbody tr th {\n",
       "        vertical-align: top;\n",
       "    }\n",
       "\n",
       "    .dataframe thead th {\n",
       "        text-align: right;\n",
       "    }\n",
       "</style>\n",
       "<table border=\"1\" class=\"dataframe\">\n",
       "  <thead>\n",
       "    <tr style=\"text-align: right;\">\n",
       "      <th></th>\n",
       "      <th>user_id</th>\n",
       "      <th>movie_id</th>\n",
       "      <th>title</th>\n",
       "      <th>count</th>\n",
       "    </tr>\n",
       "  </thead>\n",
       "  <tbody>\n",
       "    <tr>\n",
       "      <th>0</th>\n",
       "      <td>0</td>\n",
       "      <td>1193</td>\n",
       "      <td>0</td>\n",
       "      <td>5</td>\n",
       "    </tr>\n",
       "    <tr>\n",
       "      <th>1</th>\n",
       "      <td>0</td>\n",
       "      <td>661</td>\n",
       "      <td>1</td>\n",
       "      <td>3</td>\n",
       "    </tr>\n",
       "    <tr>\n",
       "      <th>2</th>\n",
       "      <td>0</td>\n",
       "      <td>914</td>\n",
       "      <td>2</td>\n",
       "      <td>3</td>\n",
       "    </tr>\n",
       "    <tr>\n",
       "      <th>3</th>\n",
       "      <td>0</td>\n",
       "      <td>3408</td>\n",
       "      <td>3</td>\n",
       "      <td>4</td>\n",
       "    </tr>\n",
       "    <tr>\n",
       "      <th>4</th>\n",
       "      <td>0</td>\n",
       "      <td>2355</td>\n",
       "      <td>4</td>\n",
       "      <td>5</td>\n",
       "    </tr>\n",
       "    <tr>\n",
       "      <th>...</th>\n",
       "      <td>...</td>\n",
       "      <td>...</td>\n",
       "      <td>...</td>\n",
       "      <td>...</td>\n",
       "    </tr>\n",
       "    <tr>\n",
       "      <th>0</th>\n",
       "      <td>6039</td>\n",
       "      <td>356</td>\n",
       "      <td>160</td>\n",
       "      <td>5</td>\n",
       "    </tr>\n",
       "    <tr>\n",
       "      <th>1</th>\n",
       "      <td>6039</td>\n",
       "      <td>539</td>\n",
       "      <td>666</td>\n",
       "      <td>5</td>\n",
       "    </tr>\n",
       "    <tr>\n",
       "      <th>2</th>\n",
       "      <td>6039</td>\n",
       "      <td>380</td>\n",
       "      <td>138</td>\n",
       "      <td>5</td>\n",
       "    </tr>\n",
       "    <tr>\n",
       "      <th>3</th>\n",
       "      <td>6039</td>\n",
       "      <td>2208</td>\n",
       "      <td>1324</td>\n",
       "      <td>5</td>\n",
       "    </tr>\n",
       "    <tr>\n",
       "      <th>4</th>\n",
       "      <td>6039</td>\n",
       "      <td>1265</td>\n",
       "      <td>110</td>\n",
       "      <td>5</td>\n",
       "    </tr>\n",
       "  </tbody>\n",
       "</table>\n",
       "<p>836483 rows × 4 columns</p>\n",
       "</div>"
      ],
      "text/plain": [
       "    user_id  movie_id  title  count\n",
       "0         0      1193      0      5\n",
       "1         0       661      1      3\n",
       "2         0       914      2      3\n",
       "3         0      3408      3      4\n",
       "4         0      2355      4      5\n",
       "..      ...       ...    ...    ...\n",
       "0      6039       356    160      5\n",
       "1      6039       539    666      5\n",
       "2      6039       380    138      5\n",
       "3      6039      2208   1324      5\n",
       "4      6039      1265    110      5\n",
       "\n",
       "[836483 rows x 4 columns]"
      ]
     },
     "execution_count": 23,
     "metadata": {},
     "output_type": "execute_result"
    }
   ],
   "source": [
    "data"
   ]
  },
  {
   "cell_type": "markdown",
   "id": "neutral-second",
   "metadata": {},
   "source": [
    "##### 2. csr 매트릭스 생성"
   ]
  },
  {
   "cell_type": "code",
   "execution_count": 24,
   "id": "taken-breed",
   "metadata": {},
   "outputs": [
    {
     "data": {
      "text/plain": [
       "<6040x3628 sparse matrix of type '<class 'numpy.longlong'>'\n",
       "\twith 836483 stored elements in Compressed Sparse Row format>"
      ]
     },
     "execution_count": 24,
     "metadata": {},
     "output_type": "execute_result"
    }
   ],
   "source": [
    "from scipy.sparse import csr_matrix\n",
    "\n",
    "num_user = data['user_id'].nunique()\n",
    "num_movie = data['title'].nunique()\n",
    "\n",
    "csr_data = csr_matrix((data['count'], (data.user_id, data.title)), shape= (num_user, num_movie))\n",
    "csr_data"
   ]
  },
  {
   "cell_type": "markdown",
   "id": "eligible-graham",
   "metadata": {},
   "source": [
    "### 5. als_model = AlternatingLeastSquares 모델 구성 및 학습  \n",
    "\n",
    "시청횟수 = count = implicit 데이터로 간주  \n",
    "\n",
    "* Matrix Factorization 모델을 implicit 패키지를 사용하여 학습\n",
    "\n",
    "* implicit 패키지  \n",
    "  암묵적(implicit) dataset을 사용하는 다양한 모델을  \n",
    "  굉장히 빠르게 학습할 수 있는 패키지  \n",
    "  \n",
    "* als(AlternatingLeastSquares) 모델  \n",
    "  Matrix Factorization에서 쪼개진 두 Feature Matrix를  \n",
    "  한꺼번에 훈련하는 것은 잘 수렴하지 않음  \n",
    "  -> 한쪽을 고정시키고 다른 쪽을 학습하는 방식을 번갈아 수행하는  \n",
    "     AlternatingLeastSquares 방식 사용  "
   ]
  },
  {
   "cell_type": "markdown",
   "id": "unexpected-context",
   "metadata": {},
   "source": [
    "##### 1. 모델 구성"
   ]
  },
  {
   "cell_type": "code",
   "execution_count": 25,
   "id": "serious-exclusion",
   "metadata": {},
   "outputs": [],
   "source": [
    "from implicit.als import AlternatingLeastSquares\n",
    "import os\n",
    "import numpy as np\n",
    "\n",
    "# implicit 라이브러리에서 권장하고 있는 부분입니다. 학습 내용과는 무관합니다.\n",
    "os.environ['OPENBLAS_NUM_THREADS']='1'\n",
    "os.environ['KMP_DUPLICATE_LIB_OK']='True'\n",
    "os.environ['MKL_NUM_THREADS']='1'"
   ]
  },
  {
   "cell_type": "markdown",
   "id": "interpreted-steering",
   "metadata": {},
   "source": [
    "* AlternatingLeastSquares 클래스의 __init__ 파라미터  \n",
    "  1) factors : 유저와 아이템의 벡터를 몇 차원으로 할 것인지  \n",
    "  2) regularization : 과적합을 방지하기 위해 정규화 값을 얼마나 사용할 것인지  \n",
    "  3) use_gpu : GPU를 사용할 것인지  \n",
    "  4) iterations : epochs와 같은 의미입니다.  \n",
    "    데이터를 몇 번 반복해서 학습할 것인지  \n",
    "  - 1,4를 늘릴수록 학습을 잘 하게 되지만 과적합의 우려가 있다."
   ]
  },
  {
   "cell_type": "code",
   "execution_count": 26,
   "id": "british-procedure",
   "metadata": {},
   "outputs": [],
   "source": [
    "# Implicit AlternatingLeastSquares 모델의 선언\n",
    "# factors : 유저와 아이템의 벡터를 몇 차원으로 할 것인지\n",
    "als_model = AlternatingLeastSquares(factors=100, regularization=0.01, use_gpu=False, iterations=15, dtype=np.float32)"
   ]
  },
  {
   "cell_type": "code",
   "execution_count": 27,
   "id": "varying-finland",
   "metadata": {},
   "outputs": [
    {
     "data": {
      "text/plain": [
       "<3628x6040 sparse matrix of type '<class 'numpy.longlong'>'\n",
       "\twith 836483 stored elements in Compressed Sparse Column format>"
      ]
     },
     "execution_count": 27,
     "metadata": {},
     "output_type": "execute_result"
    }
   ],
   "source": [
    "# als 모델은 input으로 (item X user 꼴의 matrix를 받기 때문에 Transpose해줌\n",
    "csr_data_transpose = csr_data.T\n",
    "csr_data_transpose"
   ]
  },
  {
   "cell_type": "markdown",
   "id": "nominated-creation",
   "metadata": {},
   "source": [
    "##### 2. 모델 학습"
   ]
  },
  {
   "cell_type": "code",
   "execution_count": 28,
   "id": "protected-costa",
   "metadata": {},
   "outputs": [
    {
     "data": {
      "application/vnd.jupyter.widget-view+json": {
       "model_id": "0fd92e87aa2349aaaca59cf8469b6970",
       "version_major": 2,
       "version_minor": 0
      },
      "text/plain": [
       "  0%|          | 0/15 [00:00<?, ?it/s]"
      ]
     },
     "metadata": {},
     "output_type": "display_data"
    }
   ],
   "source": [
    "# 모델 훈련\n",
    "als_model.fit(csr_data_transpose)"
   ]
  },
  {
   "cell_type": "markdown",
   "id": "comfortable-polls",
   "metadata": {},
   "source": [
    "### 6. 내가 선호하는 5가지 영화 중 하나, 그외의 영화 하나를 골라  \n",
    "### 예측된 나의 선호도를 파악하기"
   ]
  },
  {
   "cell_type": "markdown",
   "id": "gross-province",
   "metadata": {},
   "source": [
    "#### 1.  gayeong 사용자 벡터 before sunrise의 벡터를 어떻게 만들고 있는지 확인"
   ]
  },
  {
   "cell_type": "code",
   "execution_count": 42,
   "id": "worthy-scene",
   "metadata": {},
   "outputs": [],
   "source": [
    "gayeong, forrest = user_to_idx['gayeong'], movie_to_idx['forrest gump (1994)']\n",
    "gayeong_vector, forrest_vector = als_model.user_factors[gayeong], als_model.item_factors[forrest]"
   ]
  },
  {
   "cell_type": "code",
   "execution_count": 39,
   "id": "satellite-challenge",
   "metadata": {},
   "outputs": [
    {
     "name": "stdout",
     "output_type": "stream",
     "text": [
      "(100,)\n"
     ]
    },
    {
     "data": {
      "text/plain": [
       "array([ 6.1388355e-01, -1.9906387e-01,  2.9857986e-02,  1.5229097e-01,\n",
       "        6.6105038e-01, -1.9354695e-01, -3.3574861e-01,  3.0278969e-01,\n",
       "       -4.9996685e-02,  3.5606261e-02, -6.9815403e-01,  1.2824778e-01,\n",
       "       -4.1147920e-01,  1.4879268e-01,  7.3970234e-01,  2.1792513e-01,\n",
       "       -8.2292311e-02, -3.4573019e-01, -3.1053069e-01,  6.4462370e-01,\n",
       "       -1.9620214e-01, -9.1814399e-01, -4.5855302e-01, -9.2134792e-01,\n",
       "       -3.6663625e-02, -4.8978623e-02,  1.8357427e-01,  1.3090259e-02,\n",
       "        1.3395137e-01, -6.6258317e-01,  5.4006692e-02,  1.0839574e-01,\n",
       "        4.8665145e-01,  3.4941998e-01,  4.1014305e-01, -6.2200099e-01,\n",
       "       -2.5079858e-01, -1.4500964e-01,  1.2835301e+00, -8.5613114e-01,\n",
       "        3.0585292e-01,  6.1266845e-01, -6.9250286e-01,  1.1638041e+00,\n",
       "        3.0540836e-01,  9.7258084e-02,  2.0344917e-02, -1.6770691e-01,\n",
       "       -2.9928157e-01, -1.2364511e-01, -1.5636969e-01,  5.9709597e-01,\n",
       "       -6.5246008e-02, -8.2345802e-01,  6.9843614e-01,  5.4169830e-02,\n",
       "       -3.4137589e-01,  5.1464248e-01,  4.9042177e-01, -4.4203438e-02,\n",
       "        2.9002315e-01, -1.5548877e-01, -3.0432352e-01,  3.6225823e-01,\n",
       "       -4.9250670e-02,  7.4921966e-01, -7.1811002e-01, -3.8267213e-01,\n",
       "       -1.2567816e+00,  1.2020168e-01,  3.8644347e-01,  1.7412227e-01,\n",
       "        5.9915370e-01, -1.5531124e-02, -1.2795210e-01,  2.4224739e-01,\n",
       "       -5.3871757e-01,  4.9199733e-01,  1.8551306e-01,  5.0326520e-01,\n",
       "       -9.6169084e-01,  3.4573102e-01,  5.3023428e-01,  3.3868477e-01,\n",
       "        9.4454326e-02, -2.7384505e-02,  1.1264118e-01, -7.9718035e-01,\n",
       "        5.7466578e-04, -6.9481380e-02, -5.6399429e-01,  4.0105161e-01,\n",
       "       -5.3429961e-02,  7.1376365e-01, -8.4798020e-01,  8.2171464e-01,\n",
       "       -4.5640185e-02,  5.3533234e-02,  3.4995526e-01, -3.4718016e-01],\n",
       "      dtype=float32)"
      ]
     },
     "execution_count": 39,
     "metadata": {},
     "output_type": "execute_result"
    }
   ],
   "source": [
    "print(gayeong_vector.shape)\n",
    "gayeong_vector"
   ]
  },
  {
   "cell_type": "code",
   "execution_count": 40,
   "id": "official-interpretation",
   "metadata": {},
   "outputs": [
    {
     "name": "stdout",
     "output_type": "stream",
     "text": [
      "(100,)\n"
     ]
    },
    {
     "data": {
      "text/plain": [
       "array([ 0.0019017 ,  0.02557408, -0.00457458, -0.00311147,  0.03098644,\n",
       "       -0.00577148,  0.00325144,  0.03311893, -0.00878399,  0.02342585,\n",
       "       -0.02577823,  0.01321712,  0.00285468,  0.0343077 ,  0.03524889,\n",
       "        0.01750071,  0.00109344,  0.00217265, -0.00944461,  0.02876705,\n",
       "       -0.01207686, -0.02525539, -0.00112479, -0.04280132, -0.00104615,\n",
       "       -0.01352699, -0.00880572,  0.00188296,  0.01891545, -0.02114863,\n",
       "       -0.00317265,  0.01804841,  0.02351053,  0.00536738,  0.02292667,\n",
       "        0.01787689,  0.00084576, -0.01339651,  0.05871806, -0.03627729,\n",
       "        0.03978118,  0.03068557, -0.02339378,  0.00492047,  0.02331992,\n",
       "        0.00103232,  0.01129805,  0.00012453,  0.01573024, -0.00638882,\n",
       "       -0.00106527,  0.02853175, -0.00872011, -0.0191827 ,  0.03061148,\n",
       "        0.00372741, -0.0137231 ,  0.0370957 ,  0.03175524, -0.01851245,\n",
       "        0.014066  , -0.00109261,  0.01002583,  0.03360716,  0.01241174,\n",
       "        0.01344597, -0.03920833, -0.02350646, -0.02668619,  0.0034242 ,\n",
       "        0.02358594, -0.00908997,  0.01934546, -0.00721771, -0.01648247,\n",
       "        0.01694768,  0.01556368,  0.01723868,  0.00639201,  0.01994122,\n",
       "       -0.01954341, -0.00907839,  0.02137996,  0.01379281,  0.00825695,\n",
       "        0.01957277, -0.01777737, -0.00155329, -0.00484661,  0.0258396 ,\n",
       "       -0.00830943,  0.03495353,  0.01324668,  0.04472429, -0.03125431,\n",
       "        0.00679639, -0.00947074, -0.01892168,  0.04020455, -0.0007243 ],\n",
       "      dtype=float32)"
      ]
     },
     "execution_count": 40,
     "metadata": {},
     "output_type": "execute_result"
    }
   ],
   "source": [
    "print(forrest_vector.shape)\n",
    "forrest_vector"
   ]
  },
  {
   "cell_type": "code",
   "execution_count": 41,
   "id": "monthly-control",
   "metadata": {},
   "outputs": [
    {
     "data": {
      "text/plain": [
       "0.7116494"
      ]
     },
     "execution_count": 41,
     "metadata": {},
     "output_type": "execute_result"
    }
   ],
   "source": [
    "# gayeong과 forrest gump (1994)를 내적하는 코드\n",
    "np.dot(gayeong_vector,forrest_vector)"
   ]
  },
  {
   "cell_type": "code",
   "execution_count": 35,
   "id": "collect-springfield",
   "metadata": {},
   "outputs": [
    {
     "data": {
      "text/plain": [
       "0.3922202"
      ]
     },
     "execution_count": 35,
     "metadata": {},
     "output_type": "execute_result"
    }
   ],
   "source": [
    "gayeong, seattle = user_to_idx['gayeong'], movie_to_idx['sleepless in seattle (1993)']\n",
    "gayeong_vector, seattle_vector = als_model.user_factors[gayeong], als_model.item_factors[seattle]\n",
    "\n",
    "np.dot(gayeong_vector,seattle_vector)"
   ]
  },
  {
   "cell_type": "code",
   "execution_count": 36,
   "id": "moving-operation",
   "metadata": {},
   "outputs": [
    {
     "data": {
      "text/plain": [
       "0.39196187"
      ]
     },
     "execution_count": 36,
     "metadata": {},
     "output_type": "execute_result"
    }
   ],
   "source": [
    "gayeong, true = user_to_idx['gayeong'], movie_to_idx['true lies (1994)']\n",
    "gayeong_vector, true_vector = als_model.user_factors[gayeong], als_model.item_factors[true]\n",
    "\n",
    "np.dot(gayeong_vector,true_vector)"
   ]
  },
  {
   "cell_type": "code",
   "execution_count": 37,
   "id": "integral-northwest",
   "metadata": {},
   "outputs": [
    {
     "data": {
      "text/plain": [
       "0.14825507"
      ]
     },
     "execution_count": 37,
     "metadata": {},
     "output_type": "execute_result"
    }
   ],
   "source": [
    "gayeong, vanishes = user_to_idx['gayeong'], movie_to_idx['lady vanishes, the (1938)']\n",
    "gayeong_vector, vanishes_vector = als_model.user_factors[gayeong], als_model.item_factors[vanishes]\n",
    "\n",
    "np.dot(gayeong_vector,vanishes_vector)"
   ]
  },
  {
   "cell_type": "code",
   "execution_count": 38,
   "id": "exempt-johns",
   "metadata": {},
   "outputs": [
    {
     "data": {
      "text/plain": [
       "0.58212316"
      ]
     },
     "execution_count": 38,
     "metadata": {},
     "output_type": "execute_result"
    }
   ],
   "source": [
    "gayeong, groundhog_day = user_to_idx['gayeong'], movie_to_idx['groundhog day (1993)']\n",
    "gayeong_vector, groundhog_day_vector = als_model.user_factors[gayeong], als_model.item_factors[groundhog_day]\n",
    "\n",
    "np.dot(gayeong_vector,groundhog_day_vector)"
   ]
  },
  {
   "cell_type": "markdown",
   "id": "junior-earthquake",
   "metadata": {},
   "source": [
    "##### 2. 아직 보지 않은 american beauty (1999)"
   ]
  },
  {
   "cell_type": "code",
   "execution_count": 72,
   "id": "informed-vocabulary",
   "metadata": {},
   "outputs": [
    {
     "data": {
      "text/plain": [
       "0.089406736"
      ]
     },
     "execution_count": 72,
     "metadata": {},
     "output_type": "execute_result"
    }
   ],
   "source": [
    "# 아직 듣지 못한 데이터 =  princess bride, the (1987)\n",
    "#princess bride, the (1987)에 대한 선호도 확인해보자\n",
    "\n",
    "american = movie_to_idx['american beauty (1999)']\n",
    "american_vector = als_model.item_factors[american]\n",
    "np.dot(gayeong_vector, american_vector)"
   ]
  },
  {
   "cell_type": "markdown",
   "id": "lyric-vulnerability",
   "metadata": {},
   "source": [
    "### 7. 내가 좋아하는 영화와 비슷한 영화 추천"
   ]
  },
  {
   "cell_type": "code",
   "execution_count": 73,
   "id": "ideal-karaoke",
   "metadata": {},
   "outputs": [
    {
     "data": {
      "text/plain": [
       "[(666, 0.99999976),\n",
       " (336, 0.8816539),\n",
       " (626, 0.86150604),\n",
       " (340, 0.7900148),\n",
       " (579, 0.7816618),\n",
       " (1151, 0.7681574),\n",
       " (1088, 0.7204677),\n",
       " (516, 0.6896739),\n",
       " (508, 0.6849929),\n",
       " (1212, 0.6467601),\n",
       " (821, 0.6424054),\n",
       " (466, 0.6383602),\n",
       " (1234, 0.6086361),\n",
       " (523, 0.5959443),\n",
       " (613, 0.59227556)]"
      ]
     },
     "execution_count": 73,
     "metadata": {},
     "output_type": "execute_result"
    }
   ],
   "source": [
    "# 좋아하는 영화와 비슷한 영화의 인덱스 얻기\n",
    "favorite_movie = 'sleepless in seattle (1993)'\n",
    "movie_id = movie_to_idx[favorite_movie]\n",
    "similar_movie = als_model.similar_items(movie_id, N=15)\n",
    "similar_movie"
   ]
  },
  {
   "cell_type": "code",
   "execution_count": 74,
   "id": "behavioral-component",
   "metadata": {},
   "outputs": [
    {
     "data": {
      "text/plain": [
       "['sleepless in seattle (1993)',\n",
       " 'pretty woman (1990)',\n",
       " \"you've got mail (1998)\",\n",
       " \"my best friend's wedding (1997)\",\n",
       " 'while you were sleeping (1995)',\n",
       " 'notting hill (1999)',\n",
       " 'truth about cats & dogs, the (1996)',\n",
       " 'sabrina (1995)',\n",
       " 'ghost (1990)',\n",
       " 'tin cup (1996)',\n",
       " 'mrs. doubtfire (1993)',\n",
       " 'wedding singer, the (1998)',\n",
       " 'dave (1993)',\n",
       " 'michael (1996)',\n",
       " 'four weddings and a funeral (1994)']"
      ]
     },
     "execution_count": 74,
     "metadata": {},
     "output_type": "execute_result"
    }
   ],
   "source": [
    "# 추천받은 영화의 인덱스를 영화 제목으로 얻기\n",
    "idx_to_movie = {v:k for k,v in movie_to_idx.items()}\n",
    "[idx_to_movie[i[0]] for i in similar_movie]"
   ]
  },
  {
   "cell_type": "markdown",
   "id": "affected-macedonia",
   "metadata": {},
   "source": [
    "#### 2. 비슷한 영화 추천받는 함수 생성\n",
    "인덱스로 얻고, 인덱스를 영화 제목으로 출력해주는 함수"
   ]
  },
  {
   "cell_type": "code",
   "execution_count": 59,
   "id": "awful-glossary",
   "metadata": {},
   "outputs": [],
   "source": [
    "def get_similar_movie(movie_title: str):\n",
    "    movie_id = movie_to_idx[movie_title]\n",
    "    similar_movie = als_model.similar_items(movie_id, N=15)\n",
    "    similar_movie = [idx_to_movie[i[0]] for i in similar_movie]\n",
    "    return similar_movie"
   ]
  },
  {
   "cell_type": "code",
   "execution_count": 70,
   "id": "closed-cemetery",
   "metadata": {},
   "outputs": [
    {
     "data": {
      "text/plain": [
       "['sleepless in seattle (1993)',\n",
       " 'pretty woman (1990)',\n",
       " \"you've got mail (1998)\",\n",
       " \"my best friend's wedding (1997)\",\n",
       " 'while you were sleeping (1995)',\n",
       " 'notting hill (1999)',\n",
       " 'truth about cats & dogs, the (1996)',\n",
       " 'sabrina (1995)',\n",
       " 'ghost (1990)',\n",
       " 'tin cup (1996)',\n",
       " 'mrs. doubtfire (1993)',\n",
       " 'wedding singer, the (1998)',\n",
       " 'dave (1993)',\n",
       " 'michael (1996)',\n",
       " 'four weddings and a funeral (1994)']"
      ]
     },
     "execution_count": 70,
     "metadata": {},
     "output_type": "execute_result"
    }
   ],
   "source": [
    "get_similar_movie('sleepless in seattle (1993)')\n",
    "\n",
    "#동일 결과 도출"
   ]
  },
  {
   "cell_type": "markdown",
   "id": "amateur-fiction",
   "metadata": {},
   "source": [
    "### 8. 내가 가장 좋아할만한 영화 추천받기"
   ]
  },
  {
   "cell_type": "code",
   "execution_count": 75,
   "id": "overhead-messenger",
   "metadata": {},
   "outputs": [
    {
     "data": {
      "text/plain": [
       "[(336, 0.3986169),\n",
       " (613, 0.36711675),\n",
       " (204, 0.31483555),\n",
       " (626, 0.3039292),\n",
       " (508, 0.29728234),\n",
       " (154, 0.28043276),\n",
       " (40, 0.2753257),\n",
       " (236, 0.26655513),\n",
       " (340, 0.24650499),\n",
       " (20, 0.24222419),\n",
       " (1151, 0.24191655),\n",
       " (1200, 0.24083772),\n",
       " (1234, 0.24001119),\n",
       " (126, 0.23537809),\n",
       " (27, 0.2260594),\n",
       " (579, 0.21699317),\n",
       " (821, 0.21666765),\n",
       " (466, 0.2137393),\n",
       " (156, 0.20763507),\n",
       " (175, 0.20298736)]"
      ]
     },
     "execution_count": 75,
     "metadata": {},
     "output_type": "execute_result"
    }
   ],
   "source": [
    "user = user_to_idx['gayeong']\n",
    "# recommend에서는 user*item CSR Matrix를 받습니다.\n",
    "#filter_already_liked_items: 유저가 이미 평가한 아이템(아티스트)는 제외\n",
    "movie_recommended = als_model.recommend(user, csr_data, N=20, filter_already_liked_items=True)\n",
    "movie_recommended"
   ]
  },
  {
   "cell_type": "code",
   "execution_count": 76,
   "id": "nonprofit-lyric",
   "metadata": {},
   "outputs": [
    {
     "data": {
      "text/plain": [
       "['pretty woman (1990)',\n",
       " 'four weddings and a funeral (1994)',\n",
       " 'clueless (1995)',\n",
       " \"you've got mail (1998)\",\n",
       " 'ghost (1990)',\n",
       " 'as good as it gets (1997)',\n",
       " 'toy story (1995)',\n",
       " 'speed (1994)',\n",
       " \"my best friend's wedding (1997)\",\n",
       " 'pleasantville (1998)',\n",
       " 'notting hill (1999)',\n",
       " 'american president, the (1995)',\n",
       " 'dave (1993)',\n",
       " 'shakespeare in love (1998)',\n",
       " 'titanic (1997)',\n",
       " 'while you were sleeping (1995)',\n",
       " 'mrs. doubtfire (1993)',\n",
       " 'wedding singer, the (1998)',\n",
       " 'mask of zorro, the (1998)',\n",
       " 'men in black (1997)']"
      ]
     },
     "execution_count": 76,
     "metadata": {},
     "output_type": "execute_result"
    }
   ],
   "source": [
    "[idx_to_movie[i[0]] for i in movie_recommended]"
   ]
  },
  {
   "cell_type": "markdown",
   "id": "noted-julian",
   "metadata": {},
   "source": [
    "##### 2. 기여도 확인"
   ]
  },
  {
   "cell_type": "code",
   "execution_count": 78,
   "id": "transsexual-symphony",
   "metadata": {},
   "outputs": [
    {
     "data": {
      "text/plain": [
       "[('sleepless in seattle (1993)', 0.18087009137502558),\n",
       " ('forrest gump (1994)', 0.0923563917956461),\n",
       " ('true lies (1994)', 0.07128192338222658),\n",
       " ('groundhog day (1993)', 0.04846372761608229),\n",
       " ('lady vanishes, the (1938)', -4.8490559681797115e-05)]"
      ]
     },
     "execution_count": 78,
     "metadata": {},
     "output_type": "execute_result"
    }
   ],
   "source": [
    "# AlternatingLeastSquares 클래스에 구현된 explain 메소드를 사용하면 \n",
    "# 내가 기록을 남긴 데이터 중 이 추천에 기여한 정도 확인 가능\n",
    "\n",
    "recommended = movie_to_idx['pretty woman (1990)']\n",
    "explain = als_model.explain(user, csr_data, itemid=recommended)\n",
    "\n",
    "[(idx_to_movie[i[0]], i[1]) for i in explain[1]]"
   ]
  },
  {
   "cell_type": "markdown",
   "id": "higher-discovery",
   "metadata": {},
   "source": [
    "* pretty woman (1990)는 comedy|romance 임  \n",
    " 해당 장르에 대한 영화가 'sleepless in seattle (1993) 가장 유사도가 높다  \n",
    " \n",
    "* lady vanishes는 스릴러, 로맨스,액션,코미디 장르를 가지고 있다  \n",
    "  pretty woman (1990)는 comedy|romance여셔, 기여도가 낮게 나온것 같음  "
   ]
  },
  {
   "cell_type": "markdown",
   "id": "peaceful-processing",
   "metadata": {},
   "source": [
    "## 회고\n",
    "\n",
    "#### 💚루브릭\n",
    "1. CSR matrix가 정상적으로 만들어졌다.\n",
    "   사용자와 아이템 개수를 바탕으로 정확한 사이즈로 만들었다.\n",
    "\n",
    "2. MF 모델이 정상적으로 훈련되어 그럴듯한 추천이 이루어졌다.  \n",
    "   추천받은 영화들이 wqr, romance,comedy 장르의 영화들임\n",
    "   사용자와 아이템 벡터 내적수치가 의미있게 형성되었다고 판단되어짐  \n",
    "\n",
    "3. 비슷한 영화 찾기와 유저에게 추천하기의 과정이 정상적으로 진행되었다.\n",
    "   MF모델이 예측한 유저 선호도 및 아이템간 유사도에 대해 생각해보았을때  \n",
    "   대부분의 영화가 로코 장르물이었기 때문에 코미디 로맨스를 좋아하는 나로서는 유의미한 추천이였다.   \n",
    "   기여도를 확인해볼때도 스릴러 장르 중 하나인 lady vanishes이 기여도가 가장 낮고, 로맨스 코미디 장르인 lady vanishes가 가장 많은 기여도를 가진다. \n",
    "   \n",
    "   \n",
    "#### 💚더 개선하고 싶은 점  \n",
    "1. 유사도와 기여도를 더 높여보고 싶다  \n",
    "   데이터 수가 충분한 학습을 할정도로 많이 수집되지 않았던 것 같고  \n",
    "   선호도를 표현이 '시청횟수'밖에 없기 때문에  \n",
    "   조금 더 다양한 암묵적/명시적 평가 척도들을 살펴보고 결정하고 싶다  \n",
    "   \n",
    "   \n",
    "2. 시각화  \n",
    "\n",
    "\n",
    "3. 최근 영화 데이터셋  \n",
    "   좋아하는 영화 선정할때 데이터 셋에서 아는 영화가 많지가 않아서 힘들었다  \n",
    "   최근 영화 데이터셋도 함께 추가하여 살펴보고, 추천 시스템이 넷플릭스의  \n",
    "   기능과는 어떤게 다른지 등에 대한 분석 및 평가를 진행해보고 싶다.\n",
    "   \n",
    "#### 💚노드 내용 외 배운점  \n",
    "* 시각화의 중요성  \n",
    "  모델 학습할때 어느정도 잘 학습 되고 있는지 알아보기 어려웠고  \n",
    "  유사도나 기여도를 시각화하여 본다면 조금 더 직관적인 의사결정이  \n",
    "  가능했을 것이라고 기대된다  \n",
    "  때문에 시각화 하는 것에 대해서 많은 노력을 기울이고자 다짐했다\n",
    "\n",
    "   "
   ]
  },
  {
   "cell_type": "code",
   "execution_count": null,
   "id": "indie-identification",
   "metadata": {},
   "outputs": [],
   "source": []
  }
 ],
 "metadata": {
  "kernelspec": {
   "display_name": "Python 3",
   "language": "python",
   "name": "python3"
  },
  "language_info": {
   "codemirror_mode": {
    "name": "ipython",
    "version": 3
   },
   "file_extension": ".py",
   "mimetype": "text/x-python",
   "name": "python",
   "nbconvert_exporter": "python",
   "pygments_lexer": "ipython3",
   "version": "3.7.9"
  }
 },
 "nbformat": 4,
 "nbformat_minor": 5
}
