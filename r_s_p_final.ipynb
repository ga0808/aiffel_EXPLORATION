{
 "cells": [
  {
   "cell_type": "code",
   "execution_count": 2,
   "id": "express-translator",
   "metadata": {},
   "outputs": [
    {
     "name": "stdout",
     "output_type": "stream",
     "text": [
      "100  images to be resized.\n",
      "100  images resized.\n",
      "가위 이미지 resize 완료!\n",
      "100  images to be resized.\n",
      "100  images resized.\n",
      "바위 이미지 resize 완료!\n",
      "100  images to be resized.\n",
      "100  images resized.\n",
      "보 이미지 resize 완료!\n"
     ]
    }
   ],
   "source": [
    "from PIL import Image\n",
    "import os, glob\n",
    "\n",
    "#이미지 224x224에서 -> 28x28로 변환하기\n",
    "def resize_images(img_path):\n",
    "\timages=glob.glob(img_path + \"/*.jpg\")  \n",
    "    \n",
    "\tprint(len(images), \" images to be resized.\")\n",
    "\n",
    "    # 파일마다 모두 28x28 사이즈로 바꾸어 저장합니다.\n",
    "\ttarget_size=(28,28)\n",
    "\tfor img in images:\n",
    "\t\told_img=Image.open(img)\n",
    "\t\tnew_img=old_img.resize(target_size,Image.ANTIALIAS)\n",
    "\t\tnew_img.save(img, \"JPEG\")\n",
    "    \n",
    "\tprint(len(images), \" images resized.\")\n",
    "\t\n",
    "# 가위 이미지가 저장된 디렉토리 아래의 모든 jpg 파일을 읽어들여서\n",
    "image_dir_path = os.getenv(\"HOME\") + \"/aiffel/rock_scissor_paper/scissor\"\n",
    "resize_images(image_dir_path)\n",
    "\n",
    "print(\"가위 이미지 resize 완료!\")\n",
    "\n",
    "# 바위 이미지가 저장된 디렉토리 아래의 모든 jpg 파일을 읽어들여서\n",
    "image_dir_path = os.getenv(\"HOME\") + \"/aiffel/rock_scissor_paper/rock\"\n",
    "resize_images(image_dir_path)\n",
    "\n",
    "print(\"바위 이미지 resize 완료!\")\n",
    "\n",
    "\n",
    "# 보 이미지가 저장된 디렉토리 아래의 모든 jpg 파일을 읽어들여서\n",
    "image_dir_path = os.getenv(\"HOME\") + \"/aiffel/rock_scissor_paper/paper\"\n",
    "resize_images(image_dir_path)\n",
    "\n",
    "print(\"보 이미지 resize 완료!\")\n"
   ]
  },
  {
   "cell_type": "code",
   "execution_count": 11,
   "id": "alpine-copyright",
   "metadata": {},
   "outputs": [
    {
     "name": "stdout",
     "output_type": "stream",
     "text": [
      "학습데이터(x_train)의 이미지 개수는 300 입니다.\n",
      "x_train shape: (300, 28, 28, 3)\n",
      "y_train shape: (300,)\n"
     ]
    }
   ],
   "source": [
    "#가위, 바위, 보 데이터를 읽을 수 있는 load_data() 함수 만들기\n",
    "#load_data() 함수는 입력으로 이미지가 있는 폴더 위치를 받음\n",
    "#가위바위보 -> 3개의 클래스 -> 가위 0, 바위 1, 보 2\n",
    "\n",
    "import numpy as np\n",
    "\n",
    "def load_data(img_path, number_of_data=300):  # 가위바위보 이미지 개수 총합에 주의하세요.\n",
    "    # 가위 : 0, 바위 : 1, 보 : 2\n",
    "    img_size=28\n",
    "    color=3\n",
    "    #이미지 데이터와 라벨(가위 : 0, 바위 : 1, 보 : 2) 데이터를 담을 행렬(matrix) 영역을 생성합니다.\n",
    "    imgs=np.zeros(number_of_data*img_size*img_size*color,dtype=np.int32).reshape(number_of_data,img_size,img_size,color)\n",
    "    labels=np.zeros(number_of_data,dtype=np.int32)\n",
    "\n",
    "    idx=0\n",
    "    for file in glob.iglob(img_path+'/scissor/*.jpg'):\n",
    "        img = np.array(Image.open(file),dtype=np.int32)\n",
    "        imgs[idx,:,:,:]=img    # 데이터 영역에 이미지 행렬을 복사\n",
    "        labels[idx]=0   # 가위 : 0\n",
    "        idx=idx+1\n",
    "\n",
    "    for file in glob.iglob(img_path+'/rock/*.jpg'):\n",
    "        img = np.array(Image.open(file),dtype=np.int32)\n",
    "        imgs[idx,:,:,:]=img    # 데이터 영역에 이미지 행렬을 복사\n",
    "        labels[idx]=1   # 바위 : 1\n",
    "        idx=idx+1  \n",
    "    \n",
    "    for file in glob.iglob(img_path+'/paper/*.jpg'):\n",
    "        img = np.array(Image.open(file),dtype=np.int32)\n",
    "        imgs[idx,:,:,:]=img    # 데이터 영역에 이미지 행렬을 복사\n",
    "        labels[idx]=2   # 보 : 2\n",
    "        idx=idx+1\n",
    "        \n",
    "    print(\"학습데이터(x_train)의 이미지 개수는\", idx,\"입니다.\")\n",
    "    return imgs, labels\n",
    "\n",
    "image_dir_path = os.getenv(\"HOME\") + \"/aiffel/rock_scissor_paper\"\n",
    "(x_train, y_train)=load_data(image_dir_path)\n",
    "x_train_norm = x_train/255.0   # 입력은 0~1 사이의 값으로 정규화\n",
    "\n",
    "print(\"x_train shape: {}\".format(x_train.shape))\n",
    "print(\"y_train shape: {}\".format(y_train.shape))"
   ]
  },
  {
   "cell_type": "code",
   "execution_count": 12,
   "id": "single-score",
   "metadata": {},
   "outputs": [
    {
     "name": "stdout",
     "output_type": "stream",
     "text": [
      "라벨:  0\n"
     ]
    },
    {
     "data": {
      "image/png": "[encoded data removed]",
      "text/plain": [
       "<Figure size 432x288 with 1 Axes>"
      ]
     },
     "metadata": {
      "needs_background": "light"
     },
     "output_type": "display_data"
    }
   ],
   "source": [
    "import matplotlib.pyplot as plt\n",
    "plt.imshow(x_train[0])\n",
    "print('라벨: ', y_train[0])"
   ]
  },
  {
   "cell_type": "code",
   "execution_count": 17,
   "id": "impaired-essence",
   "metadata": {},
   "outputs": [
    {
     "name": "stdout",
     "output_type": "stream",
     "text": [
      "Model에 추가된 Layer 개수:  7\n",
      "Model: \"sequential_3\"\n",
      "_________________________________________________________________\n",
      "Layer (type)                 Output Shape              Param #   \n",
      "=================================================================\n",
      "conv2d_9 (Conv2D)            (None, 26, 26, 16)        448       \n",
      "_________________________________________________________________\n",
      "max_pooling2d_9 (MaxPooling2 (None, 13, 13, 16)        0         \n",
      "_________________________________________________________________\n",
      "conv2d_10 (Conv2D)           (None, 11, 11, 32)        4640      \n",
      "_________________________________________________________________\n",
      "max_pooling2d_10 (MaxPooling (None, 5, 5, 32)          0         \n",
      "_________________________________________________________________\n",
      "flatten_3 (Flatten)          (None, 800)               0         \n",
      "_________________________________________________________________\n",
      "dense_6 (Dense)              (None, 64)                51264     \n",
      "_________________________________________________________________\n",
      "dense_7 (Dense)              (None, 3)                 195       \n",
      "=================================================================\n",
      "Total params: 56,547\n",
      "Trainable params: 56,547\n",
      "Non-trainable params: 0\n",
      "_________________________________________________________________\n"
     ]
    }
   ],
   "source": [
    "#딥러닝 네트워크 설계하기\n",
    "\n",
    "import tensorflow as tf\n",
    "from tensorflow import keras\n",
    "import numpy as np\n",
    "\n",
    "# model을 직접 만들어 보세요.\n",
    "# Hint! model의 입력/출력부에 특히 유의해 주세요. \n",
    "\n",
    "#가위바위보 데이터셋은 MNIST 데이터셋과 어떤 점이 달라졌나요?\n",
    "# [[YOUR CODE]]\n",
    "\n",
    "from tensorflow import keras\n",
    "\n",
    "#channel : 정해진 값을 가진 건 아님, \n",
    "#1과2는 두배 간격이 좋음 (16,32가 정확도가 가장 높게 나옴. )\n",
    "n_channel_1=16\n",
    "n_channel_2=32\n",
    "n_channel_3=64\n",
    "n_dense=64\n",
    "n_train_epoch=45\n",
    "\n",
    "model=keras.models.Sequential()\n",
    "model.add(keras.layers.Conv2D(n_channel_1, (3,3), activation='relu', input_shape=(28,28,3)))\n",
    "model.add(keras.layers.MaxPool2D(2,2))\n",
    "model.add(keras.layers.Conv2D(n_channel_2, (3,3), activation='relu'))\n",
    "model.add(keras.layers.MaxPooling2D((2,2)))\n",
    "model.add(keras.layers.Flatten())\n",
    "\n",
    "#첫번째 dsnse레이어의 첫번째 인자 : 클래스 3개니까, 16으로 바꿔야 하나...?\n",
    "#16,32,64,128 바이트?의 단위 같은데, 뭘 의미하는지 모르겠어\n",
    "model.add(keras.layers.Dense(n_dense, activation='relu'))\n",
    "model.add(keras.layers.Dense(3, activation='softmax'))\n",
    "\n",
    "print('Model에 추가된 Layer 개수: ', len(model.layers))\n",
    "\n",
    "model.summary()\n",
    "\n"
   ]
  },
  {
   "cell_type": "code",
   "execution_count": 18,
   "id": "welsh-shakespeare",
   "metadata": {},
   "outputs": [
    {
     "name": "stdout",
     "output_type": "stream",
     "text": [
      "Epoch 1/45\n",
      "10/10 [==============================] - 0s 3ms/step - loss: 1.1335 - accuracy: 0.2693\n",
      "Epoch 2/45\n",
      "10/10 [==============================] - 0s 3ms/step - loss: 1.0916 - accuracy: 0.3943\n",
      "Epoch 3/45\n",
      "10/10 [==============================] - 0s 3ms/step - loss: 1.0778 - accuracy: 0.4886\n",
      "Epoch 4/45\n",
      "10/10 [==============================] - 0s 3ms/step - loss: 1.0573 - accuracy: 0.4436\n",
      "Epoch 5/45\n",
      "10/10 [==============================] - 0s 3ms/step - loss: 1.0472 - accuracy: 0.5612\n",
      "Epoch 6/45\n",
      "10/10 [==============================] - 0s 3ms/step - loss: 1.0219 - accuracy: 0.6035\n",
      "Epoch 7/45\n",
      "10/10 [==============================] - 0s 3ms/step - loss: 0.9733 - accuracy: 0.6125\n",
      "Epoch 8/45\n",
      "10/10 [==============================] - 0s 3ms/step - loss: 0.9460 - accuracy: 0.6831\n",
      "Epoch 9/45\n",
      "10/10 [==============================] - 0s 3ms/step - loss: 0.8916 - accuracy: 0.6725\n",
      "Epoch 10/45\n",
      "10/10 [==============================] - 0s 3ms/step - loss: 0.8795 - accuracy: 0.6766\n",
      "Epoch 11/45\n",
      "10/10 [==============================] - 0s 3ms/step - loss: 0.8319 - accuracy: 0.6508\n",
      "Epoch 12/45\n",
      "10/10 [==============================] - 0s 3ms/step - loss: 0.8459 - accuracy: 0.6363\n",
      "Epoch 13/45\n",
      "10/10 [==============================] - 0s 3ms/step - loss: 0.7194 - accuracy: 0.7569\n",
      "Epoch 14/45\n",
      "10/10 [==============================] - 0s 3ms/step - loss: 0.6848 - accuracy: 0.7351\n",
      "Epoch 15/45\n",
      "10/10 [==============================] - 0s 3ms/step - loss: 0.6961 - accuracy: 0.7410\n",
      "Epoch 16/45\n",
      "10/10 [==============================] - 0s 3ms/step - loss: 0.6517 - accuracy: 0.7792\n",
      "Epoch 17/45\n",
      "10/10 [==============================] - 0s 3ms/step - loss: 0.5766 - accuracy: 0.7886\n",
      "Epoch 18/45\n",
      "10/10 [==============================] - 0s 3ms/step - loss: 0.5376 - accuracy: 0.8176\n",
      "Epoch 19/45\n",
      "10/10 [==============================] - 0s 3ms/step - loss: 0.5525 - accuracy: 0.7954\n",
      "Epoch 20/45\n",
      "10/10 [==============================] - 0s 3ms/step - loss: 0.5179 - accuracy: 0.8098\n",
      "Epoch 21/45\n",
      "10/10 [==============================] - 0s 3ms/step - loss: 0.4080 - accuracy: 0.8924\n",
      "Epoch 22/45\n",
      "10/10 [==============================] - 0s 3ms/step - loss: 0.3976 - accuracy: 0.8931\n",
      "Epoch 23/45\n",
      "10/10 [==============================] - 0s 3ms/step - loss: 0.3609 - accuracy: 0.8879\n",
      "Epoch 24/45\n",
      "10/10 [==============================] - 0s 3ms/step - loss: 0.3292 - accuracy: 0.9253\n",
      "Epoch 25/45\n",
      "10/10 [==============================] - 0s 3ms/step - loss: 0.3565 - accuracy: 0.8670\n",
      "Epoch 26/45\n",
      "10/10 [==============================] - 0s 3ms/step - loss: 0.2899 - accuracy: 0.9218\n",
      "Epoch 27/45\n",
      "10/10 [==============================] - 0s 3ms/step - loss: 0.3013 - accuracy: 0.8845\n",
      "Epoch 28/45\n",
      "10/10 [==============================] - 0s 3ms/step - loss: 0.3003 - accuracy: 0.9005\n",
      "Epoch 29/45\n",
      "10/10 [==============================] - 0s 3ms/step - loss: 0.2394 - accuracy: 0.9369\n",
      "Epoch 30/45\n",
      "10/10 [==============================] - 0s 3ms/step - loss: 0.2618 - accuracy: 0.9164\n",
      "Epoch 31/45\n",
      "10/10 [==============================] - 0s 3ms/step - loss: 0.1972 - accuracy: 0.9547\n",
      "Epoch 32/45\n",
      "10/10 [==============================] - 0s 3ms/step - loss: 0.2048 - accuracy: 0.9615\n",
      "Epoch 33/45\n",
      "10/10 [==============================] - 0s 3ms/step - loss: 0.1804 - accuracy: 0.9479\n",
      "Epoch 34/45\n",
      "10/10 [==============================] - 0s 3ms/step - loss: 0.1574 - accuracy: 0.9615\n",
      "Epoch 35/45\n",
      "10/10 [==============================] - 0s 3ms/step - loss: 0.1198 - accuracy: 0.9851\n",
      "Epoch 36/45\n",
      "10/10 [==============================] - 0s 3ms/step - loss: 0.1547 - accuracy: 0.9518\n",
      "Epoch 37/45\n",
      "10/10 [==============================] - 0s 3ms/step - loss: 0.1140 - accuracy: 0.9861\n",
      "Epoch 38/45\n",
      "10/10 [==============================] - 0s 3ms/step - loss: 0.1250 - accuracy: 0.9787\n",
      "Epoch 39/45\n",
      "10/10 [==============================] - 0s 3ms/step - loss: 0.2091 - accuracy: 0.9161\n",
      "Epoch 40/45\n",
      "10/10 [==============================] - 0s 3ms/step - loss: 0.1208 - accuracy: 0.9752\n",
      "Epoch 41/45\n",
      "10/10 [==============================] - 0s 3ms/step - loss: 0.1162 - accuracy: 0.9733\n",
      "Epoch 42/45\n",
      "10/10 [==============================] - 0s 3ms/step - loss: 0.1057 - accuracy: 0.9775\n",
      "Epoch 43/45\n",
      "10/10 [==============================] - 0s 3ms/step - loss: 0.0996 - accuracy: 0.9853\n",
      "Epoch 44/45\n",
      "10/10 [==============================] - 0s 3ms/step - loss: 0.0642 - accuracy: 0.9938\n",
      "Epoch 45/45\n",
      "10/10 [==============================] - 0s 3ms/step - loss: 0.0610 - accuracy: 0.9966\n"
     ]
    },
    {
     "data": {
      "text/plain": [
       "<tensorflow.python.keras.callbacks.History at 0x7fe1acf1c850>"
      ]
     },
     "execution_count": 18,
     "metadata": {},
     "output_type": "execute_result"
    }
   ],
   "source": [
    "#딥러닝 네트워크 학습시키기\n",
    "# Hint! model.compile()과 model.fit()을 사용해 봅시다.\n",
    "\n",
    "\n",
    "model.compile(optimizer='adam',\n",
    "             loss='sparse_categorical_crossentropy',\n",
    "             metrics=['accuracy'])\n",
    "\n",
    "#정규화된 x_train값을 넣어야해서 norm으로 -> 근데 그냥 x_train으로 하면 다 0,1이 나옴 왜그럴까??\n",
    "model.fit(x_train_norm, y_train, epochs=n_train_epoch)\n",
    "\n",
    "#과대적합 : 트레이닝 데이터, 테스트 데이터 > 학습시킨 데이터에 대한 모델로만 \n",
    "#에포크를 너무 높였기 때문 (훈련데이터로만 계속 훈련을 하여서)\n",
    "# <<- 정확도가 오르락 내리락하는게 과대 적합이라고 생각했는데, 아니였음 !!! \n",
    "\n",
    "#왜 정확도(accuracy)가 오르락 내리락 할까? : 경사 하강법(Gradient descent)을 통해서 loss를 줄이면서\n",
    "#최적합 w값을 찾아가는 과정에 있어서 한번씩 값이 튀는 지점이 있기 때문 \n",
    "#과녁의 이미지에서 에포크 한번 = 1번 학습하면서 과녁의 중앙=최적값으로 다가가는데, 그때 정확도 값이 오르락 내리락 하는 것 \n",
    "#자세한 이해를 돕기위한 이미지 링크 : https://thebook.io/080228/part03/ch09/02/\n",
    "\n",
    "#그럼 과적합 되었다는건 어떻게 아는걸까?"
   ]
  },
  {
   "cell_type": "code",
   "execution_count": 19,
   "id": "accomplished-bradford",
   "metadata": {},
   "outputs": [
    {
     "name": "stdout",
     "output_type": "stream",
     "text": [
      "100  images to be resized.\n",
      "100  images resized.\n",
      "가위 이미지 resize 완료!\n",
      "99  images to be resized.\n",
      "99  images resized.\n",
      "바위 이미지 resize 완료!\n",
      "100  images to be resized.\n",
      "100  images resized.\n",
      "보 이미지 resize 완료!\n"
     ]
    }
   ],
   "source": [
    "#test\n",
    "# 가위 이미지가 저장된 디렉토리 아래의 모든 jpg 파일을 읽어들여서\n",
    "image_dir_path = os.getenv(\"HOME\") + \"/aiffel/rock_scissor_paper/test_set/scissor\"\n",
    "resize_images(image_dir_path)\n",
    "\n",
    "print(\"가위 이미지 resize 완료!\")\n",
    "\n",
    "# 바위 이미지가 저장된 디렉토리 아래의 모든 jpg 파일을 읽어들여서\n",
    "image_dir_path = os.getenv(\"HOME\") + \"/aiffel/rock_scissor_paper/test_set/rock\"\n",
    "resize_images(image_dir_path)\n",
    "\n",
    "print(\"바위 이미지 resize 완료!\")\n",
    "\n",
    "\n",
    "# 보 이미지가 저장된 디렉토리 아래의 모든 jpg 파일을 읽어들여서\n",
    "image_dir_path = os.getenv(\"HOME\") + \"/aiffel/rock_scissor_paper/test_set/paper\"\n",
    "resize_images(image_dir_path)\n",
    "\n",
    "print(\"보 이미지 resize 완료!\")"
   ]
  },
  {
   "cell_type": "code",
   "execution_count": 20,
   "id": "promising-logging",
   "metadata": {},
   "outputs": [
    {
     "name": "stdout",
     "output_type": "stream",
     "text": [
      "학습데이터(x_train)의 이미지 개수는 299 입니다.\n",
      "x_test shape: (299, 28, 28, 3)\n",
      "y_test shape: (299,)\n"
     ]
    }
   ],
   "source": [
    "#테스트 이미지 불러오기 #299개로 변환 ! \n",
    "image_dir_path = os.getenv(\"HOME\") + \"/aiffel/rock_scissor_paper/test_set/\"\n",
    "(x_test, y_test)=load_data(image_dir_path, 299)  \n",
    "x_test_norm = x_test/255.0   # 입력은 0~1 사이의 값으로 정규화\n",
    "\n",
    "print(\"x_test shape: {}\".format(x_test.shape))\n",
    "print(\"y_test shape: {}\".format(y_test.shape))"
   ]
  },
  {
   "cell_type": "code",
   "execution_count": 21,
   "id": "permanent-greeting",
   "metadata": {},
   "outputs": [
    {
     "name": "stdout",
     "output_type": "stream",
     "text": [
      "라벨:  0\n"
     ]
    },
    {
     "data": {
      "image/png": "[encoded data removed]",
      "text/plain": [
       "<Figure size 432x288 with 1 Axes>"
      ]
     },
     "metadata": {
      "needs_background": "light"
     },
     "output_type": "display_data"
    }
   ],
   "source": [
    "import matplotlib.pyplot as plt\n",
    "plt.imshow(x_test[0])\n",
    "print('라벨: ', y_test[0])"
   ]
  },
  {
   "cell_type": "code",
   "execution_count": 22,
   "id": "institutional-method",
   "metadata": {},
   "outputs": [
    {
     "name": "stdout",
     "output_type": "stream",
     "text": [
      "10/10 - 1s - loss: 3.2037 - accuracy: 0.4682\n",
      "test_loss: 3.203688144683838 \n",
      "test_accuracy: 0.46822741627693176\n"
     ]
    }
   ],
   "source": [
    "test_loss, test_accuracy = model.evaluate(x_test_norm, y_test, verbose=2)\n",
    "print(\"test_loss: {} \".format(test_loss))\n",
    "print(\"test_accuracy: {}\".format(test_accuracy))"
   ]
  },
  {
   "cell_type": "code",
   "execution_count": 24,
   "id": "empty-madrid",
   "metadata": {},
   "outputs": [
    {
     "name": "stdout",
     "output_type": "stream",
     "text": [
      "Model에 추가된 Layer 개수:  7\n",
      "Model: \"sequential_5\"\n",
      "_________________________________________________________________\n",
      "Layer (type)                 Output Shape              Param #   \n",
      "=================================================================\n",
      "conv2d_13 (Conv2D)           (None, 26, 26, 16)        448       \n",
      "_________________________________________________________________\n",
      "max_pooling2d_13 (MaxPooling (None, 13, 13, 16)        0         \n",
      "_________________________________________________________________\n",
      "conv2d_14 (Conv2D)           (None, 11, 11, 32)        4640      \n",
      "_________________________________________________________________\n",
      "max_pooling2d_14 (MaxPooling (None, 5, 5, 32)          0         \n",
      "_________________________________________________________________\n",
      "flatten_5 (Flatten)          (None, 800)               0         \n",
      "_________________________________________________________________\n",
      "dense_10 (Dense)             (None, 64)                51264     \n",
      "_________________________________________________________________\n",
      "dense_11 (Dense)             (None, 3)                 195       \n",
      "=================================================================\n",
      "Total params: 56,547\n",
      "Trainable params: 56,547\n",
      "Non-trainable params: 0\n",
      "_________________________________________________________________\n"
     ]
    }
   ],
   "source": [
    "#딥러닝 네트워크 설계하기\n",
    "\n",
    "import tensorflow as tf\n",
    "from tensorflow import keras\n",
    "import numpy as np\n",
    "\n",
    "from tensorflow import keras\n",
    "\n",
    "#channel : 정해진 값을 가진 건 아님, \n",
    "#1과2는 두배 간격이 좋음 (16,32가 정확도가 가장 높게 나옴. )\n",
    "n_channel_1=16\n",
    "n_channel_2=32\n",
    "n_dense=64\n",
    "n_test_epoch=30\n",
    "\n",
    "model=keras.models.Sequential()\n",
    "model.add(keras.layers.Conv2D(n_channel_1, (3,3), activation='relu', input_shape=(28,28,3)))\n",
    "model.add(keras.layers.MaxPool2D(2,2))\n",
    "model.add(keras.layers.Conv2D(n_channel_2, (3,3), activation='relu'))\n",
    "model.add(keras.layers.MaxPooling2D((2,2)))\n",
    "model.add(keras.layers.Flatten())\n",
    "\n",
    "model.add(keras.layers.Dense(n_dense, activation='relu'))\n",
    "model.add(keras.layers.Dense(3, activation='softmax'))\n",
    "\n",
    "print('Model에 추가된 Layer 개수: ', len(model.layers))\n",
    "\n",
    "model.summary()"
   ]
  },
  {
   "cell_type": "code",
   "execution_count": 40,
   "id": "rocky-senator",
   "metadata": {},
   "outputs": [
    {
     "name": "stdout",
     "output_type": "stream",
     "text": [
      "Epoch 1/25\n",
      "10/10 [==============================] - 0s 3ms/step - loss: 1.0998 - accuracy: 0.3371\n",
      "Epoch 2/25\n",
      "10/10 [==============================] - 0s 3ms/step - loss: 1.0857 - accuracy: 0.4515\n",
      "Epoch 3/25\n",
      "10/10 [==============================] - 0s 3ms/step - loss: 1.0331 - accuracy: 0.5669\n",
      "Epoch 4/25\n",
      "10/10 [==============================] - 0s 4ms/step - loss: 0.9792 - accuracy: 0.6557\n",
      "Epoch 5/25\n",
      "10/10 [==============================] - 0s 3ms/step - loss: 0.8760 - accuracy: 0.7811\n",
      "Epoch 6/25\n",
      "10/10 [==============================] - 0s 3ms/step - loss: 0.8308 - accuracy: 0.6473\n",
      "Epoch 7/25\n",
      "10/10 [==============================] - 0s 3ms/step - loss: 0.7217 - accuracy: 0.7365\n",
      "Epoch 8/25\n",
      "10/10 [==============================] - 0s 3ms/step - loss: 0.6469 - accuracy: 0.7986\n",
      "Epoch 9/25\n",
      "10/10 [==============================] - 0s 3ms/step - loss: 0.5627 - accuracy: 0.8101\n",
      "Epoch 10/25\n",
      "10/10 [==============================] - 0s 3ms/step - loss: 0.4943 - accuracy: 0.8395\n",
      "Epoch 11/25\n",
      "10/10 [==============================] - 0s 3ms/step - loss: 0.4095 - accuracy: 0.8864\n",
      "Epoch 12/25\n",
      "10/10 [==============================] - 0s 3ms/step - loss: 0.3122 - accuracy: 0.9673\n",
      "Epoch 13/25\n",
      "10/10 [==============================] - 0s 3ms/step - loss: 0.2725 - accuracy: 0.9298\n",
      "Epoch 14/25\n",
      "10/10 [==============================] - 0s 3ms/step - loss: 0.2521 - accuracy: 0.9088\n",
      "Epoch 15/25\n",
      "10/10 [==============================] - 0s 3ms/step - loss: 0.1803 - accuracy: 0.9716\n",
      "Epoch 16/25\n",
      "10/10 [==============================] - 0s 3ms/step - loss: 0.1689 - accuracy: 0.9721\n",
      "Epoch 17/25\n",
      "10/10 [==============================] - 0s 3ms/step - loss: 0.1394 - accuracy: 0.9703\n",
      "Epoch 18/25\n",
      "10/10 [==============================] - 0s 3ms/step - loss: 0.0947 - accuracy: 1.0000\n",
      "Epoch 19/25\n",
      "10/10 [==============================] - 0s 3ms/step - loss: 0.0702 - accuracy: 1.0000\n",
      "Epoch 20/25\n",
      "10/10 [==============================] - 0s 3ms/step - loss: 0.0606 - accuracy: 1.0000\n",
      "Epoch 21/25\n",
      "10/10 [==============================] - 0s 3ms/step - loss: 0.0573 - accuracy: 1.0000\n",
      "Epoch 22/25\n",
      "10/10 [==============================] - 0s 3ms/step - loss: 0.0426 - accuracy: 1.0000\n",
      "Epoch 23/25\n",
      "10/10 [==============================] - 0s 3ms/step - loss: 0.0405 - accuracy: 1.0000\n",
      "Epoch 24/25\n",
      "10/10 [==============================] - 0s 3ms/step - loss: 0.0374 - accuracy: 1.0000\n",
      "Epoch 25/25\n",
      "10/10 [==============================] - 0s 3ms/step - loss: 0.0345 - accuracy: 1.0000\n"
     ]
    },
    {
     "data": {
      "text/plain": [
       "<tensorflow.python.keras.callbacks.History at 0x7f49f4474710>"
      ]
     },
     "execution_count": 40,
     "metadata": {},
     "output_type": "execute_result"
    }
   ],
   "source": [
    "model.compile(optimizer='adam',\n",
    "             loss='sparse_categorical_crossentropy',\n",
    "             metrics=['accuracy'])\n",
    "\n",
    "model.fit(x_test_norm, y_test, epochs=n_test_epoch)\n"
   ]
  }
 ],
 "metadata": {
  "kernelspec": {
   "display_name": "Python 3",
   "language": "python",
   "name": "python3"
  },
  "language_info": {
   "codemirror_mode": {
    "name": "ipython",
    "version": 3
   },
   "file_extension": ".py",
   "mimetype": "text/x-python",
   "name": "python",
   "nbconvert_exporter": "python",
   "pygments_lexer": "ipython3",
   "version": "3.7.9"
  }
 },
 "nbformat": 4,
 "nbformat_minor": 5
}
