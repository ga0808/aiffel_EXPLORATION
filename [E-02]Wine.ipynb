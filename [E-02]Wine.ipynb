{
 "cells": [
  {
   "cell_type": "markdown",
   "id": "streaming-fundamentals",
   "metadata": {},
   "source": [
    "## 프로젝트 평가 문항\n",
    "1) 3가지 데이터셋 구성 합리적으로 진행 됐나?  \n",
    ": feature, label 선정 위한 데이터 분석과정이 체계적으로 전개됨  \n",
    "\n",
    "2) 3가지 데이터셋에 대해 각각 5가지 모델을 성공적으로 적용했는가?  \n",
    ": 모델 학습 및 테스트가 정상적으로 수행  \n",
    "\n",
    "3) 3가지 데이터셋에 대해 모델의 평가지표가 적절히 선택됐나?  \n",
    ": 평가지표 선택 및 이유 설명이 타당함\n",
    "\n",
    "\n",
    "\n",
    "\n",
    "## 2-11. 프로젝트 (2) wine"
   ]
  },
  {
   "cell_type": "markdown",
   "id": "monthly-farmer",
   "metadata": {},
   "source": [
    "### 1. 필요한 모듈 import"
   ]
  },
  {
   "cell_type": "code",
   "execution_count": 2,
   "id": "listed-cleanup",
   "metadata": {},
   "outputs": [],
   "source": [
    "from sklearn.datasets import load_wine\n",
    "from sklearn.model_selection import train_test_split\n",
    "from sklearn.metrics import classification_report"
   ]
  },
  {
   "cell_type": "markdown",
   "id": "excited-puzzle",
   "metadata": {},
   "source": [
    "### 2. 데이터 준비"
   ]
  },
  {
   "cell_type": "code",
   "execution_count": 3,
   "id": "roman-kuwait",
   "metadata": {},
   "outputs": [],
   "source": [
    "wine = load_wine()\n",
    "\n",
    "#Feature Data 지정하기\n",
    "wine_data = wine.data\n",
    "#print(wine_data.shape) -> (178, 13) : 178개 샘플/데이터, 13개 특징\n",
    "\n",
    "#Label Data 지정하기\n",
    "wine_target = wine.target\n",
    "#print(wine_target.shape) -> (178,) : 열벡터 타겟 데이터 확인"
   ]
  },
  {
   "cell_type": "markdown",
   "id": "prescribed-satisfaction",
   "metadata": {},
   "source": [
    "### 3. 데이터 이해하기"
   ]
  },
  {
   "cell_type": "code",
   "execution_count": 4,
   "id": "comprehensive-sustainability",
   "metadata": {},
   "outputs": [
    {
     "data": {
      "text/plain": [
       "dict_keys(['data', 'target', 'frame', 'target_names', 'DESCR', 'feature_names'])"
      ]
     },
     "execution_count": 4,
     "metadata": {},
     "output_type": "execute_result"
    }
   ],
   "source": [
    "wine.keys() "
   ]
  },
  {
   "cell_type": "code",
   "execution_count": 5,
   "id": "colonial-namibia",
   "metadata": {},
   "outputs": [
    {
     "data": {
      "text/plain": [
       "array(['class_0', 'class_1', 'class_2'], dtype='<U7')"
      ]
     },
     "execution_count": 5,
     "metadata": {},
     "output_type": "execute_result"
    }
   ],
   "source": [
    "wine.target_names"
   ]
  },
  {
   "cell_type": "code",
   "execution_count": 6,
   "id": "representative-scroll",
   "metadata": {},
   "outputs": [
    {
     "name": "stdout",
     "output_type": "stream",
     "text": [
      "['DESCR', 'data', 'feature_names', 'frame', 'target', 'target_names']\n"
     ]
    }
   ],
   "source": [
    "print(dir(wine))"
   ]
  },
  {
   "cell_type": "code",
   "execution_count": 7,
   "id": "modern-martin",
   "metadata": {
    "scrolled": true
   },
   "outputs": [
    {
     "name": "stdout",
     "output_type": "stream",
     "text": [
      ".. _wine_dataset:\n",
      "\n",
      "Wine recognition dataset\n",
      "------------------------\n",
      "\n",
      "**Data Set Characteristics:**\n",
      "\n",
      "    :Number of Instances: 178 (50 in each of three classes)\n",
      "    :Number of Attributes: 13 numeric, predictive attributes and the class\n",
      "    :Attribute Information:\n",
      " \t\t- Alcohol\n",
      " \t\t- Malic acid\n",
      " \t\t- Ash\n",
      "\t\t- Alcalinity of ash  \n",
      " \t\t- Magnesium\n",
      "\t\t- Total phenols\n",
      " \t\t- Flavanoids\n",
      " \t\t- Nonflavanoid phenols\n",
      " \t\t- Proanthocyanins\n",
      "\t\t- Color intensity\n",
      " \t\t- Hue\n",
      " \t\t- OD280/OD315 of diluted wines\n",
      " \t\t- Proline\n",
      "\n",
      "    - class:\n",
      "            - class_0\n",
      "            - class_1\n",
      "            - class_2\n",
      "\t\t\n",
      "    :Summary Statistics:\n",
      "    \n",
      "    ============================= ==== ===== ======= =====\n",
      "                                   Min   Max   Mean     SD\n",
      "    ============================= ==== ===== ======= =====\n",
      "    Alcohol:                      11.0  14.8    13.0   0.8\n",
      "    Malic Acid:                   0.74  5.80    2.34  1.12\n",
      "    Ash:                          1.36  3.23    2.36  0.27\n",
      "    Alcalinity of Ash:            10.6  30.0    19.5   3.3\n",
      "    Magnesium:                    70.0 162.0    99.7  14.3\n",
      "    Total Phenols:                0.98  3.88    2.29  0.63\n",
      "    Flavanoids:                   0.34  5.08    2.03  1.00\n",
      "    Nonflavanoid Phenols:         0.13  0.66    0.36  0.12\n",
      "    Proanthocyanins:              0.41  3.58    1.59  0.57\n",
      "    Colour Intensity:              1.3  13.0     5.1   2.3\n",
      "    Hue:                          0.48  1.71    0.96  0.23\n",
      "    OD280/OD315 of diluted wines: 1.27  4.00    2.61  0.71\n",
      "    Proline:                       278  1680     746   315\n",
      "    ============================= ==== ===== ======= =====\n",
      "\n",
      "    :Missing Attribute Values: None\n",
      "    :Class Distribution: class_0 (59), class_1 (71), class_2 (48)\n",
      "    :Creator: R.A. Fisher\n",
      "    :Donor: Michael Marshall (MARSHALL%PLU@io.arc.nasa.gov)\n",
      "    :Date: July, 1988\n",
      "\n",
      "This is a copy of UCI ML Wine recognition datasets.\n",
      "https://archive.ics.uci.edu/ml/machine-learning-databases/wine/wine.data\n",
      "\n",
      "The data is the results of a chemical analysis of wines grown in the same\n",
      "region in Italy by three different cultivators. There are thirteen different\n",
      "measurements taken for different constituents found in the three types of\n",
      "wine.\n",
      "\n",
      "Original Owners: \n",
      "\n",
      "Forina, M. et al, PARVUS - \n",
      "An Extendible Package for Data Exploration, Classification and Correlation. \n",
      "Institute of Pharmaceutical and Food Analysis and Technologies,\n",
      "Via Brigata Salerno, 16147 Genoa, Italy.\n",
      "\n",
      "Citation:\n",
      "\n",
      "Lichman, M. (2013). UCI Machine Learning Repository\n",
      "[https://archive.ics.uci.edu/ml]. Irvine, CA: University of California,\n",
      "School of Information and Computer Science. \n",
      "\n",
      ".. topic:: References\n",
      "\n",
      "  (1) S. Aeberhard, D. Coomans and O. de Vel, \n",
      "  Comparison of Classifiers in High Dimensional Settings, \n",
      "  Tech. Rep. no. 92-02, (1992), Dept. of Computer Science and Dept. of  \n",
      "  Mathematics and Statistics, James Cook University of North Queensland. \n",
      "  (Also submitted to Technometrics). \n",
      "\n",
      "  The data was used with many others for comparing various \n",
      "  classifiers. The classes are separable, though only RDA \n",
      "  has achieved 100% correct classification. \n",
      "  (RDA : 100%, QDA 99.4%, LDA 98.9%, 1NN 96.1% (z-transformed data)) \n",
      "  (All results using the leave-one-out technique) \n",
      "\n",
      "  (2) S. Aeberhard, D. Coomans and O. de Vel, \n",
      "  \"THE CLASSIFICATION PERFORMANCE OF RDA\" \n",
      "  Tech. Rep. no. 92-01, (1992), Dept. of Computer Science and Dept. of \n",
      "  Mathematics and Statistics, James Cook University of North Queensland. \n",
      "  (Also submitted to Journal of Chemometrics).\n",
      "\n"
     ]
    }
   ],
   "source": [
    "#데이터셋 설명 \n",
    "print(wine.DESCR)"
   ]
  },
  {
   "cell_type": "code",
   "execution_count": 8,
   "id": "prospective-there",
   "metadata": {},
   "outputs": [
    {
     "name": "stdout",
     "output_type": "stream",
     "text": [
      "1    71\n",
      "0    59\n",
      "2    48\n",
      "dtype: int64\n"
     ]
    }
   ],
   "source": [
    "#데이터 분류 어떻게 되어있나 확인\n",
    "import pandas as pd\n",
    "\n",
    "print(pd.Series(wine.target).value_counts())"
   ]
  },
  {
   "cell_type": "markdown",
   "id": "applied-bible",
   "metadata": {},
   "source": [
    "### 4. 데이터 분리"
   ]
  },
  {
   "cell_type": "code",
   "execution_count": 9,
   "id": "unnecessary-purchase",
   "metadata": {},
   "outputs": [],
   "source": [
    "#4. train, test 데이터 분리\n",
    "X_train, X_test, y_train, y_test = train_test_split(wine_data, \n",
    "                                                    wine_target, \n",
    "                                                    test_size=0.2, \n",
    "                                                    random_state=7)"
   ]
  },
  {
   "cell_type": "markdown",
   "id": "demanding-satellite",
   "metadata": {},
   "source": [
    "### 5. 다양한 모델로 학습 및 평가\n",
    "\n",
    "#### 1) Decision Tree "
   ]
  },
  {
   "cell_type": "code",
   "execution_count": 10,
   "id": "adaptive-boxing",
   "metadata": {
    "scrolled": true
   },
   "outputs": [
    {
     "name": "stdout",
     "output_type": "stream",
     "text": [
      "0.9444444444444444\n"
     ]
    }
   ],
   "source": [
    "#모델생성\n",
    "from sklearn.tree import DecisionTreeClassifier \n",
    "decision_tree = DecisionTreeClassifier()\n",
    "\n",
    "#모델학습\n",
    "decision_tree.fit(X_train, y_train)\n",
    "\n",
    "#예측\n",
    "dt_pred = decision_tree.predict(X_test)\n",
    "\n",
    "#모델평가 - 정확도\n",
    "from sklearn.metrics import accuracy_score\n",
    "\n",
    "accuracy = accuracy_score(y_test, dt_pred)\n",
    "print(accuracy)\n",
    "\n",
    "#모델평가 - 오차행렬\n",
    "from sklearn.metrics import confusion_matrix\n",
    "from sklearn.metrics import classification_report\n",
    "\n",
    "confusion_matrix(y_test, dt_pred)\n",
    "dt_c_m = classification_report(y_test, dt_pred)\n",
    "#print(classification_report(y_test, dt_pred))   \n",
    "\n"
   ]
  },
  {
   "cell_type": "markdown",
   "id": "burning-delhi",
   "metadata": {},
   "source": [
    "#### 2) Random Forest"
   ]
  },
  {
   "cell_type": "code",
   "execution_count": 11,
   "id": "adaptive-performer",
   "metadata": {
    "scrolled": true
   },
   "outputs": [
    {
     "name": "stdout",
     "output_type": "stream",
     "text": [
      "1.0\n"
     ]
    }
   ],
   "source": [
    "\n",
    "#모델생성\n",
    "from sklearn.ensemble import RandomForestClassifier\n",
    "random_forest = RandomForestClassifier()\n",
    "\n",
    "#모델학습\n",
    "random_forest.fit(X_train, y_train)\n",
    "\n",
    "#예측\n",
    "rf_pred = random_forest.predict(X_test)\n",
    "\n",
    "#모델평가 - 정확도\n",
    "from sklearn.metrics import accuracy_score\n",
    "\n",
    "accuracy = accuracy_score(y_test, rf_pred)\n",
    "print(accuracy)\n",
    "\n",
    "#모델평가 - 오차행렬\n",
    "from sklearn.metrics import confusion_matrix\n",
    "from sklearn.metrics import classification_report\n",
    "\n",
    "confusion_matrix(y_test, rf_pred)\n",
    "rf_c_m = classification_report(y_test, rf_pred)\n",
    "\n",
    "#print(classification_report(y_test, rf_pred))   "
   ]
  },
  {
   "cell_type": "markdown",
   "id": "superior-designer",
   "metadata": {},
   "source": [
    "#### 3) SVM"
   ]
  },
  {
   "cell_type": "code",
   "execution_count": 12,
   "id": "fantastic-chicken",
   "metadata": {},
   "outputs": [
    {
     "name": "stdout",
     "output_type": "stream",
     "text": [
      "0.6111111111111112\n"
     ]
    }
   ],
   "source": [
    "#모델생성\n",
    "from sklearn import svm\n",
    "svm_model = svm.SVC()\n",
    "\n",
    "#모델학습\n",
    "svm_model.fit(X_train, y_train)\n",
    "\n",
    "#예측\n",
    "svm_pred = svm_model.predict(X_test)\n",
    "\n",
    "#모델평가 - 정확도\n",
    "from sklearn.metrics import accuracy_score\n",
    "\n",
    "accuracy = accuracy_score(y_test, svm_pred)\n",
    "print(accuracy)\n",
    "\n",
    "#모델평가 - 오차행렬\n",
    "from sklearn.metrics import confusion_matrix\n",
    "from sklearn.metrics import classification_report\n",
    "\n",
    "confusion_matrix(y_test, svm_pred)\n",
    "svm_c_m = classification_report(y_test, svm_pred)\n",
    "\n",
    "#print(classification_report(y_test, svm_pred))   "
   ]
  },
  {
   "cell_type": "markdown",
   "id": "assigned-scenario",
   "metadata": {},
   "source": [
    "#### 4)SGDC Classifier"
   ]
  },
  {
   "cell_type": "code",
   "execution_count": 13,
   "id": "failing-array",
   "metadata": {
    "scrolled": true
   },
   "outputs": [
    {
     "name": "stdout",
     "output_type": "stream",
     "text": [
      "0.5277777777777778\n"
     ]
    },
    {
     "name": "stderr",
     "output_type": "stream",
     "text": [
      "/opt/conda/lib/python3.7/site-packages/sklearn/metrics/_classification.py:1221: UndefinedMetricWarning: Precision and F-score are ill-defined and being set to 0.0 in labels with no predicted samples. Use `zero_division` parameter to control this behavior.\n",
      "  _warn_prf(average, modifier, msg_start, len(result))\n"
     ]
    }
   ],
   "source": [
    "#모델생성\n",
    "from sklearn.linear_model import SGDClassifier\n",
    "sgd_model = SGDClassifier()\n",
    "\n",
    "#모델학습\n",
    "sgd_model.fit(X_train, y_train)\n",
    "\n",
    "#예측\n",
    "SGDC_pred = sgd_model.predict(X_test)\n",
    "\n",
    "#모델평가 - 정확도\n",
    "from sklearn.metrics import accuracy_score\n",
    "\n",
    "accuracy = accuracy_score(y_test,SGDC_pred)\n",
    "print(accuracy)\n",
    "\n",
    "#모델평가 - 오차행렬\n",
    "from sklearn.metrics import confusion_matrix\n",
    "from sklearn.metrics import classification_report\n",
    "\n",
    "confusion_matrix(y_test, SGDC_pred)\n",
    "SGDC_c_m = classification_report(y_test, SGDC_pred)\n",
    "\n",
    "#print(classification_report(y_test, SGDC_pred))   "
   ]
  },
  {
   "cell_type": "markdown",
   "id": "dominant-triangle",
   "metadata": {},
   "source": [
    "#### 5) Logistic Regression"
   ]
  },
  {
   "cell_type": "code",
   "execution_count": 14,
   "id": "detailed-label",
   "metadata": {
    "scrolled": true
   },
   "outputs": [
    {
     "name": "stdout",
     "output_type": "stream",
     "text": [
      "0.9722222222222222\n"
     ]
    },
    {
     "name": "stderr",
     "output_type": "stream",
     "text": [
      "/opt/conda/lib/python3.7/site-packages/sklearn/linear_model/_logistic.py:762: ConvergenceWarning: lbfgs failed to converge (status=1):\n",
      "STOP: TOTAL NO. of ITERATIONS REACHED LIMIT.\n",
      "\n",
      "Increase the number of iterations (max_iter) or scale the data as shown in:\n",
      "    https://scikit-learn.org/stable/modules/preprocessing.html\n",
      "Please also refer to the documentation for alternative solver options:\n",
      "    https://scikit-learn.org/stable/modules/linear_model.html#logistic-regression\n",
      "  extra_warning_msg=_LOGISTIC_SOLVER_CONVERGENCE_MSG)\n"
     ]
    }
   ],
   "source": [
    "#모델생성\n",
    "from sklearn.linear_model import LogisticRegression\n",
    "logistic_model = LogisticRegression()\n",
    "\n",
    "#모델학습\n",
    "logistic_model.fit(X_train, y_train)\n",
    "\n",
    "#예측\n",
    "lr_pred = logistic_model.predict(X_test)\n",
    "\n",
    "#모델평가 - 정확도\n",
    "from sklearn.metrics import accuracy_score\n",
    "\n",
    "accuracy = accuracy_score(y_test, lr_pred)\n",
    "print(accuracy)\n",
    "\n",
    "#모델평가 - 오차행렬\n",
    "from sklearn.metrics import confusion_matrix\n",
    "from sklearn.metrics import classification_report\n",
    "\n",
    "confusion_matrix(y_test, lr_pred)\n",
    "lr_c_m = classification_report(y_test,lr_pred)\n",
    "\n",
    "#print(classification_report(y_test,lr_pred))   \n",
    "\n",
    "#max_iter'까지 학습했으나 아직 정답에 수렴하지 못한 상태<- 라고 경고문이 뜸\n",
    "#max_iter=500으로 늘려야 할 것 같습니다.  적절값 테스트는 반복 변경해 가면서 찾아야 할 것\n",
    "#max_iter이 여기서 무엇인가 -> 이터레이터...!\n",
    "#옴.. 근데 어떤 값을 바꿔야될지 모르니까, 스터디에 질문하쟝..ㅠ"
   ]
  },
  {
   "cell_type": "markdown",
   "id": "becoming-packing",
   "metadata": {},
   "source": [
    "### 6. 모델 선택 및 평가지표\n",
    "선택 모델 : Random forest 모델  \n",
    "-> 모든 평가지표의 정확도가 가장 높게 나왔음 \n",
    "\n",
    "3가지의 라벨중에 중경의 의미를 따질 수 없다고 판단  \n",
    "때문에 recall과 precision 중에  \n",
    "더 중요하게 평가해야하는 지표를 판단 할 수 없다고 생각  \n",
    "와중에 Random forest 모델이 모든 평가지표 가장 높게 나왔기 때문에 svm 모델 선택\n",
    "데이터 뷴류도 고른편이니 해당 평가지표를 신뢰할 수도 있을 것 같음  \n",
    "\n",
    "* macro avg :  \n",
    "평균들의 평균 개념    \n",
    "전체 성능을 평가하기 위해 모든 클래스에 동일한 가중치를 부여  \n",
    "precision의 값들의 평균  \n",
    "recall 값들의 평균 들의 값\n",
    "<br>\n",
    "\n",
    "* weighted avg  \n",
    "실제 인스턴스 수에 따라 각 클래스의 점수에 가중치를 부여하여 계산하는 방법  \n",
    "클래스 불균형을 다룰 때 유용"
   ]
  },
  {
   "cell_type": "markdown",
   "id": "respected-monroe",
   "metadata": {},
   "source": [
    "#### 1) Decision Tree"
   ]
  },
  {
   "cell_type": "code",
   "execution_count": 15,
   "id": "elder-suite",
   "metadata": {},
   "outputs": [
    {
     "name": "stdout",
     "output_type": "stream",
     "text": [
      "              precision    recall  f1-score   support\n",
      "\n",
      "           0       1.00      1.00      1.00         7\n",
      "           1       0.89      1.00      0.94        17\n",
      "           2       1.00      0.83      0.91        12\n",
      "\n",
      "    accuracy                           0.94        36\n",
      "   macro avg       0.96      0.94      0.95        36\n",
      "weighted avg       0.95      0.94      0.94        36\n",
      "\n"
     ]
    }
   ],
   "source": [
    "print(dt_c_m)"
   ]
  },
  {
   "cell_type": "markdown",
   "id": "visible-wireless",
   "metadata": {},
   "source": [
    "#### 2) Random forest"
   ]
  },
  {
   "cell_type": "code",
   "execution_count": 16,
   "id": "seven-authority",
   "metadata": {},
   "outputs": [
    {
     "name": "stdout",
     "output_type": "stream",
     "text": [
      "              precision    recall  f1-score   support\n",
      "\n",
      "           0       1.00      1.00      1.00         7\n",
      "           1       1.00      1.00      1.00        17\n",
      "           2       1.00      1.00      1.00        12\n",
      "\n",
      "    accuracy                           1.00        36\n",
      "   macro avg       1.00      1.00      1.00        36\n",
      "weighted avg       1.00      1.00      1.00        36\n",
      "\n"
     ]
    }
   ],
   "source": [
    "print(rf_c_m)"
   ]
  },
  {
   "cell_type": "markdown",
   "id": "generic-studio",
   "metadata": {},
   "source": [
    "#### 3) SVM"
   ]
  },
  {
   "cell_type": "code",
   "execution_count": 17,
   "id": "desirable-lucas",
   "metadata": {},
   "outputs": [
    {
     "name": "stdout",
     "output_type": "stream",
     "text": [
      "              precision    recall  f1-score   support\n",
      "\n",
      "           0       0.86      0.86      0.86         7\n",
      "           1       0.58      0.88      0.70        17\n",
      "           2       0.33      0.08      0.13        12\n",
      "\n",
      "    accuracy                           0.61        36\n",
      "   macro avg       0.59      0.61      0.56        36\n",
      "weighted avg       0.55      0.61      0.54        36\n",
      "\n"
     ]
    }
   ],
   "source": [
    "print(svm_c_m)"
   ]
  },
  {
   "cell_type": "markdown",
   "id": "celtic-junior",
   "metadata": {},
   "source": [
    "#### 4) SGDC"
   ]
  },
  {
   "cell_type": "code",
   "execution_count": 18,
   "id": "exterior-brooks",
   "metadata": {},
   "outputs": [
    {
     "name": "stdout",
     "output_type": "stream",
     "text": [
      "              precision    recall  f1-score   support\n",
      "\n",
      "           0       0.37      1.00      0.54         7\n",
      "           1       0.71      0.71      0.71        17\n",
      "           2       0.00      0.00      0.00        12\n",
      "\n",
      "    accuracy                           0.53        36\n",
      "   macro avg       0.36      0.57      0.41        36\n",
      "weighted avg       0.40      0.53      0.44        36\n",
      "\n"
     ]
    }
   ],
   "source": [
    "print(SGDC_c_m)"
   ]
  },
  {
   "cell_type": "markdown",
   "id": "decreased-missile",
   "metadata": {},
   "source": [
    "#### 5) logist regression"
   ]
  },
  {
   "cell_type": "code",
   "execution_count": 19,
   "id": "least-brooks",
   "metadata": {},
   "outputs": [
    {
     "name": "stdout",
     "output_type": "stream",
     "text": [
      "              precision    recall  f1-score   support\n",
      "\n",
      "           0       1.00      0.86      0.92         7\n",
      "           1       0.94      1.00      0.97        17\n",
      "           2       1.00      1.00      1.00        12\n",
      "\n",
      "    accuracy                           0.97        36\n",
      "   macro avg       0.98      0.95      0.96        36\n",
      "weighted avg       0.97      0.97      0.97        36\n",
      "\n"
     ]
    }
   ],
   "source": [
    "print(lr_c_m)"
   ]
  },
  {
   "cell_type": "code",
   "execution_count": null,
   "id": "smaller-cycling",
   "metadata": {},
   "outputs": [],
   "source": []
  },
  {
   "cell_type": "code",
   "execution_count": null,
   "id": "stopped-gibraltar",
   "metadata": {},
   "outputs": [],
   "source": []
  }
 ],
 "metadata": {
  "kernelspec": {
   "display_name": "Python 3",
   "language": "python",
   "name": "python3"
  },
  "language_info": {
   "codemirror_mode": {
    "name": "ipython",
    "version": 3
   },
   "file_extension": ".py",
   "mimetype": "text/x-python",
   "name": "python",
   "nbconvert_exporter": "python",
   "pygments_lexer": "ipython3",
   "version": "3.7.9"
  }
 },
 "nbformat": 4,
 "nbformat_minor": 5
}
