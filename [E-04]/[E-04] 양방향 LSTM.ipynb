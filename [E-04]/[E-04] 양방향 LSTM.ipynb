{
 "cells": [
  {
   "cell_type": "markdown",
   "id": "creative-illness",
   "metadata": {},
   "source": [
    "## 4.데이터셋 분리 까진 같은 코드라 skip하셔도 됩니다\n",
    "\n",
    "## 1. 데이터 다운로드 \n",
    "\n",
    "~/aiffel/lyricist/data/lyrics에 데이터가 있음"
   ]
  },
  {
   "cell_type": "code",
   "execution_count": 1,
   "id": "arabic-motivation",
   "metadata": {},
   "outputs": [
    {
     "name": "stdout",
     "output_type": "stream",
     "text": [
      "ln: failed to create symbolic link '/aiffel/aiffel/lyricist/data/data': Read-only file system\r\n"
     ]
    }
   ],
   "source": [
    "! mkdir -p ~/aiffel/lyricist/models\n",
    "! ln -s ~/data ~/aiffel/lyricist/data"
   ]
  },
  {
   "cell_type": "markdown",
   "id": "spoken-publisher",
   "metadata": {},
   "source": [
    "## 2. 데이터 읽어오기\n",
    "glob 모듈을 사용하면 파일을 읽어오는 작업을 하기가 아주 용이  \n",
    " glob 를 활용하여 모든 txt 파일을 읽어온 후,  \n",
    " raw_corpus 리스트에 문장 단위로 저장"
   ]
  },
  {
   "cell_type": "code",
   "execution_count": 29,
   "id": "hollow-roads",
   "metadata": {
    "scrolled": false
   },
   "outputs": [],
   "source": [
    "#준비한 파일 내용 확인\n",
    "import os, re\n",
    "import numpy as np\n",
    "import tensorflow as tf\n",
    "import glob\n",
    "import os\n",
    "\n",
    "txt_file_path = os.getenv('HOME')+'/aiffel/lyricist/data/lyrics/*'\n",
    "\n",
    "txt_list = glob.glob(txt_file_path)\n",
    "\n",
    "raw_corpus = []\n"
   ]
  },
  {
   "cell_type": "markdown",
   "id": "daily-sullivan",
   "metadata": {},
   "source": [
    "##### 데이터 확인해보기"
   ]
  },
  {
   "cell_type": "code",
   "execution_count": 30,
   "id": "indie-constitution",
   "metadata": {},
   "outputs": [
    {
     "name": "stdout",
     "output_type": "stream",
     "text": [
      "The number of lyrics : 49\n"
     ]
    }
   ],
   "source": [
    "#몇개의 파일이 있지?\n",
    "print(f'The number of lyrics : {len(txt_list)}')"
   ]
  },
  {
   "cell_type": "code",
   "execution_count": 31,
   "id": "interior-dependence",
   "metadata": {},
   "outputs": [
    {
     "name": "stdout",
     "output_type": "stream",
     "text": [
      "문장 총 개수: 187088\n",
      "Examples:\n",
      " ['[Hook]', \"I've been down so long, it look like up to me\", 'They look up to me', \"I got fake people showin' fake love to me\", 'Straight up to my face, straight up to my face', \"I've been down so long, it look like up to me\", 'They look up to me', \"I got fake people showin' fake love to me\", 'Straight up to my face, straight up to my face [Verse 1]', \"Somethin' ain't right when we talkin'\", \"Somethin' ain't right when we talkin'\", \"Look like you hidin' your problems\", 'Really you never was solid', 'No, you can\\'t \"son\" me', \"You won't never get to run me\", 'Just when shit look out of reach', 'I reach back like one, three', 'Like one, three, yeah [Pre-Hook]', \"That's when they smile in my face\", 'Whole time they wanna take my place', 'Whole time they wanna take my place', 'Whole time they wanna take my place', 'Yeah, I know they wanna take my place', 'I can tell that love is fake', \"I don't trust a word you say\", 'How you wanna clique up after your mistakes?', \"Look you in the face, and it's just not the same [Hook]\", \"I've been down so long, it look like up to me\", 'They look up to me', \"I got fake people showin' fake love to me\"]\n"
     ]
    }
   ],
   "source": [
    "# 여러개의 txt 파일을 모두 읽어서 raw_corpus 에 담습니다.\n",
    "for txt_file in txt_list:\n",
    "    with open(txt_file, \"r\") as f:\n",
    "        raw = f.read().splitlines()\n",
    "        raw_corpus.extend(raw)\n",
    "\n",
    "print(\"문장 총 개수:\", len(raw_corpus))\n",
    "print(\"Examples:\\n\", raw_corpus[:30])"
   ]
  },
  {
   "cell_type": "markdown",
   "id": "minus-industry",
   "metadata": {},
   "source": [
    "## 3. 데이터 정제"
   ]
  },
  {
   "cell_type": "markdown",
   "id": "incorporate-sandwich",
   "metadata": {},
   "source": [
    "##### 1) 정제함수 정의"
   ]
  },
  {
   "cell_type": "code",
   "execution_count": 32,
   "id": "damaged-superior",
   "metadata": {},
   "outputs": [
    {
     "name": "stdout",
     "output_type": "stream",
     "text": [
      "<start> i've been down so long , it look like up to me <end>\n",
      "<start> no , you can't son me <end>\n"
     ]
    }
   ],
   "source": [
    "#정제 함수 \n",
    "def preprocess_sentence(sentence):\n",
    "    sentence = sentence.lower().strip() \n",
    "    sentence = re.sub(\"\\[.*\\]*\", \" \", sentence)\n",
    "    sentence = re.sub(r\"([?.!,¿])\", r\" \\1 \", sentence) \n",
    "    sentence = re.sub(r'[\" \"]+', \" \", sentence) \n",
    "    sentence = re.sub(r\"[^a-z?.!,¿,']+\", \" \", sentence) \n",
    "    sentence = sentence.strip() \n",
    "    sentence = '<start> ' + sentence + ' <end>' \n",
    "    return sentence\n",
    "\n",
    "# 정제 결과 확인\n",
    "print(preprocess_sentence(raw_corpus[1]))\n",
    "print(preprocess_sentence(raw_corpus[13]))"
   ]
  },
  {
   "cell_type": "markdown",
   "id": "focal-rwanda",
   "metadata": {},
   "source": [
    "##### 2) 함수로 정제된 문장 모으기"
   ]
  },
  {
   "cell_type": "code",
   "execution_count": 33,
   "id": "separate-japanese",
   "metadata": {},
   "outputs": [
    {
     "name": "stdout",
     "output_type": "stream",
     "text": [
      "159742\n"
     ]
    },
    {
     "data": {
      "text/plain": [
       "[\"<start> i've been down so long , it look like up to me <end>\",\n",
       " '<start> they look up to me <end>',\n",
       " \"<start> i got fake people showin' fake love to me <end>\",\n",
       " '<start> straight up to my face , straight up to my face <end>',\n",
       " \"<start> i've been down so long , it look like up to me <end>\",\n",
       " '<start> they look up to me <end>',\n",
       " \"<start> i got fake people showin' fake love to me <end>\",\n",
       " \"<start> somethin' ain't right when we talkin' <end>\",\n",
       " \"<start> somethin' ain't right when we talkin' <end>\",\n",
       " \"<start> look like you hidin' your problems <end>\"]"
      ]
     },
     "execution_count": 33,
     "metadata": {},
     "output_type": "execute_result"
    }
   ],
   "source": [
    "# 정제된 문장들 모으기\n",
    "corpus = []\n",
    "\n",
    "for sentence in raw_corpus:\n",
    "    # 아무것도 없는 문장 건너뛰기\n",
    "    if len(sentence) == 0: continue\n",
    "        #건너뛰는 문장이 있는지 모르겠음 :이 데이터에 없는 것 같기 때문 \n",
    "        #한다면 ]는 아닌가? \n",
    "        #verse라고 했을때도 그냥 알아서 벌스 부분 작사를 하면되는건가?\n",
    "    if (sentence.count(' ')+1 > 15) : continue\n",
    "    if sentence[-1] == \")\": continue\n",
    "    if sentence[-1] == \"]\": continue\n",
    "        \n",
    "    # 정제를 하고 담아주세요\n",
    "    preprocessed_sentence = preprocess_sentence(sentence)\n",
    "    corpus.append(preprocessed_sentence)\n",
    "        \n",
    "# 정제된 결과를 10개만 확인\n",
    "print(len(corpus))\n",
    "corpus[:10]"
   ]
  },
  {
   "cell_type": "markdown",
   "id": "equal-gibraltar",
   "metadata": {},
   "source": [
    "##### 3) 토큰화"
   ]
  },
  {
   "cell_type": "code",
   "execution_count": 34,
   "id": "hearing-certificate",
   "metadata": {},
   "outputs": [
    {
     "name": "stdout",
     "output_type": "stream",
     "text": [
      "[[   2  145   99 ...   11    3    0]\n",
      " [   2   41  131 ...    0    0    0]\n",
      " [   2    6   34 ...    0    0    0]\n",
      " ...\n",
      " [   2   82  727 ...    0    0    0]\n",
      " [   2  213    3 ...    0    0    0]\n",
      " [   2    9 1409 ...    0    0    0]] <keras_preprocessing.text.Tokenizer object at 0x7f32d08b0990>\n"
     ]
    }
   ],
   "source": [
    "#토큰화\n",
    "\n",
    "#15개 이상의 토큰을 가지면 제거 \n",
    "def tokenize(corpus):\n",
    "    tokenizer = tf.keras.preprocessing.text.Tokenizer(\n",
    "        num_words=12000, \n",
    "        filters=' ',\n",
    "        oov_token=\"<unk>\"\n",
    "    )\n",
    "    # corpus를 이용해 tokenizer 내부의 단어장을 완성\n",
    "    tokenizer.fit_on_texts(corpus)\n",
    "    # 준비한 tokenizer를 이용해 corpus를 Tensor로 변환\n",
    "    tensor = tokenizer.texts_to_sequences(corpus)   \n",
    "    # 만약 시퀀스가 짧다면 문장 뒤에 패딩을 붙여 길이를 맞추기-> 시퀀스 길이 맞추려고\n",
    "    tensor = tf.keras.preprocessing.sequence.pad_sequences(tensor, padding='post', maxlen=15)  \n",
    "    \n",
    "    #문장 길이 설정 해주기\n",
    "    #total_data_text = list(tensor)\n",
    "    #num_tokens = [len(tokens) for tokens in total_data_text]\n",
    "    #max_tokens = np.mean(num_tokens) + 2 * np.std(num_tokens)\n",
    "    #maxlen = int(max_tokens)\n",
    "    \n",
    "    \n",
    "    print(tensor,tokenizer)\n",
    "    return tensor, tokenizer\n",
    "\n",
    "tensor, tokenizer = tokenize(corpus)\n",
    "\n",
    "#https://keras.io/ko/preprocessing/text/ : 토큰화 전처리"
   ]
  },
  {
   "cell_type": "code",
   "execution_count": 35,
   "id": "golden-surfing",
   "metadata": {},
   "outputs": [
    {
     "name": "stdout",
     "output_type": "stream",
     "text": [
      "[[   2  145   99   55   29  161    4   13  131   20   27   10   11    3\n",
      "     0]\n",
      " [   2   41  131   27   10   11    3    0    0    0    0    0    0    0\n",
      "     0]\n",
      " [   2    6   34  852  179 3086  852   36   10   11    3    0    0    0\n",
      "     0]]\n"
     ]
    }
   ],
   "source": [
    "#텐서 출력 해보기\n",
    "print(tensor[:3])\n",
    "\n",
    "#최대 15개까지만 토큰화된것 확인가능"
   ]
  },
  {
   "cell_type": "code",
   "execution_count": 36,
   "id": "connected-canada",
   "metadata": {},
   "outputs": [
    {
     "name": "stdout",
     "output_type": "stream",
     "text": [
      "1 : <unk>\n",
      "2 : <start>\n",
      "3 : <end>\n",
      "4 : ,\n",
      "5 : the\n",
      "6 : i\n",
      "7 : you\n",
      "8 : and\n",
      "9 : a\n",
      "10 : to\n"
     ]
    }
   ],
   "source": [
    "# tokenizer에 구축된 단어 사전의 인덱스 확인해보기\n",
    "\n",
    "for idx in tokenizer.index_word:\n",
    "    print(idx, \":\", tokenizer.index_word[idx])\n",
    "\n",
    "    if idx >= 10: break"
   ]
  },
  {
   "cell_type": "code",
   "execution_count": 37,
   "id": "found-atlanta",
   "metadata": {},
   "outputs": [
    {
     "name": "stdout",
     "output_type": "stream",
     "text": [
      "[  2 145  99  55  29 161   4  13 131  20  27  10  11   3]\n",
      "[145  99  55  29 161   4  13 131  20  27  10  11   3   0]\n"
     ]
    }
   ],
   "source": [
    "# tensor에서 마지막 토큰을 잘라내서 소스 문장을 생성\n",
    "src_input = tensor[:, :-1]  \n",
    "\n",
    "# tensor에서 <start>를 잘라내서 타겟 문장을 생성합니다.\n",
    "tgt_input = tensor[:, 1:]    \n",
    "\n",
    "print(src_input[0])\n",
    "print(tgt_input[0])"
   ]
  },
  {
   "cell_type": "markdown",
   "id": "necessary-durham",
   "metadata": {},
   "source": [
    "## 4. 데이터셋 분리\n",
    "\n",
    "##### 1) 데이터셋 정의"
   ]
  },
  {
   "cell_type": "code",
   "execution_count": 38,
   "id": "undefined-water",
   "metadata": {},
   "outputs": [
    {
     "data": {
      "text/plain": [
       "<BatchDataset shapes: ((256, 14), (256, 14)), types: (tf.int32, tf.int32)>"
      ]
     },
     "execution_count": 38,
     "metadata": {},
     "output_type": "execute_result"
    }
   ],
   "source": [
    "#데이터셋 객체 생성\n",
    "BUFFER_SIZE = len(src_input)\n",
    "BATCH_SIZE = 256\n",
    "\n",
    "steps_per_epoch = len(src_input) // BATCH_SIZE\n",
    "\n",
    "# tokenizer가 구축한 단어사전 내 7000개와, 여기 포함되지 않은 0:<pad>를 포함하여 7001개\n",
    "VOCAB_SIZE = tokenizer.num_words + 1   \n",
    "\n",
    "# 준비한 데이터 소스로부터 데이터셋 생성\n",
    "dataset = tf.data.Dataset.from_tensor_slices((src_input, tgt_input))\n",
    "dataset = dataset.shuffle(BUFFER_SIZE)\n",
    "dataset = dataset.batch(BATCH_SIZE, drop_remainder=True)\n",
    "dataset"
   ]
  },
  {
   "cell_type": "markdown",
   "id": "constitutional-climate",
   "metadata": {},
   "source": [
    "##### 2) 양방향 학습 데이터 준비  및 데이터 분리\n",
    "데이터 데이터셋 구성하기 전으로 이동 시켜야 하는데 \n",
    "해당 셀 급해서 여기다가 작성함...ㅎ "
   ]
  },
  {
   "cell_type": "code",
   "execution_count": 40,
   "id": "advanced-cathedral",
   "metadata": {},
   "outputs": [
    {
     "name": "stdout",
     "output_type": "stream",
     "text": [
      "[[ 143   97   53 ...    0    0    0]\n",
      " [  39  129   25 ...    0    0    0]\n",
      " [   4   32  850 ...    0    0    0]\n",
      " ...\n",
      " [  80  725   16 ...    0    0    0]\n",
      " [ 211    0    0 ...    0    0    0]\n",
      " [   7 1407  736 ...    0    0    0]] <keras_preprocessing.text.Tokenizer object at 0x7f32ccdf1a50>\n",
      "Source Train: (127793, 14)\n",
      "Target Train: (127793, 14)\n",
      "Source Val: (31949, 14)\n",
      "Target Val: (31949, 14)\n"
     ]
    }
   ],
   "source": [
    "# 양방향 학습 데이터 준비\n",
    "#기존 말뭉치에서 start,end 제외시킨 new_corpus 생성\n",
    "\n",
    "new_corpus = [] # 새로운 말뭉치 준비\n",
    "for line in corpus:\n",
    "    new_line = re.sub(\"(\\<[a-z]+\\>)\", \" \", line) # <start>, <end> 삭제\n",
    "    new_line = new_line.strip() # 양쪽 공백 삭제\n",
    "    new_corpus.append(new_line)\n",
    "    \n",
    "    \n",
    "# Tokenization\n",
    "tensor, tokenizer = tokenize(new_corpus) \n",
    "\n",
    "# 평가 데이터셋 분리\n",
    "src_input = tensor[:, :-1] # 마지막 토큰을 잘라, 소스 문장 생성\n",
    "tgt_input = tensor[:, 1:] # 첫 토큰을 잘라, 타겟 문장 생성\n",
    "\n",
    "from sklearn.model_selection import train_test_split\n",
    "enc_train, enc_val, dec_train, dec_val = train_test_split(src_input, tgt_input, test_size=0.2, random_state=42)\n",
    "print(\"Source Train:\", enc_train.shape)\n",
    "print(\"Target Train:\", dec_train.shape)\n",
    "print(\"Source Val:\", enc_val.shape)\n",
    "print(\"Target Val:\", dec_val.shape)"
   ]
  },
  {
   "cell_type": "markdown",
   "id": "endangered-thesis",
   "metadata": {},
   "source": [
    "### 양방향 모델 생성, 학습"
   ]
  },
  {
   "cell_type": "code",
   "execution_count": 41,
   "id": "approximate-proof",
   "metadata": {},
   "outputs": [],
   "source": [
    "from keras.layers import Bidirectional\n",
    "\n",
    "class TextGenerator_Bidirectional(tf.keras.Model):\n",
    "    def __init__(self, vocab_size, embedding_size, hidden_size):\n",
    "        super().__init__()\n",
    "        \n",
    "        self.embedding = tf.keras.layers.Embedding(vocab_size, embedding_size)\n",
    "        self.rnn_1 = tf.keras.layers.Bidirectional(tf.keras.layers.LSTM(hidden_size, dropout = 0.2, return_sequences=True))\n",
    "        self.rnn_2 = tf.keras.layers.Bidirectional(tf.keras.layers.LSTM(hidden_size, dropout = 0.2, return_sequences=True))\n",
    "        self.linear = tf.keras.layers.Dense(vocab_size)\n",
    "        \n",
    "    def call(self, x):\n",
    "        out = self.embedding(x)\n",
    "        out = self.rnn_1(out)\n",
    "        out = self.rnn_2(out)\n",
    "        out = self.linear(out)\n",
    "        \n",
    "        return out"
   ]
  },
  {
   "cell_type": "code",
   "execution_count": 42,
   "id": "absolute-whole",
   "metadata": {},
   "outputs": [
    {
     "data": {
      "text/plain": [
       "'\\nembedding_size = 800\\nhidden_size = 2048  # 뱃사공\\nmodel = TextGenerator(tokenizer.num_words + 1, embedding_size , hidden_size)\\n\\n# 데이터셋에서 데이터 한 배치만 불러오는 방법입니다.\\n# 지금은 동작 원리에 너무 빠져들지 마세요~\\nfor src_sample, tgt_sample in dataset.take(1): break\\n\\n# 한 배치만 불러온 데이터를 모델에 넣어봅니다\\nmodel(src_sample)\\n'"
      ]
     },
     "execution_count": 42,
     "metadata": {},
     "output_type": "execute_result"
    }
   ],
   "source": [
    "'''\n",
    "해당 부분 생략\n",
    "embedding_size = 800\n",
    "hidden_size = 2048  # 뱃사공\n",
    "model = TextGenerator(tokenizer.num_words + 1, embedding_size , hidden_size)\n",
    "\n",
    "# 데이터셋에서 데이터 한 배치만 불러오는 방법입니다.\n",
    "# 지금은 동작 원리에 너무 빠져들지 마세요~\n",
    "for src_sample, tgt_sample in dataset.take(1): break\n",
    "\n",
    "# 한 배치만 불러온 데이터를 모델에 넣어봅니다\n",
    "model(src_sample)\n",
    "'''"
   ]
  },
  {
   "cell_type": "code",
   "execution_count": 43,
   "id": "starting-specialist",
   "metadata": {
    "scrolled": false
   },
   "outputs": [],
   "source": [
    "#해당 부분 생략\n",
    "#model.summary()"
   ]
  },
  {
   "cell_type": "code",
   "execution_count": 44,
   "id": "specific-closure",
   "metadata": {},
   "outputs": [
    {
     "name": "stdout",
     "output_type": "stream",
     "text": [
      "Epoch 1/10\n",
      "500/500 [==============================] - 976s 2s/step - loss: 2.8264 - accuracy: 0.6137 - val_loss: 0.4916 - val_accuracy: 0.9236\n",
      "Epoch 2/10\n",
      "500/500 [==============================] - 391s 782ms/step - loss: 0.3547 - accuracy: 0.9424 - val_loss: 0.1858 - val_accuracy: 0.9703\n",
      "Epoch 3/10\n",
      "500/500 [==============================] - 392s 784ms/step - loss: 0.1005 - accuracy: 0.9816 - val_loss: 0.1154 - val_accuracy: 0.9820\n",
      "Epoch 4/10\n",
      "500/500 [==============================] - 391s 781ms/step - loss: 0.0322 - accuracy: 0.9943 - val_loss: 0.0958 - val_accuracy: 0.9854\n",
      "Epoch 5/10\n",
      "500/500 [==============================] - 391s 782ms/step - loss: 0.0137 - accuracy: 0.9977 - val_loss: 0.0874 - val_accuracy: 0.9868\n",
      "Epoch 6/10\n",
      "500/500 [==============================] - 392s 783ms/step - loss: 0.0068 - accuracy: 0.9988 - val_loss: 0.0825 - val_accuracy: 0.9877\n",
      "Epoch 7/10\n",
      "500/500 [==============================] - 1007s 2s/step - loss: 0.0047 - accuracy: 0.9992 - val_loss: 0.0874 - val_accuracy: 0.9864\n",
      "Epoch 8/10\n",
      "500/500 [==============================] - 1024s 2s/step - loss: 0.0097 - accuracy: 0.9980 - val_loss: 0.1038 - val_accuracy: 0.9838\n",
      "Epoch 9/10\n",
      "500/500 [==============================] - 1027s 2s/step - loss: 0.0089 - accuracy: 0.9981 - val_loss: 0.0974 - val_accuracy: 0.9855\n",
      "Epoch 10/10\n",
      "500/500 [==============================] - 876s 2s/step - loss: 0.0050 - accuracy: 0.9990 - val_loss: 0.0939 - val_accuracy: 0.9863\n"
     ]
    }
   ],
   "source": [
    "embedding_size = 256\n",
    "hidden_size = 1024  # 뱃사공\n",
    "#reduce_lr  = ReduceLROnPlateau(monitor='val_loss', factor=0.5,\n",
    "#                           patience=2, mode=\"min\", min_lr=0.05)\n",
    "\n",
    "model = TextGenerator_Bidirectional(tokenizer.num_words + 1, embedding_size , hidden_size)\n",
    "\n",
    "optimizer = tf.keras.optimizers.Adam()\n",
    "loss = tf.keras.losses.SparseCategoricalCrossentropy(\n",
    "    from_logits=True,\n",
    "    reduction='none'\n",
    ")\n",
    "\n",
    "model.compile(loss=loss, optimizer=optimizer, metrics=['accuracy'])\n",
    "\n",
    "hist = model.fit(enc_train, dec_train, \n",
    "              epochs=10,\n",
    "              batch_size=256,\n",
    "              validation_data=(enc_val, dec_val),\n",
    "              verbose=1)\n",
    "#https://velog.io/@peterpictor/%EB%94%A5%EB%9F%AC%EB%8B%9D-RNNLSTM"
   ]
  },
  {
   "cell_type": "markdown",
   "id": "industrial-zambia",
   "metadata": {},
   "source": [
    "## 6. 시각화 (생략)"
   ]
  },
  {
   "cell_type": "markdown",
   "id": "native-forge",
   "metadata": {},
   "source": [
    "### 문장 생성"
   ]
  },
  {
   "cell_type": "code",
   "execution_count": 5,
   "id": "medium-chicago",
   "metadata": {},
   "outputs": [],
   "source": [
    "def generate_text(model, tokenizer, init_sentence=\"<start>\", max_len=20):\n",
    "    # 테스트를 위해서 입력받은 init_sentence도 텐서로 변환합니다\n",
    "    test_input = tokenizer.texts_to_sequences([init_sentence])\n",
    "    test_tensor = tf.convert_to_tensor(test_input, dtype=tf.int64)\n",
    "    #end_token = tokenizer.word_index[\"<end>\"]\n",
    "\n",
    "    # 단어 하나씩 예측해 문장을 만듭니다\n",
    "    #    1. 입력받은 문장의 텐서를 입력합니다\n",
    "    #    2. 예측된 값 중 가장 높은 확률인 word index를 뽑아냅니다\n",
    "    #    3. 2에서 예측된 word index를 문장 뒤에 붙입니다\n",
    "    #    4. 모델이 <end>를 예측했거나, max_len에 도달했다면 문장 생성을 마칩니다\n",
    "    while True:\n",
    "        # 1\n",
    "        predict = model(test_tensor) \n",
    "        # 2\n",
    "        predict_word = tf.argmax(tf.nn.softmax(predict, axis=-1), axis=-1)[:, -1] \n",
    "        # 3 \n",
    "        test_tensor = tf.concat([test_tensor, tf.expand_dims(predict_word, axis=0)], axis=-1)\n",
    "        # 4\n",
    "#        if predict_word.numpy()[0] == end_token: break\n",
    "        if test_tensor.shape[1] >= max_len: break\n",
    "\n",
    "    generated = \"\"\n",
    "    # tokenizer를 이용해 word index를 단어로 하나씩 변환합니다 \n",
    "    for word_index in test_tensor[0].numpy():\n",
    "        #padding만 있는 인덱스는 그냥 넘겨주기\n",
    "        if word_index == 0:\n",
    "            continue\n",
    "        generated += tokenizer.index_word[word_index] + \" \"\n",
    "\n",
    "    return generated"
   ]
  },
  {
   "cell_type": "code",
   "execution_count": null,
   "id": "civic-software",
   "metadata": {},
   "outputs": [],
   "source": [
    "print(generate_text(model, tokenizer, init_sentence=\"<start> i love\"))\n",
    "print(generate_text(model, tokenizer, init_sentence=\"<start> you\"))\n",
    "print(generate_text(model, tokenizer, init_sentence=\"<start> he make\"))\n",
    "print(generate_text(model, tokenizer, init_sentence=\"<start> i did\"))"
   ]
  },
  {
   "cell_type": "markdown",
   "id": "annual-seattle",
   "metadata": {},
   "source": [
    "<unk> i love you ? \n",
    "<unk> you got dada dada, witcha \n",
    "    \n",
    "#파일 셧다운 된채로 run을 돌려버려서 생성된 문장 결과가 날라감\n",
    "#모델 재학습이 어려워서, 생성된 문장 기록해둔거 복붙 ㅎ..\n",
    "#가영아 잘하자...^^ "
   ]
  },
  {
   "attachments": {
    "image-2.png": {
     "image/png": "[encoded data removed]"
    },
    "image.png": {
     "image/png": "[encoded data removed]"
    }
   },
   "cell_type": "markdown",
   "id": "adjustable-utilization",
   "metadata": {},
   "source": [
    "## 회고\n",
    "\n",
    "##### 💚양방향 LSTM\n",
    "앞에서 부터의 단어 배치에 대한 확률만을 학습하는 것이 아니라  \n",
    "뒤에서 부터도 학습하는 내용\n",
    "(forward pass와 backward pass 모두로 학습하는 것)  \n",
    "![image.png](attachment:image.png)\n",
    "![image-2.png](attachment:image-2.png)\n",
    "\n",
    "양방향 LSTM (코드화해서 설명 되어있음)    \n",
    "https://wegonnamakeit.tistory.com/25\n",
    "\n",
    "RNN과 LSTM 비교  \n",
    "간단한 설명  \n",
    "https://velog.io/@peterpictor/%EB%94%A5%EB%9F%AC%EB%8B%9D-RNNLSTM  \n",
    "디테일한 설명  \n",
    "https://ratsgo.github.io/natural%20language%20processing/2017/03/09/rnnlstm/  \n",
    "(핵심 내용만 이해, 그림 보면서 흐름을 정확히 설명할 수 있을 만큼 읽고 이해해보기) \n",
    "\n",
    "##### 💚결과에 대한 회고   \n",
    "양방향 LSTM을 사용해서 학습했지만,  \n",
    "**1) val_loss 값이 높아지다가 다시 낮아지는 현상 발생**  \n",
    "예전에 퍼실님께서  \n",
    "에포크가 돌면서 가중치가 최적으로 가는게 아니라  \n",
    "빙글빙글 돌면서 가느라  \n",
    "loss값이 오르락 내리락 하는건 당연한거다  \n",
    "과적합이라고 보기 어렵다고 말씀해주셨는데,,,  \n",
    "loss, val_loss 모두 왔다리 갔다리 하지만 내려가고 있는것 같아보여서  \n",
    "과적합은 아닌 것 같음  \n",
    "하지만 과적합이 아니여도 어떤 다른 문제가 있기 때문에  \n",
    "좋은 작사가 모델을 만들지 못한것이라고 판단됨  \n",
    "여기서 문제가 무엇인지 계속 고찰해봐야할 필요성이 있음  \n",
    "\n",
    "**2) 제대로 작사하지 못함**  \n",
    "loss가 2.2 이하로 내려갔지만, 무의미하다고 판단됨  \n",
    "결국 직접 문장을 생성시켜 보았을때  \n",
    "제대로된 문장을 작사해내지 못함  \n",
    " i love -> i love you ? \n",
    " you -> you got dada\n",
    "dada, witcha 등 노래 가사여서  \n",
    "영어권 내에서 쓰는 슬랭들이 많아 제대로 작사가 안되려나 싶었는데  \n",
    "다른 결과물들과 비교해보니,,  \n",
    "확연히 문장 구성력이 떨어짐  \n",
    "\n",
    "##### 💚배운점 \n",
    "1. 양방향 LSTM 에 대한 개념을 학습할 수 있었음  \n",
    "2. RNN과 LSTM의 차이점에 대해서 공부할 수 있었음  \n",
    "3. dropout에 대한 정확한 개념과 직접 적용해볼 수 있었음  \n",
    "\n",
    "##### 💚개선하고 싶은점  \n",
    "1. 제출이 20분 밖에 안남았는데,, \n",
    "하이퍼 파라미터에 수정한 모델이 아직 2개 더 돌아가는 중임 ㅠ   \n",
    "해당 결과에 대해서.. 좋은 결과가 나오면 추후 해당 내용 업데이트를 할 예정  \n",
    "\n",
    "2. 양방향 LSTM 코드에도  \n",
    "하이퍼 파라미터 최적화를 사용하여 개선시켜보고 싶음  "
   ]
  },
  {
   "cell_type": "code",
   "execution_count": null,
   "id": "center-coordinate",
   "metadata": {},
   "outputs": [],
   "source": []
  }
 ],
 "metadata": {
  "kernelspec": {
   "display_name": "Python 3",
   "language": "python",
   "name": "python3"
  },
  "language_info": {
   "codemirror_mode": {
    "name": "ipython",
    "version": 3
   },
   "file_extension": ".py",
   "mimetype": "text/x-python",
   "name": "python",
   "nbconvert_exporter": "python",
   "pygments_lexer": "ipython3",
   "version": "3.7.9"
  }
 },
 "nbformat": 4,
 "nbformat_minor": 5
}
