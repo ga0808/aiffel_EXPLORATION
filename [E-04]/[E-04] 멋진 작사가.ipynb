{
 "cells": [
  {
   "cell_type": "markdown",
   "id": "interracial-provincial",
   "metadata": {},
   "source": [
    "## 1. 데이터 다운로드 \n",
    "\n",
    "~/aiffel/lyricist/data/lyrics에 데이터가 있음"
   ]
  },
  {
   "cell_type": "code",
   "execution_count": 1,
   "id": "empirical-cotton",
   "metadata": {},
   "outputs": [
    {
     "name": "stdout",
     "output_type": "stream",
     "text": [
      "ln: failed to create symbolic link '/aiffel/aiffel/lyricist/data/data': Read-only file system\r\n"
     ]
    }
   ],
   "source": [
    "! mkdir -p ~/aiffel/lyricist/models\n",
    "! ln -s ~/data ~/aiffel/lyricist/data"
   ]
  },
  {
   "cell_type": "markdown",
   "id": "horizontal-distribution",
   "metadata": {},
   "source": [
    "## 2. 데이터 읽어오기\n",
    "glob 모듈을 사용하면 파일을 읽어오는 작업을 하기가 아주 용이  \n",
    " glob 를 활용하여 모든 txt 파일을 읽어온 후,  \n",
    " raw_corpus 리스트에 문장 단위로 저장"
   ]
  },
  {
   "cell_type": "code",
   "execution_count": 2,
   "id": "empty-lawyer",
   "metadata": {
    "scrolled": false
   },
   "outputs": [],
   "source": [
    "#준비한 파일 내용 확인\n",
    "import os, re\n",
    "import numpy as np\n",
    "import tensorflow as tf\n",
    "import glob\n",
    "import os\n",
    "\n",
    "txt_file_path = os.getenv('HOME')+'/aiffel/lyricist/data/lyrics/*'\n",
    "\n",
    "txt_list = glob.glob(txt_file_path)\n",
    "\n",
    "raw_corpus = []\n"
   ]
  },
  {
   "cell_type": "markdown",
   "id": "improved-forward",
   "metadata": {},
   "source": [
    "##### 데이터 확인해보기"
   ]
  },
  {
   "cell_type": "code",
   "execution_count": 3,
   "id": "another-developer",
   "metadata": {},
   "outputs": [
    {
     "name": "stdout",
     "output_type": "stream",
     "text": [
      "The number of lyrics : 49\n"
     ]
    }
   ],
   "source": [
    "#몇개의 파일이 있지?\n",
    "print(f'The number of lyrics : {len(txt_list)}')"
   ]
  },
  {
   "cell_type": "code",
   "execution_count": 4,
   "id": "criminal-newcastle",
   "metadata": {},
   "outputs": [
    {
     "name": "stdout",
     "output_type": "stream",
     "text": [
      "문장 총 개수: 187088\n",
      "Examples:\n",
      " ['[Hook]', \"I've been down so long, it look like up to me\", 'They look up to me', \"I got fake people showin' fake love to me\", 'Straight up to my face, straight up to my face', \"I've been down so long, it look like up to me\", 'They look up to me', \"I got fake people showin' fake love to me\", 'Straight up to my face, straight up to my face [Verse 1]', \"Somethin' ain't right when we talkin'\", \"Somethin' ain't right when we talkin'\", \"Look like you hidin' your problems\", 'Really you never was solid', 'No, you can\\'t \"son\" me', \"You won't never get to run me\", 'Just when shit look out of reach', 'I reach back like one, three', 'Like one, three, yeah [Pre-Hook]', \"That's when they smile in my face\", 'Whole time they wanna take my place', 'Whole time they wanna take my place', 'Whole time they wanna take my place', 'Yeah, I know they wanna take my place', 'I can tell that love is fake', \"I don't trust a word you say\", 'How you wanna clique up after your mistakes?', \"Look you in the face, and it's just not the same [Hook]\", \"I've been down so long, it look like up to me\", 'They look up to me', \"I got fake people showin' fake love to me\"]\n"
     ]
    }
   ],
   "source": [
    "# 여러개의 txt 파일을 모두 읽어서 raw_corpus 에 담습니다.\n",
    "for txt_file in txt_list:\n",
    "    with open(txt_file, \"r\") as f:\n",
    "        raw = f.read().splitlines()\n",
    "        raw_corpus.extend(raw)\n",
    "\n",
    "print(\"문장 총 개수:\", len(raw_corpus))\n",
    "print(\"Examples:\\n\", raw_corpus[:30])"
   ]
  },
  {
   "cell_type": "markdown",
   "id": "typical-feature",
   "metadata": {},
   "source": [
    "## 3. 데이터 정제"
   ]
  },
  {
   "cell_type": "markdown",
   "id": "eastern-christopher",
   "metadata": {},
   "source": [
    "##### 1) 정제 함수 정의"
   ]
  },
  {
   "cell_type": "code",
   "execution_count": 22,
   "id": "differential-cycle",
   "metadata": {},
   "outputs": [
    {
     "name": "stdout",
     "output_type": "stream",
     "text": [
      "<start> i've been down so long , it look like up to me <end>\n",
      "<start> no , you can't son me <end>\n"
     ]
    }
   ],
   "source": [
    "#정제 함수 \n",
    "def preprocess_sentence(sentence):\n",
    "    sentence = sentence.lower().strip() \n",
    "    #[] 부분은 훅이나 벌스같은 노래 부분 설명 단어라서 제외\n",
    "    sentence = re.sub(\"\\[.*\\]*\", \" \", sentence)\n",
    "    sentence = re.sub(r\"([?.!,¿])\", r\" \\1 \", sentence) \n",
    "    sentence = re.sub(r'[\" \"]+', \" \", sentence) \n",
    "    #'아포스트로피도 축약, 소유격 표시등을 해주는 의미가 있어서 출력에 포함\n",
    "    sentence = re.sub(r\"[^a-z?.!,¿,']+\", \" \", sentence) \n",
    "    sentence = sentence.strip() \n",
    "    sentence = '<start> ' + sentence + ' <end>' \n",
    "    return sentence\n",
    "\n",
    "# 정제 결과 확인\n",
    "print(preprocess_sentence(raw_corpus[1]))\n",
    "print(preprocess_sentence(raw_corpus[13]))"
   ]
  },
  {
   "cell_type": "markdown",
   "id": "dimensional-report",
   "metadata": {},
   "source": [
    "#### 2) 함수로 정제된 문장 모으기"
   ]
  },
  {
   "cell_type": "code",
   "execution_count": 6,
   "id": "directed-making",
   "metadata": {},
   "outputs": [
    {
     "name": "stdout",
     "output_type": "stream",
     "text": [
      "159742\n"
     ]
    },
    {
     "data": {
      "text/plain": [
       "[\"<start> i've been down so long , it look like up to me <end>\",\n",
       " '<start> they look up to me <end>',\n",
       " \"<start> i got fake people showin' fake love to me <end>\",\n",
       " '<start> straight up to my face , straight up to my face <end>',\n",
       " \"<start> i've been down so long , it look like up to me <end>\",\n",
       " '<start> they look up to me <end>',\n",
       " \"<start> i got fake people showin' fake love to me <end>\",\n",
       " \"<start> somethin' ain't right when we talkin' <end>\",\n",
       " \"<start> somethin' ain't right when we talkin' <end>\",\n",
       " \"<start> look like you hidin' your problems <end>\"]"
      ]
     },
     "execution_count": 6,
     "metadata": {},
     "output_type": "execute_result"
    }
   ],
   "source": [
    "# 정제된 문장들 모으기\n",
    "corpus = []\n",
    "\n",
    "for sentence in raw_corpus:\n",
    "    # 아무것도 없는 문장 건너뛰기\n",
    "    if len(sentence) == 0: continue\n",
    "        #건너뛰는 문장이 있는지 모르겠음 :이 데이터에 없는 것 같지만 \n",
    "        #모든 데이터를 보지 못했기 때문에 혹시모를 확률에 대한 대비\n",
    "        \n",
    "        #문장길이 15 넘어가면 건너뛰기\n",
    "    if (sentence.count(' ')+1 > 15) : continue\n",
    "    if sentence[-1] == \")\": continue\n",
    "    if sentence[-1] == \"]\": continue\n",
    "        \n",
    "    # 정제를 하고 담아주세요\n",
    "    preprocessed_sentence = preprocess_sentence(sentence)\n",
    "    corpus.append(preprocessed_sentence)\n",
    "        \n",
    "# 정제된 결과를 10개만 확인\n",
    "print(len(corpus))\n",
    "corpus[:10]"
   ]
  },
  {
   "cell_type": "markdown",
   "id": "endless-grounds",
   "metadata": {},
   "source": [
    "#### 3) 토큰화"
   ]
  },
  {
   "cell_type": "code",
   "execution_count": 7,
   "id": "different-buying",
   "metadata": {},
   "outputs": [
    {
     "name": "stdout",
     "output_type": "stream",
     "text": [
      "[[   2  145   99 ...   11    3    0]\n",
      " [   2   41  131 ...    0    0    0]\n",
      " [   2    6   34 ...    0    0    0]\n",
      " ...\n",
      " [   2   82  727 ...    0    0    0]\n",
      " [   2  213    3 ...    0    0    0]\n",
      " [   2    9 1409 ...    0    0    0]] <keras_preprocessing.text.Tokenizer object at 0x7efee197ead0>\n"
     ]
    }
   ],
   "source": [
    "#15개 이상의 토큰을 가지면 제거 \n",
    "def tokenize(corpus):\n",
    "    tokenizer = tf.keras.preprocessing.text.Tokenizer(\n",
    "        num_words=12000, \n",
    "        filters=' ',\n",
    "        oov_token=\"<unk>\"\n",
    "    )\n",
    "    # corpus를 이용해 tokenizer 내부의 단어장을 완성\n",
    "    tokenizer.fit_on_texts(corpus)\n",
    "    # 준비한 tokenizer를 이용해 corpus를 Tensor로 변환\n",
    "    tensor = tokenizer.texts_to_sequences(corpus)   \n",
    "    # 만약 시퀀스가 짧다면 문장 뒤에 패딩을 붙여 길이를 맞추기-> 시퀀스 길이 맞추려고\n",
    "    tensor = tf.keras.preprocessing.sequence.pad_sequences(tensor, padding='post', maxlen=15)  \n",
    "    \n",
    "    #문장 길이 설정 해주기\n",
    "    #total_data_text = list(tensor)\n",
    "    #num_tokens = [len(tokens) for tokens in total_data_text]\n",
    "    #max_tokens = np.mean(num_tokens) + 2 * np.std(num_tokens)\n",
    "    #maxlen = int(max_tokens)\n",
    "    \n",
    "    \n",
    "    print(tensor,tokenizer)\n",
    "    return tensor, tokenizer\n",
    "\n",
    "tensor, tokenizer = tokenize(corpus)\n",
    "\n",
    "#https://keras.io/ko/preprocessing/text/ : 토큰화 전처리"
   ]
  },
  {
   "cell_type": "code",
   "execution_count": 8,
   "id": "looking-deviation",
   "metadata": {},
   "outputs": [
    {
     "name": "stdout",
     "output_type": "stream",
     "text": [
      "[[   2  145   99   55   29  161    4   13  131   20   27   10   11    3\n",
      "     0]\n",
      " [   2   41  131   27   10   11    3    0    0    0    0    0    0    0\n",
      "     0]\n",
      " [   2    6   34  852  179 3086  852   36   10   11    3    0    0    0\n",
      "     0]]\n"
     ]
    }
   ],
   "source": [
    "#텐서 출력 해보기\n",
    "print(tensor[:3])\n",
    "\n",
    "#최대 15개까지만 토큰화된것 확인가능"
   ]
  },
  {
   "cell_type": "code",
   "execution_count": 9,
   "id": "impressive-advisory",
   "metadata": {},
   "outputs": [
    {
     "name": "stdout",
     "output_type": "stream",
     "text": [
      "1 : <unk>\n",
      "2 : <start>\n",
      "3 : <end>\n",
      "4 : ,\n",
      "5 : the\n",
      "6 : i\n",
      "7 : you\n",
      "8 : and\n",
      "9 : a\n",
      "10 : to\n"
     ]
    }
   ],
   "source": [
    "# tokenizer에 구축된 단어 사전의 인덱스 확인해보기\n",
    "\n",
    "for idx in tokenizer.index_word:\n",
    "    print(idx, \":\", tokenizer.index_word[idx])\n",
    "\n",
    "    if idx >= 10: break"
   ]
  },
  {
   "cell_type": "code",
   "execution_count": 10,
   "id": "involved-voice",
   "metadata": {},
   "outputs": [
    {
     "name": "stdout",
     "output_type": "stream",
     "text": [
      "[  2 145  99  55  29 161   4  13 131  20  27  10  11   3]\n",
      "[145  99  55  29 161   4  13 131  20  27  10  11   3   0]\n"
     ]
    }
   ],
   "source": [
    "# tensor에서 마지막 토큰을 잘라내서 소스 문장을 생성\n",
    "src_input = tensor[:, :-1]  \n",
    "\n",
    "# tensor에서 <start>를 잘라내서 타겟 문장을 생성합니다.\n",
    "tgt_input = tensor[:, 1:]    \n",
    "\n",
    "print(src_input[0])\n",
    "print(tgt_input[0])"
   ]
  },
  {
   "cell_type": "markdown",
   "id": "european-intellectual",
   "metadata": {},
   "source": [
    "## 4. 데이터셋 정의, 분리"
   ]
  },
  {
   "cell_type": "markdown",
   "id": "accessory-efficiency",
   "metadata": {},
   "source": [
    "##### 1) 데이터셋 정의"
   ]
  },
  {
   "cell_type": "code",
   "execution_count": 11,
   "id": "designing-admission",
   "metadata": {},
   "outputs": [
    {
     "data": {
      "text/plain": [
       "<BatchDataset shapes: ((256, 14), (256, 14)), types: (tf.int32, tf.int32)>"
      ]
     },
     "execution_count": 11,
     "metadata": {},
     "output_type": "execute_result"
    }
   ],
   "source": [
    "#데이터셋 객체 생성 -> 근데 학습할때 사용하지 않고, 그냥 분리한걸로만 했음\n",
    "BUFFER_SIZE = len(src_input)\n",
    "BATCH_SIZE = 256\n",
    "\n",
    "steps_per_epoch = len(src_input) // BATCH_SIZE\n",
    "\n",
    "# tokenizer가 구축한 단어사전 내 7000개와, 여기 포함되지 않은 0:<pad>를 포함하여 7001개\n",
    "VOCAB_SIZE = tokenizer.num_words + 1   \n",
    "\n",
    "# 준비한 데이터 소스로부터 데이터셋 생성\n",
    "dataset = tf.data.Dataset.from_tensor_slices((src_input, tgt_input))\n",
    "dataset = dataset.shuffle(BUFFER_SIZE)\n",
    "dataset = dataset.batch(BATCH_SIZE, drop_remainder=True)\n",
    "dataset"
   ]
  },
  {
   "cell_type": "markdown",
   "id": "rental-adventure",
   "metadata": {},
   "source": [
    "##### 2) 데이터셋 분리"
   ]
  },
  {
   "cell_type": "code",
   "execution_count": 24,
   "id": "caring-syria",
   "metadata": {},
   "outputs": [
    {
     "name": "stdout",
     "output_type": "stream",
     "text": [
      "Source Train: (127793, 14)\n",
      "Target Train: (127793, 14)\n"
     ]
    }
   ],
   "source": [
    "from sklearn.model_selection import train_test_split\n",
    "enc_train, enc_val, dec_train, dec_val = train_test_split(src_input, \n",
    "                                                          tgt_input, \n",
    "                                                    test_size = 0.2,\n",
    "                                                    shuffle=True,\n",
    "                                                    random_state=34)\n",
    "print(\"Source Train:\", enc_train.shape)\n",
    "print(\"Target Train:\", dec_train.shape)\n",
    "\n",
    "# 124960,14"
   ]
  },
  {
   "cell_type": "markdown",
   "id": "metallic-approval",
   "metadata": {},
   "source": [
    "## 5. 모델 생성, 학습"
   ]
  },
  {
   "cell_type": "markdown",
   "id": "dramatic-growing",
   "metadata": {},
   "source": [
    "##### 1) 모델 정의"
   ]
  },
  {
   "cell_type": "code",
   "execution_count": 13,
   "id": "meaning-fleece",
   "metadata": {},
   "outputs": [],
   "source": [
    "class TextGenerator(tf.keras.Model):\n",
    "    def __init__(self, vocab_size, embedding_size, hidden_size):\n",
    "        super().__init__()\n",
    "        \n",
    "        self.embedding = tf.keras.layers.Embedding(vocab_size, embedding_size)\n",
    "        self.rnn_1 = tf.keras.layers.LSTM(hidden_size, return_sequences=True)\n",
    "        self.rnn_2 = tf.keras.layers.LSTM(hidden_size, return_sequences=True)\n",
    "        self.linear = tf.keras.layers.Dense(vocab_size)\n",
    "        \n",
    "    def call(self, x):\n",
    "        out = self.embedding(x)\n",
    "        out = self.rnn_1(out)\n",
    "        out = self.rnn_2(out)\n",
    "        out = self.linear(out)\n",
    "        \n",
    "        return out"
   ]
  },
  {
   "cell_type": "markdown",
   "id": "compound-paraguay",
   "metadata": {},
   "source": [
    "##### 2) 모델 생성"
   ]
  },
  {
   "cell_type": "code",
   "execution_count": 21,
   "id": "strange-check",
   "metadata": {
    "scrolled": true
   },
   "outputs": [
    {
     "data": {
      "text/plain": [
       "<tf.Tensor: shape=(256, 14, 12001), dtype=float32, numpy=\n",
       "array([[[ 8.75830010e-05,  2.43609509e-04,  5.97184271e-06, ...,\n",
       "          1.08231006e-05, -1.54720634e-04,  3.07694980e-04],\n",
       "        [-2.66004154e-05,  2.85750371e-04, -4.33792047e-05, ...,\n",
       "         -1.35130889e-04, -3.76703465e-05,  7.09144282e-04],\n",
       "        [-2.54879487e-05,  3.05732479e-04,  5.51747871e-05, ...,\n",
       "         -1.90342776e-04, -1.20728095e-04,  1.12892163e-03],\n",
       "        ...,\n",
       "        [-3.18992825e-04, -3.11982329e-03, -1.58103212e-04, ...,\n",
       "          1.34156703e-03,  2.51775701e-03,  4.53226181e-04],\n",
       "        [-3.26814567e-04, -3.50626651e-03, -6.05488640e-05, ...,\n",
       "          1.43968046e-03,  2.81520188e-03,  2.76900973e-04],\n",
       "        [-3.24832188e-04, -3.86408996e-03,  5.65959199e-05, ...,\n",
       "          1.51914905e-03,  3.07173119e-03,  9.18245714e-05]],\n",
       "\n",
       "       [[ 8.75830010e-05,  2.43609509e-04,  5.97184271e-06, ...,\n",
       "          1.08231006e-05, -1.54720634e-04,  3.07694980e-04],\n",
       "        [ 4.19021535e-06,  4.62391035e-04,  8.71181983e-05, ...,\n",
       "         -3.14710232e-05, -1.13904760e-04,  5.81408385e-04],\n",
       "        [ 1.30898217e-04,  6.20169856e-04,  9.61765691e-05, ...,\n",
       "          2.11245861e-04,  1.03762459e-05,  5.01676928e-04],\n",
       "        ...,\n",
       "        [ 1.01324858e-03, -1.33657572e-03, -2.83934729e-04, ...,\n",
       "          1.21822779e-03,  9.73732618e-04,  3.25023604e-04],\n",
       "        [ 8.02278984e-04, -1.95177144e-03, -3.20895197e-04, ...,\n",
       "          1.25260686e-03,  1.43894088e-03,  3.19857121e-04],\n",
       "        [ 6.27581379e-04, -2.50517344e-03, -3.05949681e-04, ...,\n",
       "          1.29857624e-03,  1.86752132e-03,  2.64231523e-04]],\n",
       "\n",
       "       [[ 8.75830010e-05,  2.43609509e-04,  5.97184271e-06, ...,\n",
       "          1.08231006e-05, -1.54720634e-04,  3.07694980e-04],\n",
       "        [ 1.03600534e-04,  4.45744867e-04, -1.94529115e-04, ...,\n",
       "         -5.81785978e-04, -1.58039737e-04,  2.02312614e-04],\n",
       "        [ 1.17985270e-04,  2.08960671e-04, -1.33965106e-04, ...,\n",
       "         -8.97596707e-04, -2.76107690e-04,  3.29034112e-04],\n",
       "        ...,\n",
       "        [ 3.32241267e-04, -3.08305398e-03,  2.28924036e-04, ...,\n",
       "          1.26708270e-04,  2.47715251e-03, -4.10741086e-05],\n",
       "        [ 4.00802033e-04, -3.36674089e-03,  2.25455122e-04, ...,\n",
       "          4.04455670e-04,  2.82052369e-03, -5.66138042e-05],\n",
       "        [ 4.48858977e-04, -3.62623832e-03,  2.59930559e-04, ...,\n",
       "          6.62249629e-04,  3.10706790e-03, -1.01213191e-04]],\n",
       "\n",
       "       ...,\n",
       "\n",
       "       [[ 8.75830010e-05,  2.43609509e-04,  5.97184271e-06, ...,\n",
       "          1.08231006e-05, -1.54720634e-04,  3.07694980e-04],\n",
       "        [ 4.97221830e-04,  3.48980568e-04, -9.08055590e-05, ...,\n",
       "          1.72648535e-04, -2.38613298e-04,  5.95221180e-04],\n",
       "        [ 7.00368197e-04,  6.39157879e-05, -3.99382785e-04, ...,\n",
       "          6.78217693e-05, -3.23865475e-04,  1.10502064e-03],\n",
       "        ...,\n",
       "        [ 5.51211706e-04, -3.39016260e-04,  3.32574768e-04, ...,\n",
       "         -7.63443750e-05,  5.21405716e-04,  4.45135724e-04],\n",
       "        [ 4.35853901e-04, -8.83929082e-04,  1.99365793e-04, ...,\n",
       "         -8.92129028e-05,  1.00526004e-03,  2.74954247e-04],\n",
       "        [ 3.44605447e-04, -1.40665122e-03,  5.40151814e-05, ...,\n",
       "          4.77424965e-06,  1.49242568e-03,  1.60859185e-04]],\n",
       "\n",
       "       [[ 8.75830010e-05,  2.43609509e-04,  5.97184271e-06, ...,\n",
       "          1.08231006e-05, -1.54720634e-04,  3.07694980e-04],\n",
       "        [-2.20707752e-05,  4.11364395e-04, -1.86796780e-04, ...,\n",
       "          5.00820868e-04, -2.58692395e-04,  2.62597867e-04],\n",
       "        [ 5.59032545e-04,  3.65973072e-04, -1.54341295e-04, ...,\n",
       "          1.15500158e-03, -5.56175728e-05,  1.47825427e-04],\n",
       "        ...,\n",
       "        [ 6.82129175e-04, -3.33081326e-03,  3.72950570e-04, ...,\n",
       "          1.38697703e-03,  2.91165803e-03, -7.22459576e-04],\n",
       "        [ 5.76833205e-04, -3.65860853e-03,  4.47599537e-04, ...,\n",
       "          1.44424627e-03,  3.14019737e-03, -7.86209828e-04],\n",
       "        [ 4.78700793e-04, -3.97470919e-03,  5.32577978e-04, ...,\n",
       "          1.49506750e-03,  3.34014324e-03, -8.54724552e-04]],\n",
       "\n",
       "       [[ 8.75830010e-05,  2.43609509e-04,  5.97184271e-06, ...,\n",
       "          1.08231006e-05, -1.54720634e-04,  3.07694980e-04],\n",
       "        [ 1.46058825e-04,  3.63384897e-05, -2.04252603e-04, ...,\n",
       "         -2.70218676e-04, -1.57545874e-04,  4.19691467e-04],\n",
       "        [-4.46276545e-06,  7.80015544e-05, -2.99461943e-04, ...,\n",
       "         -6.16582169e-04, -6.99006850e-05,  2.94313097e-04],\n",
       "        ...,\n",
       "        [ 1.01307814e-03, -1.61688693e-03,  1.76253053e-03, ...,\n",
       "          4.57172457e-04,  8.38428503e-04,  1.60567961e-05],\n",
       "        [ 9.17344063e-04, -2.08985899e-03,  1.61647494e-03, ...,\n",
       "          8.64319678e-04,  1.36605231e-03,  5.35229738e-05],\n",
       "        [ 8.35200946e-04, -2.51558539e-03,  1.48227869e-03, ...,\n",
       "          1.21425639e-03,  1.87218026e-03,  4.47422462e-05]]],\n",
       "      dtype=float32)>"
      ]
     },
     "execution_count": 21,
     "metadata": {},
     "output_type": "execute_result"
    }
   ],
   "source": [
    "#하이퍼파라미터 : embedding_size, hidden_size\n",
    "embedding_size = 512 #단어 하나당 특징=feature 수\n",
    "hidden_size = 2048  #레이어의 노드수, 뱃사공 , 너무 많으면 산으로 간다\n",
    "model = TextGenerator(tokenizer.num_words + 1, embedding_size , hidden_size)\n",
    "\n",
    "# 데이터셋에서 데이터 한 배치만 불러오는 방법입니다.\n",
    "# 지금은 동작 원리에 너무 빠져들지 마세요~\n",
    "for src_sample, tgt_sample in dataset.take(1): break\n",
    "\n",
    "# 한 배치만 불러온 데이터를 모델에 넣어봅니다\n",
    "model(src_sample)"
   ]
  },
  {
   "cell_type": "code",
   "execution_count": 15,
   "id": "catholic-thing",
   "metadata": {
    "scrolled": false
   },
   "outputs": [
    {
     "name": "stdout",
     "output_type": "stream",
     "text": [
      "Model: \"text_generator\"\n",
      "_________________________________________________________________\n",
      "Layer (type)                 Output Shape              Param #   \n",
      "=================================================================\n",
      "embedding (Embedding)        multiple                  6720560   \n",
      "_________________________________________________________________\n",
      "lstm (LSTM)                  multiple                  21372928  \n",
      "_________________________________________________________________\n",
      "lstm_1 (LSTM)                multiple                  33562624  \n",
      "_________________________________________________________________\n",
      "dense (Dense)                multiple                  24590049  \n",
      "=================================================================\n",
      "Total params: 86,246,161\n",
      "Trainable params: 86,246,161\n",
      "Non-trainable params: 0\n",
      "_________________________________________________________________\n"
     ]
    }
   ],
   "source": [
    "model.summary()"
   ]
  },
  {
   "cell_type": "markdown",
   "id": "affecting-publication",
   "metadata": {},
   "source": [
    "##### 3) 모델 학습"
   ]
  },
  {
   "cell_type": "code",
   "execution_count": 19,
   "id": "varied-engagement",
   "metadata": {},
   "outputs": [
    {
     "name": "stdout",
     "output_type": "stream",
     "text": [
      "Epoch 1/10\n",
      "500/500 [==============================] - 493s 981ms/step - loss: 3.9416 - accuracy: 0.4466 - val_loss: 3.0726 - val_accuracy: 0.5056\n",
      "Epoch 2/10\n",
      "500/500 [==============================] - 490s 980ms/step - loss: 2.9551 - accuracy: 0.5131 - val_loss: 2.7977 - val_accuracy: 0.5307\n",
      "Epoch 3/10\n",
      "500/500 [==============================] - 491s 982ms/step - loss: 2.6016 - accuracy: 0.5418 - val_loss: 2.6131 - val_accuracy: 0.5519\n",
      "Epoch 4/10\n",
      "500/500 [==============================] - 892s 2s/step - loss: 2.2754 - accuracy: 0.5770 - val_loss: 2.4761 - val_accuracy: 0.5751\n",
      "Epoch 5/10\n",
      "500/500 [==============================] - 941s 2s/step - loss: 1.9673 - accuracy: 0.6193 - val_loss: 2.3759 - val_accuracy: 0.5961\n",
      "Epoch 6/10\n",
      "500/500 [==============================] - 944s 2s/step - loss: 1.6867 - accuracy: 0.6673 - val_loss: 2.3034 - val_accuracy: 0.6159\n",
      "Epoch 7/10\n",
      "500/500 [==============================] - 944s 2s/step - loss: 1.4467 - accuracy: 0.7140 - val_loss: 2.2636 - val_accuracy: 0.6319\n",
      "Epoch 8/10\n",
      "500/500 [==============================] - 946s 2s/step - loss: 1.2520 - accuracy: 0.7548 - val_loss: 2.2499 - val_accuracy: 0.6437\n",
      "Epoch 9/10\n",
      "500/500 [==============================] - 956s 2s/step - loss: 1.1099 - accuracy: 0.7859 - val_loss: 2.2618 - val_accuracy: 0.6517\n",
      "Epoch 10/10\n",
      "500/500 [==============================] - 940s 2s/step - loss: 1.0187 - accuracy: 0.8055 - val_loss: 2.2841 - val_accuracy: 0.6557\n"
     ]
    }
   ],
   "source": [
    "optimizer = tf.keras.optimizers.Adam()\n",
    "loss = tf.keras.losses.SparseCategoricalCrossentropy(\n",
    "    from_logits=True,\n",
    "    reduction='none'\n",
    ")\n",
    "\n",
    "model.compile(loss=loss, optimizer=optimizer, metrics=['accuracy'])\n",
    "\n",
    "hist = model.fit(enc_train, \n",
    "          dec_train, \n",
    "          epochs=10,\n",
    "          batch_size=256,\n",
    "          validation_data=(enc_val, dec_val),\n",
    "          verbose=1)\n"
   ]
  },
  {
   "cell_type": "markdown",
   "id": "stone-bachelor",
   "metadata": {},
   "source": [
    "## 6. 시각화"
   ]
  },
  {
   "cell_type": "code",
   "execution_count": 27,
   "id": "ancient-iceland",
   "metadata": {},
   "outputs": [
    {
     "data": {
      "image/png": "[encoded data removed]",
      "text/plain": [
       "<Figure size 576x360 with 1 Axes>"
      ]
     },
     "metadata": {
      "needs_background": "light"
     },
     "output_type": "display_data"
    }
   ],
   "source": [
    "import matplotlib.pyplot as plt\n",
    "\n",
    "plt.figure(figsize=(8, 5))\n",
    "\n",
    "plt.plot(hist.history['loss'], marker='.', c='red', label='Train-set Loss')\n",
    "plt.plot(hist.history['val_loss'], marker='.', c='blue', label='Validation-set Loss')\n",
    "plt.xlabel('Epoch')\n",
    "plt.legend()\n",
    "plt.show()"
   ]
  },
  {
   "cell_type": "markdown",
   "id": "turkish-instrumentation",
   "metadata": {},
   "source": [
    "## 7. 평가 : 문장 생성"
   ]
  },
  {
   "cell_type": "code",
   "execution_count": 31,
   "id": "twelve-teach",
   "metadata": {},
   "outputs": [],
   "source": [
    "def generate_text(model, tokenizer, init_sentence=\"<start>\", max_len=20):\n",
    "    # 테스트를 위해서 입력받은 init_sentence도 텐서로 변환합니다\n",
    "    test_input = tokenizer.texts_to_sequences([init_sentence])\n",
    "    test_tensor = tf.convert_to_tensor(test_input, dtype=tf.int64)\n",
    "    end_token = tokenizer.word_index[\"<end>\"]\n",
    "\n",
    "    # 단어 하나씩 예측해 문장을 만듭니다\n",
    "    #    1. 입력받은 문장의 텐서를 입력합니다\n",
    "    #    2. 예측된 값 중 가장 높은 확률인 word index를 뽑아냅니다\n",
    "    #    3. 2에서 예측된 word index를 문장 뒤에 붙입니다\n",
    "    #    4. 모델이 <end>를 예측했거나, max_len에 도달했다면 문장 생성을 마칩니다\n",
    "    while True:\n",
    "        # 1\n",
    "        predict = model(test_tensor) \n",
    "        # 2\n",
    "        predict_word = tf.argmax(tf.nn.softmax(predict, axis=-1), axis=-1)[:, -1] \n",
    "        # 3 \n",
    "        test_tensor = tf.concat([test_tensor, tf.expand_dims(predict_word, axis=0)], axis=-1)\n",
    "        # 4\n",
    "        if predict_word.numpy()[0] == end_token: break\n",
    "        if test_tensor.shape[1] >= max_len: break\n",
    "\n",
    "    generated = \"\"\n",
    "    # tokenizer를 이용해 word index를 단어로 하나씩 변환합니다 \n",
    "    for word_index in test_tensor[0].numpy():\n",
    "        generated += tokenizer.index_word[word_index] + \" \"\n",
    "\n",
    "    return generated"
   ]
  },
  {
   "cell_type": "code",
   "execution_count": 32,
   "id": "amino-spelling",
   "metadata": {
    "scrolled": true
   },
   "outputs": [
    {
     "name": "stdout",
     "output_type": "stream",
     "text": [
      "<start> i love unexplained unexplained unexplained sniffing grandparents grandparents somewhat somewhat somewhat krunk fantasy fantasy fantasy apollonia jesus' snuck snuck \n"
     ]
    }
   ],
   "source": [
    "print(generate_text(model, tokenizer, init_sentence=\"<start> i love\"))"
   ]
  },
  {
   "cell_type": "code",
   "execution_count": 33,
   "id": "sonic-copyright",
   "metadata": {
    "scrolled": false
   },
   "outputs": [
    {
     "name": "stdout",
     "output_type": "stream",
     "text": [
      "<start> love showed wen wen swinger soulmate goddamn treat rubs fussing fussing fussing sendin fussing tooths tooths tooths ned tooths \n",
      "<start> my love symbol travel twilight twilight traces traces traces traces wedding wedding wedding twistelettes twistelettes delighted delighted delighted members \n",
      "<start> i nighttime others others others how're how're naire naire grab royal royal merrily merrily merrily merrily merrily around around \n",
      "<start> me 'fro 'fro dubs canada witnessed witnessed ej dick dick dick dick eatin eatin generations generations ? angry plea \n",
      "<start> you temper temper passengers passengers passengers answers sixty sixty sloppy royalty royalty royalty royalty unusual ridge ridge raindrops raindrops \n",
      "<start> she showed baskets thy thy symphony symphony co co quickly breasts breasts breasts radio's radio's radio's duh duh duh \n",
      "<start> he pacing purring purring speak speak speak speak marley marley frightening exaggeration exaggeration yellin' yellin' i'ma opinions opinions opinions \n",
      "<start> hello cereal cereal es es 'oliday 'oliday 'oliday chong chong u're u're leather underpass underpass churches churches churches escaped \n",
      "<start> no 'fro future lounge lounge lounge crippled scarf scarf wouldnt despite involves involves ordinary ordinary persona packin packin plague \n",
      "<start> you must dissect dissect silence gums gums gums abstract abstract reservations neighborhood neighborhood escort escort chimney chimney lips town's \n",
      "<start> am killa killa sadie sadie burst eighty rider nerd slums slums atlanta atlanta atlanta yoy atlanta tuition rockin' rockin' \n",
      "<start> not pacing keep weekend scratched scratched bosses bosses earn 'nother 'nother tougher spotted lyrics sube sube sube pack minister \n"
     ]
    }
   ],
   "source": [
    "keywords = ['love', 'my love', 'I','me' ,'you', 'she', 'he', 'hello', 'no', 'you must','am','not']\n",
    "for start in keywords:\n",
    "    print(generate_text(model, tokenizer, init_sentence= ' '.join([\"<start>\", start])))"
   ]
  },
  {
   "cell_type": "markdown",
   "id": "lonely-professional",
   "metadata": {},
   "source": []
  },
  {
   "attachments": {
    "image-4.png": {
     "image/png": "[encoded data removed]"
    },
    "image-5.png": {
     "image/png": "[encoded data removed]"
    },
    "image.png": {
     "image/png": "[encoded data removed]"
    }
   },
   "cell_type": "markdown",
   "id": "removable-jungle",
   "metadata": {},
   "source": [
    "## 8. 회고\n",
    "\n",
    "### 💚누브릭 = 평가 지표\n",
    "##### 1.텍스트 제너레이션 결과가 그럴듯한 문장으로 생성되는가?  \n",
    "(정상적 텍스트 생성 모델)  \n",
    "다양한 시도들에서..그래도 문장이 그럴듯하게 나왔었는데 ㅠㅠ  \n",
    "현재 코드에서는.. 돌림노래 수준으로 라임을 맞춰서 나옴ㅋㅋㅋㅋ  \n",
    "라임과 돌림노래 전문 작사가라면 제 사이버 작사가 친구가 으뜸...\n",
    "사이버 계의 김이나 작사가,,\n",
    "\n",
    "다른 코드들과 해당 코드가 뭐가 다른건지도 봐봐야겠음  \n",
    "loss가 2.2로 안떨어지더라도 무난하게 나오는 편이였는데;;  \n",
    "당황스럽...  \n",
    "일단 제출 5분 전이라.. 그냥 제출하고  \n",
    "\n",
    "무난하게 문장 나왔던거 다시 run돌려서  \n",
    "다시 문장 생성해서  \n",
    "첨부하기로...ㅠㅠㅠ  \n",
    "도대체 앞전거랑 뭐가 다른데  \n",
    "max_len = 20 해놓은것도 안된걸까..  \n",
    "과적합인가?!\n",
    "\n",
    "##### 2.특수문자 제거, 토크나이저 생성, 패딩처리 등의 과정이 빠짐없이 진행되었는가?  \n",
    "(데이터 전처리,구성과정이 체계적인가?)\n",
    ">**1) 특수문자 제거**  \n",
    "-> 노드에 제시된 전처리 후 소스데이터 개수 : 124960  \n",
    "-> 내가 시도한 후 전처리 후 소스데이터 개수 : 127793  \n",
    "비슷한 데이터 개수로 성공적이라고 판단 됨  \n",
    "><br>\n",
    "**2)아포스트로피 '**\n",
    "![image.png](attachment:image.png)\n",
    "<br>\n",
    ">정제 함수 정의하면서, 아포스트로피도 데이터에 포함시킴  \n",
    "나는 모델 학습까지 다하고,  \n",
    "문장 생성을 해보고 나서야 알게됨  \n",
    "코드짤때 조금 더 다각화된 시각으로 기능을 만드는 것을 계속 연습해봐야함  \n",
    "<br>\n",
    ">**3)토크나이저 생성, 패딩처리**  \n",
    "토큰화, 패딩 처리 완료  \n",
    "패딩 처리하고난 후, 너무 긴 문장은 max_len=15로 최대 길이 15로 설정함  \n",
    "노드에서 15라고 했는데,  \n",
    "해당 부분에서 주석 달아놓은 것 처럼  \n",
    "실제 데이터가 가지는 길이를 감안한 확장성 있는 코드가 더 좋다고 평가됨  \n",
    "(해당 부분은 아래의 배운점에서 조금 더 언급)\n",
    "\n",
    "\n",
    "##### 3.텍스트 생성모델의 validation loss가 2.2 이하로 낮아졌는가?  \n",
    "(모델의 안정성)  \n",
    "아니요... 또또 2.2 언저리 val_loss 값이 나옴  \n",
    "노드에서 에포크 10번으로 지정해주어서  \n",
    "에포크 값은 변경하지 못한채로 계속 학습을 진행했는데  \n",
    "다시 val_loss가 낮아지는지  \n",
    "추후에는 에포크 값을 늘려서 학습해보고 싶음  \n",
    "\n",
    "**vla_loss 2.2 언저리 값이 나온 시도들**  \n",
    ">1  \n",
    "BATCH_SIZE = 256  \n",
    "embedding_size = 256  \n",
    "hidden_size = 2048  \n",
    "epochs=10  \n",
    "에포크 9번째 결과 :  2.30  \n",
    "<br>\n",
    ">2  \n",
    "BATCh_SIZE = 128  \n",
    "embedding_size = 512  \n",
    "hidden_size = 2048  \n",
    "batch_size=512,  \n",
    "epochs=10,  \n",
    "에포크 10번째 결과 : 2.2576  \n",
    "> 그밖에 기록하지 않은 결과들...n*n차,, ㅠ\n",
    "\n",
    "\n",
    "### 그래서 결국\n",
    "😂만족스럽지는 않은 결과에 따른 대안으로 **양방향 LSTM 시도**\n",
    "\n",
    "### 💚어려웠던 점 \n",
    "##### 1. 하이퍼파라미터\n",
    "**기준없이, 직관적으로 하이퍼 파라미터를 지정**하고  \n",
    "학습시키는 과정이 너무 힘들었음  \n",
    "직관을 가지고 찍으면서, 인사이트를 얻으면서 개선시켜야 하는데,  \n",
    "모델 학습 시간 자체도 너무 오래걸렸기 때문에 힘들었음  \n",
    "그런데 하이퍼 파라미터 최적화 내용으로 cs231n과 E-06 노드에서  \n",
    "**랜덤 서치** 개념을 배움  \n",
    "(랜덤 서치 개념은 아래의 추후 시도할 점에서 더 언급)  \n",
    "<br>\n",
    "##### 2. val_loss =2.2  \n",
    "loss 값의 의미를 잘 모르겠음  \n",
    "노드에서 제대로된 평가지표가 없기때문에  \n",
    "직접 문장을 생성해봐야한다고 함  \n",
    "2점대의 loss 값 모두 생성된 문장 성능에 대해서는  \n",
    "크게 눈에 띄게 다른 점이 없었음  \n",
    "그런데 val_loss =2.2 이하로 낮추기가 굉장히 어려웠음  \n",
    "이렇게까지 loss에 집착해야하는가에 대한 의문이 듦  \n",
    "\n",
    "### 💚 배운점 \n",
    "##### 1. 하이퍼파라미터\n",
    "loss 값을 낮춰가면서 각각의 하이퍼 파라미터에 대한 개념에 대해  \n",
    "명확하게 이해할 수 있었던 학습 경험이었음  \n",
    "\n",
    "##### 2. ResourceExhaustedError\n",
    "run 중에 계속 이따금 해당오류가 남  \n",
    "에러 내용에 대해 알아보니  \n",
    "GPU 메모리 할당 오류라고 함  \n",
    "해결방법으로 GPU 할당량을 줄이기 위해 batch_size를 줄이도록 함  \n",
    "그러나 줄여도 계속 오류가 나서보니  \n",
    "클라우드상 run 되고 있는 문서가 많기 때문인것 같음  \n",
    "running 파일 목록에서 셧다운을 하니 모델이 돌아감 \n",
    "\n",
    "##### 3. 양방향 LSTM\n",
    "해당 부분에 대한 회고 부분은  \n",
    "양방향 LSTM 파일에 있음  \n",
    "\n",
    "##### 3. 데이터 셋으로 학습  \n",
    "위에서는 생성해놓은 데이터 셋으로 학습시키지 않았음  \n",
    "그래서 다른 학습에서는 데이터 셋으로 해서 학습시킴  \n",
    "\n",
    "![image-4.png](attachment:image-4.png)\n",
    "\n",
    "제출일의 오후 11:45분 경,  \n",
    "수정한 파라미터로 다시 모델 학습중,,,  \n",
    "BATCH_SIZE = 256  \n",
    "embedding_size = 1400   \n",
    "hidden_size = 2048   \n",
    "![image-5.png](attachment:image-5.png)\n",
    "\n",
    "### 💚개선점 = 나중에 더 시도해보고 싶은 것\n",
    "**하이퍼파라미터 최적화 =  Bayeisan Optimization**  \n",
    "그리드 서치, 랜덤 서치 말고 다른 하이퍼 파라미터 최적화 방법   \n",
    "하단 블로그에 내용 잘 정리되어 있음  \n",
    "https://dacon.io/competitions/open/235698/talkboard/403915?page=1&dtype=recent  \n",
    "랜덤 서치를 해당 모델에서 구현해보고 싶음 \n",
    "우리 모델에서는 하이퍼 파라미터 최적화 방법 말고, 손수 지정해주고 있는게 맞음  \n",
    "아래에 그리드 서치에 대한 코드화가 나오는데, 해당 부분 코드도 지금 코드에 없음  \n",
    "https://huidea.tistory.com/32\n"
   ]
  },
  {
   "cell_type": "code",
   "execution_count": null,
   "id": "lonely-found",
   "metadata": {},
   "outputs": [],
   "source": []
  }
 ],
 "metadata": {
  "kernelspec": {
   "display_name": "Python 3",
   "language": "python",
   "name": "python3"
  },
  "language_info": {
   "codemirror_mode": {
    "name": "ipython",
    "version": 3
   },
   "file_extension": ".py",
   "mimetype": "text/x-python",
   "name": "python",
   "nbconvert_exporter": "python",
   "pygments_lexer": "ipython3",
   "version": "3.7.9"
  }
 },
 "nbformat": 4,
 "nbformat_minor": 5
}
